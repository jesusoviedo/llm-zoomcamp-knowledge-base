{
 "cells": [
  {
   "cell_type": "markdown",
   "id": "66035956-2473-4c94-b843-1cdf2ff62e66",
   "metadata": {},
   "source": [
    "# Homework 2"
   ]
  },
  {
   "cell_type": "markdown",
   "id": "4c5b2a70-a048-46fd-b74b-41ae2d97b35a",
   "metadata": {},
   "source": [
    "Importo los modulos necesarios"
   ]
  },
  {
   "cell_type": "code",
   "execution_count": 30,
   "id": "3666acc6-00d2-41cf-9dd6-8cb5c8081e33",
   "metadata": {},
   "outputs": [],
   "source": [
    "import requests\n",
    "import numpy as np\n",
    "\n",
    "from fastembed import TextEmbedding\n",
    "from qdrant_client import QdrantClient, models"
   ]
  },
  {
   "cell_type": "markdown",
   "id": "9d9c9130-5285-4495-9f8c-b2b9def0b576",
   "metadata": {},
   "source": [
    "## Q1. Embedding the query"
   ]
  },
  {
   "cell_type": "code",
   "execution_count": 30,
   "id": "e0db7c33-fa64-46eb-96c0-55ee47599d4d",
   "metadata": {},
   "outputs": [],
   "source": [
    "def embed_data(text, model_embedding = 'jinaai/jina-embeddings-v2-small-en'):\n",
    "    embedding_model = TextEmbedding(model_name=model_embedding)\n",
    "\n",
    "    if type(text) == str:\n",
    "        text = [text]\n",
    "    \n",
    "    result_embed = embedding_model.embed(text)    \n",
    "    return list(result_embed)"
   ]
  },
  {
   "cell_type": "code",
   "execution_count": 31,
   "id": "e7ffa155-737e-4c8b-9b77-3e97eddefb26",
   "metadata": {},
   "outputs": [],
   "source": [
    "text = 'I just discovered the course. Can I join now?'\n",
    "result = embed_data(text)"
   ]
  },
  {
   "cell_type": "code",
   "execution_count": 32,
   "id": "c7d863b4-8e37-4c7d-ae88-51d7b7e7c79b",
   "metadata": {},
   "outputs": [
    {
     "data": {
      "text/plain": [
       "(512,)"
      ]
     },
     "execution_count": 32,
     "metadata": {},
     "output_type": "execute_result"
    }
   ],
   "source": [
    "result[0].shape"
   ]
  },
  {
   "cell_type": "code",
   "execution_count": 33,
   "id": "0cd294a6-12fe-4570-bc37-ac8dce85db68",
   "metadata": {},
   "outputs": [
    {
     "data": {
      "text/plain": [
       "np.float64(-0.11726373885183883)"
      ]
     },
     "execution_count": 33,
     "metadata": {},
     "output_type": "execute_result"
    }
   ],
   "source": [
    "result[0].min()"
   ]
  },
  {
   "cell_type": "markdown",
   "id": "a7e7ae85-f62f-4734-80cc-f3753db99845",
   "metadata": {},
   "source": [
    "## Q2. Cosine similarity with another vector"
   ]
  },
  {
   "cell_type": "markdown",
   "id": "76e19124-98a1-4c2f-806f-01751c676c92",
   "metadata": {},
   "source": [
    "`np.linalg.norm(q)`: calcula la norma euclidiana (también llamada norma L2) del vector q."
   ]
  },
  {
   "cell_type": "code",
   "execution_count": 36,
   "id": "f8dec5b8-8598-4ed4-851a-d15157780c6e",
   "metadata": {},
   "outputs": [
    {
     "data": {
      "text/plain": [
       "np.float64(1.0)"
      ]
     },
     "execution_count": 36,
     "metadata": {},
     "output_type": "execute_result"
    }
   ],
   "source": [
    "q = result[0]\n",
    "np.linalg.norm(q)"
   ]
  },
  {
   "cell_type": "markdown",
   "id": "49204467-c734-4d59-a38f-53d673ff55b9",
   "metadata": {},
   "source": [
    "Si el resultado es `1`, eso implica que el vector `q` es un vector normalizado, es decir, tiene una longitud (o magnitud) de exactamente 1.\n",
    "\n",
    "Esto es muy común en el contexto de búsqueda semántica o embeddings, donde los modelos (como `FastEmbed`, `SentenceTransformers`, `OpenAI embeddings`, etc.) normalizan automáticamente sus vectores de salida. Esto se hace para que la similitud coseno entre vectores pueda calcularse simplemente con el producto punto."
   ]
  },
  {
   "cell_type": "code",
   "execution_count": 37,
   "id": "ae1950a1-76de-4673-99ff-90d79aba08b6",
   "metadata": {},
   "outputs": [
    {
     "data": {
      "text/plain": [
       "np.float64(1.0000000000000002)"
      ]
     },
     "execution_count": 37,
     "metadata": {},
     "output_type": "execute_result"
    }
   ],
   "source": [
    "q.dot(q)"
   ]
  },
  {
   "cell_type": "code",
   "execution_count": 44,
   "id": "567a7df4-1207-4a8b-93f1-b1a2d0b92089",
   "metadata": {},
   "outputs": [],
   "source": [
    "doc = 'Can I still join the course after the start date?'\n",
    "result_2 = embed_data(doc)"
   ]
  },
  {
   "cell_type": "code",
   "execution_count": 45,
   "id": "96fcbb63-b9ed-44ed-ac14-cd47c69dd64e",
   "metadata": {},
   "outputs": [
    {
     "data": {
      "text/plain": [
       "np.float64(-0.12396320482168117)"
      ]
     },
     "execution_count": 45,
     "metadata": {},
     "output_type": "execute_result"
    }
   ],
   "source": [
    "r = result_2[0]\n",
    "r.min()"
   ]
  },
  {
   "cell_type": "code",
   "execution_count": 46,
   "id": "1565fe9a-e9e1-41e0-a3f4-bf2e97a22c0b",
   "metadata": {},
   "outputs": [
    {
     "data": {
      "text/plain": [
       "np.float64(0.9008528895674548)"
      ]
     },
     "execution_count": 46,
     "metadata": {},
     "output_type": "execute_result"
    }
   ],
   "source": [
    "q.dot(r)"
   ]
  },
  {
   "cell_type": "markdown",
   "id": "7d7f2abf-3fef-4fcd-a512-0ace571ceee7",
   "metadata": {},
   "source": [
    "## Q3. Ranking by cosine"
   ]
  },
  {
   "cell_type": "code",
   "execution_count": 47,
   "id": "e53748c1-09db-4977-9f83-aa085a5a5f17",
   "metadata": {},
   "outputs": [],
   "source": [
    "documents = [{'text': \"Yes, even if you don't register, you're still eligible to submit the homeworks.\\nBe aware, however, that there will be deadlines for turning in the final projects. So don't leave everything for the last minute.\",\n",
    "  'section': 'General course-related questions',\n",
    "  'question': 'Course - Can I still join the course after the start date?',\n",
    "  'course': 'data-engineering-zoomcamp'},\n",
    " {'text': 'Yes, we will keep all the materials after the course finishes, so you can follow the course at your own pace after it finishes.\\nYou can also continue looking at the homeworks and continue preparing for the next cohort. I guess you can also start working on your final capstone project.',\n",
    "  'section': 'General course-related questions',\n",
    "  'question': 'Course - Can I follow the course after it finishes?',\n",
    "  'course': 'data-engineering-zoomcamp'},\n",
    " {'text': \"The purpose of this document is to capture frequently asked technical questions\\nThe exact day and hour of the course will be 15th Jan 2024 at 17h00. The course will start with the first  “Office Hours'' live.1\\nSubscribe to course public Google Calendar (it works from Desktop only).\\nRegister before the course starts using this link.\\nJoin the course Telegram channel with announcements.\\nDon’t forget to register in DataTalks.Club's Slack and join the channel.\",\n",
    "  'section': 'General course-related questions',\n",
    "  'question': 'Course - When will the course start?',\n",
    "  'course': 'data-engineering-zoomcamp'},\n",
    " {'text': 'You can start by installing and setting up all the dependencies and requirements:\\nGoogle cloud account\\nGoogle Cloud SDK\\nPython 3 (installed with Anaconda)\\nTerraform\\nGit\\nLook over the prerequisites and syllabus to see if you are comfortable with these subjects.',\n",
    "  'section': 'General course-related questions',\n",
    "  'question': 'Course - What can I do before the course starts?',\n",
    "  'course': 'data-engineering-zoomcamp'},\n",
    " {'text': 'Star the repo! Share it with friends if you find it useful ❣️\\nCreate a PR if you see you can improve the text or the structure of the repository.',\n",
    "  'section': 'General course-related questions',\n",
    "  'question': 'How can we contribute to the course?',\n",
    "  'course': 'data-engineering-zoomcamp'}]"
   ]
  },
  {
   "cell_type": "code",
   "execution_count": 50,
   "id": "ad6526d3-f21d-4761-8b86-eb72185b878b",
   "metadata": {},
   "outputs": [
    {
     "data": {
      "text/plain": [
       "5"
      ]
     },
     "execution_count": 50,
     "metadata": {},
     "output_type": "execute_result"
    }
   ],
   "source": [
    "len(documents)"
   ]
  },
  {
   "cell_type": "code",
   "execution_count": 49,
   "id": "ea8b44f7-6022-4550-91e6-961fe6a0acb4",
   "metadata": {},
   "outputs": [
    {
     "data": {
      "text/plain": [
       "5"
      ]
     },
     "execution_count": 49,
     "metadata": {},
     "output_type": "execute_result"
    }
   ],
   "source": [
    "list_docs = [ doc['text'] for doc in documents]\n",
    "len(list_docs)"
   ]
  },
  {
   "cell_type": "code",
   "execution_count": 54,
   "id": "b56289b9-8408-4960-8285-e5a191a8513f",
   "metadata": {},
   "outputs": [
    {
     "data": {
      "text/plain": [
       "list"
      ]
     },
     "execution_count": 54,
     "metadata": {},
     "output_type": "execute_result"
    }
   ],
   "source": [
    "result_3 = embed_data(list_docs)\n",
    "type(result_3)"
   ]
  },
  {
   "cell_type": "code",
   "execution_count": 58,
   "id": "5ee80c59-8a78-4506-b0b4-4556b0fb6da6",
   "metadata": {},
   "outputs": [],
   "source": [
    "matriz_v = np.array(result_3)"
   ]
  },
  {
   "cell_type": "code",
   "execution_count": 57,
   "id": "58b358ee-0949-46c7-907e-a54f23551882",
   "metadata": {},
   "outputs": [
    {
     "data": {
      "text/plain": [
       "(5, 512)"
      ]
     },
     "execution_count": 57,
     "metadata": {},
     "output_type": "execute_result"
    }
   ],
   "source": [
    "matriz_v.shape"
   ]
  },
  {
   "cell_type": "code",
   "execution_count": 68,
   "id": "c15a86f5-ef4c-4bf1-9f66-135588199c00",
   "metadata": {},
   "outputs": [
    {
     "data": {
      "text/plain": [
       "np.float64(0.8182378150042889)"
      ]
     },
     "execution_count": 68,
     "metadata": {},
     "output_type": "execute_result"
    }
   ],
   "source": [
    "dot_product = matriz_v.dot(q)\n",
    "dot_product.max()"
   ]
  },
  {
   "cell_type": "code",
   "execution_count": 69,
   "id": "5d3f3aef-742c-44b7-a635-85df0568f204",
   "metadata": {},
   "outputs": [
    {
     "data": {
      "text/plain": [
       "[(0, np.float64(0.7629684696540238)),\n",
       " (1, np.float64(0.8182378150042889)),\n",
       " (2, np.float64(0.8085397398734189)),\n",
       " (3, np.float64(0.7133079015686243)),\n",
       " (4, np.float64(0.73044992343336))]"
      ]
     },
     "execution_count": 69,
     "metadata": {},
     "output_type": "execute_result"
    }
   ],
   "source": [
    "[(index, value) for index, value in enumerate(dot_product)]"
   ]
  },
  {
   "cell_type": "code",
   "execution_count": 70,
   "id": "8a374683-1b69-4367-b2fc-a1be5b0f2a7b",
   "metadata": {},
   "outputs": [
    {
     "data": {
      "text/plain": [
       "[(1, np.float64(0.8182378150042889))]"
      ]
     },
     "execution_count": 70,
     "metadata": {},
     "output_type": "execute_result"
    }
   ],
   "source": [
    "[(index, value) for index, value in enumerate(dot_product) if value == dot_product.max()]"
   ]
  },
  {
   "cell_type": "markdown",
   "id": "a15c8802-9303-46fa-b68c-282e8d88d480",
   "metadata": {},
   "source": [
    "## Q4. Ranking by cosine, version two"
   ]
  },
  {
   "cell_type": "code",
   "execution_count": 106,
   "id": "b04cf96d-9bec-4b25-9937-f8ea17d82616",
   "metadata": {},
   "outputs": [
    {
     "data": {
      "text/plain": [
       "5"
      ]
     },
     "execution_count": 106,
     "metadata": {},
     "output_type": "execute_result"
    }
   ],
   "source": [
    "list_docs_v2 = [f\"{doc['question']} {doc['text']}\" for doc in documents]\n",
    "len(list_docs_v2)"
   ]
  },
  {
   "cell_type": "code",
   "execution_count": 107,
   "id": "6166a0d0-a9d2-40b8-8b2e-2376c8708203",
   "metadata": {},
   "outputs": [
    {
     "data": {
      "text/plain": [
       "list"
      ]
     },
     "execution_count": 107,
     "metadata": {},
     "output_type": "execute_result"
    }
   ],
   "source": [
    "result_4 = embed_data(list_docs_v2)\n",
    "type(result_4)"
   ]
  },
  {
   "cell_type": "code",
   "execution_count": 108,
   "id": "d1dd3528-b803-4f7b-a6fb-fc6482122669",
   "metadata": {},
   "outputs": [],
   "source": [
    "matriz_v2 = np.array(result_4)"
   ]
  },
  {
   "cell_type": "code",
   "execution_count": 109,
   "id": "eff95680-acd7-4825-a85f-747457327484",
   "metadata": {},
   "outputs": [
    {
     "data": {
      "text/plain": [
       "(5, 512)"
      ]
     },
     "execution_count": 109,
     "metadata": {},
     "output_type": "execute_result"
    }
   ],
   "source": [
    "matriz_v2.shape"
   ]
  },
  {
   "cell_type": "code",
   "execution_count": 110,
   "id": "d23c13f4-3168-4aa9-a9c9-e889f0620d9a",
   "metadata": {},
   "outputs": [
    {
     "data": {
      "text/plain": [
       "np.float64(0.8514543236908068)"
      ]
     },
     "execution_count": 110,
     "metadata": {},
     "output_type": "execute_result"
    }
   ],
   "source": [
    "dot_product_2 = matriz_v2.dot(q)\n",
    "dot_product_2.max()"
   ]
  },
  {
   "cell_type": "code",
   "execution_count": 111,
   "id": "10013087-e784-4783-850b-aba0cc24deb9",
   "metadata": {},
   "outputs": [
    {
     "data": {
      "text/plain": [
       "[(0, np.float64(0.8514543236908068)),\n",
       " (1, np.float64(0.843659415911307)),\n",
       " (2, np.float64(0.8408287048502558)),\n",
       " (3, np.float64(0.7755157969663907)),\n",
       " (4, np.float64(0.8086007795043937))]"
      ]
     },
     "execution_count": 111,
     "metadata": {},
     "output_type": "execute_result"
    }
   ],
   "source": [
    "[(index, value) for index, value in enumerate(dot_product_2)]"
   ]
  },
  {
   "cell_type": "code",
   "execution_count": 112,
   "id": "a9606bcd-9b24-443f-8731-7e4bc77a37e1",
   "metadata": {},
   "outputs": [
    {
     "data": {
      "text/plain": [
       "[(0, np.float64(0.8514543236908068))]"
      ]
     },
     "execution_count": 112,
     "metadata": {},
     "output_type": "execute_result"
    }
   ],
   "source": [
    "[(index, value) for index, value in enumerate(dot_product_2) if value == dot_product_2.max()]"
   ]
  },
  {
   "cell_type": "markdown",
   "id": "2dd0c694-a423-401b-9af3-1d84237f3b03",
   "metadata": {},
   "source": [
    "### Q3 vs Q4\n",
    "Mejora de Similitud al Usar `question + text` en Embeddings\n",
    "\n",
    "#### ¿Qué se hizo?\n",
    "\n",
    "Se modificó la forma de generar el contenido sobre el cual se aplican los embeddings. En lugar de usar únicamente el campo `text` (respuesta), se concatenaron la `question` (pregunta) y el `text` en un solo string por cada documento.\n",
    "\n",
    "Esto generó una nueva lista de textos enriquecidos que combina pregunta y respuesta en una sola secuencia."
   ]
  },
  {
   "cell_type": "code",
   "execution_count": 113,
   "id": "f7ed8650-15c7-4cc2-9910-03bc684bacfb",
   "metadata": {},
   "outputs": [
    {
     "data": {
      "text/plain": [
       "'Q3 max:0.8182378150042889 VS Q4 max:0.8514543236908068 is equal = False'"
      ]
     },
     "execution_count": 113,
     "metadata": {},
     "output_type": "execute_result"
    }
   ],
   "source": [
    "f'Q3 max:{dot_product.max()} VS Q4 max:{dot_product_2.max()} is equal = {dot_product.max()==dot_product_2.max()}'"
   ]
  },
  {
   "cell_type": "markdown",
   "id": "1686ec45-9ba9-4733-a080-bfb8d25bdf92",
   "metadata": {},
   "source": [
    "#### Comparación de Resultados\n",
    "\n",
    "Se compararon los valores de similitud coseno obtenidos en dos escenarios:\n",
    "\n",
    "| Método                      | Campo utilizado              | Máxima similitud obtenida |\n",
    "|----------------------------|------------------------------|----------------------------|\n",
    "| Solo respuesta (`text`)    | `text`                       | 0.8182                     |\n",
    "| Pregunta + respuesta (`v2`) | `question + text`            | 0.8514                     |\n",
    "\n",
    "> Las similitudes están expresadas como `np.float64`.\n",
    "\n",
    "#### ¿Por qué mejora el resultado?\n",
    "\n",
    "Al usar ambos campos (`question` y `text`), se enriquece el contexto semántico del contenido. Esto permite que el modelo de embeddings:\n",
    "- Capte mejor la intención del documento.\n",
    "- Genere representaciones vectoriales más informativas.\n",
    "- Aumente la similitud con una pregunta de consulta al incluir también el tipo de pregunta esperada.\n",
    "\n",
    "El resultado es una mayor similitud coseno y, por ende, una mejor recuperación de información.\n",
    "\n",
    "Este cambio simple puede tener un impacto considerable en la calidad de las respuestas recuperadas.\n"
   ]
  },
  {
   "cell_type": "markdown",
   "id": "ba7b291f-b933-48e2-8787-dd18d26d188d",
   "metadata": {},
   "source": [
    "## Q5. Selecting the embedding model"
   ]
  },
  {
   "cell_type": "code",
   "execution_count": 74,
   "id": "3d6d113a-8154-4675-bf20-c44cab69c372",
   "metadata": {},
   "outputs": [
    {
     "data": {
      "text/plain": [
       "[{'model': 'BAAI/bge-base-en', 'dim': 768},\n",
       " {'model': 'BAAI/bge-base-en-v1.5', 'dim': 768}]"
      ]
     },
     "execution_count": 74,
     "metadata": {},
     "output_type": "execute_result"
    }
   ],
   "source": [
    "list_models = [{'model': doc['model'], 'dim': doc['dim']} for doc in TextEmbedding.list_supported_models()]\n",
    "list_models[:2]"
   ]
  },
  {
   "cell_type": "code",
   "execution_count": 81,
   "id": "980356b6-c177-4ba0-9837-d5555369617a",
   "metadata": {},
   "outputs": [
    {
     "data": {
      "text/plain": [
       "[{'model': 'BAAI/bge-small-en', 'dim': 384},\n",
       " {'model': 'BAAI/bge-small-en-v1.5', 'dim': 384},\n",
       " {'model': 'snowflake/snowflake-arctic-embed-xs', 'dim': 384},\n",
       " {'model': 'snowflake/snowflake-arctic-embed-s', 'dim': 384},\n",
       " {'model': 'sentence-transformers/all-MiniLM-L6-v2', 'dim': 384},\n",
       " {'model': 'sentence-transformers/paraphrase-multilingual-MiniLM-L12-v2',\n",
       "  'dim': 384},\n",
       " {'model': 'BAAI/bge-small-zh-v1.5', 'dim': 512},\n",
       " {'model': 'Qdrant/clip-ViT-B-32-text', 'dim': 512},\n",
       " {'model': 'jinaai/jina-embeddings-v2-small-en', 'dim': 512},\n",
       " {'model': 'BAAI/bge-base-en', 'dim': 768}]"
      ]
     },
     "execution_count": 81,
     "metadata": {},
     "output_type": "execute_result"
    }
   ],
   "source": [
    "list_models_sorted = sorted(list_models, key=lambda x: x['dim'])\n",
    "list_models_sorted[:10]"
   ]
  },
  {
   "cell_type": "markdown",
   "id": "3370a7aa-07a6-496f-8e49-5c549e88cf86",
   "metadata": {},
   "source": [
    "## Q6. Indexing with qdrant"
   ]
  },
  {
   "cell_type": "code",
   "execution_count": 29,
   "id": "97d8a88a-ee61-4962-907b-6fedea4df476",
   "metadata": {},
   "outputs": [],
   "source": [
    "docs_url = 'https://github.com/alexeygrigorev/llm-rag-workshop/raw/main/notebooks/documents.json'\n",
    "docs_response = requests.get(docs_url)\n",
    "documents_raw = docs_response.json()\n",
    "\n",
    "\n",
    "documents = []\n",
    "\n",
    "for course in documents_raw:\n",
    "    course_name = course['course']\n",
    "    if course_name != 'machine-learning-zoomcamp':\n",
    "        continue\n",
    "\n",
    "    for doc in course['documents']:\n",
    "        doc['course'] = course_name\n",
    "        documents.append(doc)"
   ]
  },
  {
   "cell_type": "code",
   "execution_count": 38,
   "id": "543dab5b-7689-4ded-9f60-7bfbc2b47406",
   "metadata": {},
   "outputs": [
    {
     "data": {
      "text/plain": [
       "384"
      ]
     },
     "execution_count": 38,
     "metadata": {},
     "output_type": "execute_result"
    }
   ],
   "source": [
    "COLLECTION_NAME = \"zoomcamp-llm-hw2\"\n",
    "MODEL_SELECT = 'BAAI/bge-small-en'\n",
    "SIZE_MODEL_SELECT = client.get_embedding_size(model_select)\n",
    "SIZE_MODEL_SELECT"
   ]
  },
  {
   "cell_type": "code",
   "execution_count": 32,
   "id": "9cb992a7-f82e-4c0a-8f8f-afcf5f65f33d",
   "metadata": {},
   "outputs": [],
   "source": [
    "client = QdrantClient(\"http://localhost\", port=6333)"
   ]
  },
  {
   "cell_type": "code",
   "execution_count": 39,
   "id": "a67aa589-a2d4-457b-8f21-d31466f9c139",
   "metadata": {},
   "outputs": [
    {
     "name": "stdout",
     "output_type": "stream",
     "text": [
      "Colección 'zoomcamp-llm-hw2' creada exitosamente.\n"
     ]
    }
   ],
   "source": [
    "if client.collection_exists(collection_name):\n",
    "    client.delete_collection(collection_name)\n",
    "    \n",
    "client.create_collection(\n",
    "    collection_name=COLLECTION_NAME,\n",
    "    vectors_config=models.VectorParams(\n",
    "        size=SIZE_MODEL_SELECT, \n",
    "        distance=models.Distance.COSINE\n",
    "    ),\n",
    "    timeout=60\n",
    ")\n",
    "\n",
    "print(f\"Colección '{COLLECTION_NAME}' creada exitosamente.\")"
   ]
  },
  {
   "cell_type": "code",
   "execution_count": 54,
   "id": "545626fb-1d71-4616-a8be-13de4b63b682",
   "metadata": {},
   "outputs": [],
   "source": [
    "points = []\n",
    "\n",
    "for id, doc in enumerate(documents, 1):\n",
    "        point = models.PointStruct(\n",
    "            id=id,\n",
    "            vector=models.Document(text=f\"{doc['question']} {doc['text']}\", model=MODEL_SELECT),\n",
    "            payload={\n",
    "                \"question\": doc['question'],\n",
    "                \"text\": doc['text'],\n",
    "                \"section\": doc['section'],\n",
    "                \"course\": course['course']\n",
    "            }\n",
    "        )\n",
    "        points.append(point)"
   ]
  },
  {
   "cell_type": "code",
   "execution_count": 55,
   "id": "b08cf82f-ddcd-4b49-af62-166372f2a87d",
   "metadata": {},
   "outputs": [
    {
     "name": "stdout",
     "output_type": "stream",
     "text": [
      "375 puntos insertados en la colección usando 'upsert'.\n"
     ]
    }
   ],
   "source": [
    "client.upsert(\n",
    "    collection_name=COLLECTION_NAME,\n",
    "    points=points,\n",
    "    wait=True\n",
    ")\n",
    "\n",
    "print(f\"{len(points)} puntos insertados en la colección usando 'upsert'.\")"
   ]
  },
  {
   "cell_type": "code",
   "execution_count": 56,
   "id": "3e561f6f-0505-4809-a18f-30cc235bf51a",
   "metadata": {},
   "outputs": [],
   "source": [
    "def search(query, limit=1):\n",
    "\n",
    "    results = client.query_points(\n",
    "        collection_name=COLLECTION_NAME,\n",
    "        query=models.Document(\n",
    "            text=query,\n",
    "            model=MODEL_SELECT \n",
    "        ),\n",
    "        limit=limit,\n",
    "        with_payload=True\n",
    "    )\n",
    "\n",
    "    return results"
   ]
  },
  {
   "cell_type": "code",
   "execution_count": 57,
   "id": "01267f44-d138-4d65-ae4d-ef2aa1de288f",
   "metadata": {},
   "outputs": [],
   "source": [
    "q = 'I just discovered the course. Can I join now?'\n",
    "result = search(q)"
   ]
  },
  {
   "cell_type": "code",
   "execution_count": 58,
   "id": "54c84428-1ec8-4cf9-b3af-900827d9675e",
   "metadata": {},
   "outputs": [
    {
     "data": {
      "text/plain": [
       "QueryResponse(points=[ScoredPoint(id=15, version=1, score=0.8703172, payload={'question': 'The course has already started. Can I still join it?', 'text': 'Yes, you can. You won’t be able to submit some of the homeworks, but you can still take part in the course.\\nIn order to get a certificate, you need to submit 2 out of 3 course projects and review 3 peers’ Projects by the deadline. It means that if you join the course at the end of November and manage to work on two projects, you will still be eligible for a certificate.', 'section': 'General course-related questions', 'course': 'mlops-zoomcamp'}, vector=None, shard_key=None, order_value=None)])"
      ]
     },
     "execution_count": 58,
     "metadata": {},
     "output_type": "execute_result"
    }
   ],
   "source": [
    "result"
   ]
  },
  {
   "cell_type": "code",
   "execution_count": 59,
   "id": "ecf8ae38-b48d-46a3-b34e-14be214fc32e",
   "metadata": {},
   "outputs": [
    {
     "data": {
      "text/plain": [
       "0.8703172"
      ]
     },
     "execution_count": 59,
     "metadata": {},
     "output_type": "execute_result"
    }
   ],
   "source": [
    "result.points[0].score"
   ]
  },
  {
   "cell_type": "code",
   "execution_count": 60,
   "id": "0542d65a-3c42-44e1-a94c-f353189a659c",
   "metadata": {},
   "outputs": [
    {
     "data": {
      "text/plain": [
       "'Yes, you can. You won’t be able to submit some of the homeworks, but you can still take part in the course.\\nIn order to get a certificate, you need to submit 2 out of 3 course projects and review 3 peers’ Projects by the deadline. It means that if you join the course at the end of November and manage to work on two projects, you will still be eligible for a certificate.'"
      ]
     },
     "execution_count": 60,
     "metadata": {},
     "output_type": "execute_result"
    }
   ],
   "source": [
    "result.points[0].payload['text']"
   ]
  },
  {
   "cell_type": "code",
   "execution_count": 61,
   "id": "705ee4bc-3232-4f9e-97ef-4e823e794c0a",
   "metadata": {},
   "outputs": [
    {
     "data": {
      "text/plain": [
       "'The course has already started. Can I still join it?'"
      ]
     },
     "execution_count": 61,
     "metadata": {},
     "output_type": "execute_result"
    }
   ],
   "source": [
    "result.points[0].payload['question']"
   ]
  }
 ],
 "metadata": {
  "kernelspec": {
   "display_name": "Python 3 (ipykernel)",
   "language": "python",
   "name": "python3"
  },
  "language_info": {
   "codemirror_mode": {
    "name": "ipython",
    "version": 3
   },
   "file_extension": ".py",
   "mimetype": "text/x-python",
   "name": "python",
   "nbconvert_exporter": "python",
   "pygments_lexer": "ipython3",
   "version": "3.13.3"
  }
 },
 "nbformat": 4,
 "nbformat_minor": 5
}
