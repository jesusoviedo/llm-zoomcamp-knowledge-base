{
 "cells": [
  {
   "cell_type": "markdown",
   "id": "5fd09a9d-c460-4e82-bf64-79a77ab9f8d0",
   "metadata": {},
   "source": [
    "# Primeros pasos con Neo4j\n",
    "\n",
    "Este notebook es una guía práctica para explorar las capacidades de [Neo4j](https://neo4j.com/), una base de datos de grafos nativa, madura y diseñada para aplicaciones empresariales, tanto transaccionales como analíticas.\n",
    "\n",
    "Neo4j se destaca por su robustez, su ecosistema completo de herramientas (incluyendo visualización, ciencia de datos y administración) y por su lenguaje de consulta basado en grafos: **Cypher**.\n",
    "\n",
    "En este notebook aprenderás a:\n",
    "\n",
    "- Crear una base de datos local con Neo4j Desktop.\n",
    "- Conectarte desde Python usando el driver oficial.\n",
    "- Crear nodos y relaciones mediante el lenguaje Cypher.\n",
    "- Ejecutar consultas para descubrir patrones en el grafo.\n",
    "\n",
    "Los ejemplos de esta notebook utilizan el lenguaje de consulta **Cypher**.  \n",
    "Si no estás familiarizado con Cypher, se recomienda revisar el siguiente tutorial oficial de Neo4j para entender su sintaxis y conceptos básicos:[Tutorial de Cypher en Neo4j](https://neo4j.com/docs/getting-started/cypher/)\n",
    "\n",
    "\n",
    "**Alternativa rápida:**  \n",
    "Si prefieres evitar la instalación de Neo4j Desktop, también puedes levantar una instancia de Neo4j de forma rápida usando Docker:\n",
    "\n",
    "\n",
    "```bash\n",
    "docker run \n",
    "  -p 7474:7474\\\n",
    "  -p 7687:7687  \\\n",
    "  -d \\\n",
    "  -e NEO4J_AUTH=neo4j/secretgraph \\\n",
    "  neo4j:latest\n",
    "```\n",
    "\n",
    "Esto inicia Neo4j en modo servidor, accesible en [http://localhost:7474](http://localhost:7474) con el usuario `neo4j` y la contraseña que definas.\n",
    "\n",
    "---\n",
    "\n",
    "#### 📌 Nota\n",
    "\n",
    "Este notebook es un **documento vivo**.  \n",
    "Se irán agregando nuevos ejemplos y casos de uso avanzados de forma progresiva.\n",
    "\n",
    "¡Siéntete libre de clonar, ejecutar y adaptar estos ejemplos a tus propios proyectos!\n",
    "\n",
    "---"
   ]
  },
  {
   "cell_type": "markdown",
   "id": "b5cb35f6-d1b2-4338-86d4-538c8a1d770f",
   "metadata": {},
   "source": [
    "## Ejemplo 1"
   ]
  },
  {
   "cell_type": "code",
   "execution_count": 2,
   "id": "a0325b3b-9940-421d-b692-a47411ed165e",
   "metadata": {},
   "outputs": [],
   "source": [
    "# Conectarse a la base de datos \n",
    "\n",
    "from neo4j import GraphDatabase\n",
    "\n",
    "URI = \"neo4j://localhost\"\n",
    "AUTH = (\"neo4j\", \"secretgraph\")\n",
    "\n",
    "with GraphDatabase.driver(URI, auth=AUTH) as driver:\n",
    "    driver.verify_connectivity()"
   ]
  },
  {
   "cell_type": "code",
   "execution_count": 4,
   "id": "7c9a2c74-a646-4e53-a1f0-fad0513e4757",
   "metadata": {},
   "outputs": [
    {
     "name": "stdout",
     "output_type": "stream",
     "text": [
      "Created 2 nodes in 20 ms.\n"
     ]
    }
   ],
   "source": [
    "# Crear un grafo de ejemplo  \n",
    "\n",
    "with GraphDatabase.driver(URI, auth=AUTH) as driver:\n",
    "    summary = driver.execute_query(\"\"\"\n",
    "        CREATE (a:Person {name: $name})\n",
    "        CREATE (b:Person {name: $friendName})\n",
    "        CREATE (a)-[:KNOWS]->(b)\n",
    "        \"\"\",\n",
    "        name=\"Alice\", friendName=\"David\",\n",
    "        database_=\"neo4j\",\n",
    "    ).summary\n",
    "    \n",
    "    print(\"Created {nodes_created} nodes in {time} ms.\".format(\n",
    "        nodes_created=summary.counters.nodes_created,\n",
    "        time=summary.result_available_after\n",
    "    ))"
   ]
  },
  {
   "cell_type": "code",
   "execution_count": 7,
   "id": "fbaed3fd-a30f-4ff9-978d-c4de02536e70",
   "metadata": {},
   "outputs": [
    {
     "name": "stdout",
     "output_type": "stream",
     "text": [
      "{'name': 'Alice'}\n",
      "{'name': 'Alice'}\n",
      "\n",
      "The query returned 2 records in 1 ms.\n"
     ]
    }
   ],
   "source": [
    "# Consultar un grafo  \n",
    "\n",
    "with GraphDatabase.driver(URI, auth=AUTH) as driver:\n",
    "    records, summary, keys = driver.execute_query(\"\"\"\n",
    "        MATCH (p:Person)-[:KNOWS]->(:Person)\n",
    "        RETURN p.name AS name\n",
    "        \"\"\",\n",
    "        database_=\"neo4j\",\n",
    "    )\n",
    "\n",
    "# Loop through results and do something with them\n",
    "for record in records:\n",
    "    print(record.data())  # obtain record as dict\n",
    "\n",
    "# Summary information\n",
    "print(\"\\nThe query returned {records_count} records in {time} ms.\".format(\n",
    "    records_count=len(records),\n",
    "    time=summary.result_available_after\n",
    "))"
   ]
  },
  {
   "cell_type": "markdown",
   "id": "d95e8bc3-0df9-43b6-b4ff-2a3bdec51406",
   "metadata": {},
   "source": [
    "## Ejemplo 2"
   ]
  },
  {
   "cell_type": "code",
   "execution_count": 8,
   "id": "1a261f6c-8033-47c9-8b35-5873eeb2b836",
   "metadata": {},
   "outputs": [],
   "source": [
    "from neo4j import GraphDatabase\n",
    "\n",
    "# Estas credenciales deben coincidir con las de la base de datos creada en Neo4j\n",
    "URI = \"neo4j://localhost:7687\"\n",
    "AUTH = (\"neo4j\", \"secretgraph\")"
   ]
  },
  {
   "cell_type": "code",
   "execution_count": 9,
   "id": "7511dd8d-e9e9-467f-bdcc-bbfbbb57133f",
   "metadata": {},
   "outputs": [],
   "source": [
    "def crear_y_conectar_amigos(driver, nombre_persona, nombre_amigo):\n",
    "    \"\"\"\n",
    "    Crea dos nodos de Persona si no existen y una relación :CONOCE entre ellos.\n",
    "    Utiliza MERGE para evitar la creación de duplicados.\n",
    "    \"\"\"\n",
    "    \n",
    "    # MERGE es idempotente: crea el patrón si no existe, o lo encuentra si ya existe.\n",
    "    # Es la mejor práctica para operaciones de escritura que deben evitar duplicados.\n",
    "    query = (\n",
    "        \"MERGE (p1:Persona {nombre: $nombre_persona}) \"\n",
    "        \"MERGE (p2:Persona {nombre: $nombre_amigo}) \"\n",
    "        \"MERGE (p1)-[:CONOCE]->(p2)\"\n",
    "    )\n",
    "    \n",
    "    # execute_query es el método recomendado para ejecutar una sola consulta.\n",
    "    # Los parámetros se pasan como argumentos de palabra clave para prevenir inyecciones de Cypher.\n",
    "    driver.execute_query(query, nombre_persona=nombre_persona, nombre_amigo=nombre_amigo, database_=\"neo4j\")\n",
    "    print(f\"Relación creada/encontrada entre {nombre_persona} y {nombre_amigo}.\")"
   ]
  },
  {
   "cell_type": "code",
   "execution_count": 11,
   "id": "d8428d98-39d9-40c0-808d-b8678fb9529a",
   "metadata": {},
   "outputs": [],
   "source": [
    "def encontrar_amigos_de_amigos(driver, nombre_persona):\n",
    "    \"\"\"\n",
    "    Encuentra los 'amigos de amigos' de una persona, excluyendo a la persona original\n",
    "    y a sus amigos directos.\n",
    "    \"\"\"\n",
    "    \n",
    "    # Esta consulta de 2 saltos es donde las bases de datos gráficas destacan.\n",
    "    query = (\n",
    "        \"MATCH (p1:Persona {nombre: $nombre_persona})-[:CONOCE]->(amigo:Persona)-[:CONOCE]->(amigo_de_amigo:Persona) \"\n",
    "        \"WHERE p1 <> amigo_de_amigo AND NOT (p1)-[:CONOCE]->(amigo_de_amigo) \"\n",
    "        \"RETURN DISTINCT amigo_de_amigo.nombre AS nombre\"\n",
    "    )\n",
    "    records, summary, keys = driver.execute_query(query, nombre_persona=nombre_persona, database_=\"neo4j\")\n",
    "    \n",
    "    # Procesar los resultados\n",
    "    amigos_de_amigos = [record[\"nombre\"] for record in records]\n",
    "    return amigos_de_amigos"
   ]
  },
  {
   "cell_type": "code",
   "execution_count": 12,
   "id": "eb2e6d08-29e7-4165-9d34-f3797a4522fd",
   "metadata": {},
   "outputs": [
    {
     "name": "stdout",
     "output_type": "stream",
     "text": [
      "Conexión exitosa a Neo4j.\n",
      "Relación creada/encontrada entre Alice y Bob.\n",
      "Relación creada/encontrada entre Bob y Charlie.\n",
      "Relación creada/encontrada entre Alice y David.\n",
      "Relación creada/encontrada entre David y Eve.\n",
      "\n",
      "Los amigos de los amigos de Alice son: ['Charlie', 'Eve']\n"
     ]
    }
   ],
   "source": [
    "# El uso de 'with' asegura que el driver se cierre correctamente al finalizar.\n",
    "\n",
    "try:\n",
    "    with GraphDatabase.driver(URI, auth=AUTH) as driver:\n",
    "        \n",
    "        # Verificar la conectividad con el servidor Neo4j\n",
    "        driver.verify_connectivity()\n",
    "        print(\"Conexión exitosa a Neo4j.\")\n",
    "        \n",
    "        # Poblar el grafo con algunos datos de ejemplo\n",
    "        crear_y_conectar_amigos(driver, \"Alice\", \"Bob\")\n",
    "        crear_y_conectar_amigos(driver, \"Bob\", \"Charlie\")\n",
    "        crear_y_conectar_amigos(driver, \"Alice\", \"David\")\n",
    "        crear_y_conectar_amigos(driver, \"David\", \"Eve\")\n",
    "        \n",
    "        # Ejecutar una consulta de lectura\n",
    "        nombre_a_buscar = \"Alice\"\n",
    "        resultados = encontrar_amigos_de_amigos(driver, nombre_a_buscar)\n",
    "        \n",
    "        print(f\"\\nLos amigos de los amigos de {nombre_a_buscar} son: {resultados}\")\n",
    "        \n",
    "except Exception as e:\n",
    "    print(f\"Se produjo un error al conectar o ejecutar la consulta: {e}\")"
   ]
  },
  {
   "cell_type": "markdown",
   "id": "df99e055-fc89-4546-b75c-dd9e178befe1",
   "metadata": {},
   "source": [
    "## Ejemplo 3"
   ]
  },
  {
   "cell_type": "code",
   "execution_count": 15,
   "id": "47d19291-557c-45b4-b9f9-55d4aa150aa7",
   "metadata": {},
   "outputs": [],
   "source": [
    "from neo4j import GraphDatabase\n",
    "import random\n",
    "\n",
    "URI = \"neo4j://localhost:7687\"\n",
    "AUTH = (\"neo4j\", \"secretgraph\")"
   ]
  },
  {
   "cell_type": "code",
   "execution_count": 16,
   "id": "db1894a2-5d94-44c3-84a3-514f08e73f78",
   "metadata": {},
   "outputs": [],
   "source": [
    "# Listas de ejemplo\n",
    "usuarios = [\n",
    "    \"Lucía\", \"Mateo\", \"Sofía\", \"Lucas\", \"Martina\", \"Benjamín\", \"Emma\", \"Thiago\", \"Valentina\",\n",
    "    \"Santiago\", \"Isabella\", \"Julián\", \"Camila\", \"Tomás\", \"Abril\", \"Facundo\", \"Renata\", \"Juan\",\n",
    "    \"Mía\", \"Agustín\", \"Catalina\", \"Dante\", \"Florencia\", \"Gaspar\", \"Lola\"\n",
    "]\n",
    "\n",
    "peliculas = [\"Interestelar\", \"Matrix\", \"El Padrino\", \"Inception\", \"Avatar\"]\n",
    "\n",
    "# --- Función para insertar usuarios, películas y relaciones ---\n",
    "def poblar_datos(driver):\n",
    "    with driver.session(database=\"neo4j\") as session:\n",
    "        # Crear películas (una sola vez)\n",
    "        for titulo in peliculas:\n",
    "            session.run(\"MERGE (:Pelicula {titulo: $titulo})\", titulo=titulo)\n",
    "\n",
    "        # Crear usuarios y relaciones\n",
    "        for nombre in usuarios:\n",
    "            session.run(\"MERGE (:Usuario {nombre: $nombre})\", nombre=nombre)\n",
    "            peliculas_calificadas = random.sample(peliculas, k=random.randint(2, 5))\n",
    "            for titulo in peliculas_calificadas:\n",
    "                rating = random.randint(1, 5)\n",
    "                session.run(\"\"\"\n",
    "                    MATCH (u:Usuario {nombre: $nombre}), (p:Pelicula {titulo: $titulo})\n",
    "                    MERGE (u)-[:CALIFICO {rating: $rating}]->(p)\n",
    "                \"\"\", nombre=nombre, titulo=titulo, rating=rating)\n",
    "\n",
    "    print(\"Base de datos poblada con 25 usuarios, 5 películas y calificaciones aleatorias.\")"
   ]
  },
  {
   "cell_type": "code",
   "execution_count": 18,
   "id": "0ff99406-2479-4a40-acae-4143430bdc47",
   "metadata": {},
   "outputs": [],
   "source": [
    "# Ver calificaciones de un usuario\n",
    "def mostrar_calificaciones(driver, nombre_usuario):\n",
    "    query = \"\"\"\n",
    "    MATCH (u:Usuario {nombre: $nombre})-[r:CALIFICO]->(p:Pelicula)\n",
    "    RETURN p.titulo AS pelicula, r.rating AS calificacion\n",
    "    ORDER BY r.rating DESC\n",
    "    \"\"\"\n",
    "    result, _, _ = driver.execute_query(query, nombre=nombre_usuario, database_=\"neo4j\")\n",
    "    print(f\"Calificaciones de {nombre_usuario}:\")\n",
    "    for row in result:\n",
    "        print(f\"- {row['pelicula']}: {row['calificacion']} estrellas\")"
   ]
  },
  {
   "cell_type": "code",
   "execution_count": 19,
   "id": "4dd44d4f-6a53-4355-8be6-21ada37b9691",
   "metadata": {},
   "outputs": [
    {
     "name": "stdout",
     "output_type": "stream",
     "text": [
      "Base de datos poblada con 25 usuarios, 5 películas y calificaciones aleatorias.\n",
      "Calificaciones de Lucía:\n",
      "- Avatar: 4 estrellas\n",
      "- Matrix: 2 estrellas\n",
      "- Inception: 2 estrellas\n",
      "- El Padrino: 2 estrellas\n"
     ]
    }
   ],
   "source": [
    "# Poniendo en marcha todo\n",
    "try:\n",
    "    with GraphDatabase.driver(URI, auth=AUTH) as driver:\n",
    "        driver.verify_connectivity()\n",
    "        poblar_datos(driver)\n",
    "        mostrar_calificaciones(driver, \"Lucía\")\n",
    "\n",
    "except Exception as e:\n",
    "    print(f\"Error al conectar o ejecutar: {e}\")"
   ]
  }
 ],
 "metadata": {
  "kernelspec": {
   "display_name": "Python 3 (ipykernel)",
   "language": "python",
   "name": "python3"
  },
  "language_info": {
   "codemirror_mode": {
    "name": "ipython",
    "version": 3
   },
   "file_extension": ".py",
   "mimetype": "text/x-python",
   "name": "python",
   "nbconvert_exporter": "python",
   "pygments_lexer": "ipython3",
   "version": "3.13.3"
  }
 },
 "nbformat": 4,
 "nbformat_minor": 5
}
