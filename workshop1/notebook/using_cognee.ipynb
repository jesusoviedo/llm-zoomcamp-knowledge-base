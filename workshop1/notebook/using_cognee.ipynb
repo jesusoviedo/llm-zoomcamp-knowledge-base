{
 "cells": [
  {
   "cell_type": "markdown",
   "id": "5fd09a9d-c460-4e82-bf64-79a77ab9f8d0",
   "metadata": {},
   "source": [
    "# 🧠 Primeros pasos con Kùzu\n",
    "\n",
    "Este notebook es una guía práctica para explorar las capacidades de [Kùzu](https://kuzudb.com/), una base de datos de grafos de alto rendimiento, embebida y orientada a cargas analíticas y flujos de trabajo con machine learning basado en grafos.\n",
    "\n",
    "Aquí encontrarás ejemplos prácticos que muestran cómo:\n",
    "\n",
    "- Configurar e inicializar una base de datos Kùzu.\n",
    "- Definir esquemas de nodos y relaciones.\n",
    "- Cargar datos desde archivos CSV.\n",
    "- Ejecutar consultas en Cypher para explorar patrones en el grafo.\n",
    "- Procesar los resultados utilizando Python.\n",
    "\n",
    "Los ejemplos de esta notebook utilizan el lenguaje de consulta **Cypher**.  \n",
    "Si no estás familiarizado con Cypher, se recomienda revisar el siguiente tutorial oficial de Kùzu para entender su sintaxis y conceptos básicos:[Tutorial de Cypher en Kùzu](https://docs.kuzudb.com/tutorials/cypher/)\n",
    "\n",
    "---\n",
    "\n",
    "#### 📌 Nota\n",
    "\n",
    "Este notebook es un **documento vivo**.  \n",
    "Se irán agregando nuevos ejemplos y casos de uso avanzados de forma progresiva.\n",
    "\n",
    "¡Siéntete libre de clonar, ejecutar y adaptar estos ejemplos a tus propios proyectos!\n",
    "\n",
    "---"
   ]
  },
  {
   "cell_type": "markdown",
   "id": "b5cb35f6-d1b2-4338-86d4-538c8a1d770f",
   "metadata": {},
   "source": [
    "## Ejemplo 1"
   ]
  },
  {
   "cell_type": "code",
   "execution_count": 13,
   "id": "439ef347-c9f7-4051-b5f0-5c152111b4c6",
   "metadata": {},
   "outputs": [
    {
     "name": "stdout",
     "output_type": "stream",
     "text": [
      "--2025-07-08 09:58:32--  https://drive.usercontent.google.com/u/0/uc?id=1CeL2CpVhPH57SMzrxby6me2uAG9S4rqn&export=download\n",
      "Resolving drive.usercontent.google.com (drive.usercontent.google.com)... 142.251.128.33, 2800:3f0:4002:804::2001\n",
      "Connecting to drive.usercontent.google.com (drive.usercontent.google.com)|142.251.128.33|:443... connected.\n",
      "HTTP request sent, awaiting response... 302 Found\n",
      "Location: https://drive.usercontent.google.com/uc?id=1CeL2CpVhPH57SMzrxby6me2uAG9S4rqn&export=download [following]\n",
      "--2025-07-08 09:58:32--  https://drive.usercontent.google.com/uc?id=1CeL2CpVhPH57SMzrxby6me2uAG9S4rqn&export=download\n",
      "Reusing existing connection to drive.usercontent.google.com:443.\n",
      "HTTP request sent, awaiting response... 303 See Other\n",
      "Location: https://drive.usercontent.google.com/download?id=1CeL2CpVhPH57SMzrxby6me2uAG9S4rqn&export=download [following]\n",
      "--2025-07-08 09:58:32--  https://drive.usercontent.google.com/download?id=1CeL2CpVhPH57SMzrxby6me2uAG9S4rqn&export=download\n",
      "Reusing existing connection to drive.usercontent.google.com:443.\n",
      "HTTP request sent, awaiting response... 200 OK\n",
      "Length: 549 [application/octet-stream]\n",
      "Saving to: ‘data/sigue_a.csv’\n",
      "\n",
      "data/sigue_a.csv    100%[===================>]     549  --.-KB/s    in 0s      \n",
      "\n",
      "2025-07-08 09:58:33 (49.8 MB/s) - ‘data/sigue_a.csv’ saved [549/549]\n",
      "\n"
     ]
    }
   ],
   "source": [
    "! wget -O data/sigue_a.csv \"https://drive.usercontent.google.com/u/0/uc?id=1CeL2CpVhPH57SMzrxby6me2uAG9S4rqn&export=download\""
   ]
  },
  {
   "cell_type": "code",
   "execution_count": 12,
   "id": "6d7366d3-7313-4d60-9ded-cc92ca290b4d",
   "metadata": {},
   "outputs": [
    {
     "name": "stdout",
     "output_type": "stream",
     "text": [
      "--2025-07-08 09:58:27--  https://drive.usercontent.google.com/u/0/uc?id=1h68ao8nqlszz0gT9-o5eSEv20lBN8aPS&export=download\n",
      "Resolving drive.usercontent.google.com (drive.usercontent.google.com)... 142.251.128.33, 2800:3f0:4002:804::2001\n",
      "Connecting to drive.usercontent.google.com (drive.usercontent.google.com)|142.251.128.33|:443... connected.\n",
      "HTTP request sent, awaiting response... 302 Found\n",
      "Location: https://drive.usercontent.google.com/uc?id=1h68ao8nqlszz0gT9-o5eSEv20lBN8aPS&export=download [following]\n",
      "--2025-07-08 09:58:29--  https://drive.usercontent.google.com/uc?id=1h68ao8nqlszz0gT9-o5eSEv20lBN8aPS&export=download\n",
      "Reusing existing connection to drive.usercontent.google.com:443.\n",
      "HTTP request sent, awaiting response... 303 See Other\n",
      "Location: https://drive.usercontent.google.com/download?id=1h68ao8nqlszz0gT9-o5eSEv20lBN8aPS&export=download [following]\n",
      "--2025-07-08 09:58:29--  https://drive.usercontent.google.com/download?id=1h68ao8nqlszz0gT9-o5eSEv20lBN8aPS&export=download\n",
      "Reusing existing connection to drive.usercontent.google.com:443.\n",
      "HTTP request sent, awaiting response... 200 OK\n",
      "Length: 692 [application/octet-stream]\n",
      "Saving to: ‘data/usuarios.csv’\n",
      "\n",
      "data/usuarios.csv   100%[===================>]     692  --.-KB/s    in 0s      \n",
      "\n",
      "2025-07-08 09:58:32 (1.43 MB/s) - ‘data/usuarios.csv’ saved [692/692]\n",
      "\n"
     ]
    }
   ],
   "source": [
    "! wget -O data/usuarios.csv \"https://drive.usercontent.google.com/u/0/uc?id=1h68ao8nqlszz0gT9-o5eSEv20lBN8aPS&export=download\""
   ]
  },
  {
   "cell_type": "code",
   "execution_count": 1,
   "id": "e753ed6c-f40e-4c1b-8128-679517436bfe",
   "metadata": {},
   "outputs": [],
   "source": [
    "import kuzu\n",
    "import os\n",
    "import shutil"
   ]
  },
  {
   "cell_type": "code",
   "execution_count": 2,
   "id": "1aa5dc20-f264-47c9-94f3-36f7f6e89bf9",
   "metadata": {},
   "outputs": [],
   "source": [
    "# --- 1. Preparación: Limpiar y crear directorio para la base de datos ---\n",
    "\n",
    "db_path = \"kuzu_db\"\n",
    "if os.path.exists(db_path):\n",
    "    shutil.rmtree(db_path)"
   ]
  },
  {
   "cell_type": "code",
   "execution_count": 3,
   "id": "833eb8e8-569a-4749-b109-09d00558f784",
   "metadata": {},
   "outputs": [
    {
     "name": "stdout",
     "output_type": "stream",
     "text": [
      "Base de datos Kùzu creada en: kuzu_db\n"
     ]
    }
   ],
   "source": [
    "# --- 2. Inicialización: Crear una base de datos en disco y una conexión ---\n",
    "# Kùzu crea el directorio si no existe.\n",
    "\n",
    "db = kuzu.Database(db_path)\n",
    "conn = kuzu.Connection(db)\n",
    "print(f\"Base de datos Kùzu creada en: {db_path}\")"
   ]
  },
  {
   "cell_type": "code",
   "execution_count": 4,
   "id": "1e2aa73c-914a-4156-ad08-657e8930f536",
   "metadata": {},
   "outputs": [
    {
     "name": "stdout",
     "output_type": "stream",
     "text": [
      "Esquema de 'Usuario' y 'SIGUE_A' creado.\n"
     ]
    }
   ],
   "source": [
    "# --- 3. Definición del Esquema: Crear tablas de nodos y relaciones ---\n",
    "# Kùzu utiliza un esquema estructurado, por lo que las tablas deben definirse primero.\n",
    "# Se define una tabla de nodos 'Usuario' con un 'id' como clave primaria.\n",
    "\n",
    "conn.execute(\"CREATE NODE TABLE Usuario(id INT64, nombre STRING, PRIMARY KEY (id))\")\n",
    "\n",
    "# Se define una tabla de relaciones 'SIGUE_A' que conecta nodos 'Usuario'.\n",
    "\n",
    "conn.execute(\"CREATE REL TABLE SIGUE_A(FROM Usuario TO Usuario, desde_anio INT64)\")\n",
    "print(\"Esquema de 'Usuario' y 'SIGUE_A' creado.\")"
   ]
  },
  {
   "cell_type": "code",
   "execution_count": 14,
   "id": "c13a669f-affd-4c87-9173-80e9ee560b3f",
   "metadata": {},
   "outputs": [
    {
     "name": "stdout",
     "output_type": "stream",
     "text": [
      "Cargando datos desde archivos CSV...\n",
      "Datos cargados correctamente.\n"
     ]
    }
   ],
   "source": [
    "# --- 4. Carga de Datos: Ingestar datos desde archivos CSV ---\n",
    "# El comando COPY es altamente eficiente para la carga masiva de datos.\n",
    "# Se asume que los CSV tienen cabeceras que coinciden con los nombres de las propiedades.\n",
    "\n",
    "print(\"Cargando datos desde archivos CSV...\")\n",
    "conn.execute('COPY Usuario FROM \"data/usuarios.csv\" (HEADER=true)')\n",
    "conn.execute('COPY SIGUE_A FROM \"data/sigue_a.csv\" (HEADER=true)')\n",
    "print(\"Datos cargados correctamente.\")"
   ]
  },
  {
   "cell_type": "code",
   "execution_count": 22,
   "id": "696319e3-ffd6-4611-8b17-72002bfe875c",
   "metadata": {},
   "outputs": [
    {
     "name": "stdout",
     "output_type": "stream",
     "text": [
      "\n",
      "Ejecutando consulta Cypher:\n",
      "\n",
      "    MATCH (u1:Usuario)-->(u2:Usuario)-->(u3:Usuario)\n",
      "    WHERE u1.nombre = 'Usuario_2'\n",
      "    RETURN u1.nombre AS seguidor, u2.nombre AS intermediario, u3.nombre AS seguido\n",
      "\n"
     ]
    }
   ],
   "source": [
    "# --- 5. Consulta de Datos: Ejecutar una consulta Cypher para encontrar patrones ---\n",
    "# Se busca un patrón: un usuario (u1) que sigue a otro (u2), que a su vez sigue a un tercero (u3).\n",
    "# Esto es una consulta de \"amigos de amigos\" o de dos saltos.\n",
    "\n",
    "query = \"\"\"\n",
    "    MATCH (u1:Usuario)-->(u2:Usuario)-->(u3:Usuario)\n",
    "    WHERE u1.nombre = 'Usuario_2'\n",
    "    RETURN u1.nombre AS seguidor, u2.nombre AS intermediario, u3.nombre AS seguido\n",
    "\"\"\"\n",
    "print(f\"\\nEjecutando consulta Cypher:\\n{query}\")\n",
    "query_result = conn.execute(query)"
   ]
  },
  {
   "cell_type": "code",
   "execution_count": 23,
   "id": "ca351a76-7a3e-4297-aeab-951c3ae3140b",
   "metadata": {},
   "outputs": [
    {
     "name": "stdout",
     "output_type": "stream",
     "text": [
      "\n",
      "Resultados de la consulta:\n",
      "Usuario_2 sigue a Usuario_27 a través de Usuario_7\n",
      "Usuario_2 sigue a Usuario_27 a través de Usuario_38\n",
      "Usuario_2 sigue a Usuario_27 a través de Usuario_48\n"
     ]
    }
   ],
   "source": [
    "# --- 6. Procesamiento de Resultados: Iterar y mostrar los resultados ---\n",
    "\n",
    "print(\"\\nResultados de la consulta:\")\n",
    "while query_result.has_next():\n",
    "    row = query_result.get_next()\n",
    "    # row es una lista de valores en el orden especificado en RETURN\n",
    "    print(f\"{row[0]} sigue a {row[1]} a través de {row[2]}\")\n",
    "\n",
    "# El cierre de la conexión y la base de datos no es estrictamente necesario\n",
    "# en scripts simples, pero es una buena práctica en aplicaciones más grandes."
   ]
  },
  {
   "cell_type": "markdown",
   "id": "02789c82-7b93-4522-9e9d-afb61611c849",
   "metadata": {},
   "source": [
    "## Ejemplo 2"
   ]
  },
  {
   "cell_type": "code",
   "execution_count": 24,
   "id": "f7ef3fa0-74ce-445d-9f45-c9316f316545",
   "metadata": {},
   "outputs": [
    {
     "name": "stdout",
     "output_type": "stream",
     "text": [
      "  % Total    % Received % Xferd  Average Speed   Time    Time     Time  Current\n",
      "                                 Dload  Upload   Total   Spent    Left  Speed\n",
      "100  2559  100  2559    0     0   1933      0  0:00:01  0:00:01 --:--:--  1934\n"
     ]
    }
   ],
   "source": [
    "! curl -o data/tutorial_data.zip https://rgw.cs.uwaterloo.ca/kuzu-test/tutorial/tutorial_data.zip"
   ]
  },
  {
   "cell_type": "code",
   "execution_count": 28,
   "id": "71e6bbd7-a3e4-4580-8e0c-24cbcb1252ac",
   "metadata": {},
   "outputs": [
    {
     "name": "stdout",
     "output_type": "stream",
     "text": [
      "Archive:  ./data/tutorial_data.zip\n",
      "   creating: ./data/tutorial_data/node/\n",
      "  inflating: ./data/tutorial_data/node/post.csv  \n",
      "  inflating: ./data/tutorial_data/node/user.csv  \n",
      "   creating: ./data/tutorial_data/relation/\n",
      "  inflating: ./data/tutorial_data/relation/FOLLOWS.csv  \n",
      "  inflating: ./data/tutorial_data/relation/LIKES.csv  \n",
      "  inflating: ./data/tutorial_data/relation/POSTS.csv  \n"
     ]
    }
   ],
   "source": [
    "! unzip ./data/tutorial_data.zip -d ./data"
   ]
  },
  {
   "cell_type": "code",
   "execution_count": 29,
   "id": "3d8d719f-f715-4371-b957-6bd3bc3af3ff",
   "metadata": {},
   "outputs": [],
   "source": [
    "! rm ./data/tutorial_data.zip"
   ]
  },
  {
   "cell_type": "code",
   "execution_count": 45,
   "id": "0b4aca83-d216-4b24-9e72-a4e0b02911ed",
   "metadata": {},
   "outputs": [
    {
     "name": "stdout",
     "output_type": "stream",
     "text": [
      "Base de datos Kùzu creada en: kuzu_db\n"
     ]
    }
   ],
   "source": [
    "db_path = \"kuzu_db\"\n",
    "if os.path.exists(db_path):\n",
    "    shutil.rmtree(db_path)\n",
    "\n",
    "db = kuzu.Database(db_path)\n",
    "conn = kuzu.Connection(db)\n",
    "print(f\"Base de datos Kùzu creada en: {db_path}\")"
   ]
  },
  {
   "cell_type": "code",
   "execution_count": 46,
   "id": "3ba39557-e160-45b9-959f-b186ff942638",
   "metadata": {},
   "outputs": [
    {
     "name": "stdout",
     "output_type": "stream",
     "text": [
      "Esquema de 'User', 'FOLLOWS', 'POSTED' y 'LIKES' creado.\n"
     ]
    }
   ],
   "source": [
    "conn.execute(\"\"\"\n",
    "    CREATE NODE TABLE User (\n",
    "        user_id INT64 PRIMARY KEY,\n",
    "        username STRING,\n",
    "        account_creation_date DATE\n",
    "    )\"\"\")\n",
    "\n",
    "conn.execute(\"\"\"\n",
    "    CREATE NODE TABLE Post (\n",
    "        post_id INT64 PRIMARY KEY,\n",
    "        post_date DATE,\n",
    "        like_count INT64,\n",
    "        retweet_count INT64\n",
    "    )\"\"\")\n",
    "\n",
    "conn.execute(\"\"\"\n",
    "    CREATE REL TABLE FOLLOWS (\n",
    "        FROM User TO User\n",
    "    )\"\"\")\n",
    "\n",
    "conn.execute(\"\"\"\n",
    "    CREATE REL TABLE POSTS (\n",
    "        FROM User TO Post\n",
    "    )\"\"\")\n",
    "\n",
    "conn.execute(\"\"\"\n",
    "    CREATE REL TABLE LIKES (\n",
    "        FROM User TO Post\n",
    "    )\"\"\")\n",
    "\n",
    "print(\"Esquema de 'User', 'FOLLOWS', 'POSTED' y 'LIKES' creado.\")"
   ]
  },
  {
   "cell_type": "code",
   "execution_count": 47,
   "id": "67a58052-f0f2-4ab5-b330-c4f9a81235dd",
   "metadata": {},
   "outputs": [
    {
     "name": "stdout",
     "output_type": "stream",
     "text": [
      "Datos cargados correctamente.\n"
     ]
    }
   ],
   "source": [
    "conn.execute(\"COPY User FROM './data/tutorial_data/node/user.csv'\")\n",
    "print(\"Datos cargados correctamente.\")"
   ]
  },
  {
   "cell_type": "code",
   "execution_count": 48,
   "id": "59f45647-bdde-4eb0-8c7e-84843a1ab2ee",
   "metadata": {},
   "outputs": [
    {
     "name": "stdout",
     "output_type": "stream",
     "text": [
      "Datos cargados correctamente.\n"
     ]
    }
   ],
   "source": [
    "conn.execute(\"COPY Post FROM './data/tutorial_data/node/post.csv'\")\n",
    "print(\"Datos cargados correctamente.\")"
   ]
  },
  {
   "cell_type": "code",
   "execution_count": 49,
   "id": "8ac34952-90e6-4409-bb35-9e62ed717fc1",
   "metadata": {},
   "outputs": [
    {
     "name": "stdout",
     "output_type": "stream",
     "text": [
      "Datos cargados correctamente.\n"
     ]
    }
   ],
   "source": [
    "conn.execute(\"COPY FOLLOWS FROM './data/tutorial_data/relation/FOLLOWS.csv'\")\n",
    "print(\"Datos cargados correctamente.\")"
   ]
  },
  {
   "cell_type": "code",
   "execution_count": 50,
   "id": "c255b98d-3330-4c78-a777-393f95d81358",
   "metadata": {},
   "outputs": [
    {
     "name": "stdout",
     "output_type": "stream",
     "text": [
      "Datos cargados correctamente.\n"
     ]
    }
   ],
   "source": [
    "conn.execute(\"COPY POSTS FROM './data/tutorial_data/relation/POSTS.csv'\")\n",
    "print(\"Datos cargados correctamente.\")"
   ]
  },
  {
   "cell_type": "code",
   "execution_count": 51,
   "id": "351749f7-0814-4928-9ce6-b55196b39cc3",
   "metadata": {},
   "outputs": [
    {
     "name": "stdout",
     "output_type": "stream",
     "text": [
      "Datos cargados correctamente.\n"
     ]
    }
   ],
   "source": [
    "conn.execute(\"COPY LIKES FROM './data/tutorial_data/relation/LIKES.csv'\")\n",
    "print(\"Datos cargados correctamente.\")"
   ]
  },
  {
   "cell_type": "code",
   "execution_count": 52,
   "id": "a52c0af1-8548-4aee-96c9-91b81f62f759",
   "metadata": {},
   "outputs": [
    {
     "name": "stdout",
     "output_type": "stream",
     "text": [
      "['id', 'name', 'type', 'database name', 'comment']\n",
      "[0, 'User', 'NODE', 'local(kuzu)', '']\n",
      "[2, 'FOLLOWS', 'REL', 'local(kuzu)', '']\n",
      "[1, 'Post', 'NODE', 'local(kuzu)', '']\n",
      "[3, 'POSTS', 'REL', 'local(kuzu)', '']\n",
      "[4, 'LIKES', 'REL', 'local(kuzu)', '']\n"
     ]
    }
   ],
   "source": [
    "## Mostrar información de la tabla\n",
    "result = conn.execute(\"CALL SHOW_TABLES() RETURN *\")\n",
    "\n",
    "print(result.get_column_names())\n",
    "while result.has_next():\n",
    "    print(result.get_next())"
   ]
  },
  {
   "cell_type": "code",
   "execution_count": 61,
   "id": "d3d88bb9-9297-4736-8d8a-e129bd9c6827",
   "metadata": {},
   "outputs": [
    {
     "name": "stdout",
     "output_type": "stream",
     "text": [
      "['u2.username']\n",
      "['coolwolf752']\n",
      "['stormfox762']\n",
      "['stormninja678']\n",
      "['darkdog878']\n",
      "['brightninja683']\n",
      "\n",
      "\n",
      "----------------------------------------------------------------------------------------------------\n",
      "\n",
      "\n",
      "['u2.username', 'follower_count']\n",
      "['stormcat597', 2]\n",
      "['epiccat105', 4]\n",
      "['fastgirl798', 4]\n",
      "['darkdog878', 6]\n",
      "['epicking81', 3]\n",
      "\n",
      "\n",
      "----------------------------------------------------------------------------------------------------\n",
      "\n",
      "\n",
      "['u2.username', 'follower_count']\n",
      "['darkdog878', 6]\n",
      "\n",
      "\n",
      "----------------------------------------------------------------------------------------------------\n",
      "\n",
      "\n",
      "['u2.username', 'follower_count']\n",
      "['stormninja678', 6]\n",
      "['darkdog878', 6]\n"
     ]
    }
   ],
   "source": [
    "## ¿Qué usuario tiene más seguidores? ¿Y cuántos seguidores tiene?\n",
    "result = conn.execute(\"\"\"MATCH (u1:User)-[f:FOLLOWS]->(u2:User)\n",
    "                        RETURN u2.username\n",
    "                        LIMIT 5\"\"\")\n",
    "\n",
    "print(result.get_column_names())\n",
    "while result.has_next():\n",
    "    print(result.get_next())\n",
    "\n",
    "print(\"\\n\")\n",
    "print(\"-\" * 100)\n",
    "print(\"\\n\")\n",
    "\n",
    "result = conn.execute(\"\"\"MATCH (u1:User)-[f:FOLLOWS]->(u2:User)\n",
    "                        RETURN u2.username, COUNT(u2) AS follower_count\n",
    "                        LIMIT 5\"\"\")\n",
    "\n",
    "print(result.get_column_names())\n",
    "while result.has_next():\n",
    "    print(result.get_next())\n",
    "\n",
    "print(\"\\n\")\n",
    "print(\"-\" * 100)\n",
    "print(\"\\n\")\n",
    "\n",
    "result = conn.execute(\"\"\"MATCH (u1:User)-[f:FOLLOWS]->(u2:User)\n",
    "                        RETURN u2.username, COUNT(u2) AS follower_count\n",
    "                        ORDER BY follower_count DESC\n",
    "                        LIMIT 1\"\"\")\n",
    "\n",
    "print(result.get_column_names())\n",
    "while result.has_next():\n",
    "    print(result.get_next())\n",
    "\n",
    "print(\"\\n\")\n",
    "print(\"-\" * 100)\n",
    "print(\"\\n\")\n",
    "\n",
    "result = conn.execute(\"\"\"MATCH (u1:User)-[f:FOLLOWS]->(u2:User)\n",
    "                        WITH u2, COUNT(u1) as follower_count\n",
    "                        WITH MAX(follower_count) as max_count\n",
    "                        MATCH (u1:User)-[f:FOLLOWS]->(u2:User)\n",
    "                        WITH u2, COUNT(u1) as follower_count, max_count\n",
    "                        WHERE follower_count = max_count\n",
    "                        RETURN u2.username, follower_count\"\"\")\n",
    "\n",
    "print(result.get_column_names())\n",
    "while result.has_next():\n",
    "    print(result.get_next())\n",
    "\n",
    "\n"
   ]
  }
 ],
 "metadata": {
  "kernelspec": {
   "display_name": "Python 3 (ipykernel)",
   "language": "python",
   "name": "python3"
  },
  "language_info": {
   "codemirror_mode": {
    "name": "ipython",
    "version": 3
   },
   "file_extension": ".py",
   "mimetype": "text/x-python",
   "name": "python",
   "nbconvert_exporter": "python",
   "pygments_lexer": "ipython3",
   "version": "3.13.3"
  }
 },
 "nbformat": 4,
 "nbformat_minor": 5
}
