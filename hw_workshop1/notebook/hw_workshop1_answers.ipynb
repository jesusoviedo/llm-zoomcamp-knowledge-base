{
 "cells": [
  {
   "cell_type": "markdown",
   "id": "66035956-2473-4c94-b843-1cdf2ff62e66",
   "metadata": {},
   "source": [
    "# Homework Workshop 1"
   ]
  },
  {
   "cell_type": "markdown",
   "id": "d3426000-becf-4899-a9a3-152f23d5e545",
   "metadata": {},
   "source": [
    "Importo los modulos necesarios"
   ]
  },
  {
   "cell_type": "code",
   "execution_count": 19,
   "id": "3666acc6-00d2-41cf-9dd6-8cb5c8081e33",
   "metadata": {},
   "outputs": [],
   "source": [
    "import dlt\n",
    "import requests\n",
    "import json\n",
    "\n",
    "from dlt.destinations import qdrant"
   ]
  },
  {
   "cell_type": "markdown",
   "id": "9d9c9130-5285-4495-9f8c-b2b9def0b576",
   "metadata": {},
   "source": [
    "## Question 1. dlt Version"
   ]
  },
  {
   "cell_type": "code",
   "execution_count": 2,
   "id": "e0db7c33-fa64-46eb-96c0-55ee47599d4d",
   "metadata": {},
   "outputs": [
    {
     "name": "stdout",
     "output_type": "stream",
     "text": [
      "\u001b[39mdlt 1.12.3\u001b[0m\n"
     ]
    }
   ],
   "source": [
    "!dlt --version"
   ]
  },
  {
   "cell_type": "markdown",
   "id": "a7e7ae85-f62f-4734-80cc-f3753db99845",
   "metadata": {},
   "source": [
    "## Question 2. dlt pipeline"
   ]
  },
  {
   "cell_type": "markdown",
   "id": "76e19124-98a1-4c2f-806f-01751c676c92",
   "metadata": {},
   "source": [
    "`np.linalg.norm(q)`: calcula la norma euclidiana (también llamada norma L2) del vector q."
   ]
  },
  {
   "cell_type": "code",
   "execution_count": 9,
   "id": "f8dec5b8-8598-4ed4-851a-d15157780c6e",
   "metadata": {},
   "outputs": [],
   "source": [
    "@dlt.resource\n",
    "def zoomcamp_data():\n",
    "    docs_url = 'https://github.com/alexeygrigorev/llm-rag-workshop/raw/main/notebooks/documents.json'\n",
    "    docs_response = requests.get(docs_url)\n",
    "    documents_raw = docs_response.json()\n",
    "\n",
    "    for course in documents_raw:\n",
    "        course_name = course['course']\n",
    "\n",
    "        for doc in course['documents']:\n",
    "            doc['course'] = course_name\n",
    "            yield doc"
   ]
  },
  {
   "cell_type": "markdown",
   "id": "fbff8d3d-1b0d-4c2f-8aeb-e86931af4c2d",
   "metadata": {},
   "source": [
    "Se recomienda leer sobre la [integración dlt + qdrant](https://dlthub.com/docs/dlt-ecosystem/destinations/qdrant)"
   ]
  },
  {
   "cell_type": "code",
   "execution_count": 47,
   "id": "57faca4d-9ceb-4947-b70f-39f470251b4c",
   "metadata": {},
   "outputs": [],
   "source": [
    "qdrant_destination = qdrant(\n",
    "  qd_path=\"db.qdrant\"\n",
    ")"
   ]
  },
  {
   "cell_type": "code",
   "execution_count": 11,
   "id": "567a7df4-1207-4a8b-93f1-b1a2d0b92089",
   "metadata": {},
   "outputs": [
    {
     "name": "stdout",
     "output_type": "stream",
     "text": [
      "Run started at 2025-07-06 02:44:32.528923+00:00 and COMPLETED in 3 minutes and 23.40 seconds with 4 steps.\n",
      "Step extract COMPLETED in 0.94 seconds.\n",
      "\n",
      "Load package 1751769876.534986 is EXTRACTED and NOT YET LOADED to the destination and contains no failed jobs\n",
      "\n",
      "Step normalize COMPLETED in 0.27 seconds.\n",
      "Normalized data for the following tables:\n",
      "- zoomcamp_data: 948 row(s)\n",
      "- _dlt_pipeline_state: 1 row(s)\n",
      "\n",
      "Load package 1751769876.534986 is NORMALIZED and NOT YET LOADED to the destination and contains no failed jobs\n",
      "\n",
      "Step load COMPLETED in 3 minutes and 18.16 seconds.\n",
      "Pipeline zoomcamp_pipeline load step completed in 3 minutes and 18.07 seconds\n",
      "1 load package(s) were loaded to destination qdrant and into dataset zoomcamp_tagged_data\n",
      "The qdrant destination used /home/joviedo/github-repos/llm-zoomcamp-knowledge-base/hw_workshop1/notebook/db.qdrant location to store data\n",
      "Load package 1751769876.534986 is LOADED and contains no failed jobs\n",
      "\n",
      "Step run COMPLETED in 3 minutes and 23.40 seconds.\n",
      "Pipeline zoomcamp_pipeline load step completed in 3 minutes and 18.07 seconds\n",
      "1 load package(s) were loaded to destination qdrant and into dataset zoomcamp_tagged_data\n",
      "The qdrant destination used /home/joviedo/github-repos/llm-zoomcamp-knowledge-base/hw_workshop1/notebook/db.qdrant location to store data\n",
      "Load package 1751769876.534986 is LOADED and contains no failed jobs\n"
     ]
    }
   ],
   "source": [
    "pipeline = dlt.pipeline(\n",
    "    pipeline_name=\"zoomcamp_pipeline\",\n",
    "    destination=qdrant_destination,\n",
    "    dataset_name=\"zoomcamp_tagged_data\"\n",
    ")\n",
    "load_info = pipeline.run(zoomcamp_data())\n",
    "print(pipeline.last_trace)"
   ]
  },
  {
   "cell_type": "markdown",
   "id": "7d7f2abf-3fef-4fcd-a512-0ace571ceee7",
   "metadata": {},
   "source": [
    "## Question 3. Embeddings"
   ]
  },
  {
   "cell_type": "code",
   "execution_count": 13,
   "id": "e53748c1-09db-4977-9f83-aa085a5a5f17",
   "metadata": {},
   "outputs": [
    {
     "name": "stdout",
     "output_type": "stream",
     "text": [
      "collection  meta.json\n"
     ]
    }
   ],
   "source": [
    "! ls db.qdrant"
   ]
  },
  {
   "cell_type": "code",
   "execution_count": 14,
   "id": "65e72987-d6bc-44d5-a251-a7fe987f949a",
   "metadata": {},
   "outputs": [
    {
     "name": "stdout",
     "output_type": "stream",
     "text": [
      "\u001b[01;34mdb.qdrant\u001b[0m\n",
      "├── \u001b[01;34mcollection\u001b[0m\n",
      "│   ├── \u001b[01;34mzoomcamp_tagged_data\u001b[0m\n",
      "│   │   └── storage.sqlite\n",
      "│   ├── \u001b[01;34mzoomcamp_tagged_data__dlt_loads\u001b[0m\n",
      "│   │   └── storage.sqlite\n",
      "│   ├── \u001b[01;34mzoomcamp_tagged_data__dlt_pipeline_state\u001b[0m\n",
      "│   │   └── storage.sqlite\n",
      "│   ├── \u001b[01;34mzoomcamp_tagged_data__dlt_version\u001b[0m\n",
      "│   │   └── storage.sqlite\n",
      "│   └── \u001b[01;34mzoomcamp_tagged_data_zoomcamp_data\u001b[0m\n",
      "│       └── storage.sqlite\n",
      "└── meta.json\n",
      "\n",
      "6 directories, 6 files\n"
     ]
    }
   ],
   "source": [
    "! tree db.qdrant"
   ]
  },
  {
   "cell_type": "code",
   "execution_count": 16,
   "id": "e0d69b1b-ad77-4218-b29c-16b3b2389288",
   "metadata": {},
   "outputs": [
    {
     "name": "stdout",
     "output_type": "stream",
     "text": [
      "{\"collections\": {\"zoomcamp_tagged_data\": {\"vectors\": {\"fast-bge-small-en\": {\"size\": 384, \"distance\": \"Cosine\", \"hnsw_config\": null, \"quantization_config\": null, \"on_disk\": null, \"datatype\": null, \"multivector_config\": null}}, \"shard_number\": null, \"sharding_method\": null, \"replication_factor\": null, \"write_consistency_factor\": null, \"on_disk_payload\": null, \"hnsw_config\": null, \"wal_config\": null, \"optimizers_config\": null, \"init_from\": null, \"quantization_config\": null, \"sparse_vectors\": null, \"strict_mode_config\": null}, \"zoomcamp_tagged_data__dlt_loads\": {\"vectors\": {\"fast-bge-small-en\": {\"size\": 384, \"distance\": \"Cosine\", \"hnsw_config\": null, \"quantization_config\": null, \"on_disk\": null, \"datatype\": null, \"multivector_config\": null}}, \"shard_number\": null, \"sharding_method\": null, \"replication_factor\": null, \"write_consistency_factor\": null, \"on_disk_payload\": null, \"hnsw_config\": null, \"wal_config\": null, \"optimizers_config\": null, \"init_from\": null, \"quantization_config\": null, \"sparse_vectors\": null, \"strict_mode_config\": null}, \"zoomcamp_tagged_data_zoomcamp_data\": {\"vectors\": {\"fast-bge-small-en\": {\"size\": 384, \"distance\": \"Cosine\", \"hnsw_config\": null, \"quantization_config\": null, \"on_disk\": null, \"datatype\": null, \"multivector_config\": null}}, \"shard_number\": null, \"sharding_method\": null, \"replication_factor\": null, \"write_consistency_factor\": null, \"on_disk_payload\": null, \"hnsw_config\": null, \"wal_config\": null, \"optimizers_config\": null, \"init_from\": null, \"quantization_config\": null, \"sparse_vectors\": null, \"strict_mode_config\": null}, \"zoomcamp_tagged_data__dlt_version\": {\"vectors\": {\"fast-bge-small-en\": {\"size\": 384, \"distance\": \"Cosine\", \"hnsw_config\": null, \"quantization_config\": null, \"on_disk\": null, \"datatype\": null, \"multivector_config\": null}}, \"shard_number\": null, \"sharding_method\": null, \"replication_factor\": null, \"write_consistency_factor\": null, \"on_disk_payload\": null, \"hnsw_config\": null, \"wal_config\": null, \"optimizers_config\": null, \"init_from\": null, \"quantization_config\": null, \"sparse_vectors\": null, \"strict_mode_config\": null}, \"zoomcamp_tagged_data__dlt_pipeline_state\": {\"vectors\": {\"fast-bge-small-en\": {\"size\": 384, \"distance\": \"Cosine\", \"hnsw_config\": null, \"quantization_config\": null, \"on_disk\": null, \"datatype\": null, \"multivector_config\": null}}, \"shard_number\": null, \"sharding_method\": null, \"replication_factor\": null, \"write_consistency_factor\": null, \"on_disk_payload\": null, \"hnsw_config\": null, \"wal_config\": null, \"optimizers_config\": null, \"init_from\": null, \"quantization_config\": null, \"sparse_vectors\": null, \"strict_mode_config\": null}}, \"aliases\": {}}"
     ]
    }
   ],
   "source": [
    "! cat db.qdrant/meta.json"
   ]
  },
  {
   "cell_type": "code",
   "execution_count": 37,
   "id": "b99a7056-1624-42c8-94f9-97baa4590463",
   "metadata": {},
   "outputs": [],
   "source": [
    "file_path = 'db.qdrant/meta.json'\n",
    "data = None\n",
    "\n",
    "with open(file_path, 'r') as file:\n",
    "    data = json.load(file)"
   ]
  },
  {
   "cell_type": "code",
   "execution_count": 46,
   "id": "98841586-f0a3-4762-980f-2e9d4bf035cb",
   "metadata": {},
   "outputs": [
    {
     "name": "stdout",
     "output_type": "stream",
     "text": [
      "Coleccion: zoomcamp_tagged_data, modelo de incrustación:['fast-bge-small-en']\n",
      "Coleccion: zoomcamp_tagged_data__dlt_loads, modelo de incrustación:['fast-bge-small-en']\n",
      "Coleccion: zoomcamp_tagged_data_zoomcamp_data, modelo de incrustación:['fast-bge-small-en']\n",
      "Coleccion: zoomcamp_tagged_data__dlt_version, modelo de incrustación:['fast-bge-small-en']\n",
      "Coleccion: zoomcamp_tagged_data__dlt_pipeline_state, modelo de incrustación:['fast-bge-small-en']\n"
     ]
    }
   ],
   "source": [
    "for colection, value in data['collections'].items():\n",
    "    print(f\"Coleccion: {colection}, modelo de incrustación:{list(value['vectors'].keys())}\")"
   ]
  }
 ],
 "metadata": {
  "kernelspec": {
   "display_name": "Python 3 (ipykernel)",
   "language": "python",
   "name": "python3"
  },
  "language_info": {
   "codemirror_mode": {
    "name": "ipython",
    "version": 3
   },
   "file_extension": ".py",
   "mimetype": "text/x-python",
   "name": "python",
   "nbconvert_exporter": "python",
   "pygments_lexer": "ipython3",
   "version": "3.13.3"
  }
 },
 "nbformat": 4,
 "nbformat_minor": 5
}
