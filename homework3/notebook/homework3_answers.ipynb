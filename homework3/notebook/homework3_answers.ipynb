{
 "cells": [
  {
   "cell_type": "markdown",
   "id": "66035956-2473-4c94-b843-1cdf2ff62e66",
   "metadata": {},
   "source": [
    "# Homework 3"
   ]
  },
  {
   "cell_type": "markdown",
   "id": "d3426000-becf-4899-a9a3-152f23d5e545",
   "metadata": {},
   "source": [
    "Importo los modulos necesarios"
   ]
  },
  {
   "cell_type": "code",
   "execution_count": 76,
   "id": "3666acc6-00d2-41cf-9dd6-8cb5c8081e33",
   "metadata": {},
   "outputs": [],
   "source": [
    "import requests\n",
    "import pandas as pd\n",
    "import minsearch\n",
    "import numpy as np\n",
    "\n",
    "from tqdm.auto import tqdm\n",
    "from minsearch import VectorSearch\n",
    "from sklearn.feature_extraction.text import TfidfVectorizer\n",
    "from sklearn.decomposition import TruncatedSVD\n",
    "from sklearn.pipeline import make_pipeline\n",
    "from sklearn.metrics.pairwise import cosine_similarity\n",
    "from qdrant_client import QdrantClient, models\n",
    "from fastembed import TextEmbedding\n",
    "from qdrant_client.models import Filter, FieldCondition, MatchValue\n",
    "from concurrent.futures import ThreadPoolExecutor, as_completed\n",
    "from rouge import Rouge"
   ]
  },
  {
   "cell_type": "markdown",
   "id": "407c3d36-3355-4fdf-a065-db279080072e",
   "metadata": {},
   "source": [
    "### Importo los documentos"
   ]
  },
  {
   "cell_type": "code",
   "execution_count": 2,
   "id": "32b9528c-ce3a-4c19-80eb-f01fea096e1c",
   "metadata": {},
   "outputs": [],
   "source": [
    "url_prefix = 'https://raw.githubusercontent.com/DataTalksClub/llm-zoomcamp/main/03-evaluation/'\n",
    "docs_url = url_prefix + 'search_evaluation/documents-with-ids.json'\n",
    "documents = requests.get(docs_url).json()"
   ]
  },
  {
   "cell_type": "code",
   "execution_count": 3,
   "id": "4f74a56d-6f04-4bdf-be65-3a3251878c6a",
   "metadata": {},
   "outputs": [
    {
     "data": {
      "text/plain": [
       "[{'text': \"The purpose of this document is to capture frequently asked technical questions\\nThe exact day and hour of the course will be 15th Jan 2024 at 17h00. The course will start with the first  “Office Hours'' live.1\\nSubscribe to course public Google Calendar (it works from Desktop only).\\nRegister before the course starts using this link.\\nJoin the course Telegram channel with announcements.\\nDon’t forget to register in DataTalks.Club's Slack and join the channel.\",\n",
       "  'section': 'General course-related questions',\n",
       "  'question': 'Course - When will the course start?',\n",
       "  'course': 'data-engineering-zoomcamp',\n",
       "  'id': 'c02e79ef'},\n",
       " {'text': 'GitHub - DataTalksClub data-engineering-zoomcamp#prerequisites',\n",
       "  'section': 'General course-related questions',\n",
       "  'question': 'Course - What are the prerequisites for this course?',\n",
       "  'course': 'data-engineering-zoomcamp',\n",
       "  'id': '1f6520ca'},\n",
       " {'text': \"Yes, even if you don't register, you're still eligible to submit the homeworks.\\nBe aware, however, that there will be deadlines for turning in the final projects. So don't leave everything for the last minute.\",\n",
       "  'section': 'General course-related questions',\n",
       "  'question': 'Course - Can I still join the course after the start date?',\n",
       "  'course': 'data-engineering-zoomcamp',\n",
       "  'id': '7842b56a'}]"
      ]
     },
     "execution_count": 3,
     "metadata": {},
     "output_type": "execute_result"
    }
   ],
   "source": [
    "documents[:3]"
   ]
  },
  {
   "cell_type": "markdown",
   "id": "275a0762-52d6-4a58-baf1-0ffc25a7266c",
   "metadata": {},
   "source": [
    "### Importo los datos de referencia"
   ]
  },
  {
   "cell_type": "code",
   "execution_count": 4,
   "id": "7bd6c8ab-287c-40dd-969b-1dcfde947cb6",
   "metadata": {},
   "outputs": [],
   "source": [
    "ground_truth_url = url_prefix + 'search_evaluation/ground-truth-data.csv'\n",
    "df_ground_truth = pd.read_csv(ground_truth_url)\n",
    "ground_truth = df_ground_truth.to_dict(orient='records')"
   ]
  },
  {
   "cell_type": "code",
   "execution_count": 5,
   "id": "16a50a25-a8d6-4285-b41a-b940c844098d",
   "metadata": {},
   "outputs": [
    {
     "data": {
      "text/plain": [
       "[{'question': 'When does the course begin?',\n",
       "  'course': 'data-engineering-zoomcamp',\n",
       "  'document': 'c02e79ef'},\n",
       " {'question': 'How can I get the course schedule?',\n",
       "  'course': 'data-engineering-zoomcamp',\n",
       "  'document': 'c02e79ef'},\n",
       " {'question': 'What is the link for course registration?',\n",
       "  'course': 'data-engineering-zoomcamp',\n",
       "  'document': 'c02e79ef'}]"
      ]
     },
     "execution_count": 5,
     "metadata": {},
     "output_type": "execute_result"
    }
   ],
   "source": [
    "ground_truth[:3]"
   ]
  },
  {
   "cell_type": "markdown",
   "id": "66a2fe99-08e5-4f7d-90a3-45d21e1926e3",
   "metadata": {},
   "source": [
    "### Creo funcionaes para calcular metricas de evaluacion y la evaluacion generica"
   ]
  },
  {
   "cell_type": "code",
   "execution_count": 6,
   "id": "aff93a57-477f-4fed-bc91-1165cfb0c009",
   "metadata": {},
   "outputs": [],
   "source": [
    "def hit_rate(relevance_total):\n",
    "    cnt = 0\n",
    "\n",
    "    for line in relevance_total:\n",
    "        if True in line:\n",
    "            cnt = cnt + 1\n",
    "            \n",
    "    return cnt / len(relevance_total)\n",
    "\n",
    "def mrr(relevance_total):\n",
    "    total_score = 0.0\n",
    "\n",
    "    for line in relevance_total:\n",
    "        for rank in range(len(line)):\n",
    "            if line[rank] == True:\n",
    "                total_score = total_score + 1 / (rank + 1)\n",
    "\n",
    "    return total_score / len(relevance_total)\n",
    "\n",
    "def evaluate(ground_truth, search_function):\n",
    "    relevance_total = []\n",
    "\n",
    "    for q in tqdm(ground_truth):\n",
    "        doc_id = q['document']\n",
    "        results = search_function(q)\n",
    "        relevance = [d['id'] == doc_id for d in results]\n",
    "        relevance_total.append(relevance)\n",
    "\n",
    "    return {\n",
    "        'HIT_RATE': f\"{hit_rate(relevance_total):.4f}\",\n",
    "        'MRR': f\"{mrr(relevance_total):.4f}\",\n",
    "    }"
   ]
  },
  {
   "cell_type": "markdown",
   "id": "9d9c9130-5285-4495-9f8c-b2b9def0b576",
   "metadata": {},
   "source": [
    "## Q1. Minsearch text"
   ]
  },
  {
   "cell_type": "markdown",
   "id": "e2825907-2946-4902-a984-ff5619c386f5",
   "metadata": {},
   "source": [
    "### Indexo los documentos en minsearch"
   ]
  },
  {
   "cell_type": "code",
   "execution_count": 7,
   "id": "de32e61d-c119-4c44-aff5-3f5924153488",
   "metadata": {},
   "outputs": [
    {
     "data": {
      "text/plain": [
       "<minsearch.minsearch.Index at 0x7f4b50cbe120>"
      ]
     },
     "execution_count": 7,
     "metadata": {},
     "output_type": "execute_result"
    }
   ],
   "source": [
    "index = minsearch.Index(\n",
    "    text_fields=[\"question\", \"text\", \"section\"],\n",
    "    keyword_fields=[\"course\", \"id\"]\n",
    ")\n",
    "\n",
    "index.fit(documents)"
   ]
  },
  {
   "cell_type": "markdown",
   "id": "b045750e-27b4-427f-9b78-5624652971bc",
   "metadata": {},
   "source": [
    "### Función de busqueda con minsearch"
   ]
  },
  {
   "cell_type": "code",
   "execution_count": 8,
   "id": "75814bb7-f1de-4027-ab4a-25837c698220",
   "metadata": {},
   "outputs": [],
   "source": [
    "def minsearch_search(query, course):\n",
    "    boost = {'question': 1.5, 'section': 0.1}\n",
    "\n",
    "    results = index.search(\n",
    "        query=query,\n",
    "        filter_dict={'course': course},\n",
    "        boost_dict=boost,\n",
    "        num_results=5\n",
    "    )\n",
    "\n",
    "    return results"
   ]
  },
  {
   "cell_type": "markdown",
   "id": "07e2d63f-7394-4eed-84c0-21c0006b6d99",
   "metadata": {},
   "source": [
    "### Evaluación"
   ]
  },
  {
   "cell_type": "code",
   "execution_count": 9,
   "id": "e0db7c33-fa64-46eb-96c0-55ee47599d4d",
   "metadata": {},
   "outputs": [
    {
     "data": {
      "application/vnd.jupyter.widget-view+json": {
       "model_id": "fa8a36252a814f8da2fbafe26a4148f7",
       "version_major": 2,
       "version_minor": 0
      },
      "text/plain": [
       "  0%|          | 0/4627 [00:00<?, ?it/s]"
      ]
     },
     "metadata": {},
     "output_type": "display_data"
    },
    {
     "data": {
      "text/plain": [
       "{'HIT_RATE': '0.8487', 'MRR': '0.7288'}"
      ]
     },
     "execution_count": 9,
     "metadata": {},
     "output_type": "execute_result"
    }
   ],
   "source": [
    "evaluate(ground_truth, lambda q: minsearch_search(q['question'], q['course']))"
   ]
  },
  {
   "cell_type": "markdown",
   "id": "a7e7ae85-f62f-4734-80cc-f3753db99845",
   "metadata": {},
   "source": [
    "## Q2. Vector search for question\n",
    "\n",
    "Si querés entender cómo funciona la búsqueda vectorial en MinSearch, podés revisar la explicación paso a paso en su repositorio oficial:  \n",
    "[Vector Search en MinSearch](https://github.com/alexeygrigorev/minsearch?tab=readme-ov-file#vector-search-with-vectorsearch)\n",
    "\n",
    "\n",
    "Uso el campo question"
   ]
  },
  {
   "cell_type": "code",
   "execution_count": 10,
   "id": "2776fbc6-6ece-4b75-ab1b-937d81ce1983",
   "metadata": {},
   "outputs": [],
   "source": [
    "texts = []\n",
    "\n",
    "for doc in documents:\n",
    "    t = doc['question']\n",
    "    texts.append(t)"
   ]
  },
  {
   "cell_type": "code",
   "execution_count": 11,
   "id": "f84c16d1-2b65-4d46-8fd2-77799a154943",
   "metadata": {},
   "outputs": [
    {
     "data": {
      "text/plain": [
       "['Course - When will the course start?',\n",
       " 'Course - What are the prerequisites for this course?',\n",
       " 'Course - Can I still join the course after the start date?']"
      ]
     },
     "execution_count": 11,
     "metadata": {},
     "output_type": "execute_result"
    }
   ],
   "source": [
    "texts[:3]"
   ]
  },
  {
   "cell_type": "markdown",
   "id": "bc894137-ae4f-49ff-9d27-9635a94e76a8",
   "metadata": {},
   "source": [
    "### Convierte text a vector"
   ]
  },
  {
   "cell_type": "code",
   "execution_count": 12,
   "id": "7bc5524b-ad17-4300-8444-eda169454702",
   "metadata": {},
   "outputs": [],
   "source": [
    "#Crea un pipeline de procesamiento de texto\n",
    "pipeline = make_pipeline(\n",
    "    TfidfVectorizer(min_df=3),\n",
    "    TruncatedSVD(n_components=128, random_state=1)\n",
    ")\n",
    "\n",
    "#Aplica el pipeline a los textos\n",
    "X = pipeline.fit_transform(texts)"
   ]
  },
  {
   "cell_type": "code",
   "execution_count": 13,
   "id": "2a8795b9-013b-4e0f-8594-7f7d9fbd9ce8",
   "metadata": {},
   "outputs": [
    {
     "data": {
      "text/plain": [
       "(128,\n",
       " array([ 0.20189188, -0.19028114, -0.10261914,  0.16435334, -0.14004852,\n",
       "        -0.19928493,  0.0326298 ,  0.03152187,  0.11015991, -0.25056714,\n",
       "        -0.2297715 , -0.08275686,  0.0107985 ,  0.01912367, -0.03904959,\n",
       "         0.04858485, -0.03590806,  0.00200877, -0.20405168, -0.01187959,\n",
       "         0.07217801,  0.21314061,  0.0352884 ,  0.09334844,  0.00800627,\n",
       "         0.02730576, -0.05747045, -0.08794382,  0.04599191,  0.09568683,\n",
       "         0.10378307, -0.12981451, -0.03935688,  0.03076194,  0.02946738,\n",
       "        -0.02071025,  0.09501766,  0.05341492, -0.02582382,  0.08743149,\n",
       "        -0.03647388, -0.168532  , -0.08957893,  0.03547496,  0.11095151,\n",
       "         0.13033041, -0.07362053,  0.13634367,  0.09826041, -0.05042163,\n",
       "         0.10989516,  0.00500543, -0.06848177,  0.0502295 ,  0.06014098,\n",
       "         0.11383368,  0.05322441, -0.02371468, -0.0975518 ,  0.02646635,\n",
       "         0.00609063, -0.00198324,  0.11985142,  0.08729537,  0.08522016,\n",
       "         0.01295767,  0.03040857,  0.04797036, -0.00390723, -0.06833158,\n",
       "        -0.0318192 ,  0.03112586, -0.05103965, -0.0165415 , -0.04926851,\n",
       "         0.00076799, -0.01028737, -0.0052654 ,  0.03819836, -0.00972986,\n",
       "         0.00523732, -0.10610091, -0.02451497,  0.09592499,  0.03649213,\n",
       "        -0.08849541, -0.02991418,  0.07982561, -0.06038259,  0.05860238,\n",
       "        -0.02701482, -0.02058   ,  0.02286897,  0.02155595,  0.04215206,\n",
       "         0.0797413 , -0.00167396, -0.02492323,  0.04625986,  0.01015754,\n",
       "         0.10850034, -0.00560345,  0.03576559,  0.03552254,  0.06774638,\n",
       "        -0.05518793, -0.01714468,  0.02541738, -0.05662857,  0.04905575,\n",
       "        -0.00334953, -0.01905472, -0.0130353 ,  0.03920481, -0.0080335 ,\n",
       "        -0.05100861, -0.03651024, -0.04072914, -0.02029852, -0.00928575,\n",
       "         0.01093422,  0.0007709 ,  0.02074143, -0.04672382,  0.05135447,\n",
       "         0.03719206,  0.02850986, -0.04641277]))"
      ]
     },
     "execution_count": 13,
     "metadata": {},
     "output_type": "execute_result"
    }
   ],
   "source": [
    "len(X[0]), X[0]"
   ]
  },
  {
   "cell_type": "markdown",
   "id": "e638b32e-3a7f-4071-b63f-9e2467fc8a75",
   "metadata": {},
   "source": [
    "### Indexamos el vector"
   ]
  },
  {
   "cell_type": "code",
   "execution_count": 14,
   "id": "a5edd4ee-f786-4641-88cd-ec8fea499f2f",
   "metadata": {},
   "outputs": [
    {
     "data": {
      "text/plain": [
       "<minsearch.vector.VectorSearch at 0x7f4b50a14d70>"
      ]
     },
     "execution_count": 14,
     "metadata": {},
     "output_type": "execute_result"
    }
   ],
   "source": [
    "vindex = VectorSearch(keyword_fields={'course'})\n",
    "vindex.fit(X, documents)"
   ]
  },
  {
   "cell_type": "markdown",
   "id": "aeabbbd5-2cf1-4c48-af6e-752e03cb7e2d",
   "metadata": {},
   "source": [
    "### Función de busqueda con minsearch"
   ]
  },
  {
   "cell_type": "code",
   "execution_count": 15,
   "id": "9d2c910a-f69c-4ab6-b6c1-27576e2e04e4",
   "metadata": {},
   "outputs": [],
   "source": [
    "def minsearch_search_vector(query, course):\n",
    "\n",
    "    query_vector = pipeline.transform([query])[0]\n",
    "    \n",
    "    results = vindex.search(\n",
    "        query_vector = query_vector,\n",
    "        filter_dict={'course': course},\n",
    "        num_results=5\n",
    "    )\n",
    "\n",
    "    return results"
   ]
  },
  {
   "cell_type": "markdown",
   "id": "25e7e022-dacf-4acb-a3d1-63c83fc17567",
   "metadata": {},
   "source": [
    "### Evaluación"
   ]
  },
  {
   "cell_type": "code",
   "execution_count": 16,
   "id": "454140e6-f227-4953-9849-ceca0a8627ec",
   "metadata": {},
   "outputs": [
    {
     "data": {
      "application/vnd.jupyter.widget-view+json": {
       "model_id": "3d5571aee1a549af9824bd1b65143bcb",
       "version_major": 2,
       "version_minor": 0
      },
      "text/plain": [
       "  0%|          | 0/4627 [00:00<?, ?it/s]"
      ]
     },
     "metadata": {},
     "output_type": "display_data"
    },
    {
     "data": {
      "text/plain": [
       "{'HIT_RATE': '0.4817', 'MRR': '0.3573'}"
      ]
     },
     "execution_count": 16,
     "metadata": {},
     "output_type": "execute_result"
    }
   ],
   "source": [
    "evaluate(ground_truth, lambda q: minsearch_search_vector(q['question'], q['course']))"
   ]
  },
  {
   "cell_type": "markdown",
   "id": "eb90bc34-95e6-4603-a33b-7e8e43b433df",
   "metadata": {},
   "source": [
    "## Q3. Vector search for question and answer\n",
    "\n",
    "Uso el campo question + text"
   ]
  },
  {
   "cell_type": "code",
   "execution_count": 17,
   "id": "5e17baaa-57b6-4f02-8af4-1d051c20ec0b",
   "metadata": {},
   "outputs": [],
   "source": [
    "texts = []\n",
    "\n",
    "for doc in documents:\n",
    "    t = doc['question'] + ' ' + doc['text']\n",
    "    texts.append(t)"
   ]
  },
  {
   "cell_type": "code",
   "execution_count": 18,
   "id": "21288a96-522e-4631-9ab3-4491771179e8",
   "metadata": {},
   "outputs": [
    {
     "data": {
      "text/plain": [
       "[\"Course - When will the course start? The purpose of this document is to capture frequently asked technical questions\\nThe exact day and hour of the course will be 15th Jan 2024 at 17h00. The course will start with the first  “Office Hours'' live.1\\nSubscribe to course public Google Calendar (it works from Desktop only).\\nRegister before the course starts using this link.\\nJoin the course Telegram channel with announcements.\\nDon’t forget to register in DataTalks.Club's Slack and join the channel.\",\n",
       " 'Course - What are the prerequisites for this course? GitHub - DataTalksClub data-engineering-zoomcamp#prerequisites',\n",
       " \"Course - Can I still join the course after the start date? Yes, even if you don't register, you're still eligible to submit the homeworks.\\nBe aware, however, that there will be deadlines for turning in the final projects. So don't leave everything for the last minute.\"]"
      ]
     },
     "execution_count": 18,
     "metadata": {},
     "output_type": "execute_result"
    }
   ],
   "source": [
    "texts[:3]"
   ]
  },
  {
   "cell_type": "markdown",
   "id": "873f7425-74ac-4cb6-97f5-c3a8b52b36b4",
   "metadata": {},
   "source": [
    "### Convierte text a vector"
   ]
  },
  {
   "cell_type": "code",
   "execution_count": 19,
   "id": "dab04be3-c133-4ab6-9ffa-59624ae49d73",
   "metadata": {},
   "outputs": [],
   "source": [
    "pipeline = make_pipeline(\n",
    "    TfidfVectorizer(min_df=3),\n",
    "    TruncatedSVD(n_components=128, random_state=1)\n",
    ")\n",
    "\n",
    "X = pipeline.fit_transform(texts)"
   ]
  },
  {
   "cell_type": "code",
   "execution_count": 20,
   "id": "f1f35c04-cc47-41dd-b624-f514b60fe81d",
   "metadata": {},
   "outputs": [
    {
     "data": {
      "text/plain": [
       "(128,\n",
       " array([ 2.76527456e-01, -1.24063382e-01,  8.16530833e-02, -1.15718482e-01,\n",
       "        -1.37804071e-01,  3.97703394e-02,  1.41970632e-01, -6.77654722e-02,\n",
       "         8.82482169e-02, -6.79080171e-02,  1.61867861e-01, -1.30106865e-01,\n",
       "        -2.58860109e-02,  1.46951057e-01, -3.23798270e-02, -8.83040051e-02,\n",
       "         3.21253737e-02,  1.08838951e-01,  4.50712481e-03,  4.19611654e-02,\n",
       "        -1.10769504e-02, -1.19974564e-01,  2.56378554e-03, -1.54568571e-02,\n",
       "        -1.20440912e-01, -9.67282965e-02, -5.39131813e-02, -3.34985780e-02,\n",
       "        -1.10056124e-01, -1.09819939e-01, -9.41857147e-02,  9.34912797e-02,\n",
       "         7.11736963e-02,  3.26605888e-03,  2.90518628e-02, -3.23659350e-02,\n",
       "        -1.01783460e-01, -2.36213463e-02, -5.20522327e-03,  5.13331133e-03,\n",
       "        -4.43239513e-02, -1.70147597e-02, -4.23541170e-03,  9.59709639e-02,\n",
       "         7.01681493e-02, -5.44835979e-02, -3.72399321e-02, -1.61973314e-02,\n",
       "        -7.61884961e-03, -7.43949287e-02, -1.37833494e-01,  2.45833191e-02,\n",
       "        -8.61653215e-03, -4.61623683e-02,  4.12469367e-02,  7.15306539e-02,\n",
       "         1.08961132e-01, -5.14631513e-02,  8.67512967e-03, -2.36158559e-04,\n",
       "        -1.02309079e-02,  7.95356517e-02, -1.31874039e-02, -1.32251947e-01,\n",
       "        -4.01691047e-02,  3.21564498e-02,  1.85139978e-02,  5.33904375e-03,\n",
       "        -6.69107060e-02, -7.66969580e-02,  2.16723919e-02,  8.46076590e-02,\n",
       "        -3.27094688e-02,  3.71444684e-03,  4.19978063e-03, -6.69842349e-03,\n",
       "        -1.85405221e-02, -2.62835969e-02, -6.50134083e-02, -1.80963853e-02,\n",
       "         7.41399930e-02, -4.57861336e-03, -1.04021683e-02,  2.14420742e-02,\n",
       "        -1.12778371e-01,  3.37079855e-02,  2.91190020e-02,  1.44020998e-02,\n",
       "         6.36683892e-03,  6.91302543e-02, -1.08338821e-02,  2.68582972e-02,\n",
       "        -3.63585622e-02,  2.63152650e-02,  5.21410147e-02,  9.91703586e-02,\n",
       "        -1.94906035e-03,  9.46861758e-02,  4.89714726e-02, -2.52030032e-02,\n",
       "        -6.61554991e-02,  3.12117362e-02, -8.79568910e-03,  6.26713620e-04,\n",
       "         7.45722538e-02,  3.67779918e-04, -1.31023734e-03,  3.47348237e-02,\n",
       "         2.53818857e-02,  6.98979242e-02,  5.60995644e-02,  9.93773866e-04,\n",
       "         1.24997355e-02, -4.24320768e-02, -1.70857034e-02,  1.74029992e-02,\n",
       "        -4.84984434e-02, -3.61405411e-02, -4.28874593e-02, -1.09091604e-02,\n",
       "         2.32260468e-02,  1.80165408e-02,  3.99468260e-02,  1.14049396e-02,\n",
       "        -5.81885867e-02,  3.23232723e-02, -1.84830226e-02,  1.79204194e-02]))"
      ]
     },
     "execution_count": 20,
     "metadata": {},
     "output_type": "execute_result"
    }
   ],
   "source": [
    "len(X[0]), X[0]"
   ]
  },
  {
   "cell_type": "markdown",
   "id": "32f37d25-3b06-4388-b6b8-7a6cc8ae9321",
   "metadata": {},
   "source": [
    "### Indexamos el vector"
   ]
  },
  {
   "cell_type": "code",
   "execution_count": 21,
   "id": "fca72a37-cc6c-4322-8f9d-bc3361318818",
   "metadata": {},
   "outputs": [
    {
     "data": {
      "text/plain": [
       "<minsearch.vector.VectorSearch at 0x7f4b5006e0d0>"
      ]
     },
     "execution_count": 21,
     "metadata": {},
     "output_type": "execute_result"
    }
   ],
   "source": [
    "vindex = VectorSearch(keyword_fields={'course'})\n",
    "vindex.fit(X, documents)"
   ]
  },
  {
   "cell_type": "markdown",
   "id": "163b1044-4972-4ffa-90f9-0f01133fb52d",
   "metadata": {},
   "source": [
    "### Evaluación"
   ]
  },
  {
   "cell_type": "code",
   "execution_count": 22,
   "id": "a87ea835-daa2-4f5c-bd65-cfa56825bfb1",
   "metadata": {},
   "outputs": [
    {
     "data": {
      "application/vnd.jupyter.widget-view+json": {
       "model_id": "87af383e78234b75af45f741b56ca51b",
       "version_major": 2,
       "version_minor": 0
      },
      "text/plain": [
       "  0%|          | 0/4627 [00:00<?, ?it/s]"
      ]
     },
     "metadata": {},
     "output_type": "display_data"
    },
    {
     "data": {
      "text/plain": [
       "{'HIT_RATE': '0.8211', 'MRR': '0.6717'}"
      ]
     },
     "execution_count": 22,
     "metadata": {},
     "output_type": "execute_result"
    }
   ],
   "source": [
    "evaluate(ground_truth, lambda q: minsearch_search_vector(q['question'], q['course']))"
   ]
  },
  {
   "cell_type": "markdown",
   "id": "474b98d1-92b5-4f5c-8e5f-fb4fb6971531",
   "metadata": {},
   "source": [
    "## Q4. Qdrant"
   ]
  },
  {
   "cell_type": "markdown",
   "id": "9a283942-c3af-42c8-bad8-3ede07ef9e16",
   "metadata": {},
   "source": [
    "### Ejecutamos la instancia de Qdrant en un contenedor Docker\n",
    "\n",
    "Descargar la imagen y lanzar el contenedor usando los siguientes comandos:\n",
    "\n",
    "```bash\n",
    "docker pull qdrant/qdrant\n",
    "\n",
    "docker run -p 6333:6333 -p 6334:6334 \\\n",
    "   -v \"$(pwd)/qdrant_storage:/qdrant/storage:z\" \\\n",
    "   qdrant/qdrant\n",
    "```"
   ]
  },
  {
   "cell_type": "code",
   "execution_count": 23,
   "id": "629ca05d-b19c-404e-8d14-1f66d730aaaa",
   "metadata": {},
   "outputs": [],
   "source": [
    "client = QdrantClient(\"http://localhost\", port=6333)"
   ]
  },
  {
   "cell_type": "code",
   "execution_count": 24,
   "id": "1b4e255f-7c9b-4202-a39b-eeb1d84b5c6f",
   "metadata": {},
   "outputs": [],
   "source": [
    "COLLECTION_NAME = \"zoomcamp-llm-hw3\"\n",
    "MODEL_SELECT = 'jinaai/jina-embeddings-v2-small-en'"
   ]
  },
  {
   "cell_type": "markdown",
   "id": "b9e090dd-c55c-44ff-b0ff-206d30378f1e",
   "metadata": {},
   "source": [
    "### Función para convertir text a vector"
   ]
  },
  {
   "cell_type": "code",
   "execution_count": 25,
   "id": "3ff021ae-2dd9-49f3-ace0-a23b8742f16d",
   "metadata": {},
   "outputs": [],
   "source": [
    "embedding_model = TextEmbedding(model_name=MODEL_SELECT)"
   ]
  },
  {
   "cell_type": "code",
   "execution_count": 26,
   "id": "1ed6e553-02a9-4312-bb47-2b5a0ccaf1fd",
   "metadata": {},
   "outputs": [],
   "source": [
    "def embed_data(text):\n",
    "    if type(text) == str:\n",
    "        text = [text]\n",
    "    \n",
    "    result_embed = embedding_model.embed(text)    \n",
    "    return list(result_embed)[0]"
   ]
  },
  {
   "cell_type": "code",
   "execution_count": 27,
   "id": "7eac7c8f-570b-4784-a8c9-223306776191",
   "metadata": {},
   "outputs": [],
   "source": [
    "result = embed_data(\"run docker in WSL\")"
   ]
  },
  {
   "cell_type": "code",
   "execution_count": 28,
   "id": "82179bc5-8eb7-4e6a-a24d-38297cb6f195",
   "metadata": {},
   "outputs": [
    {
     "data": {
      "text/plain": [
       "512"
      ]
     },
     "execution_count": 28,
     "metadata": {},
     "output_type": "execute_result"
    }
   ],
   "source": [
    "SIZE_MODEL_SELECT = len(result)\n",
    "SIZE_MODEL_SELECT"
   ]
  },
  {
   "cell_type": "markdown",
   "id": "470e27ca-8538-4d7a-ae83-bd8baf4c9e44",
   "metadata": {},
   "source": [
    "### Creamos la colección"
   ]
  },
  {
   "cell_type": "code",
   "execution_count": 30,
   "id": "4029c1a1-8b34-4a32-8d3f-9c6010dc1cdb",
   "metadata": {},
   "outputs": [
    {
     "name": "stdout",
     "output_type": "stream",
     "text": [
      "Colección 'zoomcamp-llm-hw3' creada exitosamente.\n"
     ]
    }
   ],
   "source": [
    "if client.collection_exists(COLLECTION_NAME):\n",
    "    client.delete_collection(COLLECTION_NAME)\n",
    "    \n",
    "client.create_collection(\n",
    "    collection_name=COLLECTION_NAME,\n",
    "    vectors_config=models.VectorParams(\n",
    "        size=SIZE_MODEL_SELECT, \n",
    "        distance=models.Distance.COSINE\n",
    "    ),\n",
    "    timeout=60\n",
    ")\n",
    "\n",
    "print(f\"Colección '{COLLECTION_NAME}' creada exitosamente.\")"
   ]
  },
  {
   "cell_type": "markdown",
   "id": "8712a861-e890-4a24-936f-40883fbe6fde",
   "metadata": {},
   "source": [
    "### Creamos los puntos de vectores para luego insertar"
   ]
  },
  {
   "cell_type": "code",
   "execution_count": 34,
   "id": "b20930f5-2d32-4da3-8315-85d8d6e678b5",
   "metadata": {},
   "outputs": [
    {
     "data": {
      "application/vnd.jupyter.widget-view+json": {
       "model_id": "217a04d8a3e14956a9b745f089f49256",
       "version_major": 2,
       "version_minor": 0
      },
      "text/plain": [
       "Generando points:   0%|          | 0/948 [00:00<?, ?it/s]"
      ]
     },
     "metadata": {},
     "output_type": "display_data"
    }
   ],
   "source": [
    "def create_point(doc_id, doc):\n",
    "    vector = embed_data(f\"{doc['question']} {doc['text']}\")\n",
    "    return models.PointStruct(\n",
    "        id=doc_id,\n",
    "        vector=vector,\n",
    "        payload={\n",
    "            \"question\": doc['question'],\n",
    "            \"text\": doc['text'],\n",
    "            \"section\": doc['section'],\n",
    "            \"course\": doc['course'],\n",
    "            \"id\": doc['id']\n",
    "        }\n",
    "    )\n",
    "\n",
    "points = []\n",
    "\n",
    "# Ejecutar en paralelo\n",
    "with ThreadPoolExecutor(max_workers=8) as executor:\n",
    "    # Enviar tareas al pool\n",
    "    futures = {\n",
    "        executor.submit(create_point, idx, doc): idx\n",
    "        for idx, doc in enumerate(documents, 1)\n",
    "    }\n",
    "\n",
    "    # Recolectar resultados con tqdm\n",
    "    for future in tqdm(as_completed(futures), total=len(futures), desc=\"Generando points\"):\n",
    "        point = future.result()\n",
    "        points.append(point)\n",
    "        "
   ]
  },
  {
   "cell_type": "code",
   "execution_count": 35,
   "id": "ec5f23ac-7e11-4e3c-ba71-72b4098684aa",
   "metadata": {},
   "outputs": [
    {
     "data": {
      "text/plain": [
       "[PointStruct(id=10, vector=[-0.05681010047071733, -0.06062142031408796, 0.04059363242098396, 0.081996557562762, -0.017428903265783724, -0.02353864677905906, 0.0016774317585954144, 0.015592863453119147, 0.0011412596340648563, 0.008303913626188668, 0.030288560277769806, 0.009150497376839163, -0.02390912604626786, -0.08501716190958854, 0.07569358725999936, -0.06394870104846918, -0.011110742239109236, -0.047765384584131015, -0.05610437724673457, -0.05965616854206685, -0.019541769049176837, -0.028122269292226276, 0.01800579682417359, -0.019146102939885456, 0.0969808054673193, -0.08120651312012883, -0.010541368126525627, 0.008038470905383616, 0.02812608147040058, 0.03313339264587312, -0.10253499661013812, 0.012825846940989226, 0.009104925471710414, 0.0216640471098591, -0.07317648335589157, -0.0048879360337300785, 0.04395219725504, -0.0027838544051711515, -0.08843268983011893, -0.020972566593370715, -0.00938737477724015, -0.004728647489423212, 0.0947695923439483, 0.07074143259742238, -0.05266539700398401, 0.019136959549247136, -0.05769666676619908, 0.02010216917876125, 0.09156153892950086, -0.008423476730625249, -0.07528873150198236, 0.02877514520158505, -0.05321005434726716, 0.033433390507838806, 0.009894128131148672, 0.029236955892568244, -0.005395261807655416, 0.046560547361937245, -0.04450196947259046, 0.007881717196168111, -0.0016918723959946605, -0.010113525276663283, -0.030673420820179324, 0.03156820824099026, -0.041104899119048126, -0.04827789515137394, -0.02429643558104645, -0.04352650375172167, -0.06462555512593214, -0.01387585763682735, -0.0998576234940002, 0.020605475615612708, 0.04940035532606439, -0.06912555667168434, -0.007892622866905131, -0.004388495878626951, 0.01717977993909384, 0.053035907439854334, -0.015905395218104988, -0.0471869723957619, -0.04769244657450715, -0.015834604555474318, -0.03627811185777506, 0.025927263077689604, 0.010482519337064084, -0.045042538022558115, 0.04267359190342675, -0.005045738510839705, 0.04417894691272908, 0.013705003736192474, 0.06810173811079974, 0.03642698637701541, 0.02499308196979551, -0.0719165990222451, -0.0015621692033994576, -0.08641168510789494, 0.05243097677586209, 0.02450931908095514, 0.007491597278101743, 0.022649298543867453, 0.08219860559079165, 0.029749385208419916, 0.08247964423432062, -0.05077153548711482, -0.025882805111057408, 0.029047884884066393, -0.109022653449785, 0.0076417252405513135, -0.08009041213305652, -0.009291644536332936, 0.002311745181105482, 0.0099018847337758, -0.03297203767231758, -0.022802949107601736, -0.01850489315282648, 0.05960323541215778, 0.04133097850815148, -0.051422712381385995, -0.0878283630868987, -0.014070929821463619, 0.08138533873519639, -0.03208011934574766, -0.043749199332438767, 0.04313030863660889, 0.01817355156962825, 0.06705440626947959, -0.006465936718069047, -0.010158136044956322, -0.015392423628215147, 0.04310677174568445, 0.025850764838987975, 0.05527576537075679, -0.025255063590063086, 0.046997239617477087, 0.07871172700475958, -0.018036250776615588, 0.024037125611219415, -0.023985065492700318, -0.03140379017198556, 0.10021223945311512, -0.05281123535350639, -0.04191843903381966, 0.04423128562083256, -0.02928966187350532, 0.00828666033908522, 0.01818719102519712, 0.059376550424989294, -0.07020243409319757, -0.10311522499167261, 0.005745865235157924, 0.00817554959786946, 0.0619579188453702, -0.09757588369917954, -0.008049597744817952, -0.034308160301507344, 0.04882607748763753, -0.07808648828462902, 0.030106893479343293, 0.07601462627943482, -0.0024388208578115284, -0.009764950758553333, 0.08022154640351922, 0.02361503662631746, -0.06863682632711023, -0.01539217469514009, -0.010605007101511509, 0.05196896735463603, 0.10635255958693902, -0.049846933259342203, -0.03210423448450593, 0.05659153503169691, 0.02487367522919689, -0.04170051845808891, -0.03189393053818648, -0.11478645908448576, -0.005532973575528879, -0.02466786201360176, 0.05282192837453848, -0.0381000545644113, -0.024910415431855668, 0.010185521742460964, -0.04629230446448358, -0.024535293933199222, 0.01718855139826872, 0.03689899277576608, -0.033584262409832345, 0.049347917053531504, 0.018795648378099505, 0.038160287170383285, -0.00390237804023943, 0.003966105689156242, 0.01791246972807083, 0.01079358304867004, -0.03534830696290076, -0.020007715267831235, -0.013161197998104873, 0.032788081366729956, 0.04642057505308163, -0.048389411598731176, 0.018061230891287423, 0.01579349966419713, 0.05065319329960212, -0.06698576725061149, 0.03311705123469752, -0.043604918397192625, 0.033979321459121636, -0.011890067753779364, 0.012097548416149245, -0.010189254968274478, -0.02745112620935435, 0.022827021614642538, -0.004439233350842214, 0.0631683496226473, -0.002932642682555571, -0.005686692265059329, 0.00829280336917803, -0.061059409034369835, -0.07743447969318196, 0.04739287183923552, -0.019740041511131054, -0.039818599261925866, -0.002159761755089166, -0.0012960548695857728, 0.0032596597475287666, 0.00022947428004849093, -0.02763583389255612, -0.0021310268836477685, 0.014278740469509516, -0.03987976248809384, -0.06069633580310451, 0.03505871994742763, -0.044746699766738014, -0.08757624488606836, 0.0699947895095936, 0.001566764779438063, 0.003176192271069585, -0.07479627439435003, 0.027785965813210346, -0.03057250726885764, -0.01713205011717806, -0.04584379982254359, 0.01830745223895543, 0.042482877357342165, 0.01191582964234375, -0.06129670260225153, 0.07389045955772437, 0.0741944807530183, -0.03888152748845543, 0.027086025480677005, 0.04611680515615667, -0.025923404841771348, -0.02839469415145068, -0.028377274356768595, -0.07266412462716017, -0.021813882564815288, -0.00197794078909506, 0.0009527407122835316, 0.0637492209437612, -0.020202843272678555, -0.04544491442247092, 0.01235937682500984, 0.05777201048057011, -0.008478998575301797, 0.06142956841900516, 0.043322234073131884, -0.044658933450168824, -0.030849188162015397, 0.016369527246509773, 0.08615409937467407, -0.009210616657848385, 0.02321046109324562, 0.022664133584316296, 0.04809003972740164, -0.055884426251788626, -0.0957902883068931, 0.022813337393984317, 0.07343010755057541, 0.08524024166911486, 0.06780900771551815, -0.026492372533552012, -0.03990507327178333, 0.009296287948356794, 0.019484843667630293, -0.007453228899069594, 0.014396745270549214, 0.023812916335595662, 0.07723897094642325, 0.04195429857062677, 0.02883578617458943, 0.008485188134747822, 0.023092076449509998, -0.053444157663281, 0.05681681369763707, -0.011342031744255774, -0.022633811799465, 0.05604778972792944, 0.07769325812261134, 0.04512934843943225, -0.029402172160513548, -0.0003343815796293545, -0.003692448751502398, 0.04581541309244073, -0.0614476089239562, -0.04777107973969121, -0.021030364152837516, -0.019577448571018972, 0.045713886484794096, -0.020239356615750163, -0.015039674730320524, -0.020784191585926343, -0.017461060499021713, -0.06448780443942292, 0.010788107689429376, -0.06273425479215121, 0.07021494737897227, 0.041127432889299737, 0.10348187788531998, -0.048150451500373746, -0.049536234464076574, 0.007193555369749529, -0.022365416008461748, -0.023002343332831923, 0.0368487535483861, -0.01149247367526756, 0.05108907137636074, 0.010465868231188167, -0.013944133238047567, -0.017382480569774875, 0.01649943613218497, -0.05759184967340867, -0.022595518039268767, 0.020113244101832475, -0.03486611816497864, -0.04680167221722794, 0.025608966995722442, 0.023532292120132314, -0.02975304694427391, -0.061273074648806526, 0.011547375066704798, -0.06536773594318036, -0.01010176390999919, -0.030191194607749588, -0.0044380191337724684, 0.0661173692573911, -0.0019596617686639776, 0.0022710437432719526, 0.016564237786044957, -0.05874689876740284, -0.040309041657364646, -0.040182768339182565, 0.027755590047475902, -0.0291785702710322, -0.023009570273215534, 0.004284294123073044, -0.08521015392980924, 0.00558831708745155, -0.0249895805189698, -0.04214310962406358, 0.021344486261918882, 0.08957207944388716, -0.0343067446371352, -0.05047649227651014, 0.02727645464258708, 0.05475378156386785, 0.023186685865182945, -0.057387898574642944, -0.019369370248735963, 0.0006170095484536001, 0.069438377294498, 0.053896661950407876, 0.09102630502475359, 0.0080904191228272, 0.019777129621653303, -0.01210179594558532, 0.07830560882897988, -0.03695215354126924, 0.05109830883829355, -0.04866097584093337, -0.03426224419564349, -0.012434700931099708, -0.0073944182597432935, 0.046845245154975665, -0.02562473823284918, -0.060054066163521776, -0.004094629918639078, 0.013430157045875978, -0.003640851384691625, 0.016555680341705223, 0.023606701126681943, 0.014630423789305777, -0.011745588436691044, -0.053507317376610485, -0.016032295961164112, 0.0046363696923573845, 0.07042827724488515, -0.005949430930276323, 0.011952065248972658, 0.10841914117524852, -0.009493581332392417, 0.058245996120388915, 0.01764850454718769, 0.0017081303882400523, 0.01690265228028058, -0.041622675690879456, 0.027407351938453353, -0.04083082815401534, -0.03905735827183252, 0.03913745829351324, -0.025697034104784668, 0.0562369106239945, 0.11626243873451422, 0.02847023884979778, -0.044606681578480266, 0.018676983641945588, 0.005201993695412241, -0.022002547500138366, 0.007267922203766551, -0.06732401562656615, 0.00446234971979491, 0.015818077724463777, 0.032329125254672526, 0.013719414793181813, 0.010789021301666197, -0.019868759734056784, 0.03843897005367344, 0.009635881358077943, 0.04569944213146587, 0.009155373058755824, 0.06091498044349128, 0.05250652876241011, -0.007026518615493263, -0.03485563276798435, -0.033856097812349356, 0.009453801069627494, 0.0018004529581604786, 0.007600937939805857, 0.037477803567147444, -0.09744699522893277, 0.03750781871486399, -0.04025624746685834, 0.08320091242444859, -0.1117339813893856, 0.011911526091317917, -0.03035545036499684, 0.050137680526791274, 0.07995748739154654, 0.034016552648958066, -0.026142339447827682, 0.008264478862507947, 0.03674882054727363, 0.028253422546126696, 0.038555630009383265, 0.02602692591632134, 0.03669550995911679, -0.019779812946882164, -0.003914644165485871, -0.00041563507681478763, -0.07687531453483992, -0.009348418439675371, 0.034330883129611564, 0.004210812722768652, -0.017073670909735102, -0.051986917741320395, 0.03259338276289534, 0.008628997633634668, -0.037487058669648125, 0.03996994717245547, 0.0017412759208849421, 0.046197094428785786, 0.03774835977689994, 0.0308045320190612, -0.08441463143546585, -0.03026472031861761, 0.041759409084624444, 0.06316827133861533, 0.005809221410243119, 0.04627562506321652, 0.08038986136694219, -0.0394769260377429, 0.05625863250569473, -0.04739244668995376, -0.06751577202844067, -0.02108662892731723, -0.07924482920663682, -0.10531830770797572, 0.002081768259798348, -0.0608265772235271, 0.034937990394090075, 0.03343118531468191, 0.02137308560445349, -0.06629286760127448, -0.014744473065214847, 0.014670964147985213, -0.07255467369378796, 0.00029244113883780784, 0.038532127285540625, 0.021468705135732746, -0.019799670792701896, 0.03620702522823398, 0.028653746218308313, 0.05023368139583511, -0.00033818212080620794, 0.028146770204257585, 0.04108789354328773, 0.014509584617616148, 0.03912914907354046, -0.00440406708923244, -0.016883543173962123, -0.09326224252529526, 0.02075811973618429, 0.038176202308904894, 0.011701670733157176], payload={'question': 'Course - Which playlist on YouTube should I refer to?', 'text': 'All the main videos are stored in the Main “DATA ENGINEERING” playlist (no year specified). The Github repository has also been updated to show each video with a thumbnail, that would bring you directly to the same playlist below.\\nBelow is the MAIN PLAYLIST’. And then you refer to the year specific playlist for additional videos for that year like for office hours videos etc. Also find this playlist pinned to the slack channel.\\nh\\nttps://youtube.com/playlist?list=PL3MmuxUbc_hJed7dXYoJw8DoCuVHhGEQb&si=NspQhtZhZQs1B9F-', 'section': 'General course-related questions', 'course': 'data-engineering-zoomcamp', 'id': '4292531b'})]"
      ]
     },
     "execution_count": 35,
     "metadata": {},
     "output_type": "execute_result"
    }
   ],
   "source": [
    "points[:1]"
   ]
  },
  {
   "cell_type": "code",
   "execution_count": 36,
   "id": "120bdc31-19d2-4c9f-8ab9-46817eade3b2",
   "metadata": {},
   "outputs": [
    {
     "name": "stdout",
     "output_type": "stream",
     "text": [
      "948 puntos insertados en la colección usando 'upsert'.\n"
     ]
    }
   ],
   "source": [
    "client.upsert(\n",
    "    collection_name=COLLECTION_NAME,\n",
    "    points=points,\n",
    "    wait=True\n",
    ")\n",
    "\n",
    "print(f\"{len(points)} puntos insertados en la colección usando 'upsert'.\")"
   ]
  },
  {
   "cell_type": "markdown",
   "id": "3c4699ab-5acb-4f0f-8b51-3fbec6a83cdb",
   "metadata": {},
   "source": [
    "### Función de busqueda con Qdrant"
   ]
  },
  {
   "cell_type": "code",
   "execution_count": 37,
   "id": "f71e4481-7551-4157-b496-a087c21cd852",
   "metadata": {},
   "outputs": [],
   "source": [
    "def search_qdrant(query, course, limit=5):\n",
    "\n",
    "    results = client.query_points(\n",
    "        collection_name=COLLECTION_NAME,\n",
    "        query=embed_data(query),\n",
    "        query_filter=Filter(\n",
    "            must=[FieldCondition(key=\"course\", match=MatchValue(value=course))]\n",
    "        ),\n",
    "        limit=limit,\n",
    "        with_payload=True\n",
    "    )\n",
    "    \n",
    "    return [resp.payload for resp in results.points]"
   ]
  },
  {
   "cell_type": "code",
   "execution_count": 38,
   "id": "3a98fd99-d0f5-408a-997c-930a251d61e2",
   "metadata": {},
   "outputs": [
    {
     "data": {
      "text/plain": [
       "[{'question': 'Course - When will the course start?',\n",
       "  'text': \"The purpose of this document is to capture frequently asked technical questions\\nThe exact day and hour of the course will be 15th Jan 2024 at 17h00. The course will start with the first  “Office Hours'' live.1\\nSubscribe to course public Google Calendar (it works from Desktop only).\\nRegister before the course starts using this link.\\nJoin the course Telegram channel with announcements.\\nDon’t forget to register in DataTalks.Club's Slack and join the channel.\",\n",
       "  'section': 'General course-related questions',\n",
       "  'course': 'data-engineering-zoomcamp',\n",
       "  'id': 'c02e79ef'},\n",
       " {'question': 'Course - Can I follow the course after it finishes?',\n",
       "  'text': 'Yes, we will keep all the materials after the course finishes, so you can follow the course at your own pace after it finishes.\\nYou can also continue looking at the homeworks and continue preparing for the next cohort. I guess you can also start working on your final capstone project.',\n",
       "  'section': 'General course-related questions',\n",
       "  'course': 'data-engineering-zoomcamp',\n",
       "  'id': 'a482086d'},\n",
       " {'question': 'Course - Can I still join the course after the start date?',\n",
       "  'text': \"Yes, even if you don't register, you're still eligible to submit the homeworks.\\nBe aware, however, that there will be deadlines for turning in the final projects. So don't leave everything for the last minute.\",\n",
       "  'section': 'General course-related questions',\n",
       "  'course': 'data-engineering-zoomcamp',\n",
       "  'id': '7842b56a'},\n",
       " {'question': 'Course - I have registered for the Data Engineering Bootcamp. When can I expect to receive the confirmation email?',\n",
       "  'text': \"You don't need it. You're accepted. You can also just start learning and submitting homework without registering. It is not checked against any registered list. Registration is just to gauge interest before the start date.\",\n",
       "  'section': 'General course-related questions',\n",
       "  'course': 'data-engineering-zoomcamp',\n",
       "  'id': '0bbf41ec'},\n",
       " {'question': 'Course - \\u200b\\u200bHow many hours per week am I expected to spend on this  course?',\n",
       "  'text': 'It depends on your background and previous experience with modules. It is expected to require about 5 - 15 hours per week. [source1] [source2]\\nYou can also calculate it yourself using this data and then update this answer.',\n",
       "  'section': 'General course-related questions',\n",
       "  'course': 'data-engineering-zoomcamp',\n",
       "  'id': 'ea739c65'}]"
      ]
     },
     "execution_count": 38,
     "metadata": {},
     "output_type": "execute_result"
    }
   ],
   "source": [
    "result = search_qdrant('When does the course begin?', 'data-engineering-zoomcamp')\n",
    "result"
   ]
  },
  {
   "cell_type": "code",
   "execution_count": 39,
   "id": "cce1b7e5-6ff4-48e0-8d79-95562c961ef9",
   "metadata": {},
   "outputs": [
    {
     "data": {
      "text/plain": [
       "list"
      ]
     },
     "execution_count": 39,
     "metadata": {},
     "output_type": "execute_result"
    }
   ],
   "source": [
    "type(result)"
   ]
  },
  {
   "cell_type": "markdown",
   "id": "0c2c0954-2b47-4030-ba72-cc6719dbf261",
   "metadata": {},
   "source": [
    "### Evaluación"
   ]
  },
  {
   "cell_type": "code",
   "execution_count": 40,
   "id": "03909631-c6c7-488b-9cd5-9c21fd3947cc",
   "metadata": {},
   "outputs": [],
   "source": [
    "def evaluate_parallel(ground_truth, search_function, max_workers=8):\n",
    "    relevance_total = []\n",
    "\n",
    "    def process_question(q):\n",
    "        doc_id = q['document']\n",
    "        results = search_function(q)\n",
    "        return [d['id'] == doc_id for d in results]\n",
    "\n",
    "    with ThreadPoolExecutor(max_workers=max_workers) as executor:\n",
    "        futures = [executor.submit(process_question, q) for q in ground_truth]\n",
    "        for future in tqdm(as_completed(futures), total=len(futures)):\n",
    "            relevance_total.append(future.result())\n",
    "\n",
    "    return {\n",
    "        'HIT_RATE': f\"{hit_rate(relevance_total):.4f}\",\n",
    "        'MRR': f\"{mrr(relevance_total):.4f}\",\n",
    "    }"
   ]
  },
  {
   "cell_type": "code",
   "execution_count": 41,
   "id": "62d494ae-4afb-4008-8975-28f721bd5c18",
   "metadata": {},
   "outputs": [
    {
     "data": {
      "application/vnd.jupyter.widget-view+json": {
       "model_id": "e57346abe7564d2cafbf0e6bd1b8112e",
       "version_major": 2,
       "version_minor": 0
      },
      "text/plain": [
       "  0%|          | 0/4627 [00:00<?, ?it/s]"
      ]
     },
     "metadata": {},
     "output_type": "display_data"
    },
    {
     "data": {
      "text/plain": [
       "{'HIT_RATE': '0.9300', 'MRR': '0.8518'}"
      ]
     },
     "execution_count": 41,
     "metadata": {},
     "output_type": "execute_result"
    }
   ],
   "source": [
    "evaluate_parallel(ground_truth, lambda q: search_qdrant(q['question'], q['course']))"
   ]
  },
  {
   "cell_type": "markdown",
   "id": "7fcfd591-b35b-4eed-a2ef-5c2f757c2037",
   "metadata": {},
   "source": [
    "## Q5. Cosine simiarity"
   ]
  },
  {
   "cell_type": "markdown",
   "id": "8358913a-a066-439b-ad39-56fbdac2ac28",
   "metadata": {},
   "source": [
    "### Defino funciones para calcular la similitud de coseno"
   ]
  },
  {
   "cell_type": "code",
   "execution_count": 43,
   "id": "05ce3200-1fb3-4cc7-bacb-37104e363dbd",
   "metadata": {},
   "outputs": [],
   "source": [
    "def normalize(u):\n",
    "    norm = np.sqrt(u.dot(u))\n",
    "    return u / norm"
   ]
  },
  {
   "cell_type": "code",
   "execution_count": 45,
   "id": "bf169c4e-d7fa-4bd9-bb58-1bb3cc09e49c",
   "metadata": {},
   "outputs": [],
   "source": [
    "def cosine(u, v):\n",
    "    u = normalize(u)\n",
    "    v = normalize(v)\n",
    "    return u.dot(v)"
   ]
  },
  {
   "cell_type": "code",
   "execution_count": 52,
   "id": "aee780d0-3562-4d96-95c8-d0b1c085922d",
   "metadata": {},
   "outputs": [],
   "source": [
    "def cosine_v2(u, v):\n",
    "    u_norm = np.sqrt(u.dot(u))\n",
    "    v_norm = np.sqrt(v.dot(v))\n",
    "    return u.dot(v) / (u_norm * v_norm)"
   ]
  },
  {
   "cell_type": "code",
   "execution_count": 71,
   "id": "11e7ba5e-47d3-4a8d-98a8-711d7a776af7",
   "metadata": {},
   "outputs": [],
   "source": [
    "def cosine_similarity_per(a, b):\n",
    "    return np.dot(a, b) / (np.linalg.norm(a) * np.linalg.norm(b))"
   ]
  },
  {
   "cell_type": "markdown",
   "id": "8be8b48d-cd35-4973-96c9-72587a438e7e",
   "metadata": {},
   "source": [
    "### Pruebo el calculo con dos vectores que deben tener un similitud muy alta de coseno"
   ]
  },
  {
   "cell_type": "code",
   "execution_count": 54,
   "id": "85cb3acb-8775-4069-9bfa-98f9809cc5c5",
   "metadata": {},
   "outputs": [],
   "source": [
    "v1 = np.array([1, 2, 3])\n",
    "v2 = np.array([1.1, 2.1, 3.1])"
   ]
  },
  {
   "cell_type": "code",
   "execution_count": 49,
   "id": "15b3da6d-5456-408d-babb-0179d5b26bdf",
   "metadata": {},
   "outputs": [
    {
     "data": {
      "text/plain": [
       "np.float64(0.9998592903536574)"
      ]
     },
     "execution_count": 49,
     "metadata": {},
     "output_type": "execute_result"
    }
   ],
   "source": [
    "cosine(v1, v2)"
   ]
  },
  {
   "cell_type": "code",
   "execution_count": 53,
   "id": "72f9c105-25a0-4216-a456-5144775000da",
   "metadata": {},
   "outputs": [
    {
     "data": {
      "text/plain": [
       "np.float64(0.9998592903536574)"
      ]
     },
     "execution_count": 53,
     "metadata": {},
     "output_type": "execute_result"
    }
   ],
   "source": [
    "cosine_v2(v1, v2)"
   ]
  },
  {
   "cell_type": "code",
   "execution_count": 72,
   "id": "d518a418-ea54-4dcf-a0ea-ccec0da11f39",
   "metadata": {},
   "outputs": [
    {
     "data": {
      "text/plain": [
       "np.float64(0.9998592903536574)"
      ]
     },
     "execution_count": 72,
     "metadata": {},
     "output_type": "execute_result"
    }
   ],
   "source": [
    "cosine_similarity_per(v1, v2)"
   ]
  },
  {
   "cell_type": "markdown",
   "id": "24cf4921-bdfd-4d83-8b31-eedcf81cb2a7",
   "metadata": {},
   "source": [
    "### Importo los datos"
   ]
  },
  {
   "cell_type": "code",
   "execution_count": 55,
   "id": "705f1ed1-c39b-438d-a638-b70d02b1793a",
   "metadata": {},
   "outputs": [],
   "source": [
    "results_url = url_prefix + 'rag_evaluation/data/results-gpt4o-mini.csv'\n",
    "df_results = pd.read_csv(results_url)"
   ]
  },
  {
   "cell_type": "code",
   "execution_count": 56,
   "id": "ef7b810e-33ea-4734-8be6-40ae344a7150",
   "metadata": {},
   "outputs": [
    {
     "data": {
      "text/html": [
       "<div>\n",
       "<style scoped>\n",
       "    .dataframe tbody tr th:only-of-type {\n",
       "        vertical-align: middle;\n",
       "    }\n",
       "\n",
       "    .dataframe tbody tr th {\n",
       "        vertical-align: top;\n",
       "    }\n",
       "\n",
       "    .dataframe thead th {\n",
       "        text-align: right;\n",
       "    }\n",
       "</style>\n",
       "<table border=\"1\" class=\"dataframe\">\n",
       "  <thead>\n",
       "    <tr style=\"text-align: right;\">\n",
       "      <th></th>\n",
       "      <th>answer_llm</th>\n",
       "      <th>answer_orig</th>\n",
       "      <th>document</th>\n",
       "      <th>question</th>\n",
       "      <th>course</th>\n",
       "    </tr>\n",
       "  </thead>\n",
       "  <tbody>\n",
       "    <tr>\n",
       "      <th>0</th>\n",
       "      <td>You can sign up for the course by visiting the...</td>\n",
       "      <td>Machine Learning Zoomcamp FAQ\\nThe purpose of ...</td>\n",
       "      <td>0227b872</td>\n",
       "      <td>Where can I sign up for the course?</td>\n",
       "      <td>machine-learning-zoomcamp</td>\n",
       "    </tr>\n",
       "    <tr>\n",
       "      <th>1</th>\n",
       "      <td>You can sign up using the link provided in the...</td>\n",
       "      <td>Machine Learning Zoomcamp FAQ\\nThe purpose of ...</td>\n",
       "      <td>0227b872</td>\n",
       "      <td>Can you provide a link to sign up?</td>\n",
       "      <td>machine-learning-zoomcamp</td>\n",
       "    </tr>\n",
       "    <tr>\n",
       "      <th>2</th>\n",
       "      <td>Yes, there is an FAQ for the Machine Learning ...</td>\n",
       "      <td>Machine Learning Zoomcamp FAQ\\nThe purpose of ...</td>\n",
       "      <td>0227b872</td>\n",
       "      <td>Is there an FAQ for this Machine Learning course?</td>\n",
       "      <td>machine-learning-zoomcamp</td>\n",
       "    </tr>\n",
       "    <tr>\n",
       "      <th>3</th>\n",
       "      <td>The context does not provide any specific info...</td>\n",
       "      <td>Machine Learning Zoomcamp FAQ\\nThe purpose of ...</td>\n",
       "      <td>0227b872</td>\n",
       "      <td>Does this course have a GitHub repository for ...</td>\n",
       "      <td>machine-learning-zoomcamp</td>\n",
       "    </tr>\n",
       "    <tr>\n",
       "      <th>4</th>\n",
       "      <td>To structure your questions and answers for th...</td>\n",
       "      <td>Machine Learning Zoomcamp FAQ\\nThe purpose of ...</td>\n",
       "      <td>0227b872</td>\n",
       "      <td>How can I structure my questions and answers f...</td>\n",
       "      <td>machine-learning-zoomcamp</td>\n",
       "    </tr>\n",
       "  </tbody>\n",
       "</table>\n",
       "</div>"
      ],
      "text/plain": [
       "                                          answer_llm  \\\n",
       "0  You can sign up for the course by visiting the...   \n",
       "1  You can sign up using the link provided in the...   \n",
       "2  Yes, there is an FAQ for the Machine Learning ...   \n",
       "3  The context does not provide any specific info...   \n",
       "4  To structure your questions and answers for th...   \n",
       "\n",
       "                                         answer_orig  document  \\\n",
       "0  Machine Learning Zoomcamp FAQ\\nThe purpose of ...  0227b872   \n",
       "1  Machine Learning Zoomcamp FAQ\\nThe purpose of ...  0227b872   \n",
       "2  Machine Learning Zoomcamp FAQ\\nThe purpose of ...  0227b872   \n",
       "3  Machine Learning Zoomcamp FAQ\\nThe purpose of ...  0227b872   \n",
       "4  Machine Learning Zoomcamp FAQ\\nThe purpose of ...  0227b872   \n",
       "\n",
       "                                            question  \\\n",
       "0                Where can I sign up for the course?   \n",
       "1                 Can you provide a link to sign up?   \n",
       "2  Is there an FAQ for this Machine Learning course?   \n",
       "3  Does this course have a GitHub repository for ...   \n",
       "4  How can I structure my questions and answers f...   \n",
       "\n",
       "                      course  \n",
       "0  machine-learning-zoomcamp  \n",
       "1  machine-learning-zoomcamp  \n",
       "2  machine-learning-zoomcamp  \n",
       "3  machine-learning-zoomcamp  \n",
       "4  machine-learning-zoomcamp  "
      ]
     },
     "execution_count": 56,
     "metadata": {},
     "output_type": "execute_result"
    }
   ],
   "source": [
    "df_results.head()"
   ]
  },
  {
   "cell_type": "markdown",
   "id": "4ab74eb5-20ba-4cef-a3d4-9cd486f3e732",
   "metadata": {},
   "source": [
    "### Creo el pipeline de transformación"
   ]
  },
  {
   "cell_type": "code",
   "execution_count": null,
   "id": "3dc93fe9-6778-486c-a7fb-4c4334d7f2b3",
   "metadata": {},
   "outputs": [],
   "source": [
    "pipeline = make_pipeline(\n",
    "    TfidfVectorizer(min_df=3),\n",
    "    TruncatedSVD(n_components=128, random_state=1)\n",
    ")"
   ]
  },
  {
   "cell_type": "code",
   "execution_count": 57,
   "id": "0e68e077-1cc0-43e7-9869-229c842996c6",
   "metadata": {},
   "outputs": [
    {
     "data": {
      "text/html": [
       "<style>#sk-container-id-1 {\n",
       "  /* Definition of color scheme common for light and dark mode */\n",
       "  --sklearn-color-text: #000;\n",
       "  --sklearn-color-text-muted: #666;\n",
       "  --sklearn-color-line: gray;\n",
       "  /* Definition of color scheme for unfitted estimators */\n",
       "  --sklearn-color-unfitted-level-0: #fff5e6;\n",
       "  --sklearn-color-unfitted-level-1: #f6e4d2;\n",
       "  --sklearn-color-unfitted-level-2: #ffe0b3;\n",
       "  --sklearn-color-unfitted-level-3: chocolate;\n",
       "  /* Definition of color scheme for fitted estimators */\n",
       "  --sklearn-color-fitted-level-0: #f0f8ff;\n",
       "  --sklearn-color-fitted-level-1: #d4ebff;\n",
       "  --sklearn-color-fitted-level-2: #b3dbfd;\n",
       "  --sklearn-color-fitted-level-3: cornflowerblue;\n",
       "\n",
       "  /* Specific color for light theme */\n",
       "  --sklearn-color-text-on-default-background: var(--sg-text-color, var(--theme-code-foreground, var(--jp-content-font-color1, black)));\n",
       "  --sklearn-color-background: var(--sg-background-color, var(--theme-background, var(--jp-layout-color0, white)));\n",
       "  --sklearn-color-border-box: var(--sg-text-color, var(--theme-code-foreground, var(--jp-content-font-color1, black)));\n",
       "  --sklearn-color-icon: #696969;\n",
       "\n",
       "  @media (prefers-color-scheme: dark) {\n",
       "    /* Redefinition of color scheme for dark theme */\n",
       "    --sklearn-color-text-on-default-background: var(--sg-text-color, var(--theme-code-foreground, var(--jp-content-font-color1, white)));\n",
       "    --sklearn-color-background: var(--sg-background-color, var(--theme-background, var(--jp-layout-color0, #111)));\n",
       "    --sklearn-color-border-box: var(--sg-text-color, var(--theme-code-foreground, var(--jp-content-font-color1, white)));\n",
       "    --sklearn-color-icon: #878787;\n",
       "  }\n",
       "}\n",
       "\n",
       "#sk-container-id-1 {\n",
       "  color: var(--sklearn-color-text);\n",
       "}\n",
       "\n",
       "#sk-container-id-1 pre {\n",
       "  padding: 0;\n",
       "}\n",
       "\n",
       "#sk-container-id-1 input.sk-hidden--visually {\n",
       "  border: 0;\n",
       "  clip: rect(1px 1px 1px 1px);\n",
       "  clip: rect(1px, 1px, 1px, 1px);\n",
       "  height: 1px;\n",
       "  margin: -1px;\n",
       "  overflow: hidden;\n",
       "  padding: 0;\n",
       "  position: absolute;\n",
       "  width: 1px;\n",
       "}\n",
       "\n",
       "#sk-container-id-1 div.sk-dashed-wrapped {\n",
       "  border: 1px dashed var(--sklearn-color-line);\n",
       "  margin: 0 0.4em 0.5em 0.4em;\n",
       "  box-sizing: border-box;\n",
       "  padding-bottom: 0.4em;\n",
       "  background-color: var(--sklearn-color-background);\n",
       "}\n",
       "\n",
       "#sk-container-id-1 div.sk-container {\n",
       "  /* jupyter's `normalize.less` sets `[hidden] { display: none; }`\n",
       "     but bootstrap.min.css set `[hidden] { display: none !important; }`\n",
       "     so we also need the `!important` here to be able to override the\n",
       "     default hidden behavior on the sphinx rendered scikit-learn.org.\n",
       "     See: https://github.com/scikit-learn/scikit-learn/issues/21755 */\n",
       "  display: inline-block !important;\n",
       "  position: relative;\n",
       "}\n",
       "\n",
       "#sk-container-id-1 div.sk-text-repr-fallback {\n",
       "  display: none;\n",
       "}\n",
       "\n",
       "div.sk-parallel-item,\n",
       "div.sk-serial,\n",
       "div.sk-item {\n",
       "  /* draw centered vertical line to link estimators */\n",
       "  background-image: linear-gradient(var(--sklearn-color-text-on-default-background), var(--sklearn-color-text-on-default-background));\n",
       "  background-size: 2px 100%;\n",
       "  background-repeat: no-repeat;\n",
       "  background-position: center center;\n",
       "}\n",
       "\n",
       "/* Parallel-specific style estimator block */\n",
       "\n",
       "#sk-container-id-1 div.sk-parallel-item::after {\n",
       "  content: \"\";\n",
       "  width: 100%;\n",
       "  border-bottom: 2px solid var(--sklearn-color-text-on-default-background);\n",
       "  flex-grow: 1;\n",
       "}\n",
       "\n",
       "#sk-container-id-1 div.sk-parallel {\n",
       "  display: flex;\n",
       "  align-items: stretch;\n",
       "  justify-content: center;\n",
       "  background-color: var(--sklearn-color-background);\n",
       "  position: relative;\n",
       "}\n",
       "\n",
       "#sk-container-id-1 div.sk-parallel-item {\n",
       "  display: flex;\n",
       "  flex-direction: column;\n",
       "}\n",
       "\n",
       "#sk-container-id-1 div.sk-parallel-item:first-child::after {\n",
       "  align-self: flex-end;\n",
       "  width: 50%;\n",
       "}\n",
       "\n",
       "#sk-container-id-1 div.sk-parallel-item:last-child::after {\n",
       "  align-self: flex-start;\n",
       "  width: 50%;\n",
       "}\n",
       "\n",
       "#sk-container-id-1 div.sk-parallel-item:only-child::after {\n",
       "  width: 0;\n",
       "}\n",
       "\n",
       "/* Serial-specific style estimator block */\n",
       "\n",
       "#sk-container-id-1 div.sk-serial {\n",
       "  display: flex;\n",
       "  flex-direction: column;\n",
       "  align-items: center;\n",
       "  background-color: var(--sklearn-color-background);\n",
       "  padding-right: 1em;\n",
       "  padding-left: 1em;\n",
       "}\n",
       "\n",
       "\n",
       "/* Toggleable style: style used for estimator/Pipeline/ColumnTransformer box that is\n",
       "clickable and can be expanded/collapsed.\n",
       "- Pipeline and ColumnTransformer use this feature and define the default style\n",
       "- Estimators will overwrite some part of the style using the `sk-estimator` class\n",
       "*/\n",
       "\n",
       "/* Pipeline and ColumnTransformer style (default) */\n",
       "\n",
       "#sk-container-id-1 div.sk-toggleable {\n",
       "  /* Default theme specific background. It is overwritten whether we have a\n",
       "  specific estimator or a Pipeline/ColumnTransformer */\n",
       "  background-color: var(--sklearn-color-background);\n",
       "}\n",
       "\n",
       "/* Toggleable label */\n",
       "#sk-container-id-1 label.sk-toggleable__label {\n",
       "  cursor: pointer;\n",
       "  display: flex;\n",
       "  width: 100%;\n",
       "  margin-bottom: 0;\n",
       "  padding: 0.5em;\n",
       "  box-sizing: border-box;\n",
       "  text-align: center;\n",
       "  align-items: start;\n",
       "  justify-content: space-between;\n",
       "  gap: 0.5em;\n",
       "}\n",
       "\n",
       "#sk-container-id-1 label.sk-toggleable__label .caption {\n",
       "  font-size: 0.6rem;\n",
       "  font-weight: lighter;\n",
       "  color: var(--sklearn-color-text-muted);\n",
       "}\n",
       "\n",
       "#sk-container-id-1 label.sk-toggleable__label-arrow:before {\n",
       "  /* Arrow on the left of the label */\n",
       "  content: \"▸\";\n",
       "  float: left;\n",
       "  margin-right: 0.25em;\n",
       "  color: var(--sklearn-color-icon);\n",
       "}\n",
       "\n",
       "#sk-container-id-1 label.sk-toggleable__label-arrow:hover:before {\n",
       "  color: var(--sklearn-color-text);\n",
       "}\n",
       "\n",
       "/* Toggleable content - dropdown */\n",
       "\n",
       "#sk-container-id-1 div.sk-toggleable__content {\n",
       "  display: none;\n",
       "  text-align: left;\n",
       "  /* unfitted */\n",
       "  background-color: var(--sklearn-color-unfitted-level-0);\n",
       "}\n",
       "\n",
       "#sk-container-id-1 div.sk-toggleable__content.fitted {\n",
       "  /* fitted */\n",
       "  background-color: var(--sklearn-color-fitted-level-0);\n",
       "}\n",
       "\n",
       "#sk-container-id-1 div.sk-toggleable__content pre {\n",
       "  margin: 0.2em;\n",
       "  border-radius: 0.25em;\n",
       "  color: var(--sklearn-color-text);\n",
       "  /* unfitted */\n",
       "  background-color: var(--sklearn-color-unfitted-level-0);\n",
       "}\n",
       "\n",
       "#sk-container-id-1 div.sk-toggleable__content.fitted pre {\n",
       "  /* unfitted */\n",
       "  background-color: var(--sklearn-color-fitted-level-0);\n",
       "}\n",
       "\n",
       "#sk-container-id-1 input.sk-toggleable__control:checked~div.sk-toggleable__content {\n",
       "  /* Expand drop-down */\n",
       "  display: block;\n",
       "  width: 100%;\n",
       "  overflow: visible;\n",
       "}\n",
       "\n",
       "#sk-container-id-1 input.sk-toggleable__control:checked~label.sk-toggleable__label-arrow:before {\n",
       "  content: \"▾\";\n",
       "}\n",
       "\n",
       "/* Pipeline/ColumnTransformer-specific style */\n",
       "\n",
       "#sk-container-id-1 div.sk-label input.sk-toggleable__control:checked~label.sk-toggleable__label {\n",
       "  color: var(--sklearn-color-text);\n",
       "  background-color: var(--sklearn-color-unfitted-level-2);\n",
       "}\n",
       "\n",
       "#sk-container-id-1 div.sk-label.fitted input.sk-toggleable__control:checked~label.sk-toggleable__label {\n",
       "  background-color: var(--sklearn-color-fitted-level-2);\n",
       "}\n",
       "\n",
       "/* Estimator-specific style */\n",
       "\n",
       "/* Colorize estimator box */\n",
       "#sk-container-id-1 div.sk-estimator input.sk-toggleable__control:checked~label.sk-toggleable__label {\n",
       "  /* unfitted */\n",
       "  background-color: var(--sklearn-color-unfitted-level-2);\n",
       "}\n",
       "\n",
       "#sk-container-id-1 div.sk-estimator.fitted input.sk-toggleable__control:checked~label.sk-toggleable__label {\n",
       "  /* fitted */\n",
       "  background-color: var(--sklearn-color-fitted-level-2);\n",
       "}\n",
       "\n",
       "#sk-container-id-1 div.sk-label label.sk-toggleable__label,\n",
       "#sk-container-id-1 div.sk-label label {\n",
       "  /* The background is the default theme color */\n",
       "  color: var(--sklearn-color-text-on-default-background);\n",
       "}\n",
       "\n",
       "/* On hover, darken the color of the background */\n",
       "#sk-container-id-1 div.sk-label:hover label.sk-toggleable__label {\n",
       "  color: var(--sklearn-color-text);\n",
       "  background-color: var(--sklearn-color-unfitted-level-2);\n",
       "}\n",
       "\n",
       "/* Label box, darken color on hover, fitted */\n",
       "#sk-container-id-1 div.sk-label.fitted:hover label.sk-toggleable__label.fitted {\n",
       "  color: var(--sklearn-color-text);\n",
       "  background-color: var(--sklearn-color-fitted-level-2);\n",
       "}\n",
       "\n",
       "/* Estimator label */\n",
       "\n",
       "#sk-container-id-1 div.sk-label label {\n",
       "  font-family: monospace;\n",
       "  font-weight: bold;\n",
       "  display: inline-block;\n",
       "  line-height: 1.2em;\n",
       "}\n",
       "\n",
       "#sk-container-id-1 div.sk-label-container {\n",
       "  text-align: center;\n",
       "}\n",
       "\n",
       "/* Estimator-specific */\n",
       "#sk-container-id-1 div.sk-estimator {\n",
       "  font-family: monospace;\n",
       "  border: 1px dotted var(--sklearn-color-border-box);\n",
       "  border-radius: 0.25em;\n",
       "  box-sizing: border-box;\n",
       "  margin-bottom: 0.5em;\n",
       "  /* unfitted */\n",
       "  background-color: var(--sklearn-color-unfitted-level-0);\n",
       "}\n",
       "\n",
       "#sk-container-id-1 div.sk-estimator.fitted {\n",
       "  /* fitted */\n",
       "  background-color: var(--sklearn-color-fitted-level-0);\n",
       "}\n",
       "\n",
       "/* on hover */\n",
       "#sk-container-id-1 div.sk-estimator:hover {\n",
       "  /* unfitted */\n",
       "  background-color: var(--sklearn-color-unfitted-level-2);\n",
       "}\n",
       "\n",
       "#sk-container-id-1 div.sk-estimator.fitted:hover {\n",
       "  /* fitted */\n",
       "  background-color: var(--sklearn-color-fitted-level-2);\n",
       "}\n",
       "\n",
       "/* Specification for estimator info (e.g. \"i\" and \"?\") */\n",
       "\n",
       "/* Common style for \"i\" and \"?\" */\n",
       "\n",
       ".sk-estimator-doc-link,\n",
       "a:link.sk-estimator-doc-link,\n",
       "a:visited.sk-estimator-doc-link {\n",
       "  float: right;\n",
       "  font-size: smaller;\n",
       "  line-height: 1em;\n",
       "  font-family: monospace;\n",
       "  background-color: var(--sklearn-color-background);\n",
       "  border-radius: 1em;\n",
       "  height: 1em;\n",
       "  width: 1em;\n",
       "  text-decoration: none !important;\n",
       "  margin-left: 0.5em;\n",
       "  text-align: center;\n",
       "  /* unfitted */\n",
       "  border: var(--sklearn-color-unfitted-level-1) 1pt solid;\n",
       "  color: var(--sklearn-color-unfitted-level-1);\n",
       "}\n",
       "\n",
       ".sk-estimator-doc-link.fitted,\n",
       "a:link.sk-estimator-doc-link.fitted,\n",
       "a:visited.sk-estimator-doc-link.fitted {\n",
       "  /* fitted */\n",
       "  border: var(--sklearn-color-fitted-level-1) 1pt solid;\n",
       "  color: var(--sklearn-color-fitted-level-1);\n",
       "}\n",
       "\n",
       "/* On hover */\n",
       "div.sk-estimator:hover .sk-estimator-doc-link:hover,\n",
       ".sk-estimator-doc-link:hover,\n",
       "div.sk-label-container:hover .sk-estimator-doc-link:hover,\n",
       ".sk-estimator-doc-link:hover {\n",
       "  /* unfitted */\n",
       "  background-color: var(--sklearn-color-unfitted-level-3);\n",
       "  color: var(--sklearn-color-background);\n",
       "  text-decoration: none;\n",
       "}\n",
       "\n",
       "div.sk-estimator.fitted:hover .sk-estimator-doc-link.fitted:hover,\n",
       ".sk-estimator-doc-link.fitted:hover,\n",
       "div.sk-label-container:hover .sk-estimator-doc-link.fitted:hover,\n",
       ".sk-estimator-doc-link.fitted:hover {\n",
       "  /* fitted */\n",
       "  background-color: var(--sklearn-color-fitted-level-3);\n",
       "  color: var(--sklearn-color-background);\n",
       "  text-decoration: none;\n",
       "}\n",
       "\n",
       "/* Span, style for the box shown on hovering the info icon */\n",
       ".sk-estimator-doc-link span {\n",
       "  display: none;\n",
       "  z-index: 9999;\n",
       "  position: relative;\n",
       "  font-weight: normal;\n",
       "  right: .2ex;\n",
       "  padding: .5ex;\n",
       "  margin: .5ex;\n",
       "  width: min-content;\n",
       "  min-width: 20ex;\n",
       "  max-width: 50ex;\n",
       "  color: var(--sklearn-color-text);\n",
       "  box-shadow: 2pt 2pt 4pt #999;\n",
       "  /* unfitted */\n",
       "  background: var(--sklearn-color-unfitted-level-0);\n",
       "  border: .5pt solid var(--sklearn-color-unfitted-level-3);\n",
       "}\n",
       "\n",
       ".sk-estimator-doc-link.fitted span {\n",
       "  /* fitted */\n",
       "  background: var(--sklearn-color-fitted-level-0);\n",
       "  border: var(--sklearn-color-fitted-level-3);\n",
       "}\n",
       "\n",
       ".sk-estimator-doc-link:hover span {\n",
       "  display: block;\n",
       "}\n",
       "\n",
       "/* \"?\"-specific style due to the `<a>` HTML tag */\n",
       "\n",
       "#sk-container-id-1 a.estimator_doc_link {\n",
       "  float: right;\n",
       "  font-size: 1rem;\n",
       "  line-height: 1em;\n",
       "  font-family: monospace;\n",
       "  background-color: var(--sklearn-color-background);\n",
       "  border-radius: 1rem;\n",
       "  height: 1rem;\n",
       "  width: 1rem;\n",
       "  text-decoration: none;\n",
       "  /* unfitted */\n",
       "  color: var(--sklearn-color-unfitted-level-1);\n",
       "  border: var(--sklearn-color-unfitted-level-1) 1pt solid;\n",
       "}\n",
       "\n",
       "#sk-container-id-1 a.estimator_doc_link.fitted {\n",
       "  /* fitted */\n",
       "  border: var(--sklearn-color-fitted-level-1) 1pt solid;\n",
       "  color: var(--sklearn-color-fitted-level-1);\n",
       "}\n",
       "\n",
       "/* On hover */\n",
       "#sk-container-id-1 a.estimator_doc_link:hover {\n",
       "  /* unfitted */\n",
       "  background-color: var(--sklearn-color-unfitted-level-3);\n",
       "  color: var(--sklearn-color-background);\n",
       "  text-decoration: none;\n",
       "}\n",
       "\n",
       "#sk-container-id-1 a.estimator_doc_link.fitted:hover {\n",
       "  /* fitted */\n",
       "  background-color: var(--sklearn-color-fitted-level-3);\n",
       "}\n",
       "\n",
       ".estimator-table summary {\n",
       "    padding: .5rem;\n",
       "    font-family: monospace;\n",
       "    cursor: pointer;\n",
       "}\n",
       "\n",
       ".estimator-table details[open] {\n",
       "    padding-left: 0.1rem;\n",
       "    padding-right: 0.1rem;\n",
       "    padding-bottom: 0.3rem;\n",
       "}\n",
       "\n",
       ".estimator-table .parameters-table {\n",
       "    margin-left: auto !important;\n",
       "    margin-right: auto !important;\n",
       "}\n",
       "\n",
       ".estimator-table .parameters-table tr:nth-child(odd) {\n",
       "    background-color: #fff;\n",
       "}\n",
       "\n",
       ".estimator-table .parameters-table tr:nth-child(even) {\n",
       "    background-color: #f6f6f6;\n",
       "}\n",
       "\n",
       ".estimator-table .parameters-table tr:hover {\n",
       "    background-color: #e0e0e0;\n",
       "}\n",
       "\n",
       ".estimator-table table td {\n",
       "    border: 1px solid rgba(106, 105, 104, 0.232);\n",
       "}\n",
       "\n",
       ".user-set td {\n",
       "    color:rgb(255, 94, 0);\n",
       "    text-align: left;\n",
       "}\n",
       "\n",
       ".user-set td.value pre {\n",
       "    color:rgb(255, 94, 0) !important;\n",
       "    background-color: transparent !important;\n",
       "}\n",
       "\n",
       ".default td {\n",
       "    color: black;\n",
       "    text-align: left;\n",
       "}\n",
       "\n",
       ".user-set td i,\n",
       ".default td i {\n",
       "    color: black;\n",
       "}\n",
       "\n",
       ".copy-paste-icon {\n",
       "    background-image: url(data:image/svg+xml;base64,PHN2ZyB4bWxucz0iaHR0cDovL3d3dy53My5vcmcvMjAwMC9zdmciIHZpZXdCb3g9IjAgMCA0NDggNTEyIj48IS0tIUZvbnQgQXdlc29tZSBGcmVlIDYuNy4yIGJ5IEBmb250YXdlc29tZSAtIGh0dHBzOi8vZm9udGF3ZXNvbWUuY29tIExpY2Vuc2UgLSBodHRwczovL2ZvbnRhd2Vzb21lLmNvbS9saWNlbnNlL2ZyZWUgQ29weXJpZ2h0IDIwMjUgRm9udGljb25zLCBJbmMuLS0+PHBhdGggZD0iTTIwOCAwTDMzMi4xIDBjMTIuNyAwIDI0LjkgNS4xIDMzLjkgMTQuMWw2Ny45IDY3LjljOSA5IDE0LjEgMjEuMiAxNC4xIDMzLjlMNDQ4IDMzNmMwIDI2LjUtMjEuNSA0OC00OCA0OGwtMTkyIDBjLTI2LjUgMC00OC0yMS41LTQ4LTQ4bDAtMjg4YzAtMjYuNSAyMS41LTQ4IDQ4LTQ4ek00OCAxMjhsODAgMCAwIDY0LTY0IDAgMCAyNTYgMTkyIDAgMC0zMiA2NCAwIDAgNDhjMCAyNi41LTIxLjUgNDgtNDggNDhMNDggNTEyYy0yNi41IDAtNDgtMjEuNS00OC00OEwwIDE3NmMwLTI2LjUgMjEuNS00OCA0OC00OHoiLz48L3N2Zz4=);\n",
       "    background-repeat: no-repeat;\n",
       "    background-size: 14px 14px;\n",
       "    background-position: 0;\n",
       "    display: inline-block;\n",
       "    width: 14px;\n",
       "    height: 14px;\n",
       "    cursor: pointer;\n",
       "}\n",
       "</style><body><div id=\"sk-container-id-1\" class=\"sk-top-container\"><div class=\"sk-text-repr-fallback\"><pre>Pipeline(steps=[(&#x27;tfidfvectorizer&#x27;, TfidfVectorizer(min_df=3)),\n",
       "                (&#x27;truncatedsvd&#x27;,\n",
       "                 TruncatedSVD(n_components=128, random_state=1))])</pre><b>In a Jupyter environment, please rerun this cell to show the HTML representation or trust the notebook. <br />On GitHub, the HTML representation is unable to render, please try loading this page with nbviewer.org.</b></div><div class=\"sk-container\" hidden><div class=\"sk-item sk-dashed-wrapped\"><div class=\"sk-label-container\"><div class=\"sk-label fitted sk-toggleable\"><input class=\"sk-toggleable__control sk-hidden--visually\" id=\"sk-estimator-id-1\" type=\"checkbox\" ><label for=\"sk-estimator-id-1\" class=\"sk-toggleable__label fitted sk-toggleable__label-arrow\"><div><div>Pipeline</div></div><div><a class=\"sk-estimator-doc-link fitted\" rel=\"noreferrer\" target=\"_blank\" href=\"https://scikit-learn.org/1.7/modules/generated/sklearn.pipeline.Pipeline.html\">?<span>Documentation for Pipeline</span></a><span class=\"sk-estimator-doc-link fitted\">i<span>Fitted</span></span></div></label><div class=\"sk-toggleable__content fitted\" data-param-prefix=\"\">\n",
       "        <div class=\"estimator-table\">\n",
       "            <details>\n",
       "                <summary>Parameters</summary>\n",
       "                <table class=\"parameters-table\">\n",
       "                  <tbody>\n",
       "                    \n",
       "        <tr class=\"user-set\">\n",
       "            <td><i class=\"copy-paste-icon\"\n",
       "                 onclick=\"copyToClipboard('steps',\n",
       "                          this.parentElement.nextElementSibling)\"\n",
       "            ></i></td>\n",
       "            <td class=\"param\">steps&nbsp;</td>\n",
       "            <td class=\"value\">[(&#x27;tfidfvectorizer&#x27;, ...), (&#x27;truncatedsvd&#x27;, ...)]</td>\n",
       "        </tr>\n",
       "    \n",
       "\n",
       "        <tr class=\"default\">\n",
       "            <td><i class=\"copy-paste-icon\"\n",
       "                 onclick=\"copyToClipboard('transform_input',\n",
       "                          this.parentElement.nextElementSibling)\"\n",
       "            ></i></td>\n",
       "            <td class=\"param\">transform_input&nbsp;</td>\n",
       "            <td class=\"value\">None</td>\n",
       "        </tr>\n",
       "    \n",
       "\n",
       "        <tr class=\"default\">\n",
       "            <td><i class=\"copy-paste-icon\"\n",
       "                 onclick=\"copyToClipboard('memory',\n",
       "                          this.parentElement.nextElementSibling)\"\n",
       "            ></i></td>\n",
       "            <td class=\"param\">memory&nbsp;</td>\n",
       "            <td class=\"value\">None</td>\n",
       "        </tr>\n",
       "    \n",
       "\n",
       "        <tr class=\"default\">\n",
       "            <td><i class=\"copy-paste-icon\"\n",
       "                 onclick=\"copyToClipboard('verbose',\n",
       "                          this.parentElement.nextElementSibling)\"\n",
       "            ></i></td>\n",
       "            <td class=\"param\">verbose&nbsp;</td>\n",
       "            <td class=\"value\">False</td>\n",
       "        </tr>\n",
       "    \n",
       "                  </tbody>\n",
       "                </table>\n",
       "            </details>\n",
       "        </div>\n",
       "    </div></div></div><div class=\"sk-serial\"><div class=\"sk-item\"><div class=\"sk-estimator fitted sk-toggleable\"><input class=\"sk-toggleable__control sk-hidden--visually\" id=\"sk-estimator-id-2\" type=\"checkbox\" ><label for=\"sk-estimator-id-2\" class=\"sk-toggleable__label fitted sk-toggleable__label-arrow\"><div><div>TfidfVectorizer</div></div><div><a class=\"sk-estimator-doc-link fitted\" rel=\"noreferrer\" target=\"_blank\" href=\"https://scikit-learn.org/1.7/modules/generated/sklearn.feature_extraction.text.TfidfVectorizer.html\">?<span>Documentation for TfidfVectorizer</span></a></div></label><div class=\"sk-toggleable__content fitted\" data-param-prefix=\"tfidfvectorizer__\">\n",
       "        <div class=\"estimator-table\">\n",
       "            <details>\n",
       "                <summary>Parameters</summary>\n",
       "                <table class=\"parameters-table\">\n",
       "                  <tbody>\n",
       "                    \n",
       "        <tr class=\"default\">\n",
       "            <td><i class=\"copy-paste-icon\"\n",
       "                 onclick=\"copyToClipboard('input',\n",
       "                          this.parentElement.nextElementSibling)\"\n",
       "            ></i></td>\n",
       "            <td class=\"param\">input&nbsp;</td>\n",
       "            <td class=\"value\">&#x27;content&#x27;</td>\n",
       "        </tr>\n",
       "    \n",
       "\n",
       "        <tr class=\"default\">\n",
       "            <td><i class=\"copy-paste-icon\"\n",
       "                 onclick=\"copyToClipboard('encoding',\n",
       "                          this.parentElement.nextElementSibling)\"\n",
       "            ></i></td>\n",
       "            <td class=\"param\">encoding&nbsp;</td>\n",
       "            <td class=\"value\">&#x27;utf-8&#x27;</td>\n",
       "        </tr>\n",
       "    \n",
       "\n",
       "        <tr class=\"default\">\n",
       "            <td><i class=\"copy-paste-icon\"\n",
       "                 onclick=\"copyToClipboard('decode_error',\n",
       "                          this.parentElement.nextElementSibling)\"\n",
       "            ></i></td>\n",
       "            <td class=\"param\">decode_error&nbsp;</td>\n",
       "            <td class=\"value\">&#x27;strict&#x27;</td>\n",
       "        </tr>\n",
       "    \n",
       "\n",
       "        <tr class=\"default\">\n",
       "            <td><i class=\"copy-paste-icon\"\n",
       "                 onclick=\"copyToClipboard('strip_accents',\n",
       "                          this.parentElement.nextElementSibling)\"\n",
       "            ></i></td>\n",
       "            <td class=\"param\">strip_accents&nbsp;</td>\n",
       "            <td class=\"value\">None</td>\n",
       "        </tr>\n",
       "    \n",
       "\n",
       "        <tr class=\"default\">\n",
       "            <td><i class=\"copy-paste-icon\"\n",
       "                 onclick=\"copyToClipboard('lowercase',\n",
       "                          this.parentElement.nextElementSibling)\"\n",
       "            ></i></td>\n",
       "            <td class=\"param\">lowercase&nbsp;</td>\n",
       "            <td class=\"value\">True</td>\n",
       "        </tr>\n",
       "    \n",
       "\n",
       "        <tr class=\"default\">\n",
       "            <td><i class=\"copy-paste-icon\"\n",
       "                 onclick=\"copyToClipboard('preprocessor',\n",
       "                          this.parentElement.nextElementSibling)\"\n",
       "            ></i></td>\n",
       "            <td class=\"param\">preprocessor&nbsp;</td>\n",
       "            <td class=\"value\">None</td>\n",
       "        </tr>\n",
       "    \n",
       "\n",
       "        <tr class=\"default\">\n",
       "            <td><i class=\"copy-paste-icon\"\n",
       "                 onclick=\"copyToClipboard('tokenizer',\n",
       "                          this.parentElement.nextElementSibling)\"\n",
       "            ></i></td>\n",
       "            <td class=\"param\">tokenizer&nbsp;</td>\n",
       "            <td class=\"value\">None</td>\n",
       "        </tr>\n",
       "    \n",
       "\n",
       "        <tr class=\"default\">\n",
       "            <td><i class=\"copy-paste-icon\"\n",
       "                 onclick=\"copyToClipboard('analyzer',\n",
       "                          this.parentElement.nextElementSibling)\"\n",
       "            ></i></td>\n",
       "            <td class=\"param\">analyzer&nbsp;</td>\n",
       "            <td class=\"value\">&#x27;word&#x27;</td>\n",
       "        </tr>\n",
       "    \n",
       "\n",
       "        <tr class=\"default\">\n",
       "            <td><i class=\"copy-paste-icon\"\n",
       "                 onclick=\"copyToClipboard('stop_words',\n",
       "                          this.parentElement.nextElementSibling)\"\n",
       "            ></i></td>\n",
       "            <td class=\"param\">stop_words&nbsp;</td>\n",
       "            <td class=\"value\">None</td>\n",
       "        </tr>\n",
       "    \n",
       "\n",
       "        <tr class=\"default\">\n",
       "            <td><i class=\"copy-paste-icon\"\n",
       "                 onclick=\"copyToClipboard('token_pattern',\n",
       "                          this.parentElement.nextElementSibling)\"\n",
       "            ></i></td>\n",
       "            <td class=\"param\">token_pattern&nbsp;</td>\n",
       "            <td class=\"value\">&#x27;(?u)\\\\b\\\\w\\\\w+\\\\b&#x27;</td>\n",
       "        </tr>\n",
       "    \n",
       "\n",
       "        <tr class=\"default\">\n",
       "            <td><i class=\"copy-paste-icon\"\n",
       "                 onclick=\"copyToClipboard('ngram_range',\n",
       "                          this.parentElement.nextElementSibling)\"\n",
       "            ></i></td>\n",
       "            <td class=\"param\">ngram_range&nbsp;</td>\n",
       "            <td class=\"value\">(1, ...)</td>\n",
       "        </tr>\n",
       "    \n",
       "\n",
       "        <tr class=\"default\">\n",
       "            <td><i class=\"copy-paste-icon\"\n",
       "                 onclick=\"copyToClipboard('max_df',\n",
       "                          this.parentElement.nextElementSibling)\"\n",
       "            ></i></td>\n",
       "            <td class=\"param\">max_df&nbsp;</td>\n",
       "            <td class=\"value\">1.0</td>\n",
       "        </tr>\n",
       "    \n",
       "\n",
       "        <tr class=\"user-set\">\n",
       "            <td><i class=\"copy-paste-icon\"\n",
       "                 onclick=\"copyToClipboard('min_df',\n",
       "                          this.parentElement.nextElementSibling)\"\n",
       "            ></i></td>\n",
       "            <td class=\"param\">min_df&nbsp;</td>\n",
       "            <td class=\"value\">3</td>\n",
       "        </tr>\n",
       "    \n",
       "\n",
       "        <tr class=\"default\">\n",
       "            <td><i class=\"copy-paste-icon\"\n",
       "                 onclick=\"copyToClipboard('max_features',\n",
       "                          this.parentElement.nextElementSibling)\"\n",
       "            ></i></td>\n",
       "            <td class=\"param\">max_features&nbsp;</td>\n",
       "            <td class=\"value\">None</td>\n",
       "        </tr>\n",
       "    \n",
       "\n",
       "        <tr class=\"default\">\n",
       "            <td><i class=\"copy-paste-icon\"\n",
       "                 onclick=\"copyToClipboard('vocabulary',\n",
       "                          this.parentElement.nextElementSibling)\"\n",
       "            ></i></td>\n",
       "            <td class=\"param\">vocabulary&nbsp;</td>\n",
       "            <td class=\"value\">None</td>\n",
       "        </tr>\n",
       "    \n",
       "\n",
       "        <tr class=\"default\">\n",
       "            <td><i class=\"copy-paste-icon\"\n",
       "                 onclick=\"copyToClipboard('binary',\n",
       "                          this.parentElement.nextElementSibling)\"\n",
       "            ></i></td>\n",
       "            <td class=\"param\">binary&nbsp;</td>\n",
       "            <td class=\"value\">False</td>\n",
       "        </tr>\n",
       "    \n",
       "\n",
       "        <tr class=\"default\">\n",
       "            <td><i class=\"copy-paste-icon\"\n",
       "                 onclick=\"copyToClipboard('dtype',\n",
       "                          this.parentElement.nextElementSibling)\"\n",
       "            ></i></td>\n",
       "            <td class=\"param\">dtype&nbsp;</td>\n",
       "            <td class=\"value\">&lt;class &#x27;numpy.float64&#x27;&gt;</td>\n",
       "        </tr>\n",
       "    \n",
       "\n",
       "        <tr class=\"default\">\n",
       "            <td><i class=\"copy-paste-icon\"\n",
       "                 onclick=\"copyToClipboard('norm',\n",
       "                          this.parentElement.nextElementSibling)\"\n",
       "            ></i></td>\n",
       "            <td class=\"param\">norm&nbsp;</td>\n",
       "            <td class=\"value\">&#x27;l2&#x27;</td>\n",
       "        </tr>\n",
       "    \n",
       "\n",
       "        <tr class=\"default\">\n",
       "            <td><i class=\"copy-paste-icon\"\n",
       "                 onclick=\"copyToClipboard('use_idf',\n",
       "                          this.parentElement.nextElementSibling)\"\n",
       "            ></i></td>\n",
       "            <td class=\"param\">use_idf&nbsp;</td>\n",
       "            <td class=\"value\">True</td>\n",
       "        </tr>\n",
       "    \n",
       "\n",
       "        <tr class=\"default\">\n",
       "            <td><i class=\"copy-paste-icon\"\n",
       "                 onclick=\"copyToClipboard('smooth_idf',\n",
       "                          this.parentElement.nextElementSibling)\"\n",
       "            ></i></td>\n",
       "            <td class=\"param\">smooth_idf&nbsp;</td>\n",
       "            <td class=\"value\">True</td>\n",
       "        </tr>\n",
       "    \n",
       "\n",
       "        <tr class=\"default\">\n",
       "            <td><i class=\"copy-paste-icon\"\n",
       "                 onclick=\"copyToClipboard('sublinear_tf',\n",
       "                          this.parentElement.nextElementSibling)\"\n",
       "            ></i></td>\n",
       "            <td class=\"param\">sublinear_tf&nbsp;</td>\n",
       "            <td class=\"value\">False</td>\n",
       "        </tr>\n",
       "    \n",
       "                  </tbody>\n",
       "                </table>\n",
       "            </details>\n",
       "        </div>\n",
       "    </div></div></div><div class=\"sk-item\"><div class=\"sk-estimator fitted sk-toggleable\"><input class=\"sk-toggleable__control sk-hidden--visually\" id=\"sk-estimator-id-3\" type=\"checkbox\" ><label for=\"sk-estimator-id-3\" class=\"sk-toggleable__label fitted sk-toggleable__label-arrow\"><div><div>TruncatedSVD</div></div><div><a class=\"sk-estimator-doc-link fitted\" rel=\"noreferrer\" target=\"_blank\" href=\"https://scikit-learn.org/1.7/modules/generated/sklearn.decomposition.TruncatedSVD.html\">?<span>Documentation for TruncatedSVD</span></a></div></label><div class=\"sk-toggleable__content fitted\" data-param-prefix=\"truncatedsvd__\">\n",
       "        <div class=\"estimator-table\">\n",
       "            <details>\n",
       "                <summary>Parameters</summary>\n",
       "                <table class=\"parameters-table\">\n",
       "                  <tbody>\n",
       "                    \n",
       "        <tr class=\"user-set\">\n",
       "            <td><i class=\"copy-paste-icon\"\n",
       "                 onclick=\"copyToClipboard('n_components',\n",
       "                          this.parentElement.nextElementSibling)\"\n",
       "            ></i></td>\n",
       "            <td class=\"param\">n_components&nbsp;</td>\n",
       "            <td class=\"value\">128</td>\n",
       "        </tr>\n",
       "    \n",
       "\n",
       "        <tr class=\"default\">\n",
       "            <td><i class=\"copy-paste-icon\"\n",
       "                 onclick=\"copyToClipboard('algorithm',\n",
       "                          this.parentElement.nextElementSibling)\"\n",
       "            ></i></td>\n",
       "            <td class=\"param\">algorithm&nbsp;</td>\n",
       "            <td class=\"value\">&#x27;randomized&#x27;</td>\n",
       "        </tr>\n",
       "    \n",
       "\n",
       "        <tr class=\"default\">\n",
       "            <td><i class=\"copy-paste-icon\"\n",
       "                 onclick=\"copyToClipboard('n_iter',\n",
       "                          this.parentElement.nextElementSibling)\"\n",
       "            ></i></td>\n",
       "            <td class=\"param\">n_iter&nbsp;</td>\n",
       "            <td class=\"value\">5</td>\n",
       "        </tr>\n",
       "    \n",
       "\n",
       "        <tr class=\"default\">\n",
       "            <td><i class=\"copy-paste-icon\"\n",
       "                 onclick=\"copyToClipboard('n_oversamples',\n",
       "                          this.parentElement.nextElementSibling)\"\n",
       "            ></i></td>\n",
       "            <td class=\"param\">n_oversamples&nbsp;</td>\n",
       "            <td class=\"value\">10</td>\n",
       "        </tr>\n",
       "    \n",
       "\n",
       "        <tr class=\"default\">\n",
       "            <td><i class=\"copy-paste-icon\"\n",
       "                 onclick=\"copyToClipboard('power_iteration_normalizer',\n",
       "                          this.parentElement.nextElementSibling)\"\n",
       "            ></i></td>\n",
       "            <td class=\"param\">power_iteration_normalizer&nbsp;</td>\n",
       "            <td class=\"value\">&#x27;auto&#x27;</td>\n",
       "        </tr>\n",
       "    \n",
       "\n",
       "        <tr class=\"user-set\">\n",
       "            <td><i class=\"copy-paste-icon\"\n",
       "                 onclick=\"copyToClipboard('random_state',\n",
       "                          this.parentElement.nextElementSibling)\"\n",
       "            ></i></td>\n",
       "            <td class=\"param\">random_state&nbsp;</td>\n",
       "            <td class=\"value\">1</td>\n",
       "        </tr>\n",
       "    \n",
       "\n",
       "        <tr class=\"default\">\n",
       "            <td><i class=\"copy-paste-icon\"\n",
       "                 onclick=\"copyToClipboard('tol',\n",
       "                          this.parentElement.nextElementSibling)\"\n",
       "            ></i></td>\n",
       "            <td class=\"param\">tol&nbsp;</td>\n",
       "            <td class=\"value\">0.0</td>\n",
       "        </tr>\n",
       "    \n",
       "                  </tbody>\n",
       "                </table>\n",
       "            </details>\n",
       "        </div>\n",
       "    </div></div></div></div></div></div></div><script>function copyToClipboard(text, element) {\n",
       "    // Get the parameter prefix from the closest toggleable content\n",
       "    const toggleableContent = element.closest('.sk-toggleable__content');\n",
       "    const paramPrefix = toggleableContent ? toggleableContent.dataset.paramPrefix : '';\n",
       "    const fullParamName = paramPrefix ? `${paramPrefix}${text}` : text;\n",
       "\n",
       "    const originalStyle = element.style;\n",
       "    const computedStyle = window.getComputedStyle(element);\n",
       "    const originalWidth = computedStyle.width;\n",
       "    const originalHTML = element.innerHTML.replace('Copied!', '');\n",
       "\n",
       "    navigator.clipboard.writeText(fullParamName)\n",
       "        .then(() => {\n",
       "            element.style.width = originalWidth;\n",
       "            element.style.color = 'green';\n",
       "            element.innerHTML = \"Copied!\";\n",
       "\n",
       "            setTimeout(() => {\n",
       "                element.innerHTML = originalHTML;\n",
       "                element.style = originalStyle;\n",
       "            }, 2000);\n",
       "        })\n",
       "        .catch(err => {\n",
       "            console.error('Failed to copy:', err);\n",
       "            element.style.color = 'red';\n",
       "            element.innerHTML = \"Failed!\";\n",
       "            setTimeout(() => {\n",
       "                element.innerHTML = originalHTML;\n",
       "                element.style = originalStyle;\n",
       "            }, 2000);\n",
       "        });\n",
       "    return false;\n",
       "}\n",
       "\n",
       "document.querySelectorAll('.fa-regular.fa-copy').forEach(function(element) {\n",
       "    const toggleableContent = element.closest('.sk-toggleable__content');\n",
       "    const paramPrefix = toggleableContent ? toggleableContent.dataset.paramPrefix : '';\n",
       "    const paramName = element.parentElement.nextElementSibling.textContent.trim();\n",
       "    const fullParamName = paramPrefix ? `${paramPrefix}${paramName}` : paramName;\n",
       "\n",
       "    element.setAttribute('title', fullParamName);\n",
       "});\n",
       "</script></body>"
      ],
      "text/plain": [
       "Pipeline(steps=[('tfidfvectorizer', TfidfVectorizer(min_df=3)),\n",
       "                ('truncatedsvd',\n",
       "                 TruncatedSVD(n_components=128, random_state=1))])"
      ]
     },
     "execution_count": 57,
     "metadata": {},
     "output_type": "execute_result"
    }
   ],
   "source": [
    "pipeline.fit(df_results.answer_llm + ' ' + df_results.answer_orig + ' ' + df_results.question)"
   ]
  },
  {
   "cell_type": "markdown",
   "id": "f47fcb9c-041b-43d1-b9cc-b0a7d9b17ebd",
   "metadata": {},
   "source": [
    "### Vectorizo la respuesta LLM y Original"
   ]
  },
  {
   "cell_type": "code",
   "execution_count": 61,
   "id": "66f5a624-341f-4654-95e4-2e59f62cb7cd",
   "metadata": {},
   "outputs": [],
   "source": [
    "answer_llm_embeddings = pipeline.transform(df_results.answer_llm)\n",
    "answer_orig_embeddings = pipeline.transform(df_results.answer_orig)"
   ]
  },
  {
   "cell_type": "code",
   "execution_count": 62,
   "id": "70cc68e7-61cd-46f9-b383-a1197879a3b4",
   "metadata": {},
   "outputs": [
    {
     "data": {
      "text/plain": [
       "array([ 1.55498588e-01,  1.12196444e-01, -1.27448731e-01,  7.29928733e-02,\n",
       "       -8.37144913e-02,  7.12563053e-02, -4.17337192e-02, -8.01481645e-03,\n",
       "       -2.48426718e-02, -1.96725163e-02, -9.15480506e-03, -2.68991351e-02,\n",
       "       -4.35971673e-02,  2.90931663e-02, -2.36823437e-02, -4.99815087e-02,\n",
       "        6.65563175e-02,  8.34148810e-02, -3.29049137e-02,  4.33720994e-02,\n",
       "        1.95608402e-02,  9.82027760e-03,  6.25639037e-02, -6.11572037e-02,\n",
       "       -7.70446608e-02, -4.53851792e-02,  9.59588142e-02,  2.33611751e-02,\n",
       "       -3.75310787e-02, -1.20919087e-02, -4.42022930e-02, -2.80196178e-02,\n",
       "        4.82849319e-02,  6.44100659e-02, -6.05386231e-02, -3.75276419e-02,\n",
       "       -3.73247344e-02,  6.05745643e-02,  2.76423210e-02, -6.13524037e-02,\n",
       "        6.59253837e-02, -1.99575837e-02,  2.05179913e-02,  6.58706921e-03,\n",
       "        7.37963169e-02,  5.55383382e-03,  7.00592681e-02, -7.29858778e-02,\n",
       "        2.34118930e-02,  6.07270187e-03, -1.30806947e-02, -7.59930012e-03,\n",
       "       -6.70146252e-02,  1.30625409e-02,  1.60097905e-02,  4.00321723e-02,\n",
       "       -9.22382208e-04,  3.28149483e-02, -5.56855858e-02, -4.15039202e-02,\n",
       "        3.39198832e-02, -7.07515404e-02,  3.33823457e-02,  5.84841558e-03,\n",
       "       -8.86650325e-03,  4.19277370e-02, -9.54013477e-03,  3.51199567e-02,\n",
       "       -4.54270469e-02,  6.38547439e-02,  5.78530330e-03,  9.17111623e-05,\n",
       "        2.59864701e-02, -2.05634658e-02,  3.27432138e-02,  2.16964235e-02,\n",
       "       -4.64234472e-03,  6.40766912e-03, -2.01295443e-02, -4.54728690e-02,\n",
       "       -2.66143910e-02, -5.72710953e-02, -5.26462380e-03,  8.68273214e-02,\n",
       "       -2.27626900e-02,  8.66946945e-03,  1.95901569e-02, -2.55300943e-02,\n",
       "       -2.04147593e-04,  2.85380762e-02, -8.46928817e-02,  1.77240621e-02,\n",
       "        5.01588233e-02, -2.51341670e-02,  2.92274695e-03,  2.10638065e-02,\n",
       "        2.04180247e-02,  1.92624666e-02,  3.51718399e-02, -1.47136723e-02,\n",
       "       -5.60574711e-02, -4.99547408e-02,  5.85875605e-03, -3.01305084e-02,\n",
       "       -4.20784826e-03,  3.51327604e-02,  1.64206373e-02,  9.42815384e-03,\n",
       "       -5.10147418e-02,  6.71760080e-03, -1.87526355e-02, -8.38005042e-03,\n",
       "       -2.93807719e-02,  8.29654990e-04, -1.84233263e-04,  6.57377696e-02,\n",
       "        1.82648214e-02,  8.89191220e-03, -5.90471099e-02,  2.48069497e-02,\n",
       "       -2.97603109e-02, -1.19496737e-02, -2.80737011e-02, -5.67093725e-02,\n",
       "       -2.51115519e-02,  2.80074916e-02, -8.90336404e-04,  1.14581084e-02])"
      ]
     },
     "execution_count": 62,
     "metadata": {},
     "output_type": "execute_result"
    }
   ],
   "source": [
    "answer_llm_embeddings[0]"
   ]
  },
  {
   "cell_type": "markdown",
   "id": "936ff53f-9a4a-4a75-b571-00aeb722d202",
   "metadata": {},
   "source": [
    "### Cálculo el promedio de la similitud de coseno de los dos vectores"
   ]
  },
  {
   "cell_type": "code",
   "execution_count": 66,
   "id": "b90c3bd4-ec98-4dc8-970c-60048795b118",
   "metadata": {},
   "outputs": [
    {
     "data": {
      "text/plain": [
       "np.float64(0.8415841233490402)"
      ]
     },
     "execution_count": 66,
     "metadata": {},
     "output_type": "execute_result"
    }
   ],
   "source": [
    "list_cosine = [cosine(answer_llm, answer_orig) \n",
    "               for answer_llm, answer_orig  \n",
    "               in zip(answer_llm_embeddings, answer_orig_embeddings)\n",
    "]\n",
    "\n",
    "np.mean(list_cosine)"
   ]
  },
  {
   "cell_type": "markdown",
   "id": "297984ba-bfe6-4187-89f0-14e62f754be0",
   "metadata": {},
   "source": [
    "Más eficiente"
   ]
  },
  {
   "cell_type": "code",
   "execution_count": 74,
   "id": "cd0c78e8-83a7-43fa-9a0d-154f3f6f5363",
   "metadata": {},
   "outputs": [
    {
     "data": {
      "text/plain": [
       "np.float64(0.8415841233490402)"
      ]
     },
     "execution_count": 74,
     "metadata": {},
     "output_type": "execute_result"
    }
   ],
   "source": [
    "cosine_similarities = np.diag(cosine_similarity(answer_llm_embeddings, answer_orig_embeddings))\n",
    "np.mean(cosine_similarities)"
   ]
  },
  {
   "cell_type": "markdown",
   "id": "9b220f8f-5804-4a65-acff-cbfca1929448",
   "metadata": {},
   "source": [
    "## Q6. Rouge"
   ]
  },
  {
   "cell_type": "code",
   "execution_count": 77,
   "id": "dd6c1f7d-3b95-4275-897a-c13e6da553b1",
   "metadata": {},
   "outputs": [
    {
     "data": {
      "text/plain": [
       "answer_llm     Yes, all sessions are recorded, so if you miss...\n",
       "answer_orig    Everything is recorded, so you won’t miss anyt...\n",
       "document                                                5170565b\n",
       "question                    Are sessions recorded if I miss one?\n",
       "course                                 machine-learning-zoomcamp\n",
       "Name: 10, dtype: object"
      ]
     },
     "execution_count": 77,
     "metadata": {},
     "output_type": "execute_result"
    }
   ],
   "source": [
    "rouge_scorer = Rouge()"
   ]
  },
  {
   "cell_type": "markdown",
   "id": "4cdf9924-4c81-40c7-b0f4-8d62ef9bcd91",
   "metadata": {},
   "source": [
    "### Pruebo el cálculo del rouge"
   ]
  },
  {
   "cell_type": "code",
   "execution_count": 77,
   "id": "f8c9fdb7",
   "metadata": {},
   "outputs": [
    {
     "data": {
      "text/plain": [
       "answer_llm     Yes, all sessions are recorded, so if you miss...\n",
       "answer_orig    Everything is recorded, so you won’t miss anyt...\n",
       "document                                                5170565b\n",
       "question                    Are sessions recorded if I miss one?\n",
       "course                                 machine-learning-zoomcamp\n",
       "Name: 10, dtype: object"
      ]
     },
     "execution_count": 77,
     "metadata": {},
     "output_type": "execute_result"
    }
   ],
   "source": [
    "rouge_scorer = Rouge()\n",
    "\n",
    "r = df_results.iloc[10]\n",
    "r"
   ]
  },
  {
   "cell_type": "code",
   "execution_count": 78,
   "id": "5e5a7d29-a584-446a-b3cd-ba4a44398e8a",
   "metadata": {},
   "outputs": [
    {
     "data": {
      "text/plain": [
       "{'rouge-1': {'r': 0.45454545454545453,\n",
       "  'p': 0.45454545454545453,\n",
       "  'f': 0.45454544954545456},\n",
       " 'rouge-2': {'r': 0.21621621621621623,\n",
       "  'p': 0.21621621621621623,\n",
       "  'f': 0.21621621121621637},\n",
       " 'rouge-l': {'r': 0.3939393939393939,\n",
       "  'p': 0.3939393939393939,\n",
       "  'f': 0.393939388939394}}"
      ]
     },
     "execution_count": 78,
     "metadata": {},
     "output_type": "execute_result"
    }
   ],
   "source": [
    "scores = rouge_scorer.get_scores(r.answer_llm, r.answer_orig)[0]\n",
    "scores"
   ]
  },
  {
   "cell_type": "code",
   "execution_count": 80,
   "id": "64abe669-9576-45e1-a9c0-832e57ed11cc",
   "metadata": {},
   "outputs": [
    {
     "data": {
      "text/plain": [
       "{'r': 0.45454545454545453, 'p': 0.45454545454545453, 'f': 0.45454544954545456}"
      ]
     },
     "execution_count": 80,
     "metadata": {},
     "output_type": "execute_result"
    }
   ],
   "source": [
    "scores['rouge-1']"
   ]
  },
  {
   "cell_type": "markdown",
   "id": "046438c0-a948-44ba-a5ca-21fffc5a0f0d",
   "metadata": {},
   "source": [
    "### Cálculo el promedio del f1 correspondiente al rouge-1"
   ]
  },
  {
   "cell_type": "code",
   "execution_count": 110,
   "id": "9411b89d-e0b0-4604-8a5a-82f320a92802",
   "metadata": {},
   "outputs": [
    {
     "data": {
      "text/plain": [
       "{'rouge-1': {'r': 0.09090909090909091,\n",
       "  'p': 0.3888888888888889,\n",
       "  'f': 0.1473684179811635},\n",
       " 'rouge-2': {'r': 0.02127659574468085, 'p': 0.1, 'f': 0.035087716405047945},\n",
       " 'rouge-l': {'r': 0.09090909090909091,\n",
       "  'p': 0.3888888888888889,\n",
       "  'f': 0.1473684179811635}}"
      ]
     },
     "execution_count": 110,
     "metadata": {},
     "output_type": "execute_result"
    }
   ],
   "source": [
    "list_rouge = [rouge_scorer.get_scores(answer_llm, answer_orig)[0] \n",
    "              for answer_llm, answer_orig\n",
    "              in zip(df_results.answer_llm, df_results.answer_orig)\n",
    "]\n",
    "\n",
    "list_rouge[-1]"
   ]
  },
  {
   "cell_type": "code",
   "execution_count": 111,
   "id": "52523650-adc5-4d1b-9bd1-6402b8691f61",
   "metadata": {},
   "outputs": [
    {
     "data": {
      "text/plain": [
       "np.float64(0.3516946452113943)"
      ]
     },
     "execution_count": 111,
     "metadata": {},
     "output_type": "execute_result"
    }
   ],
   "source": [
    "list_rouge_1_f1 = [rouge['rouge-1']['f'] for rouge in list_rouge]\n",
    "np.mean(list_rouge_1_f1)"
   ]
  },
  {
   "cell_type": "markdown",
   "id": "898765ad-992f-4bbf-af6a-24cfbd755c87",
   "metadata": {},
   "source": [
    "### Función generica que permite obtener diferentes cálculos"
   ]
  },
  {
   "cell_type": "code",
   "execution_count": 115,
   "id": "499d5b1d-f4cd-4f37-a2d1-22e0f4a3254b",
   "metadata": {},
   "outputs": [],
   "source": [
    "def obtener_metrica_rouge(serie_a, serie_b ,tipo_rouge, tipo_metrica, tipo_calculo):\n",
    "    \n",
    "    list_rouge = [rouge_scorer.get_scores(a, b)[0]\n",
    "                  for a, b\n",
    "                  in zip(serie_a, serie_b)\n",
    "                 ]\n",
    "\n",
    "    if tipo_calculo == \"mean\":\n",
    "        list_trouge_tmetrica = [rouge[tipo_rouge][tipo_metrica] for rouge in list_rouge]\n",
    "        return np.mean(list_rouge_1_f1)\n",
    "    elif tipo_calculo == \"max\":\n",
    "        list_trouge_tmetrica = [rouge[tipo_rouge][tipo_metrica] for rouge in list_rouge]\n",
    "        return np.mean(list_rouge_1_f1)"
   ]
  },
  {
   "cell_type": "code",
   "execution_count": 116,
   "id": "5c6251c6-bd11-4ff4-a561-9c19b548cad2",
   "metadata": {},
   "outputs": [
    {
     "data": {
      "text/plain": [
       "np.float64(0.3516946452113943)"
      ]
     },
     "execution_count": 116,
     "metadata": {},
     "output_type": "execute_result"
    }
   ],
   "source": [
    "obtener_metrica_rouge(df_results.answer_llm, df_results.answer_orig, 'rouge-1', 'f', 'mean')    "
   ]
  }
 ],
 "metadata": {
  "kernelspec": {
   "display_name": "Python 3 (ipykernel)",
   "language": "python",
   "name": "python3"
  },
  "language_info": {
   "codemirror_mode": {
    "name": "ipython",
    "version": 3
   },
   "file_extension": ".py",
   "mimetype": "text/x-python",
   "name": "python",
   "nbconvert_exporter": "python",
   "pygments_lexer": "ipython3",
   "version": "3.13.3"
  }
 },
 "nbformat": 4,
 "nbformat_minor": 5
}
