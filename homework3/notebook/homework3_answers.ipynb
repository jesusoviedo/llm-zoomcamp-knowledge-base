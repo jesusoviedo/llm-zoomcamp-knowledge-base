{
 "cells": [
  {
   "cell_type": "markdown",
   "id": "66035956-2473-4c94-b843-1cdf2ff62e66",
   "metadata": {},
   "source": [
    "# Homework 3"
   ]
  },
  {
   "cell_type": "markdown",
   "id": "d3426000-becf-4899-a9a3-152f23d5e545",
   "metadata": {},
   "source": [
    "Importo los modulos necesarios"
   ]
  },
  {
   "cell_type": "code",
   "execution_count": 9,
   "id": "3666acc6-00d2-41cf-9dd6-8cb5c8081e33",
   "metadata": {},
   "outputs": [],
   "source": [
    "import requests\n",
    "import pandas as pd\n",
    "import minsearch\n",
    "\n",
    "from tqdm.auto import tqdm"
   ]
  },
  {
   "cell_type": "markdown",
   "id": "407c3d36-3355-4fdf-a065-db279080072e",
   "metadata": {},
   "source": [
    "### Importo los documentos"
   ]
  },
  {
   "cell_type": "code",
   "execution_count": 14,
   "id": "32b9528c-ce3a-4c19-80eb-f01fea096e1c",
   "metadata": {},
   "outputs": [],
   "source": [
    "url_prefix = 'https://raw.githubusercontent.com/DataTalksClub/llm-zoomcamp/main/03-evaluation/'\n",
    "docs_url = url_prefix + 'search_evaluation/documents-with-ids.json'\n",
    "documents = requests.get(docs_url).json()"
   ]
  },
  {
   "cell_type": "code",
   "execution_count": 15,
   "id": "4f74a56d-6f04-4bdf-be65-3a3251878c6a",
   "metadata": {},
   "outputs": [
    {
     "data": {
      "text/plain": [
       "[{'text': \"The purpose of this document is to capture frequently asked technical questions\\nThe exact day and hour of the course will be 15th Jan 2024 at 17h00. The course will start with the first  “Office Hours'' live.1\\nSubscribe to course public Google Calendar (it works from Desktop only).\\nRegister before the course starts using this link.\\nJoin the course Telegram channel with announcements.\\nDon’t forget to register in DataTalks.Club's Slack and join the channel.\",\n",
       "  'section': 'General course-related questions',\n",
       "  'question': 'Course - When will the course start?',\n",
       "  'course': 'data-engineering-zoomcamp',\n",
       "  'id': 'c02e79ef'},\n",
       " {'text': 'GitHub - DataTalksClub data-engineering-zoomcamp#prerequisites',\n",
       "  'section': 'General course-related questions',\n",
       "  'question': 'Course - What are the prerequisites for this course?',\n",
       "  'course': 'data-engineering-zoomcamp',\n",
       "  'id': '1f6520ca'},\n",
       " {'text': \"Yes, even if you don't register, you're still eligible to submit the homeworks.\\nBe aware, however, that there will be deadlines for turning in the final projects. So don't leave everything for the last minute.\",\n",
       "  'section': 'General course-related questions',\n",
       "  'question': 'Course - Can I still join the course after the start date?',\n",
       "  'course': 'data-engineering-zoomcamp',\n",
       "  'id': '7842b56a'}]"
      ]
     },
     "execution_count": 15,
     "metadata": {},
     "output_type": "execute_result"
    }
   ],
   "source": [
    "documents[:3]"
   ]
  },
  {
   "cell_type": "markdown",
   "id": "275a0762-52d6-4a58-baf1-0ffc25a7266c",
   "metadata": {},
   "source": [
    "### Importo los datos de referencia"
   ]
  },
  {
   "cell_type": "code",
   "execution_count": 16,
   "id": "7bd6c8ab-287c-40dd-969b-1dcfde947cb6",
   "metadata": {},
   "outputs": [],
   "source": [
    "ground_truth_url = url_prefix + 'search_evaluation/ground-truth-data.csv'\n",
    "df_ground_truth = pd.read_csv(ground_truth_url)\n",
    "ground_truth = df_ground_truth.to_dict(orient='records')"
   ]
  },
  {
   "cell_type": "code",
   "execution_count": 17,
   "id": "16a50a25-a8d6-4285-b41a-b940c844098d",
   "metadata": {},
   "outputs": [
    {
     "data": {
      "text/plain": [
       "[{'question': 'When does the course begin?',\n",
       "  'course': 'data-engineering-zoomcamp',\n",
       "  'document': 'c02e79ef'},\n",
       " {'question': 'How can I get the course schedule?',\n",
       "  'course': 'data-engineering-zoomcamp',\n",
       "  'document': 'c02e79ef'},\n",
       " {'question': 'What is the link for course registration?',\n",
       "  'course': 'data-engineering-zoomcamp',\n",
       "  'document': 'c02e79ef'}]"
      ]
     },
     "execution_count": 17,
     "metadata": {},
     "output_type": "execute_result"
    }
   ],
   "source": [
    "ground_truth[:3]"
   ]
  },
  {
   "cell_type": "code",
   "execution_count": 33,
   "id": "aff93a57-477f-4fed-bc91-1165cfb0c009",
   "metadata": {},
   "outputs": [],
   "source": [
    "def hit_rate(relevance_total):\n",
    "    cnt = 0\n",
    "\n",
    "    for line in relevance_total:\n",
    "        if True in line:\n",
    "            cnt = cnt + 1\n",
    "            \n",
    "    return cnt / len(relevance_total)\n",
    "\n",
    "def mrr(relevance_total):\n",
    "    total_score = 0.0\n",
    "\n",
    "    for line in relevance_total:\n",
    "        for rank in range(len(line)):\n",
    "            if line[rank] == True:\n",
    "                total_score = total_score + 1 / (rank + 1)\n",
    "\n",
    "    return total_score / len(relevance_total)\n",
    "\n",
    "def evaluate(ground_truth, search_function):\n",
    "    relevance_total = []\n",
    "\n",
    "    for q in tqdm(ground_truth):\n",
    "        doc_id = q['document']\n",
    "        results = search_function(q)\n",
    "        relevance = [d['id'] == doc_id for d in results]\n",
    "        relevance_total.append(relevance)\n",
    "\n",
    "    return {\n",
    "        'hit_rate': f\"{hit_rate(relevance_total):.4f}\",\n",
    "        'mrr': f\"{mrr(relevance_total):.4f}\",\n",
    "    }"
   ]
  },
  {
   "cell_type": "markdown",
   "id": "9d9c9130-5285-4495-9f8c-b2b9def0b576",
   "metadata": {},
   "source": [
    "## Q1. Minsearch text"
   ]
  },
  {
   "cell_type": "markdown",
   "id": "e2825907-2946-4902-a984-ff5619c386f5",
   "metadata": {},
   "source": [
    "### Indexo los documentos en minsearch"
   ]
  },
  {
   "cell_type": "code",
   "execution_count": 22,
   "id": "de32e61d-c119-4c44-aff5-3f5924153488",
   "metadata": {},
   "outputs": [
    {
     "data": {
      "text/plain": [
       "<minsearch.minsearch.Index at 0x7f62a3301940>"
      ]
     },
     "execution_count": 22,
     "metadata": {},
     "output_type": "execute_result"
    }
   ],
   "source": [
    "index = minsearch.Index(\n",
    "    text_fields=[\"question\", \"text\", \"section\"],\n",
    "    keyword_fields=[\"course\", \"id\"]\n",
    ")\n",
    "\n",
    "index.fit(documents)"
   ]
  },
  {
   "cell_type": "markdown",
   "id": "b045750e-27b4-427f-9b78-5624652971bc",
   "metadata": {},
   "source": [
    "### Función de busqueda con minsearch"
   ]
  },
  {
   "cell_type": "code",
   "execution_count": 23,
   "id": "75814bb7-f1de-4027-ab4a-25837c698220",
   "metadata": {},
   "outputs": [],
   "source": [
    "def minsearch_search(query, course):\n",
    "    boost = {'question': 1.5, 'section': 0.1}\n",
    "\n",
    "    results = index.search(\n",
    "        query=query,\n",
    "        filter_dict={'course': course},\n",
    "        boost_dict=boost,\n",
    "        num_results=5\n",
    "    )\n",
    "\n",
    "    return results"
   ]
  },
  {
   "cell_type": "code",
   "execution_count": 34,
   "id": "e0db7c33-fa64-46eb-96c0-55ee47599d4d",
   "metadata": {},
   "outputs": [
    {
     "data": {
      "application/vnd.jupyter.widget-view+json": {
       "model_id": "91914d5c06f340dcbece20961a9695db",
       "version_major": 2,
       "version_minor": 0
      },
      "text/plain": [
       "  0%|          | 0/4627 [00:00<?, ?it/s]"
      ]
     },
     "metadata": {},
     "output_type": "display_data"
    },
    {
     "data": {
      "text/plain": [
       "{'hit_rate': '0.8487', 'mrr': '0.7288'}"
      ]
     },
     "execution_count": 34,
     "metadata": {},
     "output_type": "execute_result"
    }
   ],
   "source": [
    "evaluate(ground_truth, lambda q: minsearch_search(q['question'], q['course']))"
   ]
  },
  {
   "cell_type": "markdown",
   "id": "a7e7ae85-f62f-4734-80cc-f3753db99845",
   "metadata": {},
   "source": [
    "## Q2. Vector search for question"
   ]
  },
  {
   "cell_type": "markdown",
   "id": "eb90bc34-95e6-4603-a33b-7e8e43b433df",
   "metadata": {},
   "source": [
    "## Q2. Cosine similarity with another vector"
   ]
  },
  {
   "cell_type": "markdown",
   "id": "76e19124-98a1-4c2f-806f-01751c676c92",
   "metadata": {},
   "source": [
    "`np.linalg.norm(q)`: calcula la norma euclidiana (también llamada norma L2) del vector q."
   ]
  },
  {
   "cell_type": "code",
   "execution_count": 6,
   "id": "f8dec5b8-8598-4ed4-851a-d15157780c6e",
   "metadata": {},
   "outputs": [
    {
     "data": {
      "text/plain": [
       "np.float64(1.0)"
      ]
     },
     "execution_count": 6,
     "metadata": {},
     "output_type": "execute_result"
    }
   ],
   "source": [
    "q = result[0]\n",
    "np.linalg.norm(q)"
   ]
  },
  {
   "cell_type": "markdown",
   "id": "49204467-c734-4d59-a38f-53d673ff55b9",
   "metadata": {},
   "source": [
    "Si el resultado es `1`, eso implica que el vector `q` es un vector normalizado, es decir, tiene una longitud (o magnitud) de exactamente 1.\n",
    "\n",
    "Esto es muy común en el contexto de búsqueda semántica o embeddings, donde los modelos (como `FastEmbed`, `SentenceTransformers`, `OpenAI embeddings`, etc.) normalizan automáticamente sus vectores de salida. Esto se hace para que la similitud coseno entre vectores pueda calcularse simplemente con el producto punto."
   ]
  },
  {
   "cell_type": "code",
   "execution_count": 7,
   "id": "ae1950a1-76de-4673-99ff-90d79aba08b6",
   "metadata": {},
   "outputs": [
    {
     "data": {
      "text/plain": [
       "np.float64(1.0000000000000002)"
      ]
     },
     "execution_count": 7,
     "metadata": {},
     "output_type": "execute_result"
    }
   ],
   "source": [
    "q.dot(q)"
   ]
  },
  {
   "cell_type": "code",
   "execution_count": 8,
   "id": "567a7df4-1207-4a8b-93f1-b1a2d0b92089",
   "metadata": {},
   "outputs": [],
   "source": [
    "doc = 'Can I still join the course after the start date?'\n",
    "result_2 = embed_data(doc)"
   ]
  },
  {
   "cell_type": "code",
   "execution_count": 9,
   "id": "96fcbb63-b9ed-44ed-ac14-cd47c69dd64e",
   "metadata": {},
   "outputs": [
    {
     "data": {
      "text/plain": [
       "np.float64(-0.12396320482168117)"
      ]
     },
     "execution_count": 9,
     "metadata": {},
     "output_type": "execute_result"
    }
   ],
   "source": [
    "r = result_2[0]\n",
    "r.min()"
   ]
  },
  {
   "cell_type": "code",
   "execution_count": 10,
   "id": "1565fe9a-e9e1-41e0-a3f4-bf2e97a22c0b",
   "metadata": {},
   "outputs": [
    {
     "data": {
      "text/plain": [
       "np.float64(0.9008528895674548)"
      ]
     },
     "execution_count": 10,
     "metadata": {},
     "output_type": "execute_result"
    }
   ],
   "source": [
    "q.dot(r)"
   ]
  },
  {
   "cell_type": "markdown",
   "id": "7d7f2abf-3fef-4fcd-a512-0ace571ceee7",
   "metadata": {},
   "source": [
    "## Q3. Ranking by cosine"
   ]
  },
  {
   "cell_type": "code",
   "execution_count": 11,
   "id": "e53748c1-09db-4977-9f83-aa085a5a5f17",
   "metadata": {},
   "outputs": [],
   "source": [
    "documents = [{'text': \"Yes, even if you don't register, you're still eligible to submit the homeworks.\\nBe aware, however, that there will be deadlines for turning in the final projects. So don't leave everything for the last minute.\",\n",
    "  'section': 'General course-related questions',\n",
    "  'question': 'Course - Can I still join the course after the start date?',\n",
    "  'course': 'data-engineering-zoomcamp'},\n",
    " {'text': 'Yes, we will keep all the materials after the course finishes, so you can follow the course at your own pace after it finishes.\\nYou can also continue looking at the homeworks and continue preparing for the next cohort. I guess you can also start working on your final capstone project.',\n",
    "  'section': 'General course-related questions',\n",
    "  'question': 'Course - Can I follow the course after it finishes?',\n",
    "  'course': 'data-engineering-zoomcamp'},\n",
    " {'text': \"The purpose of this document is to capture frequently asked technical questions\\nThe exact day and hour of the course will be 15th Jan 2024 at 17h00. The course will start with the first  “Office Hours'' live.1\\nSubscribe to course public Google Calendar (it works from Desktop only).\\nRegister before the course starts using this link.\\nJoin the course Telegram channel with announcements.\\nDon’t forget to register in DataTalks.Club's Slack and join the channel.\",\n",
    "  'section': 'General course-related questions',\n",
    "  'question': 'Course - When will the course start?',\n",
    "  'course': 'data-engineering-zoomcamp'},\n",
    " {'text': 'You can start by installing and setting up all the dependencies and requirements:\\nGoogle cloud account\\nGoogle Cloud SDK\\nPython 3 (installed with Anaconda)\\nTerraform\\nGit\\nLook over the prerequisites and syllabus to see if you are comfortable with these subjects.',\n",
    "  'section': 'General course-related questions',\n",
    "  'question': 'Course - What can I do before the course starts?',\n",
    "  'course': 'data-engineering-zoomcamp'},\n",
    " {'text': 'Star the repo! Share it with friends if you find it useful ❣️\\nCreate a PR if you see you can improve the text or the structure of the repository.',\n",
    "  'section': 'General course-related questions',\n",
    "  'question': 'How can we contribute to the course?',\n",
    "  'course': 'data-engineering-zoomcamp'}]"
   ]
  },
  {
   "cell_type": "code",
   "execution_count": 12,
   "id": "ad6526d3-f21d-4761-8b86-eb72185b878b",
   "metadata": {},
   "outputs": [
    {
     "data": {
      "text/plain": [
       "5"
      ]
     },
     "execution_count": 12,
     "metadata": {},
     "output_type": "execute_result"
    }
   ],
   "source": [
    "len(documents)"
   ]
  },
  {
   "cell_type": "code",
   "execution_count": 13,
   "id": "ea8b44f7-6022-4550-91e6-961fe6a0acb4",
   "metadata": {},
   "outputs": [
    {
     "data": {
      "text/plain": [
       "5"
      ]
     },
     "execution_count": 13,
     "metadata": {},
     "output_type": "execute_result"
    }
   ],
   "source": [
    "list_docs = [ doc['text'] for doc in documents]\n",
    "len(list_docs)"
   ]
  },
  {
   "cell_type": "code",
   "execution_count": 14,
   "id": "b56289b9-8408-4960-8285-e5a191a8513f",
   "metadata": {},
   "outputs": [
    {
     "data": {
      "text/plain": [
       "list"
      ]
     },
     "execution_count": 14,
     "metadata": {},
     "output_type": "execute_result"
    }
   ],
   "source": [
    "result_3 = embed_data(list_docs)\n",
    "type(result_3)"
   ]
  },
  {
   "cell_type": "code",
   "execution_count": 15,
   "id": "5ee80c59-8a78-4506-b0b4-4556b0fb6da6",
   "metadata": {},
   "outputs": [],
   "source": [
    "matriz_v = np.array(result_3)"
   ]
  },
  {
   "cell_type": "code",
   "execution_count": 16,
   "id": "58b358ee-0949-46c7-907e-a54f23551882",
   "metadata": {},
   "outputs": [
    {
     "data": {
      "text/plain": [
       "(5, 512)"
      ]
     },
     "execution_count": 16,
     "metadata": {},
     "output_type": "execute_result"
    }
   ],
   "source": [
    "matriz_v.shape"
   ]
  },
  {
   "cell_type": "code",
   "execution_count": 17,
   "id": "c15a86f5-ef4c-4bf1-9f66-135588199c00",
   "metadata": {},
   "outputs": [
    {
     "data": {
      "text/plain": [
       "np.float64(0.8182378150042889)"
      ]
     },
     "execution_count": 17,
     "metadata": {},
     "output_type": "execute_result"
    }
   ],
   "source": [
    "dot_product = matriz_v.dot(q)\n",
    "dot_product.max()"
   ]
  },
  {
   "cell_type": "code",
   "execution_count": 18,
   "id": "5d3f3aef-742c-44b7-a635-85df0568f204",
   "metadata": {},
   "outputs": [
    {
     "data": {
      "text/plain": [
       "[(0, np.float64(0.7629684696540238)),\n",
       " (1, np.float64(0.8182378150042889)),\n",
       " (2, np.float64(0.8085397398734189)),\n",
       " (3, np.float64(0.7133079015686243)),\n",
       " (4, np.float64(0.73044992343336))]"
      ]
     },
     "execution_count": 18,
     "metadata": {},
     "output_type": "execute_result"
    }
   ],
   "source": [
    "[(index, value) for index, value in enumerate(dot_product)]"
   ]
  },
  {
   "cell_type": "code",
   "execution_count": 19,
   "id": "8a374683-1b69-4367-b2fc-a1be5b0f2a7b",
   "metadata": {},
   "outputs": [
    {
     "data": {
      "text/plain": [
       "[(1, np.float64(0.8182378150042889))]"
      ]
     },
     "execution_count": 19,
     "metadata": {},
     "output_type": "execute_result"
    }
   ],
   "source": [
    "[(index, value) for index, value in enumerate(dot_product) if value == dot_product.max()]"
   ]
  },
  {
   "cell_type": "markdown",
   "id": "a15c8802-9303-46fa-b68c-282e8d88d480",
   "metadata": {},
   "source": [
    "## Q4. Ranking by cosine, version two"
   ]
  },
  {
   "cell_type": "code",
   "execution_count": 20,
   "id": "b04cf96d-9bec-4b25-9937-f8ea17d82616",
   "metadata": {},
   "outputs": [
    {
     "data": {
      "text/plain": [
       "5"
      ]
     },
     "execution_count": 20,
     "metadata": {},
     "output_type": "execute_result"
    }
   ],
   "source": [
    "list_docs_v2 = [f\"{doc['question']} {doc['text']}\" for doc in documents]\n",
    "len(list_docs_v2)"
   ]
  },
  {
   "cell_type": "code",
   "execution_count": 21,
   "id": "6166a0d0-a9d2-40b8-8b2e-2376c8708203",
   "metadata": {},
   "outputs": [
    {
     "data": {
      "text/plain": [
       "list"
      ]
     },
     "execution_count": 21,
     "metadata": {},
     "output_type": "execute_result"
    }
   ],
   "source": [
    "result_4 = embed_data(list_docs_v2)\n",
    "type(result_4)"
   ]
  },
  {
   "cell_type": "code",
   "execution_count": 22,
   "id": "d1dd3528-b803-4f7b-a6fb-fc6482122669",
   "metadata": {},
   "outputs": [],
   "source": [
    "matriz_v2 = np.array(result_4)"
   ]
  },
  {
   "cell_type": "code",
   "execution_count": 23,
   "id": "eff95680-acd7-4825-a85f-747457327484",
   "metadata": {},
   "outputs": [
    {
     "data": {
      "text/plain": [
       "(5, 512)"
      ]
     },
     "execution_count": 23,
     "metadata": {},
     "output_type": "execute_result"
    }
   ],
   "source": [
    "matriz_v2.shape"
   ]
  },
  {
   "cell_type": "code",
   "execution_count": 24,
   "id": "d23c13f4-3168-4aa9-a9c9-e889f0620d9a",
   "metadata": {},
   "outputs": [
    {
     "data": {
      "text/plain": [
       "np.float64(0.8514543236908068)"
      ]
     },
     "execution_count": 24,
     "metadata": {},
     "output_type": "execute_result"
    }
   ],
   "source": [
    "dot_product_2 = matriz_v2.dot(q)\n",
    "dot_product_2.max()"
   ]
  },
  {
   "cell_type": "code",
   "execution_count": 25,
   "id": "10013087-e784-4783-850b-aba0cc24deb9",
   "metadata": {},
   "outputs": [
    {
     "data": {
      "text/plain": [
       "[(0, np.float64(0.8514543236908068)),\n",
       " (1, np.float64(0.843659415911307)),\n",
       " (2, np.float64(0.8408287048502558)),\n",
       " (3, np.float64(0.7755157969663907)),\n",
       " (4, np.float64(0.8086007795043937))]"
      ]
     },
     "execution_count": 25,
     "metadata": {},
     "output_type": "execute_result"
    }
   ],
   "source": [
    "[(index, value) for index, value in enumerate(dot_product_2)]"
   ]
  },
  {
   "cell_type": "code",
   "execution_count": 26,
   "id": "a9606bcd-9b24-443f-8731-7e4bc77a37e1",
   "metadata": {},
   "outputs": [
    {
     "data": {
      "text/plain": [
       "[(0, np.float64(0.8514543236908068))]"
      ]
     },
     "execution_count": 26,
     "metadata": {},
     "output_type": "execute_result"
    }
   ],
   "source": [
    "[(index, value) for index, value in enumerate(dot_product_2) if value == dot_product_2.max()]"
   ]
  },
  {
   "cell_type": "markdown",
   "id": "2dd0c694-a423-401b-9af3-1d84237f3b03",
   "metadata": {},
   "source": [
    "### Q3 vs Q4\n",
    "Mejora de Similitud al Usar `question + text` en Embeddings\n",
    "\n",
    "#### ¿Qué se hizo?\n",
    "\n",
    "Se modificó la forma de generar el contenido sobre el cual se aplican los embeddings. En lugar de usar únicamente el campo `text` (respuesta), se concatenaron la `question` (pregunta) y el `text` en un solo string por cada documento.\n",
    "\n",
    "Esto generó una nueva lista de textos enriquecidos que combina pregunta y respuesta en una sola secuencia."
   ]
  },
  {
   "cell_type": "code",
   "execution_count": 27,
   "id": "f7ed8650-15c7-4cc2-9910-03bc684bacfb",
   "metadata": {},
   "outputs": [
    {
     "data": {
      "text/plain": [
       "'Q3 max:0.8182378150042889 VS Q4 max:0.8514543236908068 is equal = False'"
      ]
     },
     "execution_count": 27,
     "metadata": {},
     "output_type": "execute_result"
    }
   ],
   "source": [
    "f'Q3 max:{dot_product.max()} VS Q4 max:{dot_product_2.max()} is equal = {dot_product.max()==dot_product_2.max()}'"
   ]
  },
  {
   "cell_type": "markdown",
   "id": "1686ec45-9ba9-4733-a080-bfb8d25bdf92",
   "metadata": {},
   "source": [
    "#### Comparación de Resultados\n",
    "\n",
    "Se compararon los valores de similitud coseno obtenidos en dos escenarios:\n",
    "\n",
    "| Método                      | Campo utilizado              | Máxima similitud obtenida |\n",
    "|----------------------------|------------------------------|----------------------------|\n",
    "| Solo respuesta (`text`)    | `text`                       | 0.8182                     |\n",
    "| Pregunta + respuesta (`v2`) | `question + text`            | 0.8514                     |\n",
    "\n",
    "> Las similitudes están expresadas como `np.float64`.\n",
    "\n",
    "#### ¿Por qué mejora el resultado?\n",
    "\n",
    "Al usar ambos campos (`question` y `text`), se enriquece el contexto semántico del contenido. Esto permite que el modelo de embeddings:\n",
    "- Capte mejor la intención del documento.\n",
    "- Genere representaciones vectoriales más informativas.\n",
    "- Aumente la similitud con una pregunta de consulta al incluir también el tipo de pregunta esperada.\n",
    "\n",
    "El resultado es una mayor similitud coseno y, por ende, una mejor recuperación de información.\n",
    "\n",
    "Este cambio simple puede tener un impacto considerable en la calidad de las respuestas recuperadas.\n"
   ]
  },
  {
   "cell_type": "markdown",
   "id": "ba7b291f-b933-48e2-8787-dd18d26d188d",
   "metadata": {},
   "source": [
    "## Q5. Selecting the embedding model"
   ]
  },
  {
   "cell_type": "code",
   "execution_count": 28,
   "id": "3d6d113a-8154-4675-bf20-c44cab69c372",
   "metadata": {},
   "outputs": [
    {
     "data": {
      "text/plain": [
       "[{'model': 'BAAI/bge-base-en', 'dim': 768},\n",
       " {'model': 'BAAI/bge-base-en-v1.5', 'dim': 768}]"
      ]
     },
     "execution_count": 28,
     "metadata": {},
     "output_type": "execute_result"
    }
   ],
   "source": [
    "list_models = [{'model': doc['model'], 'dim': doc['dim']} for doc in TextEmbedding.list_supported_models()]\n",
    "list_models[:2]"
   ]
  },
  {
   "cell_type": "code",
   "execution_count": 29,
   "id": "980356b6-c177-4ba0-9837-d5555369617a",
   "metadata": {},
   "outputs": [
    {
     "data": {
      "text/plain": [
       "[{'model': 'BAAI/bge-small-en', 'dim': 384},\n",
       " {'model': 'BAAI/bge-small-en-v1.5', 'dim': 384},\n",
       " {'model': 'snowflake/snowflake-arctic-embed-xs', 'dim': 384},\n",
       " {'model': 'snowflake/snowflake-arctic-embed-s', 'dim': 384},\n",
       " {'model': 'sentence-transformers/all-MiniLM-L6-v2', 'dim': 384},\n",
       " {'model': 'sentence-transformers/paraphrase-multilingual-MiniLM-L12-v2',\n",
       "  'dim': 384},\n",
       " {'model': 'BAAI/bge-small-zh-v1.5', 'dim': 512},\n",
       " {'model': 'Qdrant/clip-ViT-B-32-text', 'dim': 512},\n",
       " {'model': 'jinaai/jina-embeddings-v2-small-en', 'dim': 512},\n",
       " {'model': 'BAAI/bge-base-en', 'dim': 768}]"
      ]
     },
     "execution_count": 29,
     "metadata": {},
     "output_type": "execute_result"
    }
   ],
   "source": [
    "list_models_sorted = sorted(list_models, key=lambda x: x['dim'])\n",
    "list_models_sorted[:10]"
   ]
  },
  {
   "cell_type": "markdown",
   "id": "3370a7aa-07a6-496f-8e49-5c549e88cf86",
   "metadata": {},
   "source": [
    "## Q6. Indexing with qdrant"
   ]
  },
  {
   "cell_type": "markdown",
   "id": "1f50597b-a36b-4325-a94b-6e1b4926cbdc",
   "metadata": {},
   "source": [
    "### Paso 0: Ejecutar instancia de Qdrant en un contenedor Docker\n",
    "\n",
    "Descargar la imagen y lanzar el contenedor usando los siguientes comandos:\n",
    "\n",
    "```bash\n",
    "docker pull qdrant/qdrant\n",
    "\n",
    "docker run -p 6333:6333 -p 6334:6334 \\\n",
    "   -v \"$(pwd)/qdrant_storage:/qdrant/storage:z\" \\\n",
    "   qdrant/qdrant\n",
    "```"
   ]
  },
  {
   "cell_type": "code",
   "execution_count": 30,
   "id": "97d8a88a-ee61-4962-907b-6fedea4df476",
   "metadata": {},
   "outputs": [],
   "source": [
    "docs_url = 'https://github.com/alexeygrigorev/llm-rag-workshop/raw/main/notebooks/documents.json'\n",
    "docs_response = requests.get(docs_url)\n",
    "documents_raw = docs_response.json()\n",
    "\n",
    "\n",
    "documents = []\n",
    "\n",
    "for course in documents_raw:\n",
    "    course_name = course['course']\n",
    "    if course_name != 'machine-learning-zoomcamp':\n",
    "        continue\n",
    "\n",
    "    for doc in course['documents']:\n",
    "        doc['course'] = course_name\n",
    "        documents.append(doc)"
   ]
  },
  {
   "cell_type": "code",
   "execution_count": 31,
   "id": "9cb992a7-f82e-4c0a-8f8f-afcf5f65f33d",
   "metadata": {},
   "outputs": [],
   "source": [
    "client = QdrantClient(\"http://localhost\", port=6333)"
   ]
  },
  {
   "cell_type": "code",
   "execution_count": 32,
   "id": "543dab5b-7689-4ded-9f60-7bfbc2b47406",
   "metadata": {},
   "outputs": [
    {
     "data": {
      "text/plain": [
       "384"
      ]
     },
     "execution_count": 32,
     "metadata": {},
     "output_type": "execute_result"
    }
   ],
   "source": [
    "COLLECTION_NAME = \"zoomcamp-llm-hw2\"\n",
    "MODEL_SELECT = 'BAAI/bge-small-en'\n",
    "SIZE_MODEL_SELECT = client.get_embedding_size(MODEL_SELECT)\n",
    "SIZE_MODEL_SELECT"
   ]
  },
  {
   "cell_type": "code",
   "execution_count": 33,
   "id": "a67aa589-a2d4-457b-8f21-d31466f9c139",
   "metadata": {},
   "outputs": [
    {
     "name": "stdout",
     "output_type": "stream",
     "text": [
      "Colección 'zoomcamp-llm-hw2' creada exitosamente.\n"
     ]
    }
   ],
   "source": [
    "if client.collection_exists(COLLECTION_NAME):\n",
    "    client.delete_collection(COLLECTION_NAME)\n",
    "    \n",
    "client.create_collection(\n",
    "    collection_name=COLLECTION_NAME,\n",
    "    vectors_config=models.VectorParams(\n",
    "        size=SIZE_MODEL_SELECT, \n",
    "        distance=models.Distance.COSINE\n",
    "    ),\n",
    "    timeout=60\n",
    ")\n",
    "\n",
    "print(f\"Colección '{COLLECTION_NAME}' creada exitosamente.\")"
   ]
  },
  {
   "cell_type": "code",
   "execution_count": 34,
   "id": "545626fb-1d71-4616-a8be-13de4b63b682",
   "metadata": {},
   "outputs": [],
   "source": [
    "points = []\n",
    "\n",
    "for id, doc in enumerate(documents, 1):\n",
    "        point = models.PointStruct(\n",
    "            id=id,\n",
    "            vector=models.Document(text=f\"{doc['question']} {doc['text']}\", model=MODEL_SELECT),\n",
    "            payload={\n",
    "                \"question\": doc['question'],\n",
    "                \"text\": doc['text'],\n",
    "                \"section\": doc['section'],\n",
    "                \"course\": course['course']\n",
    "            }\n",
    "        )\n",
    "        points.append(point)"
   ]
  },
  {
   "cell_type": "code",
   "execution_count": 35,
   "id": "b08cf82f-ddcd-4b49-af62-166372f2a87d",
   "metadata": {},
   "outputs": [
    {
     "name": "stdout",
     "output_type": "stream",
     "text": [
      "375 puntos insertados en la colección usando 'upsert'.\n"
     ]
    }
   ],
   "source": [
    "client.upsert(\n",
    "    collection_name=COLLECTION_NAME,\n",
    "    points=points,\n",
    "    wait=True\n",
    ")\n",
    "\n",
    "print(f\"{len(points)} puntos insertados en la colección usando 'upsert'.\")"
   ]
  },
  {
   "cell_type": "code",
   "execution_count": 36,
   "id": "3e561f6f-0505-4809-a18f-30cc235bf51a",
   "metadata": {},
   "outputs": [],
   "source": [
    "def search(query, limit=1):\n",
    "\n",
    "    results = client.query_points(\n",
    "        collection_name=COLLECTION_NAME,\n",
    "        query=models.Document(\n",
    "            text=query,\n",
    "            model=MODEL_SELECT \n",
    "        ),\n",
    "        limit=limit,\n",
    "        with_payload=True\n",
    "    )\n",
    "\n",
    "    return results"
   ]
  },
  {
   "cell_type": "code",
   "execution_count": 37,
   "id": "01267f44-d138-4d65-ae4d-ef2aa1de288f",
   "metadata": {},
   "outputs": [],
   "source": [
    "q = 'I just discovered the course. Can I join now?'\n",
    "result = search(q)"
   ]
  },
  {
   "cell_type": "code",
   "execution_count": 38,
   "id": "54c84428-1ec8-4cf9-b3af-900827d9675e",
   "metadata": {},
   "outputs": [
    {
     "data": {
      "text/plain": [
       "QueryResponse(points=[ScoredPoint(id=15, version=0, score=0.8703172, payload={'question': 'The course has already started. Can I still join it?', 'text': 'Yes, you can. You won’t be able to submit some of the homeworks, but you can still take part in the course.\\nIn order to get a certificate, you need to submit 2 out of 3 course projects and review 3 peers’ Projects by the deadline. It means that if you join the course at the end of November and manage to work on two projects, you will still be eligible for a certificate.', 'section': 'General course-related questions', 'course': 'mlops-zoomcamp'}, vector=None, shard_key=None, order_value=None)])"
      ]
     },
     "execution_count": 38,
     "metadata": {},
     "output_type": "execute_result"
    }
   ],
   "source": [
    "result"
   ]
  },
  {
   "cell_type": "code",
   "execution_count": 39,
   "id": "ecf8ae38-b48d-46a3-b34e-14be214fc32e",
   "metadata": {},
   "outputs": [
    {
     "data": {
      "text/plain": [
       "0.8703172"
      ]
     },
     "execution_count": 39,
     "metadata": {},
     "output_type": "execute_result"
    }
   ],
   "source": [
    "result.points[0].score"
   ]
  },
  {
   "cell_type": "code",
   "execution_count": 40,
   "id": "0542d65a-3c42-44e1-a94c-f353189a659c",
   "metadata": {},
   "outputs": [
    {
     "data": {
      "text/plain": [
       "'Yes, you can. You won’t be able to submit some of the homeworks, but you can still take part in the course.\\nIn order to get a certificate, you need to submit 2 out of 3 course projects and review 3 peers’ Projects by the deadline. It means that if you join the course at the end of November and manage to work on two projects, you will still be eligible for a certificate.'"
      ]
     },
     "execution_count": 40,
     "metadata": {},
     "output_type": "execute_result"
    }
   ],
   "source": [
    "result.points[0].payload['text']"
   ]
  },
  {
   "cell_type": "code",
   "execution_count": 41,
   "id": "705ee4bc-3232-4f9e-97ef-4e823e794c0a",
   "metadata": {},
   "outputs": [
    {
     "data": {
      "text/plain": [
       "'The course has already started. Can I still join it?'"
      ]
     },
     "execution_count": 41,
     "metadata": {},
     "output_type": "execute_result"
    }
   ],
   "source": [
    "result.points[0].payload['question']"
   ]
  }
 ],
 "metadata": {
  "kernelspec": {
   "display_name": "Python 3 (ipykernel)",
   "language": "python",
   "name": "python3"
  },
  "language_info": {
   "codemirror_mode": {
    "name": "ipython",
    "version": 3
   },
   "file_extension": ".py",
   "mimetype": "text/x-python",
   "name": "python",
   "nbconvert_exporter": "python",
   "pygments_lexer": "ipython3",
   "version": "3.13.3"
  }
 },
 "nbformat": 4,
 "nbformat_minor": 5
}
