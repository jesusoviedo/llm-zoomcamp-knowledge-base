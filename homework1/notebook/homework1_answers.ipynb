{
 "cells": [
  {
   "cell_type": "markdown",
   "id": "499a7951-be98-4381-9901-06c876c053c9",
   "metadata": {},
   "source": [
    "# Homework 1"
   ]
  },
  {
   "cell_type": "markdown",
   "id": "902bce97-9d97-40e3-8573-d603a89fb9c8",
   "metadata": {},
   "source": [
    "Importo los modulos necesarios"
   ]
  },
  {
   "cell_type": "code",
   "execution_count": 53,
   "id": "6a5c4ee1-e320-486f-a490-72bb7d60ca98",
   "metadata": {},
   "outputs": [],
   "source": [
    "import requests \n",
    "import tiktoken\n",
    "\n",
    "from elasticsearch import Elasticsearch\n",
    "from tqdm.auto import tqdm\n",
    "from openai import OpenAI"
   ]
  },
  {
   "cell_type": "markdown",
   "id": "ebcf523c-a2e2-4ea2-a062-a410b5ea7157",
   "metadata": {},
   "source": [
    "## Q1. Running Elastic"
   ]
  },
  {
   "cell_type": "markdown",
   "id": "165130ae-24f1-463b-ba4d-f77cd325d0dc",
   "metadata": {},
   "source": [
    "Ejecutar el siguiente comando en la terminal\n",
    "\n",
    "```bash\n",
    "docker run -it \\\n",
    "    --rm \\\n",
    "    --name elasticsearch \\\n",
    "    -m 4GB \\\n",
    "    -p 9200:9200 \\\n",
    "    -p 9300:9300 \\\n",
    "    -e \"discovery.type=single-node\" \\\n",
    "    -e \"xpack.security.enabled=false\" \\\n",
    "    docker.elastic.co/elasticsearch/elasticsearch:8.17.6\n",
    "```"
   ]
  },
  {
   "cell_type": "code",
   "execution_count": 2,
   "id": "343d4a1c-4cc8-48d4-98d8-9b35106c6cda",
   "metadata": {},
   "outputs": [
    {
     "name": "stdout",
     "output_type": "stream",
     "text": [
      "{\n",
      "  \"name\" : \"41840e7257b4\",\n",
      "  \"cluster_name\" : \"docker-cluster\",\n",
      "  \"cluster_uuid\" : \"Urhkcu8HTXiNrf4EUjGxdw\",\n",
      "  \"version\" : {\n",
      "    \"number\" : \"8.17.6\",\n",
      "    \"build_flavor\" : \"default\",\n",
      "    \"build_type\" : \"docker\",\n",
      "    \"build_hash\" : \"dbcbbbd0bc4924cfeb28929dc05d82d662c527b7\",\n",
      "    \"build_date\" : \"2025-04-30T14:07:12.231372970Z\",\n",
      "    \"build_snapshot\" : false,\n",
      "    \"lucene_version\" : \"9.12.0\",\n",
      "    \"minimum_wire_compatibility_version\" : \"7.17.0\",\n",
      "    \"minimum_index_compatibility_version\" : \"7.0.0\"\n",
      "  },\n",
      "  \"tagline\" : \"You Know, for Search\"\n",
      "}\n"
     ]
    }
   ],
   "source": [
    "! curl http://localhost:9200"
   ]
  },
  {
   "cell_type": "code",
   "execution_count": 3,
   "id": "8e3c82c3-8206-4622-a0db-08d7d9eb43db",
   "metadata": {},
   "outputs": [],
   "source": [
    "client_elasticsearch = Elasticsearch('http://localhost:9200')"
   ]
  },
  {
   "cell_type": "code",
   "execution_count": 4,
   "id": "8e8a98c7-7e60-42b9-b942-61c36f82ffcf",
   "metadata": {},
   "outputs": [
    {
     "data": {
      "text/plain": [
       "ObjectApiResponse({'name': '41840e7257b4', 'cluster_name': 'docker-cluster', 'cluster_uuid': 'Urhkcu8HTXiNrf4EUjGxdw', 'version': {'number': '8.17.6', 'build_flavor': 'default', 'build_type': 'docker', 'build_hash': 'dbcbbbd0bc4924cfeb28929dc05d82d662c527b7', 'build_date': '2025-04-30T14:07:12.231372970Z', 'build_snapshot': False, 'lucene_version': '9.12.0', 'minimum_wire_compatibility_version': '7.17.0', 'minimum_index_compatibility_version': '7.0.0'}, 'tagline': 'You Know, for Search'})"
      ]
     },
     "execution_count": 4,
     "metadata": {},
     "output_type": "execute_result"
    }
   ],
   "source": [
    "info = client_elasticsearch.info()\n",
    "info"
   ]
  },
  {
   "cell_type": "code",
   "execution_count": 5,
   "id": "a67c20c9-dd33-4165-a5d9-7614d4ba5425",
   "metadata": {},
   "outputs": [
    {
     "data": {
      "text/plain": [
       "'dbcbbbd0bc4924cfeb28929dc05d82d662c527b7'"
      ]
     },
     "execution_count": 5,
     "metadata": {},
     "output_type": "execute_result"
    }
   ],
   "source": [
    "info['version']['build_hash']"
   ]
  },
  {
   "cell_type": "markdown",
   "id": "ce2ae959-e204-40df-ad2d-f0e607a2eb87",
   "metadata": {},
   "source": [
    "### Getting the data"
   ]
  },
  {
   "cell_type": "code",
   "execution_count": 6,
   "id": "be33a9b1-ec73-42b5-8f5c-860693b426ea",
   "metadata": {},
   "outputs": [
    {
     "data": {
      "application/vnd.jupyter.widget-view+json": {
       "model_id": "5f239ddbda804ea9a3f33bfb48638cbe",
       "version_major": 2,
       "version_minor": 0
      },
      "text/plain": [
       "  0%|          | 0/435 [00:00<?, ?it/s]"
      ]
     },
     "metadata": {},
     "output_type": "display_data"
    },
    {
     "data": {
      "application/vnd.jupyter.widget-view+json": {
       "model_id": "febdfa621b6c410591010aadee5aa76f",
       "version_major": 2,
       "version_minor": 0
      },
      "text/plain": [
       "  0%|          | 0/375 [00:00<?, ?it/s]"
      ]
     },
     "metadata": {},
     "output_type": "display_data"
    },
    {
     "data": {
      "application/vnd.jupyter.widget-view+json": {
       "model_id": "297bd6c509d84a6fba26cb3df1bb0112",
       "version_major": 2,
       "version_minor": 0
      },
      "text/plain": [
       "  0%|          | 0/138 [00:00<?, ?it/s]"
      ]
     },
     "metadata": {},
     "output_type": "display_data"
    }
   ],
   "source": [
    "docs_url = 'https://github.com/DataTalksClub/llm-zoomcamp/blob/main/01-intro/documents.json?raw=1'\n",
    "docs_response = requests.get(docs_url)\n",
    "documents_raw = docs_response.json()\n",
    "\n",
    "documents = []\n",
    "\n",
    "for course in documents_raw:\n",
    "    course_name = course['course']\n",
    "    \n",
    "    for doc in tqdm(course['documents']):\n",
    "        doc['course'] = course_name\n",
    "        documents.append(doc)"
   ]
  },
  {
   "cell_type": "code",
   "execution_count": 7,
   "id": "c74b555c-2232-4c82-b209-e2ce1bdc0632",
   "metadata": {},
   "outputs": [
    {
     "data": {
      "text/plain": [
       "{'text': 'Problem description\\nInfrastructure created in AWS with CD-Deploy Action needs to be destroyed\\nSolution description\\nFrom local:\\nterraform init -backend-config=\"key=mlops-zoomcamp-prod.tfstate\" --reconfigure\\nterraform destroy --var-file vars/prod.tfvars\\nAdded by Erick Calderin',\n",
       " 'section': 'Module 6: Best practices',\n",
       " 'question': 'How to destroy infrastructure created via GitHub Actions',\n",
       " 'course': 'mlops-zoomcamp'}"
      ]
     },
     "execution_count": 7,
     "metadata": {},
     "output_type": "execute_result"
    }
   ],
   "source": [
    "documents[-1]"
   ]
  },
  {
   "cell_type": "markdown",
   "id": "3c5371d3-57e7-4ad6-887e-48699ad96bf4",
   "metadata": {},
   "source": [
    "## Q2. Indexing the data"
   ]
  },
  {
   "cell_type": "markdown",
   "id": "772aaed5-63b5-49bc-9798-b84e4e93b9c7",
   "metadata": {},
   "source": [
    "Defino el nombre del indice, la configuración para luego crear el indice.\n",
    "Posterior a esto puedo indexar los documentos al indice creado"
   ]
  },
  {
   "cell_type": "code",
   "execution_count": 8,
   "id": "b4957642-7107-4c05-aa49-3c8c4dca6137",
   "metadata": {},
   "outputs": [],
   "source": [
    "index_name = \"course-questions-hw1\"\n",
    "\n",
    "index_settings = {\n",
    "    \"settings\": {\n",
    "        \"number_of_shards\": 1,\n",
    "        \"number_of_replicas\": 0\n",
    "    },\n",
    "    \"mappings\": {\n",
    "        \"properties\": {\n",
    "            \"text\": {\"type\": \"text\"},\n",
    "            \"section\": {\"type\": \"text\"},\n",
    "            \"question\": {\"type\": \"text\"},\n",
    "            \"course\": {\"type\": \"keyword\"} \n",
    "        }\n",
    "    }\n",
    "}"
   ]
  },
  {
   "cell_type": "code",
   "execution_count": 9,
   "id": "c0991a00-9394-4069-b5d2-c0d65bc5a8b5",
   "metadata": {},
   "outputs": [
    {
     "data": {
      "text/plain": [
       "ObjectApiResponse({'acknowledged': True, 'shards_acknowledged': True, 'index': 'course-questions-hw1'})"
      ]
     },
     "execution_count": 9,
     "metadata": {},
     "output_type": "execute_result"
    }
   ],
   "source": [
    "client_elasticsearch.indices.create(index=index_name, body=index_settings)"
   ]
  },
  {
   "cell_type": "code",
   "execution_count": 10,
   "id": "c6159347-5dda-4efd-9dc3-efb34978a702",
   "metadata": {},
   "outputs": [
    {
     "data": {
      "application/vnd.jupyter.widget-view+json": {
       "model_id": "93b3adab13e643cbaf29fdb028b56ec3",
       "version_major": 2,
       "version_minor": 0
      },
      "text/plain": [
       "  0%|          | 0/948 [00:00<?, ?it/s]"
      ]
     },
     "metadata": {},
     "output_type": "display_data"
    }
   ],
   "source": [
    "for doc in tqdm(documents):\n",
    "    client_elasticsearch.index(index=index_name, document=doc)"
   ]
  },
  {
   "cell_type": "markdown",
   "id": "5730f881-6a9d-44ee-bf7c-ad98e8c8eab4",
   "metadata": {},
   "source": [
    "## Q3. Searching"
   ]
  },
  {
   "cell_type": "markdown",
   "id": "049418e7-8b6e-4008-b7f3-3c62a62d2d43",
   "metadata": {},
   "source": [
    "Busco por los campos necesarios aplicando la prioridad correspondiente"
   ]
  },
  {
   "cell_type": "code",
   "execution_count": 11,
   "id": "7aa87b7e-2588-41a1-96b8-47b23c358d64",
   "metadata": {},
   "outputs": [],
   "source": [
    "query_q3 = \"How do execute a command on a Kubernetes pod?\""
   ]
  },
  {
   "cell_type": "code",
   "execution_count": 12,
   "id": "5baea6a3-d3dd-458b-9e11-152661ff296d",
   "metadata": {},
   "outputs": [],
   "source": [
    "search_query_q3 = {\n",
    "        \"size\": 5,\n",
    "        \"query\": {\n",
    "            \"bool\": {\n",
    "                \"must\": {\n",
    "                    \"multi_match\": {\n",
    "                        \"query\": query_q3,\n",
    "                        \"fields\": [\"question^4\", \"text\"],\n",
    "                        \"type\": \"best_fields\"\n",
    "                    }\n",
    "                }\n",
    "            }\n",
    "        }\n",
    "    }"
   ]
  },
  {
   "cell_type": "code",
   "execution_count": 13,
   "id": "afe97a0f-e88a-4b78-9d8f-85ba03285f9b",
   "metadata": {},
   "outputs": [],
   "source": [
    "response_q3 = client_elasticsearch.search(index=index_name, body=search_query_q3)"
   ]
  },
  {
   "cell_type": "code",
   "execution_count": 14,
   "id": "fc9cb61f-df50-4afa-9fb2-47496759dd02",
   "metadata": {},
   "outputs": [
    {
     "data": {
      "text/plain": [
       "[{'score': 44.50556, 'course': 'machine-learning-zoomcamp'},\n",
       " {'score': 35.433445, 'course': 'machine-learning-zoomcamp'},\n",
       " {'score': 33.70974, 'course': 'machine-learning-zoomcamp'},\n",
       " {'score': 33.2635, 'course': 'machine-learning-zoomcamp'},\n",
       " {'score': 32.589073, 'course': 'machine-learning-zoomcamp'}]"
      ]
     },
     "execution_count": 14,
     "metadata": {},
     "output_type": "execute_result"
    }
   ],
   "source": [
    "[{'score':docs['_score'], 'course':docs['_source']['course']} for docs in response_q3['hits']['hits'] ]"
   ]
  },
  {
   "cell_type": "code",
   "execution_count": 15,
   "id": "537f5fdb-c214-43e6-88c7-7b6e274b0774",
   "metadata": {},
   "outputs": [
    {
     "data": {
      "text/plain": [
       "[{'_index': 'course-questions-hw1',\n",
       "  '_id': '9c4RdpcBnwHzfe4Ct7WD',\n",
       "  '_score': 44.50556,\n",
       "  '_source': {'text': 'Launch the container image in interactive mode and overriding the entrypoint, so that it starts a bash command.\\ndocker run -it --entrypoint bash <image>\\nIf the container is already running, execute a command in the specific container:\\ndocker ps (find the container-id)\\ndocker exec -it <container-id> bash\\n(Marcos MJD)',\n",
       "   'section': '5. Deploying Machine Learning Models',\n",
       "   'question': 'How do I debug a docker container?',\n",
       "   'course': 'machine-learning-zoomcamp'}},\n",
       " {'_index': 'course-questions-hw1',\n",
       "  '_id': 'hM4SdpcBnwHzfe4CAbbM',\n",
       "  '_score': 35.433445,\n",
       "  '_source': {'text': 'Deploy and Access the Kubernetes Dashboard\\nLuke',\n",
       "   'section': '10. Kubernetes and TensorFlow Serving',\n",
       "   'question': 'Kubernetes-dashboard',\n",
       "   'course': 'machine-learning-zoomcamp'}}]"
      ]
     },
     "execution_count": 15,
     "metadata": {},
     "output_type": "execute_result"
    }
   ],
   "source": [
    "response_q3['hits']['hits'][:2]"
   ]
  },
  {
   "cell_type": "markdown",
   "id": "ab92d019-5608-49cc-b5a8-b96d2c4b7e43",
   "metadata": {},
   "source": [
    "## Q4. Filtering"
   ]
  },
  {
   "cell_type": "markdown",
   "id": "da01f089-2672-435d-be9f-58878fea7594",
   "metadata": {},
   "source": [
    "Busco por los campos necesarios aplicando la prioridad correspondiente y filtro necesario"
   ]
  },
  {
   "cell_type": "code",
   "execution_count": 16,
   "id": "871a1c7b-0ce7-4130-bdbc-abdc8f898bf9",
   "metadata": {},
   "outputs": [],
   "source": [
    "query_q4 = \"How do copy a file to a Docker container?\""
   ]
  },
  {
   "cell_type": "code",
   "execution_count": 17,
   "id": "9d4d77b9-826d-4a28-96f1-5b74c22286ee",
   "metadata": {},
   "outputs": [],
   "source": [
    "search_query_q4 = {\n",
    "        \"size\": 3,\n",
    "        \"query\": {\n",
    "            \"bool\": {\n",
    "                \"must\": {\n",
    "                    \"multi_match\": {\n",
    "                        \"query\": query_q4,\n",
    "                        \"fields\": [\"question^4\", \"text\"],\n",
    "                        \"type\": \"best_fields\"\n",
    "                    }\n",
    "                },\n",
    "                \"filter\": {\n",
    "                    \"term\": {\n",
    "                        \"course\": \"machine-learning-zoomcamp\"\n",
    "                    }\n",
    "                }\n",
    "            }\n",
    "        }\n",
    "    }"
   ]
  },
  {
   "cell_type": "code",
   "execution_count": 18,
   "id": "9604aaf7-191f-47ca-a3a8-478f0d07ec60",
   "metadata": {},
   "outputs": [],
   "source": [
    "response_q4 = client_elasticsearch.search(index=index_name, body=search_query_q4)"
   ]
  },
  {
   "cell_type": "code",
   "execution_count": 19,
   "id": "532c4503-e880-4476-8c8c-39ee24ddbaed",
   "metadata": {},
   "outputs": [
    {
     "data": {
      "text/plain": [
       "[{'question': 'How do I debug a docker container?'},\n",
       " {'question': 'How do I copy files from my local machine to docker container?'},\n",
       " {'question': 'How do I copy files from a different folder into docker container’s working directory?'}]"
      ]
     },
     "execution_count": 19,
     "metadata": {},
     "output_type": "execute_result"
    }
   ],
   "source": [
    "[{'question':docs['_source']['question']} for docs in response_q4['hits']['hits'] ]"
   ]
  },
  {
   "cell_type": "markdown",
   "id": "5837495c-e101-420c-9311-e855e258c059",
   "metadata": {},
   "source": [
    "## Q5. Building a prompt"
   ]
  },
  {
   "cell_type": "code",
   "execution_count": 36,
   "id": "c8611792-2fed-4074-bd78-8e76e00e4643",
   "metadata": {},
   "outputs": [
    {
     "data": {
      "text/plain": [
       "{'question': 'How do I debug a docker container?',\n",
       " 'text': 'Launch the container image in interactive mode and overriding the entrypoint, so that it starts a bash command.\\ndocker run -it --entrypoint bash <image>\\nIf the container is already running, execute a command in the specific container:\\ndocker ps (find the container-id)\\ndocker exec -it <container-id> bash\\n(Marcos MJD)'}"
      ]
     },
     "execution_count": 36,
     "metadata": {},
     "output_type": "execute_result"
    }
   ],
   "source": [
    "results = [\n",
    "    {'question': docs['_source']['question'], \n",
    "    'text': docs['_source']['text']}\n",
    "    for docs in response_q4['hits']['hits']\n",
    "]\n",
    "\n",
    "results[0]"
   ]
  },
  {
   "cell_type": "code",
   "execution_count": 37,
   "id": "338fd0d0-9c39-4a17-a031-a81d526ec9df",
   "metadata": {},
   "outputs": [
    {
     "name": "stdout",
     "output_type": "stream",
     "text": [
      "You're a course teaching assistant. Answer the QUESTION based on the CONTEXT from the FAQ database.\n",
      "Use only the facts from the CONTEXT when answering the QUESTION.\n",
      "\n",
      "QUESTION: How do copy a file to a Docker container?\n",
      "\n",
      "CONTEXT:\n",
      "Q: How do I debug a docker container?\n",
      "A: Launch the container image in interactive mode and overriding the entrypoint, so that it starts a bash command.\n",
      "docker run -it --entrypoint bash <image>\n",
      "If the container is already running, execute a command in the specific container:\n",
      "docker ps (find the container-id)\n",
      "docker exec -it <container-id> bash\n",
      "(Marcos MJD)\n",
      "\n",
      "Q: How do I copy files from my local machine to docker container?\n",
      "A: You can copy files from your local machine into a Docker container using the docker cp command. Here's how to do it:\n",
      "To copy a file or directory from your local machine into a running Docker container, you can use the `docker cp command`. The basic syntax is as follows:\n",
      "docker cp /path/to/local/file_or_directory container_id:/path/in/container\n",
      "Hrithik Kumar Advani\n",
      "\n",
      "Q: How do I copy files from a different folder into docker container’s working directory?\n",
      "A: You can copy files from your local machine into a Docker container using the docker cp command. Here's how to do it:\n",
      "In the Dockerfile, you can provide the folder containing the files that you want to copy over. The basic syntax is as follows:\n",
      "COPY [\"src/predict.py\", \"models/xgb_model.bin\", \"./\"]\t\t\t\t\t\t\t\t\t\t\tGopakumar Gopinathan\n"
     ]
    }
   ],
   "source": [
    "context_template = \"\"\"\n",
    "Q: {question}\n",
    "A: {text}\n",
    "\"\"\".strip()\n",
    "\n",
    "prompt_template = \"\"\"\n",
    "You're a course teaching assistant. Answer the QUESTION based on the CONTEXT from the FAQ database.\n",
    "Use only the facts from the CONTEXT when answering the QUESTION.\n",
    "\n",
    "QUESTION: {question}\n",
    "\n",
    "CONTEXT:\n",
    "{context}\n",
    "\"\"\".strip()\n",
    "\n",
    "list_context = [context_template.format(question=doc['question'], text=doc['text']).strip() for doc in results]\n",
    "context = \"\\n\\n\".join(list_context)\n",
    "\n",
    "prompt = prompt_template.format(question=query_q4, context=context).strip()\n",
    "\n",
    "print(prompt)"
   ]
  },
  {
   "cell_type": "code",
   "execution_count": 47,
   "id": "f59e7322-0cf4-4031-9763-822af693d2b4",
   "metadata": {},
   "outputs": [
    {
     "name": "stdout",
     "output_type": "stream",
     "text": [
      "Longitud del prompt: 1446\n"
     ]
    }
   ],
   "source": [
    "print(f\"Longitud del prompt: {len(prompt)}\")"
   ]
  },
  {
   "cell_type": "markdown",
   "id": "831eb62d-3cdf-4c6d-9d94-775d36b2b4fa",
   "metadata": {},
   "source": [
    "## Q6. Tokens"
   ]
  },
  {
   "cell_type": "code",
   "execution_count": 54,
   "id": "e951068a-2238-4c48-9f8d-602465cc78dc",
   "metadata": {},
   "outputs": [],
   "source": [
    "encoding = tiktoken.encoding_for_model(\"gpt-4o-mini\")"
   ]
  },
  {
   "cell_type": "code",
   "execution_count": 55,
   "id": "13c2b730-a6ad-4534-b306-5e98efc20956",
   "metadata": {},
   "outputs": [
    {
     "data": {
      "text/plain": [
       "list"
      ]
     },
     "execution_count": 55,
     "metadata": {},
     "output_type": "execute_result"
    }
   ],
   "source": [
    "tokens = encoding.encode(prompt)\n",
    "type(tokens)"
   ]
  },
  {
   "cell_type": "code",
   "execution_count": 62,
   "id": "3f5d570a-baad-45da-9185-6ff6834434c1",
   "metadata": {},
   "outputs": [
    {
     "name": "stdout",
     "output_type": "stream",
     "text": [
      "Longitud de los tokens: 320\n"
     ]
    }
   ],
   "source": [
    "print(f\"Longitud de los tokens: {len(tokens)}\") "
   ]
  },
  {
   "cell_type": "code",
   "execution_count": 67,
   "id": "f3219f4c-b291-4a0a-a16e-962c16627675",
   "metadata": {},
   "outputs": [
    {
     "data": {
      "text/plain": [
       "[63842, 261, 4165, 14029, 29186, 13, 30985, 290, 150339]"
      ]
     },
     "execution_count": 67,
     "metadata": {},
     "output_type": "execute_result"
    }
   ],
   "source": [
    "tokens[:9]"
   ]
  },
  {
   "cell_type": "code",
   "execution_count": 72,
   "id": "03bda8cc-a8cf-446a-ab1e-a6aca751d8c4",
   "metadata": {},
   "outputs": [],
   "source": [
    "f_decode = encoding.decode_single_token_bytes"
   ]
  },
  {
   "cell_type": "code",
   "execution_count": 75,
   "id": "cd6ae98f-b832-470a-a3fd-59fa89465e15",
   "metadata": {},
   "outputs": [
    {
     "data": {
      "text/plain": [
       "(b\"You're\", b' a', b' course', b' teaching')"
      ]
     },
     "execution_count": 75,
     "metadata": {},
     "output_type": "execute_result"
    }
   ],
   "source": [
    "f_decode(63842), f_decode(261), f_decode(4165), f_decode(14029)"
   ]
  },
  {
   "cell_type": "markdown",
   "id": "dd406f1c-9e67-4316-a2f7-fbcb09e70bcf",
   "metadata": {},
   "source": [
    "## Bonus"
   ]
  },
  {
   "cell_type": "code",
   "execution_count": 57,
   "id": "aa6edba1-0a95-4fed-9965-187986c76d18",
   "metadata": {},
   "outputs": [],
   "source": [
    "client = OpenAI()"
   ]
  },
  {
   "cell_type": "code",
   "execution_count": 58,
   "id": "ebaeee78-87fb-4a9d-be97-7a76dc542919",
   "metadata": {},
   "outputs": [],
   "source": [
    "completion = client.chat.completions.create(\n",
    "  model=\"gpt-4o-mini\",\n",
    "  store=True,\n",
    "  messages=[\n",
    "    {\"role\": \"user\", \"content\": prompt}\n",
    "  ]\n",
    ")"
   ]
  },
  {
   "cell_type": "code",
   "execution_count": 60,
   "id": "4b6804e1-2975-4dd4-91b1-7619650a10d1",
   "metadata": {},
   "outputs": [
    {
     "name": "stdout",
     "output_type": "stream",
     "text": [
      "To copy a file to a Docker container, you can use the `docker cp` command. The basic syntax is as follows:\n",
      "\n",
      "```\n",
      "docker cp /path/to/local/file_or_directory container_id:/path/in/container\n",
      "```\n",
      "\n",
      "Replace `/path/to/local/file_or_directory` with the path of the file or directory on your local machine, `container_id` with the ID of your running Docker container, and `/path/in/container` with the destination path inside the container where you want to copy the file.\n"
     ]
    }
   ],
   "source": [
    "print(completion.choices[0].message.content)"
   ]
  }
 ],
 "metadata": {
  "kernelspec": {
   "display_name": "Python 3 (ipykernel)",
   "language": "python",
   "name": "python3"
  },
  "language_info": {
   "codemirror_mode": {
    "name": "ipython",
    "version": 3
   },
   "file_extension": ".py",
   "mimetype": "text/x-python",
   "name": "python",
   "nbconvert_exporter": "python",
   "pygments_lexer": "ipython3",
   "version": "3.13.3"
  }
 },
 "nbformat": 4,
 "nbformat_minor": 5
}
