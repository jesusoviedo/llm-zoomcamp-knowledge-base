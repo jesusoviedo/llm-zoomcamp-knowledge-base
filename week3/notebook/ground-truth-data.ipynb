{
 "cells": [
  {
   "cell_type": "markdown",
   "id": "c259113b-08f6-4c31-93fc-2f0c59f9c001",
   "metadata": {},
   "source": [
    "## Introducción\n",
    "\n",
    "En este notebook se construye un conjunto de datos de preguntas generadas automáticamente a partir de documentos de tipo FAQ de distintos cursos del LLM Zoomcamp de DataTalksClub.\n",
    "Este dataset será útil para evaluar el rendimiento de modelos de lenguaje en tareas de recuperación de información, como el *retrieval-augmented generation (RAG)*.\n",
    "\n",
    "El proceso abarca desde la carga y preprocesamiento de documentos hasta la generación de preguntas usando un modelo de OpenAI, finalizando con la exportación del dataset en formato CSV.\n",
    "A continuación, se presentan las distintas etapas del flujo de trabajo:"
   ]
  },
  {
   "cell_type": "markdown",
   "id": "938616d8-c477-42af-927b-4fb3594314c7",
   "metadata": {},
   "source": [
    "### 1. Descarga y estructuración de los documentos\n",
    "\n",
    "Se descargan los documentos tipo FAQ desde el repositorio del curso, y se estructuran en una lista única añadiendo el nombre del curso al que pertenece cada entrada."
   ]
  },
  {
   "cell_type": "code",
   "execution_count": 2,
   "id": "7ba3282a-6099-44b3-81c6-ba4b73d80e7b",
   "metadata": {},
   "outputs": [],
   "source": [
    "import requests \n",
    "\n",
    "docs_url = 'https://github.com/DataTalksClub/llm-zoomcamp/blob/main/01-intro/documents.json?raw=1'\n",
    "docs_response = requests.get(docs_url)\n",
    "documents_raw = docs_response.json()\n",
    "\n",
    "documents = []\n",
    "\n",
    "for course in documents_raw:\n",
    "    course_name = course['course']\n",
    "\n",
    "    for doc in course['documents']:\n",
    "        doc['course'] = course_name\n",
    "        documents.append(doc)"
   ]
  },
  {
   "cell_type": "markdown",
   "id": "a60fe05d-816c-48b6-999e-218b81594f76",
   "metadata": {},
   "source": [
    "### 2. Generación de identificadores únicos\n",
    "\n",
    "Se genera un identificador único (`id`) para cada documento usando un hash MD5 a partir de la combinación del curso, la pregunta y los primeros caracteres de la respuesta. Esto permite manejar referencias únicas por documento."
   ]
  },
  {
   "cell_type": "code",
   "execution_count": 4,
   "id": "9880aca9-ae97-42f5-9aa5-37bb46448841",
   "metadata": {},
   "outputs": [],
   "source": [
    "import hashlib\n",
    "\n",
    "def generate_document_id(doc):\n",
    "    # combined = f\"{doc['course']}-{doc['question']}\"\n",
    "    combined = f\"{doc['course']}-{doc['question']}-{doc['text'][:10]}\"\n",
    "    hash_object = hashlib.md5(combined.encode())\n",
    "    hash_hex = hash_object.hexdigest()\n",
    "    document_id = hash_hex[:8]\n",
    "    return document_id"
   ]
  },
  {
   "cell_type": "code",
   "execution_count": 5,
   "id": "66719b38-04f3-41a8-bdd8-f33f04fe9367",
   "metadata": {},
   "outputs": [],
   "source": [
    "for doc in documents:\n",
    "    doc['id'] = generate_document_id(doc)"
   ]
  },
  {
   "cell_type": "code",
   "execution_count": 6,
   "id": "d4672632-acc2-4c1c-96b4-d30f24598aa1",
   "metadata": {},
   "outputs": [
    {
     "data": {
      "text/plain": [
       "{'text': \"You don't need it. You're accepted. You can also just start learning and submitting homework without registering. It is not checked against any registered list. Registration is just to gauge interest before the start date.\",\n",
       " 'section': 'General course-related questions',\n",
       " 'question': 'Course - I have registered for the Data Engineering Bootcamp. When can I expect to receive the confirmation email?',\n",
       " 'course': 'data-engineering-zoomcamp',\n",
       " 'id': '0bbf41ec'}"
      ]
     },
     "execution_count": 6,
     "metadata": {},
     "output_type": "execute_result"
    }
   ],
   "source": [
    "documents[3]"
   ]
  },
  {
   "cell_type": "markdown",
   "id": "e92ff167-ff50-4829-bd25-de069fb4d1ce",
   "metadata": {},
   "source": [
    "### 3. Verificación de duplicados\n",
    "\n",
    "Se utiliza un diccionario agrupado por ID para verificar si hay documentos duplicados (mismo hash generado). Esto ayuda a garantizar que no haya redundancia en los datos procesados."
   ]
  },
  {
   "cell_type": "code",
   "execution_count": 8,
   "id": "470b703c-29d6-4ca8-a68e-4c461b3e7a90",
   "metadata": {},
   "outputs": [],
   "source": [
    "from collections import defaultdict"
   ]
  },
  {
   "cell_type": "code",
   "execution_count": 9,
   "id": "410f08db-2302-4c50-926c-511037b46c90",
   "metadata": {},
   "outputs": [],
   "source": [
    "hashes = defaultdict(list)\n",
    "\n",
    "for doc in documents:\n",
    "    doc_id = doc['id']\n",
    "    hashes[doc_id].append(doc)"
   ]
  },
  {
   "cell_type": "code",
   "execution_count": 10,
   "id": "47c69c01-e952-4818-a307-94ea224ca423",
   "metadata": {},
   "outputs": [
    {
     "data": {
      "text/plain": [
       "(947, 948)"
      ]
     },
     "execution_count": 10,
     "metadata": {},
     "output_type": "execute_result"
    }
   ],
   "source": [
    "len(hashes), len(documents)"
   ]
  },
  {
   "cell_type": "code",
   "execution_count": 18,
   "id": "c3e495f9-fdac-436f-88e9-44ae68844ee3",
   "metadata": {},
   "outputs": [
    {
     "name": "stdout",
     "output_type": "stream",
     "text": [
      "593f7569 2\n"
     ]
    }
   ],
   "source": [
    "for k, values in hashes.items():\n",
    "    if len(values) > 1:\n",
    "        print(k, len(values))"
   ]
  },
  {
   "cell_type": "code",
   "execution_count": 19,
   "id": "56bed2ec-9b14-4e7c-9db4-87900b30a674",
   "metadata": {},
   "outputs": [
    {
     "data": {
      "text/plain": [
       "[{'text': \"They both do the same, it's just less typing from the script.\\nAsked by Andrew Katoch, Added by Edidiong Esu\",\n",
       "  'section': '6. Decision Trees and Ensemble Learning',\n",
       "  'question': 'Does it matter if we let the Python file create the server or if we run gunicorn directly?',\n",
       "  'course': 'machine-learning-zoomcamp',\n",
       "  'id': '593f7569'},\n",
       " {'text': \"They both do the same, it's just less typing from the script.\",\n",
       "  'section': '6. Decision Trees and Ensemble Learning',\n",
       "  'question': 'Does it matter if we let the Python file create the server or if we run gunicorn directly?',\n",
       "  'course': 'machine-learning-zoomcamp',\n",
       "  'id': '593f7569'}]"
      ]
     },
     "execution_count": 19,
     "metadata": {},
     "output_type": "execute_result"
    }
   ],
   "source": [
    "hashes['593f7569']"
   ]
  },
  {
   "cell_type": "markdown",
   "id": "10e6b384-d472-4cee-b92f-1caf23577b61",
   "metadata": {},
   "source": [
    "### 4. Exportación de documentos con ID\n",
    "\n",
    "Los documentos enriquecidos con su identificador se exportan a un archivo JSON (`documents-with-ids.json`) para uso posterior."
   ]
  },
  {
   "cell_type": "code",
   "execution_count": 20,
   "id": "4d25e980-8a04-4186-94ef-c357bdc1b255",
   "metadata": {},
   "outputs": [],
   "source": [
    "import json"
   ]
  },
  {
   "cell_type": "code",
   "execution_count": 21,
   "id": "686a488a-67af-4f21-8538-2180dc085fa2",
   "metadata": {},
   "outputs": [],
   "source": [
    "with open('data/documents-with-ids.json', 'wt') as f_out:\n",
    "    json.dump(documents, f_out, indent=2)"
   ]
  },
  {
   "cell_type": "code",
   "execution_count": 22,
   "id": "c567515e-a923-487f-9b4d-9f4ce370e2ca",
   "metadata": {},
   "outputs": [
    {
     "name": "stdout",
     "output_type": "stream",
     "text": [
      "[\n",
      "  {\n",
      "    \"text\": \"The purpose of this document is to capture frequently asked technical questions\\nThe exact day and hour of the course will be 15th Jan 2024 at 17h00. The course will start with the first  \\u201cOffice Hours'' live.1\\nSubscribe to course public Google Calendar (it works from Desktop only).\\nRegister before the course starts using this link.\\nJoin the course Telegram channel with announcements.\\nDon\\u2019t forget to register in DataTalks.Club's Slack and join the channel.\",\n",
      "    \"section\": \"General course-related questions\",\n",
      "    \"question\": \"Course - When will the course start?\",\n",
      "    \"course\": \"data-engineering-zoomcamp\",\n",
      "    \"id\": \"c02e79ef\"\n",
      "  },\n",
      "  {\n",
      "    \"text\": \"GitHub - DataTalksClub data-engineering-zoomcamp#prerequisites\",\n"
     ]
    }
   ],
   "source": [
    "!head data/documents-with-ids.json"
   ]
  },
  {
   "cell_type": "markdown",
   "id": "41a556d9-3259-4448-819f-64a14a80157b",
   "metadata": {},
   "source": [
    "### 5. Definición del prompt para generación de preguntas\n",
    "\n",
    "Se crea un `prompt_template` con instrucciones para que el modelo de lenguaje genere 5 preguntas completas por documento, utilizando la menor cantidad posible de palabras directamente copiadas."
   ]
  },
  {
   "cell_type": "code",
   "execution_count": 23,
   "id": "1c062325-5608-4da6-80bf-b9ac371bc17f",
   "metadata": {},
   "outputs": [],
   "source": [
    "prompt_template = \"\"\"\n",
    "You emulate a student who's taking our course.\n",
    "Formulate 5 questions this student might ask based on a FAQ record. The record\n",
    "should contain the answer to the questions, and the questions should be complete and not too short.\n",
    "If possible, use as fewer words as possible from the record. \n",
    "\n",
    "The record:\n",
    "\n",
    "section: {section}\n",
    "question: {question}\n",
    "answer: {text}\n",
    "\n",
    "Provide the output in parsable JSON without using code blocks:\n",
    "\n",
    "[\"question1\", \"question2\", ..., \"question5\"]\n",
    "\"\"\".strip()"
   ]
  },
  {
   "cell_type": "markdown",
   "id": "bb4ccdfb-6034-4d9c-9dda-d5f3c171cd9d",
   "metadata": {},
   "source": [
    "### 6. Generación de preguntas con OpenAI\n",
    "\n",
    "Se envían los documentos al modelo `gpt-4o-mini` de OpenAI, que devuelve un JSON con 5 preguntas por documento. Los resultados se guardan para su análisis."
   ]
  },
  {
   "cell_type": "code",
   "execution_count": 27,
   "id": "4c666d2f-9d9c-4440-99c7-9f0e617e2616",
   "metadata": {},
   "outputs": [
    {
     "name": "stdout",
     "output_type": "stream",
     "text": [
      "La variable OPENAI_API_KEY está definida correctamente.\n"
     ]
    }
   ],
   "source": [
    "import os\n",
    "from dotenv import load_dotenv\n",
    "\n",
    "load_dotenv()\n",
    "\n",
    "openai_key = os.getenv(\"OPENAI_API_KEY\")\n",
    "\n",
    "if openai_key is None:\n",
    "    print(\"La variable OPENAI_API_KEY no está definida en el archivo .env\")\n",
    "else:\n",
    "    print(\"La variable OPENAI_API_KEY está definida correctamente.\")"
   ]
  },
  {
   "cell_type": "code",
   "execution_count": 29,
   "id": "51b8f259-eed8-4a50-b50c-2186fb154853",
   "metadata": {},
   "outputs": [],
   "source": [
    "from openai import OpenAI\n",
    "client = OpenAI()"
   ]
  },
  {
   "cell_type": "code",
   "execution_count": 30,
   "id": "534ac1ae-b5e0-43a7-b8ad-103fd56ced54",
   "metadata": {},
   "outputs": [],
   "source": [
    "def generate_questions(doc):\n",
    "    prompt = prompt_template.format(**doc)\n",
    "\n",
    "    response = client.chat.completions.create(\n",
    "        model='gpt-4o-mini',\n",
    "        messages=[{\"role\": \"user\", \"content\": prompt}]\n",
    "    )\n",
    "\n",
    "    json_response = response.choices[0].message.content\n",
    "    return json_response"
   ]
  },
  {
   "cell_type": "code",
   "execution_count": 31,
   "id": "eb2353f8-411b-4ab9-a4c2-0d158495491e",
   "metadata": {},
   "outputs": [],
   "source": [
    "from tqdm.auto import tqdm"
   ]
  },
  {
   "cell_type": "code",
   "execution_count": 32,
   "id": "25a48077-18c0-4d31-82ab-00a44d426279",
   "metadata": {},
   "outputs": [],
   "source": [
    "results = {}"
   ]
  },
  {
   "cell_type": "code",
   "execution_count": 33,
   "id": "742f4b7c-7632-4475-b6df-b3c02d343287",
   "metadata": {},
   "outputs": [
    {
     "data": {
      "application/vnd.jupyter.widget-view+json": {
       "model_id": "605224cb0baf4c5c82a5116c0a438303",
       "version_major": 2,
       "version_minor": 0
      },
      "text/plain": [
       "  0%|          | 0/948 [00:00<?, ?it/s]"
      ]
     },
     "metadata": {},
     "output_type": "display_data"
    }
   ],
   "source": [
    "for doc in tqdm(documents): \n",
    "    doc_id = doc['id']\n",
    "    if doc_id in results:\n",
    "        continue\n",
    "\n",
    "    questions = generate_questions(doc)\n",
    "    results[doc_id] = questions"
   ]
  },
  {
   "cell_type": "code",
   "execution_count": 35,
   "id": "e6e965fd-6254-4028-baf7-d985e3f28b6b",
   "metadata": {},
   "outputs": [],
   "source": [
    "import pickle\n",
    "\n",
    "with open('data/results.bin', 'wb') as f_out:\n",
    "    pickle.dump(results, f_out)"
   ]
  },
  {
   "cell_type": "markdown",
   "id": "1121768e-8d22-467a-b81f-d7f0145d6a5a",
   "metadata": {},
   "source": [
    "### 7. Procesamiento y limpieza de resultados\n",
    "\n",
    "Se parsean los resultados generados para asociarlos correctamente con su documento y curso de origen. Se estructura la información en una lista con tripletas: pregunta, curso y documento.\n"
   ]
  },
  {
   "cell_type": "code",
   "execution_count": 36,
   "id": "de64d355-a4c8-4633-b179-952bb38923c5",
   "metadata": {},
   "outputs": [],
   "source": [
    "import pickle\n",
    "\n",
    "with open('data/results.bin', 'rb') as f_in:\n",
    "    results = pickle.load(f_in)"
   ]
  },
  {
   "cell_type": "code",
   "execution_count": 37,
   "id": "139cd2e0-a8b7-4cb4-9291-4afe2bf5b1c4",
   "metadata": {},
   "outputs": [
    {
     "data": {
      "text/plain": [
       "'[\"What prior knowledge or skills do I need before enrolling in the course?\", \"Where can I find the list of prerequisites for the course?\", \"Are there any specific tools or technologies I should be familiar with before taking this course?\", \"Is there a resource that outlines the necessary qualifications for this course?\", \"What are the essential requirements for participation in this course?\"]'"
      ]
     },
     "execution_count": 37,
     "metadata": {},
     "output_type": "execute_result"
    }
   ],
   "source": [
    "results['1f6520ca']"
   ]
  },
  {
   "cell_type": "code",
   "execution_count": 38,
   "id": "d265559b-de13-45a3-ba4d-b5f84a3c070a",
   "metadata": {},
   "outputs": [],
   "source": [
    "parsed_resulst = {}\n",
    "\n",
    "for doc_id, json_questions in results.items():\n",
    "    parsed_resulst[doc_id] = json.loads(json_questions)"
   ]
  },
  {
   "cell_type": "code",
   "execution_count": 40,
   "id": "6c928923-d3d8-4b8f-b093-887dffc8e6cb",
   "metadata": {},
   "outputs": [],
   "source": [
    "doc_index = {d['id']: d for d in documents}"
   ]
  },
  {
   "cell_type": "code",
   "execution_count": 41,
   "id": "1ad018b8-33d7-4b80-85df-de3a115aa2b7",
   "metadata": {},
   "outputs": [],
   "source": [
    "final_results = []\n",
    "\n",
    "for doc_id, questions in parsed_resulst.items():\n",
    "    course = doc_index[doc_id]['course']\n",
    "    for q in questions:\n",
    "        final_results.append((q, course, doc_id))"
   ]
  },
  {
   "cell_type": "code",
   "execution_count": 42,
   "id": "42a5da45-f2c9-44a5-881e-120b9c8ec63f",
   "metadata": {},
   "outputs": [
    {
     "data": {
      "text/plain": [
       "[('What is the exact date and time for the commencement of the course?',\n",
       "  'data-engineering-zoomcamp',\n",
       "  'c02e79ef'),\n",
       " ('How can I stay updated about course announcements?',\n",
       "  'data-engineering-zoomcamp',\n",
       "  'c02e79ef'),\n",
       " ('What should I do before the course begins?',\n",
       "  'data-engineering-zoomcamp',\n",
       "  'c02e79ef'),\n",
       " ('Where can I find the link to register for the course?',\n",
       "  'data-engineering-zoomcamp',\n",
       "  'c02e79ef'),\n",
       " ('Is there a specific platform for live Office Hours?',\n",
       "  'data-engineering-zoomcamp',\n",
       "  'c02e79ef')]"
      ]
     },
     "execution_count": 42,
     "metadata": {},
     "output_type": "execute_result"
    }
   ],
   "source": [
    "final_results[:5]"
   ]
  },
  {
   "cell_type": "markdown",
   "id": "1baa50b8-2b84-417c-9d85-04dfed8211b8",
   "metadata": {},
   "source": [
    "### 8. Creación y exportación del dataset final\n",
    "\n",
    "Se construye un DataFrame con las preguntas generadas y se exporta a un archivo CSV (`ground-truth-data.csv`), que sirve como base para futuros *benchmarks* de evaluación."
   ]
  },
  {
   "cell_type": "code",
   "execution_count": 44,
   "id": "f7e44c9c-c383-4b7a-8c7a-404d9c2ec8d2",
   "metadata": {},
   "outputs": [],
   "source": [
    "import pandas as pd"
   ]
  },
  {
   "cell_type": "code",
   "execution_count": 45,
   "id": "c5adba2e-d628-47e5-a107-0ddad14fd667",
   "metadata": {},
   "outputs": [],
   "source": [
    "df = pd.DataFrame(final_results, columns=['question', 'course', 'document'])"
   ]
  },
  {
   "cell_type": "code",
   "execution_count": 46,
   "id": "9e4d5ba5-c59c-4e0f-9e79-8f4cd86bb5f0",
   "metadata": {},
   "outputs": [],
   "source": [
    "df.to_csv('data/ground-truth-data.csv', index=False)"
   ]
  },
  {
   "cell_type": "code",
   "execution_count": 47,
   "id": "f88e2b0d-53ba-4766-9f5c-aa5d85eff47b",
   "metadata": {},
   "outputs": [
    {
     "name": "stdout",
     "output_type": "stream",
     "text": [
      "question,course,document\n",
      "What is the exact date and time for the commencement of the course?,data-engineering-zoomcamp,c02e79ef\n",
      "How can I stay updated about course announcements?,data-engineering-zoomcamp,c02e79ef\n",
      "What should I do before the course begins?,data-engineering-zoomcamp,c02e79ef\n",
      "Where can I find the link to register for the course?,data-engineering-zoomcamp,c02e79ef\n",
      "Is there a specific platform for live Office Hours?,data-engineering-zoomcamp,c02e79ef\n",
      "What prior knowledge or skills do I need before enrolling in the course?,data-engineering-zoomcamp,1f6520ca\n",
      "Where can I find the list of prerequisites for the course?,data-engineering-zoomcamp,1f6520ca\n",
      "Are there any specific tools or technologies I should be familiar with before taking this course?,data-engineering-zoomcamp,1f6520ca\n",
      "Is there a resource that outlines the necessary qualifications for this course?,data-engineering-zoomcamp,1f6520ca\n"
     ]
    }
   ],
   "source": [
    "!head data/ground-truth-data.csv"
   ]
  },
  {
   "cell_type": "code",
   "execution_count": null,
   "id": "46afefd7-2230-4a08-ae31-5600de189d6f",
   "metadata": {},
   "outputs": [],
   "source": []
  }
 ],
 "metadata": {
  "kernelspec": {
   "display_name": "Python 3 (ipykernel)",
   "language": "python",
   "name": "python3"
  },
  "language_info": {
   "codemirror_mode": {
    "name": "ipython",
    "version": 3
   },
   "file_extension": ".py",
   "mimetype": "text/x-python",
   "name": "python",
   "nbconvert_exporter": "python",
   "pygments_lexer": "ipython3",
   "version": "3.13.3"
  }
 },
 "nbformat": 4,
 "nbformat_minor": 5
}
