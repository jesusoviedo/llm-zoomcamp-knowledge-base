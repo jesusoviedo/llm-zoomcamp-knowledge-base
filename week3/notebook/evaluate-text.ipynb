{
 "cells": [
  {
   "cell_type": "markdown",
   "id": "77998ced-6f8c-4979-b3ac-84335237ce01",
   "metadata": {},
   "source": [
    "# Evaluación de Sistemas RAG\n",
    "\n",
    "Este notebook demuestra cómo evaluar el rendimiento de un sistema de búsqueda textual utilizando métricas estándar como **Hit Rate** y **Mean Reciprocal Rank (MRR)**. La evaluación se hace sobre un conjunto de preguntas generadas a partir de FAQs y documentos indexados, usando tanto **Elasticsearch** como **Minsearch**.\n",
    "\n",
    "## 1. Propósito de la Evaluación\n",
    "\n",
    "Evaluar el rendimiento de los sistemas de recuperación es clave para:\n",
    "- Comparar distintos motores (por ejemplo, Elasticsearch vs. Minsearch).\n",
    "- Ajustar parámetros y configuraciones de búsqueda.\n",
    "- Tomar decisiones basadas en evidencia cuantitativa y no solo en percepciones.\n",
    "\n",
    "## 2. Fundamentos: Ground Truth (Datos de Referencia)\n",
    "\n",
    "### ¿Qué es?\n",
    "\n",
    "El Ground Truth es un conjunto de datos que enlaza preguntas (queries) con documentos relevantes. Sirve como base para calcular métricas de evaluación.\n",
    "\n",
    "### Estructura\n",
    "\n",
    "Contiene los siguientes campos:\n",
    "- `question`: una consulta simulada de usuario.\n",
    "- `document`: el ID del documento relevante.\n",
    "- `course`: contexto o categoría del documento.\n",
    "\n",
    "### ¿Cómo se genera?\n",
    "\n",
    "- **Manual**: mediante anotaciones humanas.\n",
    "- **Automática**: generada con un LLM como GPT-4.\n",
    "- **Comportamiento real**: basado en clics y búsquedas de usuarios.\n",
    "\n",
    "### Buenas prácticas\n",
    "\n",
    "- Asignar un ID único e irrepetible a cada documento (por ejemplo, con MD5 hash).\n",
    "- Mantener trazabilidad con el contenido fuente.\n",
    "- Evitar inconsistencias entre los documentos y sus identificadores.\n",
    "\n",
    "\n",
    "## 3. Métricas Clave de Evaluación\n",
    "\n",
    "### Hit Rate (Recall@k)\n",
    "\n",
    "Mide si el documento relevante aparece entre los primeros `k` resultados. \n",
    "Es binaria: 1 si aparece, 0 si no.\n",
    "\n",
    "### MRR (Mean Reciprocal Rank)\n",
    "\n",
    "Valora en qué posición del ranking aparece el documento relevante.\n",
    "Cuanto más arriba, mejor es el valor. Premia respuestas rápidas.\n",
    "\n",
    "### Otras métricas posibles\n",
    "\n",
    "- MAP (Mean Average Precision)\n",
    "- NDCG (Normalized Discounted Cumulative Gain)\n",
    "- Precision@k\n",
    "- HR (Hit Rate), ERR, AUC-ROC, F1 Score\n",
    "\n",
    "## 4. Optimización de Parámetros de Búsqueda\n",
    "\n",
    "Ajustar parámetros puede marcar la diferencia. Algunos aspectos clave:\n",
    "\n",
    "- Tipo de búsqueda: BM25, búsqueda densa o híbrida.\n",
    "- Campos utilizados: cuerpo del texto, sección, pregunta, título, etc.\n",
    "- Boosting: priorizar campos como la pregunta.\n",
    "- Filtros: aplicar `filter` por curso, categoría u otros metadatos para mejorar precisión y rendimiento.\n",
    "\n",
    "----"
   ]
  },
  {
   "cell_type": "markdown",
   "id": "157bca40-4fc3-46bd-bf99-ecbb3d8884fa",
   "metadata": {},
   "source": [
    "### 1. Carga de Datos"
   ]
  },
  {
   "cell_type": "code",
   "execution_count": 2,
   "id": "8456b5b6-185b-440b-ab98-1822aac2fe4f",
   "metadata": {},
   "outputs": [],
   "source": [
    "import json\n",
    "\n",
    "with open('data/documents-with-ids.json', 'rt') as f_in:\n",
    "    documents = json.load(f_in)"
   ]
  },
  {
   "cell_type": "markdown",
   "id": "2834985e-d59e-4444-912c-e6b0dd9cb3fd",
   "metadata": {},
   "source": [
    "### 2. Configuración e Indexación en Elasticsearch"
   ]
  },
  {
   "cell_type": "markdown",
   "id": "6249b718-e0d1-43f3-9471-5a5404df6de4",
   "metadata": {},
   "source": [
    "Ejecutar el siguiente comando en la terminal\n",
    "\n",
    "```bash\n",
    "docker run -it \\\n",
    "    --rm \\\n",
    "    --name elasticsearch \\\n",
    "    -m 4GB \\\n",
    "    -p 9200:9200 \\\n",
    "    -p 9300:9300 \\\n",
    "    -e \"discovery.type=single-node\" \\\n",
    "    -e \"xpack.security.enabled=false\" \\\n",
    "    docker.elastic.co/elasticsearch/elasticsearch:9.0.3\n",
    "```"
   ]
  },
  {
   "cell_type": "code",
   "execution_count": 6,
   "id": "f6ea1923-0639-4fc5-8243-7e53f8f3d6c8",
   "metadata": {},
   "outputs": [
    {
     "data": {
      "text/plain": [
       "ObjectApiResponse({'acknowledged': True, 'shards_acknowledged': True, 'index': 'course-questions'})"
      ]
     },
     "execution_count": 6,
     "metadata": {},
     "output_type": "execute_result"
    }
   ],
   "source": [
    "from elasticsearch import Elasticsearch\n",
    "\n",
    "es_client = Elasticsearch('http://localhost:9200') \n",
    "\n",
    "index_settings = {\n",
    "    \"settings\": {\n",
    "        \"number_of_shards\": 1,\n",
    "        \"number_of_replicas\": 0\n",
    "    },\n",
    "    \"mappings\": {\n",
    "        \"properties\": {\n",
    "            \"text\": {\"type\": \"text\"},\n",
    "            \"section\": {\"type\": \"text\"},\n",
    "            \"question\": {\"type\": \"text\"},\n",
    "            \"course\": {\"type\": \"keyword\"},\n",
    "            \"id\": {\"type\": \"keyword\"},\n",
    "        }\n",
    "    }\n",
    "}\n",
    "\n",
    "index_name = \"course-questions\"\n",
    "\n",
    "es_client.indices.delete(index=index_name, ignore_unavailable=True)\n",
    "es_client.indices.create(index=index_name, body=index_settings)"
   ]
  },
  {
   "cell_type": "markdown",
   "id": "5605913e-4e08-46f6-8a93-b1eb091a88b4",
   "metadata": {},
   "source": [
    "### 3. Indexación de Documentos"
   ]
  },
  {
   "cell_type": "code",
   "execution_count": 7,
   "id": "58a9daf0-9b68-48fb-b992-59782b625e33",
   "metadata": {},
   "outputs": [
    {
     "data": {
      "application/vnd.jupyter.widget-view+json": {
       "model_id": "99d91ee5880c400c8b20764a18e781e7",
       "version_major": 2,
       "version_minor": 0
      },
      "text/plain": [
       "  0%|          | 0/948 [00:00<?, ?it/s]"
      ]
     },
     "metadata": {},
     "output_type": "display_data"
    }
   ],
   "source": [
    "from tqdm.auto import tqdm\n",
    "\n",
    "for doc in tqdm(documents):\n",
    "    es_client.index(index=index_name, document=doc)"
   ]
  },
  {
   "cell_type": "markdown",
   "id": "86373606-cae6-47c3-84f0-33169a6238ea",
   "metadata": {},
   "source": [
    "### 4. Función de Búsqueda en Elasticsearch"
   ]
  },
  {
   "cell_type": "code",
   "execution_count": 9,
   "id": "08c8586c-2976-4746-9b2d-0442c360211d",
   "metadata": {},
   "outputs": [],
   "source": [
    "def elastic_search(query, course):\n",
    "    search_query = {\n",
    "        \"size\": 5,\n",
    "        \"query\": {\n",
    "            \"bool\": {\n",
    "                \"must\": {\n",
    "                    \"multi_match\": {\n",
    "                        \"query\": query,\n",
    "                        \"fields\": [\"question^3\", \"text\", \"section\"],\n",
    "                        \"type\": \"best_fields\"\n",
    "                    }\n",
    "                },\n",
    "                \"filter\": {\n",
    "                    \"term\": {\n",
    "                        \"course\": course\n",
    "                    }\n",
    "                }\n",
    "            }\n",
    "        }\n",
    "    }\n",
    "\n",
    "    response = es_client.search(index=index_name, body=search_query)\n",
    "    \n",
    "    result_docs = []\n",
    "    \n",
    "    for hit in response['hits']['hits']:\n",
    "        result_docs.append(hit['_source'])\n",
    "    \n",
    "    return result_docs"
   ]
  },
  {
   "cell_type": "markdown",
   "id": "c73ce489-2591-44de-b1ce-3154daa43104",
   "metadata": {},
   "source": [
    "### 5. Ejemplo de Búsqueda"
   ]
  },
  {
   "cell_type": "code",
   "execution_count": 10,
   "id": "d7ec3171-f2cc-4be5-8de5-4e8131cdeccb",
   "metadata": {},
   "outputs": [
    {
     "data": {
      "text/plain": [
       "[{'text': \"Yes, even if you don't register, you're still eligible to submit the homeworks.\\nBe aware, however, that there will be deadlines for turning in the final projects. So don't leave everything for the last minute.\",\n",
       "  'section': 'General course-related questions',\n",
       "  'question': 'Course - Can I still join the course after the start date?',\n",
       "  'course': 'data-engineering-zoomcamp',\n",
       "  'id': '7842b56a'},\n",
       " {'text': 'You can start by installing and setting up all the dependencies and requirements:\\nGoogle cloud account\\nGoogle Cloud SDK\\nPython 3 (installed with Anaconda)\\nTerraform\\nGit\\nLook over the prerequisites and syllabus to see if you are comfortable with these subjects.',\n",
       "  'section': 'General course-related questions',\n",
       "  'question': 'Course - What can I do before the course starts?',\n",
       "  'course': 'data-engineering-zoomcamp',\n",
       "  'id': '63394d91'},\n",
       " {'text': 'Yes, we will keep all the materials after the course finishes, so you can follow the course at your own pace after it finishes.\\nYou can also continue looking at the homeworks and continue preparing for the next cohort. I guess you can also start working on your final capstone project.',\n",
       "  'section': 'General course-related questions',\n",
       "  'question': 'Course - Can I follow the course after it finishes?',\n",
       "  'course': 'data-engineering-zoomcamp',\n",
       "  'id': 'a482086d'},\n",
       " {'text': 'Yes, the slack channel remains open and you can ask questions there. But always sDocker containers exit code w search the channel first and second, check the FAQ (this document), most likely all your questions are already answered here.\\nYou can also tag the bot @ZoomcampQABot to help you conduct the search, but don’t rely on its answers 100%, it is pretty good though.',\n",
       "  'section': 'General course-related questions',\n",
       "  'question': 'Course - Can I get support if I take the course in the self-paced mode?',\n",
       "  'course': 'data-engineering-zoomcamp',\n",
       "  'id': 'eb56ae98'},\n",
       " {'text': \"You don't need it. You're accepted. You can also just start learning and submitting homework without registering. It is not checked against any registered list. Registration is just to gauge interest before the start date.\",\n",
       "  'section': 'General course-related questions',\n",
       "  'question': 'Course - I have registered for the Data Engineering Bootcamp. When can I expect to receive the confirmation email?',\n",
       "  'course': 'data-engineering-zoomcamp',\n",
       "  'id': '0bbf41ec'}]"
      ]
     },
     "execution_count": 10,
     "metadata": {},
     "output_type": "execute_result"
    }
   ],
   "source": [
    "elastic_search(\n",
    "    query=\"I just discovered the course. Can I still join?\",\n",
    "    course=\"data-engineering-zoomcamp\"\n",
    ")"
   ]
  },
  {
   "cell_type": "markdown",
   "id": "9cbdb0d9-727b-43cd-b02f-1ddfaf1d0e85",
   "metadata": {},
   "source": [
    "### 6. Carga del Ground Truth"
   ]
  },
  {
   "cell_type": "code",
   "execution_count": 11,
   "id": "163d5e97-e1b7-45e1-ba1e-61fca4fc37a9",
   "metadata": {},
   "outputs": [],
   "source": [
    "import pandas as pd"
   ]
  },
  {
   "cell_type": "code",
   "execution_count": 12,
   "id": "e3da963b-cd17-471b-9cff-7f8c4276b915",
   "metadata": {},
   "outputs": [],
   "source": [
    "df_ground_truth = pd.read_csv('data/ground-truth-data.csv')"
   ]
  },
  {
   "cell_type": "code",
   "execution_count": 13,
   "id": "d53d3beb-d699-46c8-bc85-953afc4ef48d",
   "metadata": {},
   "outputs": [],
   "source": [
    "ground_truth = df_ground_truth.to_dict(orient='records')"
   ]
  },
  {
   "cell_type": "code",
   "execution_count": 15,
   "id": "e727bbe0-196a-4556-b0df-bd96ba9582b1",
   "metadata": {},
   "outputs": [
    {
     "data": {
      "text/plain": [
       "[{'question': 'What is the exact date and time for the commencement of the course?',\n",
       "  'course': 'data-engineering-zoomcamp',\n",
       "  'document': 'c02e79ef'},\n",
       " {'question': 'How can I stay updated about course announcements?',\n",
       "  'course': 'data-engineering-zoomcamp',\n",
       "  'document': 'c02e79ef'},\n",
       " {'question': 'What should I do before the course begins?',\n",
       "  'course': 'data-engineering-zoomcamp',\n",
       "  'document': 'c02e79ef'},\n",
       " {'question': 'Where can I find the link to register for the course?',\n",
       "  'course': 'data-engineering-zoomcamp',\n",
       "  'document': 'c02e79ef'},\n",
       " {'question': 'Is there a specific platform for live Office Hours?',\n",
       "  'course': 'data-engineering-zoomcamp',\n",
       "  'document': 'c02e79ef'}]"
      ]
     },
     "execution_count": 15,
     "metadata": {},
     "output_type": "execute_result"
    }
   ],
   "source": [
    "ground_truth[:5]"
   ]
  },
  {
   "cell_type": "markdown",
   "id": "1481b9a9-ed9d-474c-a5bf-955f6cd29ded",
   "metadata": {},
   "source": [
    "### 7. Busqueda con Elasticsearch"
   ]
  },
  {
   "cell_type": "code",
   "execution_count": 16,
   "id": "1e08bcee-4c70-44b8-9525-ff89d9b2320b",
   "metadata": {},
   "outputs": [
    {
     "data": {
      "application/vnd.jupyter.widget-view+json": {
       "model_id": "aec4bd79578d45429d0a9c1009cde116",
       "version_major": 2,
       "version_minor": 0
      },
      "text/plain": [
       "  0%|          | 0/4735 [00:00<?, ?it/s]"
      ]
     },
     "metadata": {},
     "output_type": "display_data"
    }
   ],
   "source": [
    "relevance_total = []\n",
    "\n",
    "for q in tqdm(ground_truth):\n",
    "    doc_id = q['document']\n",
    "    results = elastic_search(query=q['question'], course=q['course'])\n",
    "    relevance = [d['id'] == doc_id for d in results]\n",
    "    relevance_total.append(relevance)"
   ]
  },
  {
   "cell_type": "code",
   "execution_count": 21,
   "id": "83e95114-afdb-40de-b044-0d83d07722c9",
   "metadata": {},
   "outputs": [],
   "source": [
    "example = [\n",
    "    [True, False, False, False, False], # 1, \n",
    "    [False, False, False, False, False], # 0\n",
    "    [False, False, False, False, False], # 0 \n",
    "    [False, False, False, False, False], # 0\n",
    "    [False, False, False, False, False], # 0 \n",
    "    [True, False, False, False, False], # 1\n",
    "    [True, False, False, False, False], # 1\n",
    "    [True, False, False, False, False], # 1\n",
    "    [True, False, False, False, False], # 1\n",
    "    [True, False, False, False, False], # 1 \n",
    "    [False, False, True, False, False],  # 1/3\n",
    "    [False, False, False, False, False], # 0\n",
    "]\n",
    "\n",
    "# 1 => 1\n",
    "# 2 => 1 / 2 = 0.5\n",
    "# 3 => 1 / 3 = 0.3333\n",
    "# 4 => 0.25\n",
    "# 5 => 0.2\n",
    "# rank => 1 / rank\n",
    "# none => 0"
   ]
  },
  {
   "cell_type": "markdown",
   "id": "31b389b4-6d79-48d8-b4b9-0b4fe127c11e",
   "metadata": {},
   "source": [
    "### 8. Definición de Métricas"
   ]
  },
  {
   "cell_type": "code",
   "execution_count": 18,
   "id": "8959c9ff-5bbe-4729-8fa3-cdc51ed10f5f",
   "metadata": {},
   "outputs": [],
   "source": [
    "def hit_rate(relevance_total):\n",
    "    cnt = 0.0\n",
    "\n",
    "    for line in relevance_total:\n",
    "        if True in line:\n",
    "            cnt = cnt + 1\n",
    "\n",
    "    return cnt / len(relevance_total)    "
   ]
  },
  {
   "cell_type": "code",
   "execution_count": 36,
   "id": "34cedd28-61c1-4f94-bd1a-ce87e72b8d9d",
   "metadata": {},
   "outputs": [],
   "source": [
    "def hit_rate_v2(relevance_total):\n",
    "    hits = [1 for line in relevance_total if True in line]\n",
    "    \n",
    "    return sum(hits) / len(relevance_total)    "
   ]
  },
  {
   "cell_type": "code",
   "execution_count": 52,
   "id": "842255b5-18f2-4102-9689-a5835e0a621c",
   "metadata": {},
   "outputs": [],
   "source": [
    "def mrr(relevance_total):\n",
    "    total_score = 0\n",
    "\n",
    "    for line in relevance_total:\n",
    "        for rank in range(len(line)):\n",
    "            if line[rank] == True:\n",
    "                total_score = total_score + 1 / (rank + 1)\n",
    "                break\n",
    "\n",
    "    return total_score / len(relevance_total)"
   ]
  },
  {
   "cell_type": "code",
   "execution_count": 53,
   "id": "878e477d-ce77-4123-955a-70cf81dbebc6",
   "metadata": {},
   "outputs": [],
   "source": [
    "def mrr_v2(relevance_total):\n",
    "    hits = [1 / (line.index(True) + 1)  if True in line else 0 for line in relevance_total]\n",
    "\n",
    "    return sum(hits) / len(relevance_total)"
   ]
  },
  {
   "cell_type": "markdown",
   "id": "b1e0f84a-39dd-43c6-af18-b434322e12c7",
   "metadata": {},
   "source": [
    "### 9. Ejemplo Manual"
   ]
  },
  {
   "cell_type": "code",
   "execution_count": 23,
   "id": "d56661b2-d5ee-4683-9514-94b825da7ae3",
   "metadata": {},
   "outputs": [],
   "source": [
    "example = [\n",
    "    [True, False, False, False, False], # 1, \n",
    "    [False, False, False, False, False], # 0\n",
    "    [False, False, False, False, False], # 0 \n",
    "    [False, False, False, False, False], # 0\n",
    "    [False, False, False, False, False], # 0 \n",
    "    [True, False, False, False, False], # 1\n",
    "    [True, False, False, False, False], # 1\n",
    "    [True, False, False, False, False], # 1\n",
    "    [True, False, False, False, False], # 1\n",
    "    [True, False, False, False, False], # 1 \n",
    "    [False, False, True, False, False],  # 1/3\n",
    "    [False, False, False, False, False], # 0\n",
    "]\n",
    "\n",
    "# 1 => 1\n",
    "# 2 => 1 / 2 = 0.5\n",
    "# 3 => 1 / 3 = 0.3333\n",
    "# 4 => 0.25\n",
    "# 5 => 0.2\n",
    "# rank => 1 / rank\n",
    "# none => 0"
   ]
  },
  {
   "cell_type": "code",
   "execution_count": 38,
   "id": "d1e5195e-1d32-485f-8b4f-4d33476785eb",
   "metadata": {},
   "outputs": [
    {
     "data": {
      "text/plain": [
       "0.5833333333333334"
      ]
     },
     "execution_count": 38,
     "metadata": {},
     "output_type": "execute_result"
    }
   ],
   "source": [
    "hit_rate(example)"
   ]
  },
  {
   "cell_type": "code",
   "execution_count": 39,
   "id": "75af0d7c-58f7-4465-9564-acee5227fd8e",
   "metadata": {},
   "outputs": [
    {
     "data": {
      "text/plain": [
       "0.5833333333333334"
      ]
     },
     "execution_count": 39,
     "metadata": {},
     "output_type": "execute_result"
    }
   ],
   "source": [
    "hit_rate_v2(example)"
   ]
  },
  {
   "cell_type": "code",
   "execution_count": 54,
   "id": "dc1348d1-6dfa-4f80-a532-0dd423b5333d",
   "metadata": {},
   "outputs": [
    {
     "data": {
      "text/plain": [
       "0.5277777777777778"
      ]
     },
     "execution_count": 54,
     "metadata": {},
     "output_type": "execute_result"
    }
   ],
   "source": [
    "mrr(example)"
   ]
  },
  {
   "cell_type": "code",
   "execution_count": 55,
   "id": "afa6078f-f263-4507-822a-4219d421ae71",
   "metadata": {},
   "outputs": [
    {
     "data": {
      "text/plain": [
       "0.5277777777777778"
      ]
     },
     "execution_count": 55,
     "metadata": {},
     "output_type": "execute_result"
    }
   ],
   "source": [
    "mrr_v2(example)"
   ]
  },
  {
   "cell_type": "markdown",
   "id": "318243c0-66f6-4f57-8e47-62d9b2328728",
   "metadata": {},
   "source": [
    "### 10. Resultados Elasticsearch"
   ]
  },
  {
   "cell_type": "code",
   "execution_count": 56,
   "id": "e12883f1-13c1-4fe4-83ac-a4833d1cc97b",
   "metadata": {},
   "outputs": [
    {
     "data": {
      "text/plain": [
       "(0.6329461457233369, 0.48975712777191127)"
      ]
     },
     "execution_count": 56,
     "metadata": {},
     "output_type": "execute_result"
    }
   ],
   "source": [
    "hit_rate(relevance_total), mrr(relevance_total)"
   ]
  },
  {
   "cell_type": "code",
   "execution_count": 57,
   "id": "4055972b-102e-48b8-8c22-14da217bb963",
   "metadata": {},
   "outputs": [
    {
     "data": {
      "text/plain": [
       "(0.6329461457233369, 0.48975712777191127)"
      ]
     },
     "execution_count": 57,
     "metadata": {},
     "output_type": "execute_result"
    }
   ],
   "source": [
    "hit_rate_v2(relevance_total), mrr_v2(relevance_total)"
   ]
  },
  {
   "cell_type": "markdown",
   "id": "ba023076-ecab-4622-b7dc-da9993a7f486",
   "metadata": {},
   "source": [
    "### 11. Implementación con Minsearch"
   ]
  },
  {
   "cell_type": "code",
   "execution_count": 59,
   "id": "d10bb1fd-6139-4450-864e-23f7b8531dee",
   "metadata": {},
   "outputs": [
    {
     "data": {
      "text/plain": [
       "<minsearch.minsearch.Index at 0x7ff2cb80c590>"
      ]
     },
     "execution_count": 59,
     "metadata": {},
     "output_type": "execute_result"
    }
   ],
   "source": [
    "import minsearch\n",
    "\n",
    "index = minsearch.Index(\n",
    "    text_fields=[\"question\", \"text\", \"section\"],\n",
    "    keyword_fields=[\"course\", \"id\"]\n",
    ")\n",
    "\n",
    "index.fit(documents)"
   ]
  },
  {
   "cell_type": "markdown",
   "id": "ccb7768b-fdcc-4c81-9636-a782cdea44c3",
   "metadata": {},
   "source": [
    "Función de Búsqueda"
   ]
  },
  {
   "cell_type": "code",
   "execution_count": 61,
   "id": "c5005e74-642b-4b79-8eac-09373e9cb606",
   "metadata": {},
   "outputs": [],
   "source": [
    "def minsearch_search(query, course):\n",
    "    boost = {'question': 3.0, 'section': 0.5}\n",
    "\n",
    "    results = index.search(\n",
    "        query=query,\n",
    "        filter_dict={'course': course},\n",
    "        boost_dict=boost,\n",
    "        num_results=5\n",
    "    )\n",
    "\n",
    "    return results"
   ]
  },
  {
   "cell_type": "markdown",
   "id": "4871f7ed-6069-4a55-9be2-5913b346dbb5",
   "metadata": {},
   "source": [
    "Ejemplo de Búsqueda"
   ]
  },
  {
   "cell_type": "code",
   "execution_count": 62,
   "id": "ba9771d8-df63-451a-b8df-f9d099d727d9",
   "metadata": {},
   "outputs": [
    {
     "data": {
      "text/plain": [
       "[{'text': \"Yes, even if you don't register, you're still eligible to submit the homeworks.\\nBe aware, however, that there will be deadlines for turning in the final projects. So don't leave everything for the last minute.\",\n",
       "  'section': 'General course-related questions',\n",
       "  'question': 'Course - Can I still join the course after the start date?',\n",
       "  'course': 'data-engineering-zoomcamp',\n",
       "  'id': '7842b56a'},\n",
       " {'text': \"The purpose of this document is to capture frequently asked technical questions\\nThe exact day and hour of the course will be 15th Jan 2024 at 17h00. The course will start with the first  “Office Hours'' live.1\\nSubscribe to course public Google Calendar (it works from Desktop only).\\nRegister before the course starts using this link.\\nJoin the course Telegram channel with announcements.\\nDon’t forget to register in DataTalks.Club's Slack and join the channel.\",\n",
       "  'section': 'General course-related questions',\n",
       "  'question': 'Course - When will the course start?',\n",
       "  'course': 'data-engineering-zoomcamp',\n",
       "  'id': 'c02e79ef'},\n",
       " {'text': 'Yes, we will keep all the materials after the course finishes, so you can follow the course at your own pace after it finishes.\\nYou can also continue looking at the homeworks and continue preparing for the next cohort. I guess you can also start working on your final capstone project.',\n",
       "  'section': 'General course-related questions',\n",
       "  'question': 'Course - Can I follow the course after it finishes?',\n",
       "  'course': 'data-engineering-zoomcamp',\n",
       "  'id': 'a482086d'},\n",
       " {'text': 'You can start by installing and setting up all the dependencies and requirements:\\nGoogle cloud account\\nGoogle Cloud SDK\\nPython 3 (installed with Anaconda)\\nTerraform\\nGit\\nLook over the prerequisites and syllabus to see if you are comfortable with these subjects.',\n",
       "  'section': 'General course-related questions',\n",
       "  'question': 'Course - What can I do before the course starts?',\n",
       "  'course': 'data-engineering-zoomcamp',\n",
       "  'id': '63394d91'},\n",
       " {'text': 'Star the repo! Share it with friends if you find it useful ❣️\\nCreate a PR if you see you can improve the text or the structure of the repository.',\n",
       "  'section': 'General course-related questions',\n",
       "  'question': 'How can we contribute to the course?',\n",
       "  'course': 'data-engineering-zoomcamp',\n",
       "  'id': '2f19301f'}]"
      ]
     },
     "execution_count": 62,
     "metadata": {},
     "output_type": "execute_result"
    }
   ],
   "source": [
    "minsearch_search(\n",
    "    query=\"I just discovered the course. Can I still join?\",\n",
    "    course=\"data-engineering-zoomcamp\"\n",
    ")"
   ]
  },
  {
   "cell_type": "markdown",
   "id": "b54845a1-bc37-44a1-a7e8-1eeda88356c2",
   "metadata": {},
   "source": [
    "### 12. Busqueda con Minsearch"
   ]
  },
  {
   "cell_type": "code",
   "execution_count": 63,
   "id": "351255d3-2fa5-400e-954a-72c115e94637",
   "metadata": {},
   "outputs": [
    {
     "data": {
      "application/vnd.jupyter.widget-view+json": {
       "model_id": "7f04c11f1f624182baad82e47c901dcd",
       "version_major": 2,
       "version_minor": 0
      },
      "text/plain": [
       "  0%|          | 0/4735 [00:00<?, ?it/s]"
      ]
     },
     "metadata": {},
     "output_type": "display_data"
    }
   ],
   "source": [
    "relevance_total = []\n",
    "\n",
    "for q in tqdm(ground_truth):\n",
    "    doc_id = q['document']\n",
    "    results = minsearch_search(query=q['question'], course=q['course'])\n",
    "    relevance = [d['id'] == doc_id for d in results]\n",
    "    relevance_total.append(relevance)"
   ]
  },
  {
   "cell_type": "code",
   "execution_count": 64,
   "id": "b9c2a382-edce-4e6a-8d2e-caabf43f4483",
   "metadata": {},
   "outputs": [
    {
     "data": {
      "text/plain": [
       "(0.7146779303062302, 0.5827138331573397)"
      ]
     },
     "execution_count": 64,
     "metadata": {},
     "output_type": "execute_result"
    }
   ],
   "source": [
    "hit_rate(relevance_total), mrr(relevance_total)"
   ]
  },
  {
   "cell_type": "code",
   "execution_count": 65,
   "id": "11362086-242d-4bcf-9a7e-6f44cedf7e6c",
   "metadata": {},
   "outputs": [
    {
     "data": {
      "text/plain": [
       "(0.7146779303062302, 0.5827138331573389)"
      ]
     },
     "execution_count": 65,
     "metadata": {},
     "output_type": "execute_result"
    }
   ],
   "source": [
    "hit_rate_v2(relevance_total), mrr_v2(relevance_total)"
   ]
  },
  {
   "cell_type": "markdown",
   "id": "2115c210-ef8c-4d6f-a67e-aba20ed96d1e",
   "metadata": {},
   "source": [
    "### 13. Función Generalizada de Evaluación"
   ]
  },
  {
   "cell_type": "code",
   "execution_count": 69,
   "id": "f11baaff-43d9-4b8c-a896-561b86e85743",
   "metadata": {},
   "outputs": [],
   "source": [
    "def evaluate(ground_truth, search_function):\n",
    "    relevance_total = []\n",
    "\n",
    "    for q in tqdm(ground_truth):\n",
    "        doc_id = q['document']\n",
    "        results = search_function(q)\n",
    "        relevance = [d['id'] == doc_id for d in results]\n",
    "        relevance_total.append(relevance)\n",
    "\n",
    "    return {\n",
    "        'hit_rate': hit_rate(relevance_total),\n",
    "        'mrr': mrr(relevance_total),\n",
    "        'hit_rate_v2': hit_rate_v2(relevance_total),\n",
    "        'mrr_v2': mrr_v2(relevance_total),\n",
    "    }"
   ]
  },
  {
   "cell_type": "markdown",
   "id": "6f532cb3-9466-4577-a184-7fd30c687693",
   "metadata": {},
   "source": [
    "### 14. Comparación de Motores"
   ]
  },
  {
   "cell_type": "code",
   "execution_count": 70,
   "id": "611846a8-a977-4483-bd01-61575821c18c",
   "metadata": {},
   "outputs": [
    {
     "data": {
      "application/vnd.jupyter.widget-view+json": {
       "model_id": "8ebea566c3b44a09b0d80a59b13decf6",
       "version_major": 2,
       "version_minor": 0
      },
      "text/plain": [
       "  0%|          | 0/4735 [00:00<?, ?it/s]"
      ]
     },
     "metadata": {},
     "output_type": "display_data"
    },
    {
     "data": {
      "text/plain": [
       "{'hit_rate': 0.6329461457233369,\n",
       " 'mrr': 0.48975712777191127,\n",
       " 'hit_rate_v2': 0.6329461457233369,\n",
       " 'mrr_v2': 0.48975712777191127}"
      ]
     },
     "execution_count": 70,
     "metadata": {},
     "output_type": "execute_result"
    }
   ],
   "source": [
    "evaluate(ground_truth, lambda q: elastic_search(q['question'], q['course']))"
   ]
  },
  {
   "cell_type": "code",
   "execution_count": 71,
   "id": "14cab5ff-f42e-4030-b7ba-6edf47d73d21",
   "metadata": {},
   "outputs": [
    {
     "data": {
      "application/vnd.jupyter.widget-view+json": {
       "model_id": "f1a8e0223af74f518591c654cda01719",
       "version_major": 2,
       "version_minor": 0
      },
      "text/plain": [
       "  0%|          | 0/4735 [00:00<?, ?it/s]"
      ]
     },
     "metadata": {},
     "output_type": "display_data"
    },
    {
     "data": {
      "text/plain": [
       "{'hit_rate': 0.7146779303062302,\n",
       " 'mrr': 0.5827138331573397,\n",
       " 'hit_rate_v2': 0.7146779303062302,\n",
       " 'mrr_v2': 0.5827138331573389}"
      ]
     },
     "execution_count": 71,
     "metadata": {},
     "output_type": "execute_result"
    }
   ],
   "source": [
    "evaluate(ground_truth, lambda q: minsearch_search(q['question'], q['course']))"
   ]
  },
  {
   "cell_type": "markdown",
   "id": "3683a360-5e1d-45a2-a4cc-112a6e68adfa",
   "metadata": {},
   "source": [
    "Notas Finales\n",
    "- El proceso de evaluación es sistemático, repetible y escalable.\n",
    "- Utiliza métricas clave que reflejan la experiencia del usuario.\n",
    "- Permite comparar motores y configuraciones de búsqueda de forma objetiva.\n",
    "- Puedes integrar fácilmente nuevos sistemas de recuperación, manteniendo el mismo pipeline de evaluación."
   ]
  }
 ],
 "metadata": {
  "kernelspec": {
   "display_name": "Python 3 (ipykernel)",
   "language": "python",
   "name": "python3"
  },
  "language_info": {
   "codemirror_mode": {
    "name": "ipython",
    "version": 3
   },
   "file_extension": ".py",
   "mimetype": "text/x-python",
   "name": "python",
   "nbconvert_exporter": "python",
   "pygments_lexer": "ipython3",
   "version": "3.13.3"
  }
 },
 "nbformat": 4,
 "nbformat_minor": 5
}
