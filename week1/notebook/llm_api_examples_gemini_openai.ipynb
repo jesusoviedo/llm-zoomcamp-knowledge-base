{
 "cells": [
  {
   "cell_type": "markdown",
   "id": "97942314-8c2f-4d38-b5be-cb4c44caaf8c",
   "metadata": {},
   "source": [
    "### Usando la API de OpenAI"
   ]
  },
  {
   "cell_type": "markdown",
   "id": "3eb59d80-ae4f-41ec-bcd5-c44d4c78f169",
   "metadata": {},
   "source": [
    "Comprobar que se setearon las variables de entorno ya sea para OpenAI o Gemini\n",
    "\n",
    "\n",
    "```bash\n",
    "export OPENAI_API_KEY=<YOUR_API_KEY_HERE>\n",
    "# o\n",
    "export GEMINI_API_KEY=<YOUR_API_KEY_HERE>\n",
    "```"
   ]
  },
  {
   "cell_type": "markdown",
   "id": "ee3507fe-ff4f-4019-ba9e-dc2dd8de258d",
   "metadata": {},
   "source": [
    "**Importar el módulo**\n",
    "\n",
    "Importa el cliente oficial de la API de OpenAI."
   ]
  },
  {
   "cell_type": "code",
   "execution_count": 1,
   "id": "f7743c3a-e9de-4dc6-b1a6-55be6bb8cb05",
   "metadata": {},
   "outputs": [],
   "source": [
    "from openai import OpenAI"
   ]
  },
  {
   "cell_type": "markdown",
   "id": "a14c9888-b46e-4b5f-b8f9-d5ce977081ab",
   "metadata": {},
   "source": [
    "**Creación de un cliente para usar los modelos de OpenAI**\n",
    "\n",
    "Crea una instancia del cliente para interactuar con los modelos. Este cliente automáticamente detecta tu clave API desde la variable de entorno OPENAI_API_KEY."
   ]
  },
  {
   "cell_type": "code",
   "execution_count": 2,
   "id": "55e587ca-5af8-42ed-bad7-b48de3a0f258",
   "metadata": {
    "scrolled": true
   },
   "outputs": [],
   "source": [
    "client = OpenAI()"
   ]
  },
  {
   "cell_type": "markdown",
   "id": "52dd42b4-d404-4f6f-a1a9-7b051fe6da87",
   "metadata": {},
   "source": [
    "**Se hace una petición al modelo gpt-4o-mini para que genere una respuesta textual**\n",
    "\n",
    "- Llama al endpoint de chat (chat.completions.create).\n",
    "- Usa el modelo `gpt-4o-mini`, una versión optimizada de GPT-4o.\n",
    "- La opción `store=True` indica que la conversación puede ser almacenada por OpenAI para análisis o mejoras (según su política de uso).\n",
    "- Se envía un mensaje en el rol de \"user\" con una instrucción específica."
   ]
  },
  {
   "cell_type": "code",
   "execution_count": 3,
   "id": "3e375870-8e89-411a-a6cb-e8f7f7456a35",
   "metadata": {
    "scrolled": true
   },
   "outputs": [],
   "source": [
    "completion = client.chat.completions.create(\n",
    "  model=\"gpt-4o-mini\",\n",
    "  store=True,\n",
    "  messages=[\n",
    "    {\"role\": \"user\", \"content\": \"Escribe un cuento de una sola oración sobre un unicornio para dormir.\"}\n",
    "  ]\n",
    ")"
   ]
  },
  {
   "cell_type": "markdown",
   "id": "69aab57a-23f9-4e41-a4dc-f3b0a4d53274",
   "metadata": {},
   "source": [
    "**Impresión del texto generado por el modelo**\n",
    "\n",
    "Imprime en consola la respuesta generada por el modelo, accediendo al primer resultado retornado (`choices[0]`) y extrayendo su contenido (`message.content`)."
   ]
  },
  {
   "cell_type": "code",
   "execution_count": 4,
   "id": "94f9ca98-dc16-46ef-9d82-237f349ab1df",
   "metadata": {
    "scrolled": true
   },
   "outputs": [
    {
     "name": "stdout",
     "output_type": "stream",
     "text": [
      "En la calma de la noche estrellada, un suave unicornio con crines de arcoíris danzaba entre los sueños de los niños, llevando consigo la promesa de aventuras mágicas y un mundo lleno de esperanza y amor.\n"
     ]
    }
   ],
   "source": [
    "print(completion.choices[0].message.content);"
   ]
  },
  {
   "cell_type": "markdown",
   "id": "650ee74b-f17c-42df-b0e0-e0a3962c83a7",
   "metadata": {},
   "source": [
    "### Usando la API de Gemini"
   ]
  },
  {
   "cell_type": "markdown",
   "id": "d0a0a00c-a671-4b45-8cb1-5b152b82e8a7",
   "metadata": {},
   "source": [
    "**Importar el módulo**\n",
    "- Esta línea importa el módulo genai*, que forma parte del SDK de Google para interactuar con modelos de IA generativa como Gemini.\n",
    "- Este SDK proporciona una forma sencilla de hacer peticiones a los modelos LLM de Google."
   ]
  },
  {
   "cell_type": "code",
   "execution_count": 5,
   "id": "592a3d12-eebf-4620-8493-a5f440d8d4f7",
   "metadata": {},
   "outputs": [],
   "source": [
    "from google import genai"
   ]
  },
  {
   "cell_type": "markdown",
   "id": "5d263823-ed17-40ad-aacc-7b7f6e0f3634",
   "metadata": {},
   "source": [
    "**Creación de un cliente para usar los modelos de Gemini**\n",
    "\n",
    "Se crea un objeto client usando la clase Client, que necesita una clave API (api_key) para autenticarte con los servicios de Google AI."
   ]
  },
  {
   "cell_type": "code",
   "execution_count": 6,
   "id": "3245ae3e-d2bd-4b11-8a1e-8abbf8358f05",
   "metadata": {},
   "outputs": [],
   "source": [
    "client = genai.Client()"
   ]
  },
  {
   "cell_type": "markdown",
   "id": "929a72cc-aea3-4201-9116-dd08d435e15f",
   "metadata": {},
   "source": [
    "**Se hace una petición al modelo gemini-2.0-flash para que genere una respuesta textual**\n",
    "\n",
    "- Le estás pasando como entrada el mensaje \"Explica cómo funciona la IA en pocas palabras\".\n",
    "- El método generate_content() procesa esta entrada y devuelve una respuesta generada por el modelo."
   ]
  },
  {
   "cell_type": "code",
   "execution_count": 7,
   "id": "015f9280-b48a-46fd-a938-4262b08d6b93",
   "metadata": {},
   "outputs": [],
   "source": [
    "response = client.models.generate_content(\n",
    "    model=\"gemini-2.0-flash\", \n",
    "    contents=\"Explica cómo funciona la IA en pocas palabras\"\n",
    ")"
   ]
  },
  {
   "cell_type": "markdown",
   "id": "160ca176-ff61-4db6-a68a-89da44858329",
   "metadata": {},
   "source": [
    "**Impresión del texto generado por el modelo**\n",
    "- Esta línea imprime el texto de la respuesta generada en la consola. \n",
    "- El contenido proviene de response.text, que contiene la respuesta principal del modelo."
   ]
  },
  {
   "cell_type": "code",
   "execution_count": 8,
   "id": "c7789641-4589-48bb-8fe6-dd1d5a29d3ac",
   "metadata": {},
   "outputs": [
    {
     "name": "stdout",
     "output_type": "stream",
     "text": [
      "La IA funciona enseñando a las computadoras a aprender patrones de datos. Luego, usan esos patrones para hacer predicciones, tomar decisiones o resolver problemas, sin necesidad de ser programadas explícitamente para cada tarea.\n",
      "\n"
     ]
    }
   ],
   "source": [
    "print(response.text)"
   ]
  },
  {
   "cell_type": "markdown",
   "id": "b3860ba3-7ceb-4d9c-b908-48d2b15c06f9",
   "metadata": {},
   "source": [
    "### Creando nuestar Base de Conocimiento con minsearch"
   ]
  },
  {
   "cell_type": "code",
   "execution_count": 9,
   "id": "8a5f09d0-6094-4f38-845a-8227a461578c",
   "metadata": {},
   "outputs": [],
   "source": [
    "import minsearch\n",
    "import json"
   ]
  },
  {
   "cell_type": "code",
   "execution_count": 10,
   "id": "eb7ec523-06ce-4204-a046-a4ebd777c31c",
   "metadata": {},
   "outputs": [
    {
     "name": "stdout",
     "output_type": "stream",
     "text": [
      "mkdir: cannot create directory ‘doc’: File exists\n"
     ]
    }
   ],
   "source": [
    "! mkdir doc"
   ]
  },
  {
   "cell_type": "code",
   "execution_count": 11,
   "id": "2eb44478-a743-4fc1-82b6-c1f9787bc5f8",
   "metadata": {},
   "outputs": [
    {
     "name": "stdout",
     "output_type": "stream",
     "text": [
      "--2025-06-15 00:34:23--  https://raw.githubusercontent.com/DataTalksClub/llm-zoomcamp/refs/heads/main/01-intro/documents.json\n",
      "Resolving raw.githubusercontent.com (raw.githubusercontent.com)... 185.199.110.133, 185.199.109.133, 185.199.111.133, ...\n",
      "Connecting to raw.githubusercontent.com (raw.githubusercontent.com)|185.199.110.133|:443... connected.\n",
      "HTTP request sent, awaiting response... 200 OK\n",
      "Length: 658332 (643K) [text/plain]\n",
      "Saving to: ‘doc/documents.json.2’\n",
      "\n",
      "documents.json.2    100%[===================>] 642.90K  --.-KB/s    in 0.09s   \n",
      "\n",
      "2025-06-15 00:34:23 (6.86 MB/s) - ‘doc/documents.json.2’ saved [658332/658332]\n",
      "\n"
     ]
    }
   ],
   "source": [
    "! wget -P doc/ https://raw.githubusercontent.com/DataTalksClub/llm-zoomcamp/refs/heads/main/01-intro/documents.json"
   ]
  },
  {
   "cell_type": "code",
   "execution_count": 12,
   "id": "fc67ad8e-fe7b-40b6-995d-98d529c596ef",
   "metadata": {},
   "outputs": [],
   "source": [
    "with open('doc/documents.json', 'rt') as f_in:\n",
    "    docs_raw = json.load(f_in)"
   ]
  },
  {
   "cell_type": "code",
   "execution_count": 13,
   "id": "833c54a6-80b1-4671-a121-a1871561b730",
   "metadata": {},
   "outputs": [
    {
     "data": {
      "text/plain": [
       "3"
      ]
     },
     "execution_count": 13,
     "metadata": {},
     "output_type": "execute_result"
    }
   ],
   "source": [
    "len(docs_raw)"
   ]
  },
  {
   "cell_type": "code",
   "execution_count": 14,
   "id": "ee01f84e-f220-4c1a-9a9e-0cdcae7381b8",
   "metadata": {},
   "outputs": [
    {
     "name": "stdout",
     "output_type": "stream",
     "text": [
      "dict_keys(['course', 'documents'])\n",
      "dict_keys(['course', 'documents'])\n",
      "dict_keys(['course', 'documents'])\n"
     ]
    }
   ],
   "source": [
    "for docs in docs_raw:\n",
    "    print(docs.keys())"
   ]
  },
  {
   "cell_type": "code",
   "execution_count": 15,
   "id": "749cc297-accb-408b-b0eb-943da1a6318a",
   "metadata": {},
   "outputs": [],
   "source": [
    "documents = []\n",
    "\n",
    "for course_dict in docs_raw:\n",
    "    for doc in course_dict['documents']:\n",
    "        doc['course'] = course_dict['course']\n",
    "        documents.append(doc)"
   ]
  },
  {
   "cell_type": "code",
   "execution_count": 16,
   "id": "3c90a1e1-adbc-4c2d-9f49-8c78754e76d9",
   "metadata": {},
   "outputs": [
    {
     "data": {
      "text/plain": [
       "[{'text': \"The purpose of this document is to capture frequently asked technical questions\\nThe exact day and hour of the course will be 15th Jan 2024 at 17h00. The course will start with the first  “Office Hours'' live.1\\nSubscribe to course public Google Calendar (it works from Desktop only).\\nRegister before the course starts using this link.\\nJoin the course Telegram channel with announcements.\\nDon’t forget to register in DataTalks.Club's Slack and join the channel.\",\n",
       "  'section': 'General course-related questions',\n",
       "  'question': 'Course - When will the course start?',\n",
       "  'course': 'data-engineering-zoomcamp'},\n",
       " {'text': 'GitHub - DataTalksClub data-engineering-zoomcamp#prerequisites',\n",
       "  'section': 'General course-related questions',\n",
       "  'question': 'Course - What are the prerequisites for this course?',\n",
       "  'course': 'data-engineering-zoomcamp'},\n",
       " {'text': \"Yes, even if you don't register, you're still eligible to submit the homeworks.\\nBe aware, however, that there will be deadlines for turning in the final projects. So don't leave everything for the last minute.\",\n",
       "  'section': 'General course-related questions',\n",
       "  'question': 'Course - Can I still join the course after the start date?',\n",
       "  'course': 'data-engineering-zoomcamp'}]"
      ]
     },
     "execution_count": 16,
     "metadata": {},
     "output_type": "execute_result"
    }
   ],
   "source": [
    "documents[:3]"
   ]
  },
  {
   "cell_type": "code",
   "execution_count": 17,
   "id": "afcc39fb-85d4-4a16-8e87-ae51ff57e4ae",
   "metadata": {},
   "outputs": [],
   "source": [
    "index = minsearch.Index(\n",
    "    text_fields=[\"question\", \"text\", \"section\"],\n",
    "    keyword_fields=[\"course\"]\n",
    ")"
   ]
  },
  {
   "cell_type": "markdown",
   "id": "a4b06ae5-a08d-45ce-91ee-32461f434253",
   "metadata": {},
   "source": [
    "```sql\n",
    "SELECT * WHERE course = 'data-engineering-zoomcamp';\n",
    "```"
   ]
  },
  {
   "cell_type": "code",
   "execution_count": 18,
   "id": "7225f408-90a3-4aca-81ca-0496df666e89",
   "metadata": {},
   "outputs": [
    {
     "data": {
      "text/plain": [
       "<minsearch.minsearch.Index at 0x7fdb6e54f4d0>"
      ]
     },
     "execution_count": 18,
     "metadata": {},
     "output_type": "execute_result"
    }
   ],
   "source": [
    "index.fit(documents)"
   ]
  },
  {
   "cell_type": "code",
   "execution_count": 19,
   "id": "c1f02aa8-c8c6-4ad2-b734-0fe0234f2dbc",
   "metadata": {},
   "outputs": [],
   "source": [
    "query = 'the course has already started, can I still enroll?'"
   ]
  },
  {
   "cell_type": "code",
   "execution_count": 20,
   "id": "e41c18c7-564e-44a3-93b0-ea74c854b101",
   "metadata": {},
   "outputs": [
    {
     "data": {
      "text/plain": [
       "[{'text': \"Yes, even if you don't register, you're still eligible to submit the homeworks.\\nBe aware, however, that there will be deadlines for turning in the final projects. So don't leave everything for the last minute.\",\n",
       "  'section': 'General course-related questions',\n",
       "  'question': 'Course - Can I still join the course after the start date?',\n",
       "  'course': 'data-engineering-zoomcamp'},\n",
       " {'text': 'Yes, we will keep all the materials after the course finishes, so you can follow the course at your own pace after it finishes.\\nYou can also continue looking at the homeworks and continue preparing for the next cohort. I guess you can also start working on your final capstone project.',\n",
       "  'section': 'General course-related questions',\n",
       "  'question': 'Course - Can I follow the course after it finishes?',\n",
       "  'course': 'data-engineering-zoomcamp'}]"
      ]
     },
     "execution_count": 20,
     "metadata": {},
     "output_type": "execute_result"
    }
   ],
   "source": [
    "filter_config = {'course': 'data-engineering-zoomcamp'}\n",
    "\n",
    "boost_config = {'question': 3.0, 'section': 0.5}\n",
    "\n",
    "n_result = 2\n",
    "\n",
    "results = index.search(\n",
    "    query=query,\n",
    "    filter_dict=filter_config,\n",
    "    boost_dict=boost_config,\n",
    "    num_results=n_result\n",
    ")\n",
    "\n",
    "results"
   ]
  },
  {
   "cell_type": "markdown",
   "id": "1eeaf4f0-0078-4db6-8307-f9d8483cb189",
   "metadata": {},
   "source": [
    "Si hacemos una consulta al LLM sobre el curso sin dar contexto a traves de nuestra base de conocimiento, el LLM da una respuesta no deseada y ambigua"
   ]
  },
  {
   "cell_type": "code",
   "execution_count": 21,
   "id": "d099e3fa-38c0-4476-814f-7a025e653528",
   "metadata": {},
   "outputs": [
    {
     "name": "stdout",
     "output_type": "stream",
     "text": [
      "Whether you can still enroll in a course that has already started depends on the institution or platform offering the course. Many educational institutions have specific policies regarding late enrollment. Here are some steps you can take:\n",
      "\n",
      "1. **Check Enrollment Policies**: Visit the course or institution's website to find information on late enrollment.\n",
      "\n",
      "2. **Contact the Instructor or Administration**: Reach out directly to the course instructor or the admissions office. They can provide the most accurate information regarding late enrollment options.\n",
      "\n",
      "3. **Ask About Any Alternatives**: If late enrollment is not allowed, inquire if there are similar courses offered in the future or if there are resources available for catching up on missed content.\n",
      "\n",
      "4. **Look for Online Options**: If the course is available online, some platforms allow you to enroll and start learning from recorded lectures or materials even after the live class has begun.\n",
      "\n",
      "Being proactive in reaching out will give you the best chance of finding a solution.\n"
     ]
    }
   ],
   "source": [
    "client = OpenAI()\n",
    "\n",
    "response = client.chat.completions.create(\n",
    "    model=\"gpt-4o-mini\",\n",
    "    messages=[{\"role\": \"user\", \"content\": query}]\n",
    ")\n",
    "\n",
    "print(response.choices[0].message.content);"
   ]
  },
  {
   "cell_type": "markdown",
   "id": "7ae5c526-ae20-46ee-b9b8-03df98ca33a2",
   "metadata": {},
   "source": [
    "**Utilizando la base de conocimiento para mejorar la respuesta del LLM**\n",
    "\n",
    "Genero el prompt a pasar al LLM"
   ]
  },
  {
   "cell_type": "code",
   "execution_count": 22,
   "id": "bf70db97-7a4a-4349-b485-679a26dfc566",
   "metadata": {},
   "outputs": [
    {
     "name": "stdout",
     "output_type": "stream",
     "text": [
      "You're a course teaching assistant. Answer the QUESTION based on the CONTEXT from the FAQ database.\n",
      "Use only the facts from the CONTEXT when answering the QUESTION.\n",
      "\n",
      "QUESTION: the course has already started, can I still enroll?\n",
      "\n",
      "CONTEXT: \n",
      "section: General course-related questions\n",
      "question: Course - Can I still join the course after the start date?\n",
      "answer: Yes, even if you don't register, you're still eligible to submit the homeworks.\n",
      "Be aware, however, that there will be deadlines for turning in the final projects. So don't leave everything for the last minute.\n",
      "\n",
      "section: General course-related questions\n",
      "question: Course - Can I follow the course after it finishes?\n",
      "answer: Yes, we will keep all the materials after the course finishes, so you can follow the course at your own pace after it finishes.\n",
      "You can also continue looking at the homeworks and continue preparing for the next cohort. I guess you can also start working on your final capstone project.\n"
     ]
    }
   ],
   "source": [
    "prompt_template = \"\"\"\n",
    "You're a course teaching assistant. Answer the QUESTION based on the CONTEXT from the FAQ database.\n",
    "Use only the facts from the CONTEXT when answering the QUESTION.\n",
    "\n",
    "QUESTION: {question}\n",
    "\n",
    "CONTEXT: \n",
    "{context}\n",
    "\"\"\".strip()\n",
    "\n",
    "context = \"\"\n",
    "\n",
    "for doc in results:\n",
    "    context = context + f\"section: {doc['section']}\\nquestion: {doc['question']}\\nanswer: {doc['text']}\\n\\n\"\n",
    "\n",
    "prompt = prompt_template.format(question=query, context=context).strip()\n",
    "\n",
    "print(prompt)"
   ]
  },
  {
   "cell_type": "markdown",
   "id": "a3ae5262-8852-455f-8c42-d006136db63a",
   "metadata": {},
   "source": [
    "Realizo la consulta al LLM"
   ]
  },
  {
   "cell_type": "code",
   "execution_count": 23,
   "id": "17f48390-1495-4d1e-946e-8ac80f651af5",
   "metadata": {},
   "outputs": [
    {
     "name": "stdout",
     "output_type": "stream",
     "text": [
      "Yes, you can still enroll in the course after the start date. Even if you don't register, you're still eligible to submit the homework. Just keep in mind that there will be deadlines for turning in the final projects, so it's best not to leave everything for the last minute.\n"
     ]
    }
   ],
   "source": [
    "client = OpenAI()\n",
    "\n",
    "response_rag = client.chat.completions.create(\n",
    "    model=\"gpt-4o-mini\",\n",
    "    messages=[{\"role\": \"user\", \"content\": prompt}]\n",
    ")\n",
    "\n",
    "print(response_rag.choices[0].message.content);"
   ]
  },
  {
   "cell_type": "markdown",
   "id": "c245b013-9d42-4038-b263-a11709350204",
   "metadata": {},
   "source": [
    "### Mejorando el codigo y creando el flujo del RAG"
   ]
  },
  {
   "cell_type": "markdown",
   "id": "e4cb0190-ecf5-4909-870b-8cea1f8181ee",
   "metadata": {},
   "source": [
    "Metodo encargado de la busqueda en la base de conocimiento"
   ]
  },
  {
   "cell_type": "code",
   "execution_count": 24,
   "id": "7e4ce726-51b0-4504-b301-9322eae9a4f2",
   "metadata": {},
   "outputs": [],
   "source": [
    "def search(query):\n",
    "    filter_config = {'course': 'data-engineering-zoomcamp'}\n",
    "    boost_config = {'question': 3.0, 'section': 0.5}\n",
    "    n_result = 5\n",
    "\n",
    "    results = index.search(\n",
    "        query=query,\n",
    "        filter_dict=filter_config,\n",
    "        boost_dict=boost_config,\n",
    "        num_results=n_result\n",
    "    )\n",
    "\n",
    "    return results"
   ]
  },
  {
   "cell_type": "markdown",
   "id": "41186d39-16d9-4621-9026-63b664d6b012",
   "metadata": {},
   "source": [
    "Metodo encargado de generar el prompt (consulta del usaurio + info relevante de la base de conocimiento)"
   ]
  },
  {
   "cell_type": "code",
   "execution_count": 25,
   "id": "b30454a5-73b6-4bd4-9b90-d18059f28473",
   "metadata": {},
   "outputs": [],
   "source": [
    "def build_prompt(query, search_results):\n",
    "    prompt_template = \"\"\"\n",
    "You're a course teaching assistant. Answer the QUESTION based on the CONTEXT from the FAQ database.\n",
    "Use only the facts from the CONTEXT when answering the QUESTION.\n",
    "\n",
    "QUESTION: {question}\n",
    "\n",
    "CONTEXT: \n",
    "{context}\n",
    "\"\"\".strip()\n",
    "\n",
    "    context = \"\"\n",
    "    \n",
    "    for doc in search_results:\n",
    "        context = context + f\"section: {doc['section']}\\nquestion: {doc['question']}\\nanswer: {doc['text']}\\n\\n\"\n",
    "    \n",
    "    prompt = prompt_template.format(question=query, context=context).strip()\n",
    "    return prompt"
   ]
  },
  {
   "cell_type": "markdown",
   "id": "56b7ed19-cb19-41ce-80ae-9164fb6b7329",
   "metadata": {},
   "source": [
    "Metodo encargado de solicitar al LLM una inferencia de acuerdo al prompt enviado"
   ]
  },
  {
   "cell_type": "code",
   "execution_count": 26,
   "id": "67fbc9dc-8dd0-4679-a1cc-8b1bd5ecf723",
   "metadata": {},
   "outputs": [],
   "source": [
    "def open_ai_llm(prompt):\n",
    "    client = OpenAI()\n",
    "    \n",
    "    response = client.chat.completions.create(\n",
    "        model='gpt-4o-mini',\n",
    "        messages=[{\"role\": \"user\", \"content\": prompt}]\n",
    "    )\n",
    "    \n",
    "    return response.choices[0].message.content"
   ]
  },
  {
   "cell_type": "markdown",
   "id": "047ea573-68b4-4811-a46e-bcfe3daa4ccd",
   "metadata": {},
   "source": [
    "Flujo basico para mostrar el funcionamiento de un marco RAG"
   ]
  },
  {
   "cell_type": "code",
   "execution_count": 27,
   "id": "769a97f4-c74c-42b9-950c-c3fab20eca81",
   "metadata": {},
   "outputs": [],
   "source": [
    "def rag(query):\n",
    "    search_results = search(query)\n",
    "    prompt = build_prompt(query, search_results)\n",
    "    answer = open_ai_llm(prompt)\n",
    "    return answer"
   ]
  },
  {
   "cell_type": "markdown",
   "id": "03493ed1-3405-45cd-8e26-627a749eef81",
   "metadata": {},
   "source": [
    "Resultado final, estos metodos con el flujo en python se puede convertir facilmente en un script de python a ser utilizados en pipeline o aplicaciones AI"
   ]
  },
  {
   "cell_type": "code",
   "execution_count": 28,
   "id": "57efb290-1f8d-48f2-b885-3073da7ed888",
   "metadata": {},
   "outputs": [
    {
     "name": "stdout",
     "output_type": "stream",
     "text": [
      "To run Kafka, you can execute the following command in your project directory for a Java producer:\n",
      "\n",
      "```bash\n",
      "java -cp build/libs/<jar_name>-1.0-SNAPSHOT.jar:out src/main/java/org/example/JsonProducer.java\n",
      "```\n",
      "\n",
      "For Python, ensure that you create a virtual environment and run the necessary requirements. Here are the steps:\n",
      "\n",
      "1. Create a virtual environment (run only once):\n",
      "   ```bash\n",
      "   python -m venv env\n",
      "   source env/bin/activate  # for MacOS/Linux\n",
      "   # or\n",
      "   env\\Scripts\\activate  # for Windows\n",
      "   ```\n",
      "2. Install the required packages:\n",
      "   ```bash\n",
      "   pip install -r ../requirements.txt\n",
      "   ```\n",
      "\n",
      "3. Whenever you need to use the virtual environment, activate it with:\n",
      "   ```bash\n",
      "   source env/bin/activate  # for MacOS/Linux\n",
      "   # or\n",
      "   env\\Scripts\\activate  # for Windows\n",
      "   ```\n",
      "\n",
      "4. To deactivate the virtual environment, run:\n",
      "   ```bash\n",
      "   deactivate\n",
      "   ``` \n",
      "\n",
      "Make sure Docker images are up and running if you're using Docker.\n"
     ]
    }
   ],
   "source": [
    "query = 'how do I run kafka?'\n",
    "\n",
    "result_example_1 = rag(query)\n",
    "\n",
    "print(result_example_1)"
   ]
  },
  {
   "cell_type": "code",
   "execution_count": 29,
   "id": "4522b0cb-81fc-4675-b833-3acc8bc8c560",
   "metadata": {},
   "outputs": [
    {
     "name": "stdout",
     "output_type": "stream",
     "text": [
      "Yes, you can still enroll in the course even though it has already started. You are eligible to submit homework assignments, but keep in mind that there will be deadlines for turning in final projects, so be sure not to leave everything until the last minute.\n"
     ]
    }
   ],
   "source": [
    "result_example_2 = rag('the course has already started, can I still enroll?')\n",
    "\n",
    "print(result_example_2)"
   ]
  },
  {
   "cell_type": "markdown",
   "id": "46874c5e-cb35-470c-98cf-e847fa66bef7",
   "metadata": {},
   "source": [
    "### Creando nuestar Base de Conocimiento con Elasticsearch"
   ]
  },
  {
   "cell_type": "markdown",
   "id": "8f3749d1-802d-452c-8f6b-78697f5584da",
   "metadata": {},
   "source": [
    "Elasticsearch es un motor de búsqueda y analíticas distribuido open source desarrollado para aplicaciones de velocidad, escalabilidad y AI. Como plataforma de recuperación, almacena datos estructurados, no estructurados y vectoriales en tiempo real, al ofrecer búsquedas híbridas y vectoriales rápidas, impulsar la analítica de seguridad y observabilidad, y habilitar aplicaciones impulsadas por AI con alto rendimiento, precisión y relevancia.\n",
    "\n",
    "Usamos Docker para levantar el servicio; ejecuta el siguiente comando en la terminal:\n",
    "\n",
    "```bash\n",
    "docker run -it \\\n",
    "    --rm \\\n",
    "    --name elasticsearch \\\n",
    "    -m 4GB \\\n",
    "    -p 9200:9200 \\\n",
    "    -p 9300:9300 \\\n",
    "    -e \"discovery.type=single-node\" \\\n",
    "    -e \"xpack.security.enabled=false\" \\\n",
    "    docker.elastic.co/elasticsearch/elasticsearch:9.0.0\n",
    "```"
   ]
  },
  {
   "cell_type": "markdown",
   "id": "97b6b658-8138-4e03-9c28-ea68109cfb4f",
   "metadata": {},
   "source": [
    "**Importar el módulo**\n",
    "\n",
    "Importa el modulo de Elasticsearch para poder interactuar con el servidor de Elasticsearch"
   ]
  },
  {
   "cell_type": "code",
   "execution_count": 30,
   "id": "41780c40-c4aa-4dcd-86ce-fedbfb2b1cbc",
   "metadata": {},
   "outputs": [],
   "source": [
    "from elasticsearch import Elasticsearch"
   ]
  },
  {
   "cell_type": "markdown",
   "id": "0f8d86a5-c290-41ea-a62c-1841f38c305e",
   "metadata": {},
   "source": [
    "**Conectarse al servidor de Elasticsearch**\n",
    "\n",
    "Crea una instancia de cliente que te permite enviar peticiones al servidor de Elasticsearch."
   ]
  },
  {
   "cell_type": "code",
   "execution_count": 31,
   "id": "d56761c4-26d9-4af9-a266-3cf5fa3f193f",
   "metadata": {},
   "outputs": [],
   "source": [
    "es_client = Elasticsearch('http://localhost:9200')"
   ]
  },
  {
   "cell_type": "markdown",
   "id": "93644f25-a726-4ac7-a10c-ce66f492654d",
   "metadata": {},
   "source": [
    "Obtener información básica del clúster"
   ]
  },
  {
   "cell_type": "code",
   "execution_count": 32,
   "id": "d31ead42-bea9-44fa-9ac6-68e60b17420a",
   "metadata": {},
   "outputs": [
    {
     "data": {
      "text/plain": [
       "ObjectApiResponse({'name': '58a1aee08cde', 'cluster_name': 'docker-cluster', 'cluster_uuid': 'WBO0PMdCRReVvBHQTptbLQ', 'version': {'number': '9.0.0', 'build_flavor': 'default', 'build_type': 'docker', 'build_hash': '112859b85d50de2a7e63f73c8fc70b99eea24291', 'build_date': '2025-04-08T15:13:46.049795831Z', 'build_snapshot': False, 'lucene_version': '10.1.0', 'minimum_wire_compatibility_version': '8.18.0', 'minimum_index_compatibility_version': '8.0.0'}, 'tagline': 'You Know, for Search'})"
      ]
     },
     "execution_count": 32,
     "metadata": {},
     "output_type": "execute_result"
    }
   ],
   "source": [
    "info = es_client.info()\n",
    "info"
   ]
  },
  {
   "cell_type": "code",
   "execution_count": 33,
   "id": "a8588fa2-39cb-4484-a1c7-532dcdb90a13",
   "metadata": {},
   "outputs": [
    {
     "data": {
      "text/plain": [
       "dict_keys(['name', 'cluster_name', 'cluster_uuid', 'version', 'tagline'])"
      ]
     },
     "execution_count": 33,
     "metadata": {},
     "output_type": "execute_result"
    }
   ],
   "source": [
    "info.keys()"
   ]
  },
  {
   "cell_type": "code",
   "execution_count": 34,
   "id": "e1a54264-3466-42a6-9280-f421068ca2ac",
   "metadata": {},
   "outputs": [
    {
     "data": {
      "text/plain": [
       "{'number': '9.0.0',\n",
       " 'build_flavor': 'default',\n",
       " 'build_type': 'docker',\n",
       " 'build_hash': '112859b85d50de2a7e63f73c8fc70b99eea24291',\n",
       " 'build_date': '2025-04-08T15:13:46.049795831Z',\n",
       " 'build_snapshot': False,\n",
       " 'lucene_version': '10.1.0',\n",
       " 'minimum_wire_compatibility_version': '8.18.0',\n",
       " 'minimum_index_compatibility_version': '8.0.0'}"
      ]
     },
     "execution_count": 34,
     "metadata": {},
     "output_type": "execute_result"
    }
   ],
   "source": [
    "info['version']"
   ]
  },
  {
   "cell_type": "markdown",
   "id": "91bef9c3-006e-4473-9243-39c2e866b727",
   "metadata": {},
   "source": [
    "**Crear un índice en Elasticsearch**\n",
    "\n",
    "*settings*: define la configuración interna del índice:\n",
    "- `number_of_shards`: 1 → El índice se divide en 1 fragmento. Los shards distribuyen los datos.\n",
    "- `number_of_replicas`: 0 → No se crean réplicas (copias redundantes). Esto puede ser útil en entornos de desarrollo para ahorrar recursos.\n",
    "\n",
    "*mappings*: define la estructura de los documentos (los campos y sus tipos):\n",
    "- `text` → tipo text, se analiza para búsquedas de texto completo (ideal para campos con oraciones).\n",
    "- `section` → también text, puede representar una sección del curso.\n",
    "- `question` → también text, probablemente sea la pregunta misma.\n",
    "- `course` → tipo keyword, no se analiza, ideal para filtrado exacto o agregaciones (como \"Matemáticas\", \"Historia\")."
   ]
  },
  {
   "cell_type": "code",
   "execution_count": 35,
   "id": "1043705c-99be-4b90-bde7-daa77850cde5",
   "metadata": {},
   "outputs": [],
   "source": [
    "index_settings = {\n",
    "    \"settings\": {\n",
    "        \"number_of_shards\": 1,\n",
    "        \"number_of_replicas\": 0\n",
    "    },\n",
    "    \"mappings\": {\n",
    "        \"properties\": {\n",
    "            \"text\": {\"type\": \"text\"},\n",
    "            \"section\": {\"type\": \"text\"},\n",
    "            \"question\": {\"type\": \"text\"},\n",
    "            \"course\": {\"type\": \"keyword\"} \n",
    "        }\n",
    "    }\n",
    "}"
   ]
  },
  {
   "cell_type": "markdown",
   "id": "3484714e-024d-4ca6-9dfe-e5a764f1c1e4",
   "metadata": {},
   "source": [
    "Define el nombre del índice donde se guardarán los documentos."
   ]
  },
  {
   "cell_type": "code",
   "execution_count": 36,
   "id": "c381b507-4520-4050-a793-ac7885c5d3bf",
   "metadata": {},
   "outputs": [],
   "source": [
    "index_name = \"course-questions\""
   ]
  },
  {
   "cell_type": "markdown",
   "id": "2514927a-2802-4c73-a37c-367db0fa27ea",
   "metadata": {},
   "source": [
    "Usa el cliente de Elasticsearch (es_client) para crear el índice course-questions con la configuración y mappings definidos anteriormente."
   ]
  },
  {
   "cell_type": "code",
   "execution_count": 50,
   "id": "2fae51ca-fc6d-47d4-a1fb-d5deb932984c",
   "metadata": {},
   "outputs": [],
   "source": [
    "# para eliminar el indice\n",
    "# es_client.indices.delete(index=index_name)"
   ]
  },
  {
   "cell_type": "code",
   "execution_count": 51,
   "id": "1588d5a2-448a-4461-81e6-ea010e64f4f6",
   "metadata": {},
   "outputs": [
    {
     "data": {
      "text/plain": [
       "ObjectApiResponse({'acknowledged': True, 'shards_acknowledged': True, 'index': 'course-questions'})"
      ]
     },
     "execution_count": 51,
     "metadata": {},
     "output_type": "execute_result"
    }
   ],
   "source": [
    "es_client.indices.create(index=index_name, body=index_settings)"
   ]
  },
  {
   "cell_type": "code",
   "execution_count": 38,
   "id": "c907f913-4e71-4d24-836c-edff7207682e",
   "metadata": {},
   "outputs": [
    {
     "data": {
      "text/plain": [
       "{'text': \"The purpose of this document is to capture frequently asked technical questions\\nThe exact day and hour of the course will be 15th Jan 2024 at 17h00. The course will start with the first  “Office Hours'' live.1\\nSubscribe to course public Google Calendar (it works from Desktop only).\\nRegister before the course starts using this link.\\nJoin the course Telegram channel with announcements.\\nDon’t forget to register in DataTalks.Club's Slack and join the channel.\",\n",
       " 'section': 'General course-related questions',\n",
       " 'question': 'Course - When will the course start?',\n",
       " 'course': 'data-engineering-zoomcamp'}"
      ]
     },
     "execution_count": 38,
     "metadata": {},
     "output_type": "execute_result"
    }
   ],
   "source": [
    "documents[0]"
   ]
  },
  {
   "cell_type": "code",
   "execution_count": 39,
   "id": "d253daad-599f-4949-b683-89bd7681925f",
   "metadata": {},
   "outputs": [],
   "source": [
    "from tqdm.auto import tqdm"
   ]
  },
  {
   "cell_type": "markdown",
   "id": "acee93fd-a5ae-43f4-8fb1-21165c57972a",
   "metadata": {},
   "source": [
    "**Insertar (indexar) un documento en un índice en Elasticsearch**\n",
    "\n",
    "Elasticsearch guarda ese documento en el índice course-questions. Le asignará automáticamente un _id (a menos que lo especifiques) y lo dejará listo para búsquedas"
   ]
  },
  {
   "cell_type": "code",
   "execution_count": 40,
   "id": "b3024f84-9653-4433-98a4-4985821515fb",
   "metadata": {},
   "outputs": [
    {
     "data": {
      "application/vnd.jupyter.widget-view+json": {
       "model_id": "deaa41c81e2143a2863dd430d58e0709",
       "version_major": 2,
       "version_minor": 0
      },
      "text/plain": [
       "  0%|          | 0/948 [00:00<?, ?it/s]"
      ]
     },
     "metadata": {},
     "output_type": "display_data"
    }
   ],
   "source": [
    "for doc in tqdm(documents):\n",
    "    es_client.index(index=index_name, document=doc)"
   ]
  },
  {
   "cell_type": "code",
   "execution_count": 42,
   "id": "007f0452-d845-4db9-9c81-bd0579d02396",
   "metadata": {},
   "outputs": [],
   "source": [
    "query = 'I just disovered the course. Can I still join it?'"
   ]
  },
  {
   "cell_type": "markdown",
   "id": "01915966-f6c3-490d-b645-333e279ee51d",
   "metadata": {},
   "source": [
    "**Definir una consulta compleja en Elasticsearch**\n",
    "\n",
    "Esta consulta está diseñada para:\n",
    "- Buscar documentos relacionados con una pregunta o frase (query).\n",
    "- Priorizar las coincidencias en el campo question.\n",
    "- Filtrar los resultados para que solo correspondan al curso data-engineering-zoomcamp.\n",
    "- Retornar como máximo 5 resultados."
   ]
  },
  {
   "cell_type": "code",
   "execution_count": 43,
   "id": "62cb0115-984e-4b87-bf2a-b461c66cfd56",
   "metadata": {},
   "outputs": [],
   "source": [
    "search_query = {\n",
    "        \"size\": 5,\n",
    "        \"query\": {\n",
    "            \"bool\": {\n",
    "                \"must\": {\n",
    "                    \"multi_match\": {\n",
    "                        \"query\": query,\n",
    "                        \"fields\": [\"question^3\", \"text\", \"section\"],\n",
    "                        \"type\": \"best_fields\"\n",
    "                    }\n",
    "                },\n",
    "                \"filter\": {\n",
    "                    \"term\": {\n",
    "                        \"course\": \"data-engineering-zoomcamp\"\n",
    "                    }\n",
    "                }\n",
    "            }\n",
    "        }\n",
    "    }"
   ]
  },
  {
   "cell_type": "markdown",
   "id": "e9416588-8e6c-4005-882b-0cd255a31cfd",
   "metadata": {},
   "source": [
    "Realiza una búsqueda en Elasticsearch usando el índice y la consulta definida previamente."
   ]
  },
  {
   "cell_type": "code",
   "execution_count": 44,
   "id": "bb11cbe6-a3f5-4073-aa7c-743afcdc0fd7",
   "metadata": {},
   "outputs": [],
   "source": [
    "response = es_client.search(index=index_name, body=search_query)"
   ]
  },
  {
   "cell_type": "markdown",
   "id": "048f736c-fcba-4a2f-85e4-312daa4012e8",
   "metadata": {},
   "source": [
    "Exploramos la respuesa obtenida de la busqueda"
   ]
  },
  {
   "cell_type": "code",
   "execution_count": 45,
   "id": "900ee589-7607-47f4-bf01-e27b56c9d0a2",
   "metadata": {},
   "outputs": [
    {
     "data": {
      "text/plain": [
       "[{'_index': 'course-questions',\n",
       "  '_id': 'DNeocZcBS89bJI-BNzA5',\n",
       "  '_score': 73.286255,\n",
       "  '_source': {'text': \"Yes, even if you don't register, you're still eligible to submit the homeworks.\\nBe aware, however, that there will be deadlines for turning in the final projects. So don't leave everything for the last minute.\",\n",
       "   'section': 'General course-related questions',\n",
       "   'question': 'Course - Can I still join the course after the start date?',\n",
       "   'course': 'data-engineering-zoomcamp'}},\n",
       " {'_index': 'course-questions',\n",
       "  '_id': 'WNd_cZcBS89bJI-BLSzy',\n",
       "  '_score': 73.286255,\n",
       "  '_source': {'text': \"Yes, even if you don't register, you're still eligible to submit the homeworks.\\nBe aware, however, that there will be deadlines for turning in the final projects. So don't leave everything for the last minute.\",\n",
       "   'section': 'General course-related questions',\n",
       "   'question': 'Course - Can I still join the course after the start date?',\n",
       "   'course': 'data-engineering-zoomcamp'}},\n",
       " {'_index': 'course-questions',\n",
       "  '_id': 'Xdd_cZcBS89bJI-BMSy0',\n",
       "  '_score': 54.142788,\n",
       "  '_source': {'text': 'Yes, we will keep all the materials after the course finishes, so you can follow the course at your own pace after it finishes.\\nYou can also continue looking at the homeworks and continue preparing for the next cohort. I guess you can also start working on your final capstone project.',\n",
       "   'section': 'General course-related questions',\n",
       "   'question': 'Course - Can I follow the course after it finishes?',\n",
       "   'course': 'data-engineering-zoomcamp'}},\n",
       " {'_index': 'course-questions',\n",
       "  '_id': 'EdeocZcBS89bJI-BOjCm',\n",
       "  '_score': 54.142788,\n",
       "  '_source': {'text': 'Yes, we will keep all the materials after the course finishes, so you can follow the course at your own pace after it finishes.\\nYou can also continue looking at the homeworks and continue preparing for the next cohort. I guess you can also start working on your final capstone project.',\n",
       "   'section': 'General course-related questions',\n",
       "   'question': 'Course - Can I follow the course after it finishes?',\n",
       "   'course': 'data-engineering-zoomcamp'}},\n",
       " {'_index': 'course-questions',\n",
       "  '_id': 'DteocZcBS89bJI-BODCr',\n",
       "  '_score': 43.907658,\n",
       "  '_source': {'text': 'You can start by installing and setting up all the dependencies and requirements:\\nGoogle cloud account\\nGoogle Cloud SDK\\nPython 3 (installed with Anaconda)\\nTerraform\\nGit\\nLook over the prerequisites and syllabus to see if you are comfortable with these subjects.',\n",
       "   'section': 'General course-related questions',\n",
       "   'question': 'Course - What can I do before the course starts?',\n",
       "   'course': 'data-engineering-zoomcamp'}}]"
      ]
     },
     "execution_count": 45,
     "metadata": {},
     "output_type": "execute_result"
    }
   ],
   "source": [
    "response['hits']['hits']"
   ]
  },
  {
   "cell_type": "markdown",
   "id": "f81ebb1c-df4c-44bb-a760-1a4f10756025",
   "metadata": {},
   "source": [
    "Podemos crear nuestro metodo para luego utilizarlo en el flujo basico de RAG"
   ]
  },
  {
   "cell_type": "code",
   "execution_count": 46,
   "id": "f7090b10-4eea-40c5-a88d-479e3e995ebd",
   "metadata": {},
   "outputs": [],
   "source": [
    "def elastic_search(query):\n",
    "    index_name = \"course-questions\"\n",
    "    search_query = {\n",
    "        \"size\": 5,\n",
    "        \"query\": {\n",
    "            \"bool\": {\n",
    "                \"must\": {\n",
    "                    \"multi_match\": {\n",
    "                        \"query\": query,\n",
    "                        \"fields\": [\"question^3\", \"text\", \"section\"],\n",
    "                        \"type\": \"best_fields\"\n",
    "                    }\n",
    "                },\n",
    "                \"filter\": {\n",
    "                    \"term\": {\n",
    "                        \"course\": \"data-engineering-zoomcamp\"\n",
    "                    }\n",
    "                }\n",
    "            }\n",
    "        }\n",
    "    }\n",
    "    \n",
    "    response = es_client.search(index=index_name, body=search_query)\n",
    "    result_docs = [hit['_source'] for hit in response['hits']['hits']]\n",
    "    \n",
    "    return result_docs"
   ]
  },
  {
   "cell_type": "code",
   "execution_count": 47,
   "id": "fa43236f-f50c-49a4-9a9c-67d9887d28ec",
   "metadata": {},
   "outputs": [],
   "source": [
    "def rag(query):\n",
    "    search_results = elastic_search(query)\n",
    "    prompt = build_prompt(query, search_results)\n",
    "    answer = open_ai_llm(prompt)\n",
    "    return answer"
   ]
  },
  {
   "cell_type": "code",
   "execution_count": 48,
   "id": "c414bdf4-8cd0-4fff-bc73-09b446294971",
   "metadata": {},
   "outputs": [
    {
     "name": "stdout",
     "output_type": "stream",
     "text": [
      "Yes, you can still enroll in the course after it has started. Even if you don't register, you are eligible to submit the homeworks. However, be mindful that there will be deadlines for turning in the final projects, so it's advisable not to leave everything until the last minute.\n"
     ]
    }
   ],
   "source": [
    "result_example_3 = rag('the course has already started, can I still enroll?')\n",
    "\n",
    "print(result_example_3)"
   ]
  }
 ],
 "metadata": {
  "kernelspec": {
   "display_name": "Python 3 (ipykernel)",
   "language": "python",
   "name": "python3"
  },
  "language_info": {
   "codemirror_mode": {
    "name": "ipython",
    "version": 3
   },
   "file_extension": ".py",
   "mimetype": "text/x-python",
   "name": "python",
   "nbconvert_exporter": "python",
   "pygments_lexer": "ipython3",
   "version": "3.13.3"
  }
 },
 "nbformat": 4,
 "nbformat_minor": 5
}
