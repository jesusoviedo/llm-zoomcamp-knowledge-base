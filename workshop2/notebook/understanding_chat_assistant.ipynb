{
 "cells": [
  {
   "cell_type": "markdown",
   "id": "a890f651-7e21-4600-bd73-ed888a73afe4",
   "metadata": {},
   "source": [
    "# Tutorial del Asistente de Chat\n",
    "\n",
    "Esta notebook está diseñada para explicar el funcionamiento del archivo [`chat_assistant_2.py`](./chat_assistant_2.py), \n",
    "el cual implementa la lógica principal para interactuar con un agente de IA usando la API de OpenAI.\n",
    "\n",
    "### Objetivos\n",
    "- Entender la estructura general del código.\n",
    "- Revisar las **clases principales** y su responsabilidad dentro del asistente.\n",
    "- Analizar **funciones de utilidad** clave que apoyan el flujo de interacción.\n",
    "- Ver **ejemplos prácticos** de cómo usar las clases y funciones en un entorno real.\n",
    "\n",
    "\n",
    "> **Nota:** Este documento está pensado para aprendizaje y comprensión del código, \n",
    "no para ejecución en producción.\n"
   ]
  },
  {
   "cell_type": "markdown",
   "id": "c83810f7-1dd9-4c7c-847a-be44997a8e67",
   "metadata": {},
   "source": [
    "El script `chat_assistant_2.py` implementa una arquitectura modular para interactuar con un modelo de OpenAI, gestionar herramientas (funciones) \n",
    "y mostrar las respuestas de forma enriquecida en un entorno como **IPython** o **Jupyter Notebook**."
   ]
  },
  {
   "cell_type": "code",
   "execution_count": 1,
   "id": "78da9cc0-c264-4d88-8d3e-611cb8dfe4ad",
   "metadata": {},
   "outputs": [],
   "source": [
    "import json\n",
    "import inspect\n",
    "import markdown\n",
    "from IPython.display import display, HTML\n",
    "\n",
    "from openai import OpenAI"
   ]
  },
  {
   "cell_type": "markdown",
   "id": "75ec0f31-b5f4-4a26-bfbc-2b67b406e0d5",
   "metadata": {},
   "source": [
    "### Funciones de utilidad\n",
    "\n",
    "#### `shorten(text, max_length=50)`\n",
    "Acorta un texto si supera la longitud máxima definida.  \n",
    "- Si la longitud del texto es menor o igual al límite, lo devuelve tal cual.  \n",
    "- Si es mayor, recorta el texto y agrega `\"...\"` al final.  \n",
    "Se utiliza principalmente para mostrar parámetros o argumentos de forma abreviada."
   ]
  },
  {
   "cell_type": "code",
   "execution_count": 2,
   "id": "06c88ab0-24d9-4d95-8ec8-8aa815e38597",
   "metadata": {},
   "outputs": [],
   "source": [
    "def shorten(text, max_length=50):\n",
    "    if len(text) <= max_length:\n",
    "        return text\n",
    "\n",
    "    return text[:max_length - 3] + \"...\""
   ]
  },
  {
   "cell_type": "markdown",
   "id": "f5a5eafd-5906-4f29-a51d-54337b503a69",
   "metadata": {},
   "source": [
    "#### `generate_description(function)`\n",
    "Genera un **esquema de descripción en formato JSON** para una función dada.  \n",
    "Pasos:\n",
    "1. Obtiene el nombre y docstring de la función.\n",
    "2. Inspecciona su firma (`signature`) para extraer parámetros y tipos.\n",
    "3. Mapea los tipos de Python a tipos de JSON Schema.\n",
    "4. Marca todos los parámetros como requeridos salvo los que tengan valores por defecto.  \n",
    "\n",
    "Esto es útil para registrar funciones como **herramientas** utilizables por el modelo de OpenAI."
   ]
  },
  {
   "cell_type": "code",
   "execution_count": 3,
   "id": "934149ba-52cc-4476-9bbb-5cea493add02",
   "metadata": {},
   "outputs": [],
   "source": [
    "def generate_description(function):\n",
    "    \"\"\"\n",
    "    Generate a tool description schema for a given function using its docstring and signature.\n",
    "    \"\"\"\n",
    "\n",
    "    # Get function name and docstring\n",
    "    name = function.__name__\n",
    "    doc = inspect.getdoc(function) or \"No description provided.\"\n",
    "\n",
    "    # Get function signature\n",
    "    sig = inspect.signature(function)\n",
    "    properties = {}\n",
    "    required = []\n",
    "\n",
    "    for param in sig.parameters.values():\n",
    "        param_name = param.name\n",
    "        param_type = param.annotation if param.annotation != inspect._empty else str\n",
    "\n",
    "        # Map Python types to JSON schema types\n",
    "        type_map = {\n",
    "            str: \"string\",\n",
    "            int: \"integer\",\n",
    "            float: \"number\",\n",
    "            bool: \"boolean\",\n",
    "            dict: \"object\",\n",
    "            list: \"array\"\n",
    "        }\n",
    "        json_type = type_map.get(param_type, \"string\")  # default to string\n",
    "\n",
    "        properties[param_name] = {\n",
    "            \"type\": json_type,\n",
    "            \"description\": f\"{param_name} parameter\"\n",
    "        }\n",
    "\n",
    "        # Consider all parameters required unless they have a default\n",
    "        if param.default == inspect._empty:\n",
    "            required.append(param_name)\n",
    "\n",
    "    return {\n",
    "        \"type\": \"function\",\n",
    "        \"name\": name,\n",
    "        \"description\": doc,\n",
    "        \"parameters\": {\n",
    "            \"type\": \"object\",\n",
    "            \"properties\": properties,\n",
    "            \"required\": required,\n",
    "            \"additionalProperties\": False\n",
    "        }\n",
    "    }"
   ]
  },
  {
   "cell_type": "markdown",
   "id": "4ea5df8a-eb34-4379-bd51-9a1a5217bc15",
   "metadata": {},
   "source": [
    "### Clase `Tools`\n",
    "\n",
    "Gestiona un conjunto de funciones (herramientas) que el modelo puede invocar.\n",
    "\n",
    "#### `__init__(self)`\n",
    "Inicializa dos diccionarios:\n",
    "- `tools`: guarda las descripciones de las funciones.\n",
    "- `functions`: guarda las referencias a las funciones reales.\n",
    "\n",
    "#### `add_tool(self, function, description=None)`\n",
    "Registra una función como herramienta.  \n",
    "- Si no se pasa `description`, la genera automáticamente con `generate_description`.\n",
    "- Guarda la descripción y la referencia de la función.\n",
    "\n",
    "#### `add_tools(self, instance)`\n",
    "Registra **todos los métodos públicos** de una instancia como herramientas, usando `add_tool`.\n",
    "\n",
    "#### `get_tools(self)`\n",
    "Devuelve una lista con las descripciones de todas las herramientas registradas.\n",
    "\n",
    "#### `function_call(self, tool_call_response)`\n",
    "Ejecuta una función registrada a partir de la respuesta del modelo.  \n",
    "1. Lee el nombre y argumentos de la función desde `tool_call_response`.\n",
    "2. Llama a la función con esos argumentos.\n",
    "3. Devuelve un diccionario con el resultado en formato JSON, incluyendo el `call_id`."
   ]
  },
  {
   "cell_type": "code",
   "execution_count": 4,
   "id": "c021e6c2-49ce-4626-830a-ab7853e173e3",
   "metadata": {},
   "outputs": [],
   "source": [
    "class Tools:\n",
    "\n",
    "    def __init__(self):\n",
    "        self.tools = {}\n",
    "        self.functions = {}\n",
    "    \n",
    "    def add_tool(self, function, description=None):\n",
    "        \"\"\"\n",
    "            tool_description = {\n",
    "                \"type\": \"function\",               # This identifies it as a function/tool.\n",
    "                \"name\": \"<function_name>\",       # Name of the function as it will be exposed.\n",
    "                \"description\": \"<function_description>\",  # A human-readable description of the function's purpose.\n",
    "                \"parameters\": {\n",
    "                    \"type\": \"object\",            # Indicates the function accepts a JSON object as input.\n",
    "                    \"properties\": {\n",
    "                        \"<param_name>\": {\n",
    "                            \"type\": \"<type>\",    # e.g., \"string\", \"integer\", etc.\n",
    "                            \"description\": \"<description>\"  # Human-readable parameter description.\n",
    "                        },\n",
    "                        ...\n",
    "                    },\n",
    "                    \"required\": [\"<param1>\", \"<param2>\"],  # List of required parameters.\n",
    "                    \"additionalProperties\": False          # Disallows additional unexpected parameters.\n",
    "                }\n",
    "            }\n",
    "        \"\"\"\n",
    "        if description is None:\n",
    "            description = generate_description(function)\n",
    "        self.tools[function.__name__] = description\n",
    "        self.functions[function.__name__] = function\n",
    "\n",
    "    def add_tools(self, instance):\n",
    "        for name, method in inspect.getmembers(instance, predicate=inspect.ismethod):\n",
    "            if not name.startswith(\"_\"):  # skip private and special methods\n",
    "                self.add_tool(method)\n",
    "    \n",
    "    def get_tools(self):\n",
    "        return list(self.tools.values())\n",
    "\n",
    "    def function_call(self, tool_call_response):\n",
    "        args = json.loads(tool_call_response.arguments)\n",
    "\n",
    "        f_name = tool_call_response.name\n",
    "        f = self.functions[f_name]\n",
    "        \n",
    "        call_id = tool_call_response.call_id\n",
    "    \n",
    "        results = f(**args)\n",
    "        output_json = json.dumps(results)\n",
    "        \n",
    "        call_output = {\n",
    "            \"type\": \"function_call_output\",\n",
    "            \"call_id\": call_id,\n",
    "            \"output\": output_json,\n",
    "        }\n",
    "    \n",
    "        return call_output\n"
   ]
  },
  {
   "cell_type": "markdown",
   "id": "6ff3dffd-2469-400d-b206-eca4dfb22cea",
   "metadata": {},
   "source": [
    "\n",
    "### Clase `IPythonChatInterface`\n",
    "\n",
    "Proporciona una interfaz para interactuar con el usuario y mostrar contenido en IPython/Jupyter.\n",
    "\n",
    "#### `input(self)`\n",
    "Solicita texto al usuario por consola.\n",
    "\n",
    "#### `display(self, content)`\n",
    "Imprime contenido en consola.\n",
    "\n",
    "#### `display_function_call(self, name, arguments, output)`\n",
    "Muestra una llamada a función en formato HTML expandible (`<details>`), con:\n",
    "- Nombre de la función y argumentos abreviados.\n",
    "- Argumentos completos.\n",
    "- Salida de la función.\n",
    "\n",
    "#### `display_response(self, md_content)`\n",
    "Convierte contenido en formato Markdown a HTML y lo muestra con estilo en la salida del notebook.\n",
    "\n",
    "\n"
   ]
  },
  {
   "cell_type": "code",
   "execution_count": 5,
   "id": "2b4038e9-2155-493f-b990-1dadd2738288",
   "metadata": {},
   "outputs": [],
   "source": [
    "class IPythonChatInterface:\n",
    "\n",
    "    def input(self):\n",
    "        question = input('User:').strip()\n",
    "        return question\n",
    "\n",
    "    def display(self, content):\n",
    "        print(content)\n",
    "\n",
    "    def display_function_call(self, name, arguments, output):\n",
    "        short_arguments = shorten(arguments)\n",
    "\n",
    "        call_html = f\"\"\"\n",
    "            <details>\n",
    "                <summary>Function call: <tt>{name}({short_arguments})</tt></summary>\n",
    "                <div>\n",
    "                    <b>Call</b>\n",
    "                    <pre>{arguments}</pre>\n",
    "                </div>\n",
    "                <div>\n",
    "                    <b>Output</b>\n",
    "                    <pre>{output}</pre>\n",
    "                </div>\n",
    "            </details>\n",
    "        \"\"\"\n",
    "        display(HTML(call_html))\n",
    "\n",
    "    def display_response(self, md_content):\n",
    "        html_content = markdown.markdown(md_content)\n",
    "\n",
    "        html = f\"\"\"\n",
    "            <div>\n",
    "                <div><b>Assistant:</b></div>\n",
    "                <div>{html_content}</div>\n",
    "            </div>\n",
    "        \"\"\"\n",
    "        display(HTML(html))"
   ]
  },
  {
   "cell_type": "markdown",
   "id": "7cf1d1b3-670c-4d0a-81b9-56d6b3a57ec8",
   "metadata": {},
   "source": [
    "### Clase `ChatAssistant`\n",
    "\n",
    "Orquesta la interacción entre el usuario, las herramientas y el modelo de OpenAI.\n",
    "\n",
    "#### `__init__(self, tools, developer_prompt, interface, openai_client)`\n",
    "Inicializa:\n",
    "- `tools`: instancia de `Tools` con las funciones disponibles.\n",
    "- `developer_prompt`: mensaje inicial para el modelo.\n",
    "- `interface`: interfaz para entrada/salida (por ejemplo, `IPythonChatInterface`).\n",
    "- `openai_client`: cliente de OpenAI para generar respuestas.\n",
    "\n",
    "#### `run(self)`\n",
    "Bucle principal de interacción:\n",
    "1. Agrega el `developer_prompt` como primer mensaje.\n",
    "2. Pide una pregunta al usuario.\n",
    "3. Si el usuario escribe `\"stop\"`, finaliza el chat.\n",
    "4. Envía la conversación al modelo junto con las herramientas disponibles.\n",
    "5. Procesa la respuesta:\n",
    "   - Si es texto (`message`), lo muestra como Markdown.\n",
    "   - Si es una llamada a función (`function_call`):\n",
    "     - Ejecuta la función.\n",
    "     - Muestra los argumentos y la salida.\n",
    "     - Agrega la respuesta al historial.\n",
    "6. Repite el proceso hasta que no haya más llamadas a funciones."
   ]
  },
  {
   "cell_type": "code",
   "execution_count": 6,
   "id": "9699e2f2-906b-4561-a17f-24facb7cffac",
   "metadata": {},
   "outputs": [],
   "source": [
    "class ChatAssistant:\n",
    "\n",
    "    def __init__(self, tools: Tools, developer_prompt: str, interface: IPythonChatInterface, openai_client: OpenAI):\n",
    "        self.tools = tools\n",
    "        self.developer_prompt = developer_prompt\n",
    "        self.interface = interface\n",
    "        self.openai_client = openai_client\n",
    "\n",
    "    def run(self) -> None:\n",
    "        chat_messages = [\n",
    "            {\"role\": \"developer\", \"content\": self.developer_prompt},\n",
    "        ]\n",
    "        \n",
    "        while True: # Q&A loop\n",
    "            question = self.interface.input()\n",
    "        \n",
    "            if question.lower() == 'stop':\n",
    "                self.interface.display('chat ended')\n",
    "                break\n",
    "        \n",
    "            chat_messages.append({\"role\": \"user\", \"content\": question})\n",
    "        \n",
    "            while True:\n",
    "                response = self.openai_client.responses.create(\n",
    "                    model='gpt-4o-mini',\n",
    "                    input=chat_messages,\n",
    "                    tools=self.tools.get_tools()\n",
    "                )\n",
    "        \n",
    "                has_function_call = False\n",
    "                \n",
    "                for entry in response.output:    \n",
    "                    chat_messages.append(entry)\n",
    "                \n",
    "                    if entry.type == 'message':\n",
    "                        md_content = entry.content[0].text\n",
    "                        self.interface.display_response(md_content)\n",
    "        \n",
    "                    if entry.type == 'function_call':\n",
    "                        call_output = self.tools.function_call(entry)\n",
    "        \n",
    "                        name = entry.name\n",
    "                        arguments = entry.arguments\n",
    "                        output = call_output['output']\n",
    "                        self.interface.display_function_call(name, arguments, output)\n",
    "        \n",
    "                        chat_messages.append(call_output)\n",
    "                        has_function_call = True\n",
    "        \n",
    "                if not has_function_call:\n",
    "                    break"
   ]
  },
  {
   "cell_type": "markdown",
   "id": "97c28e4a-2975-4827-81dd-b9b7e7154bce",
   "metadata": {},
   "source": [
    "### Resumen del flujo general\n",
    "\n",
    "1. **Registro de funciones** con `Tools` para que el modelo pueda llamarlas.\n",
    "2. **Ejecución del asistente** con `ChatAssistant`, que maneja:\n",
    "   - Entrada de usuario.\n",
    "   - Llamadas al modelo de OpenAI.\n",
    "   - Ejecución de herramientas solicitadas por el modelo.\n",
    "3. **Interfaz IPython** (`IPythonChatInterface`) para mostrar resultados enriquecidos en Jupyter Notebook."
   ]
  },
  {
   "cell_type": "markdown",
   "id": "b8f35ed2-63dd-444e-b1ab-0ab92c167acf",
   "metadata": {},
   "source": [
    "### Poniendo en practica todo lo anterior"
   ]
  },
  {
   "cell_type": "code",
   "execution_count": 7,
   "id": "523d402b-57a7-495d-93f3-c441c61dd0a4",
   "metadata": {},
   "outputs": [
    {
     "name": "stdout",
     "output_type": "stream",
     "text": [
      "OPENAI_API_KEY cargada correctamente.\n"
     ]
    }
   ],
   "source": [
    "from dotenv import load_dotenv\n",
    "import os\n",
    "\n",
    "load_dotenv()\n",
    "     \n",
    "if not os.getenv(\"OPENAI_API_KEY\"):\n",
    "    print(\"Error: La variable de entorno OPENAI_API_KEY no está definida.\")\n",
    "\n",
    "print(\"OPENAI_API_KEY cargada correctamente.\")"
   ]
  },
  {
   "cell_type": "code",
   "execution_count": 12,
   "id": "65fc6ae2-8001-4a40-acb4-59115fef1ca2",
   "metadata": {},
   "outputs": [],
   "source": [
    "import requests\n",
    "\n",
    "class WeatherService:\n",
    "    \"\"\"\n",
    "    Servicio para obtener información meteorológica actual y por hora\n",
    "    usando la API de Open-Meteo.\n",
    "    \"\"\"\n",
    "\n",
    "    def get_current_temperature(self, latitude: float, longitude: float) -> float:\n",
    "        \"\"\"\n",
    "        Obtiene la temperatura actual en grados Celsius para una ubicación\n",
    "        específica usando coordenadas geográficas.\n",
    "\n",
    "        Args:\n",
    "            latitude (float): Latitud de la ubicación.\n",
    "            longitude (float): Longitud de la ubicación.\n",
    "\n",
    "        Returns:\n",
    "            float: Temperatura actual en grados Celsius.\n",
    "        \"\"\"\n",
    "        url = (\n",
    "            \"https://api.open-meteo.com/v1/forecast\"\n",
    "            f\"?latitude={latitude}&longitude={longitude}\"\n",
    "            \"&current=temperature_2m,wind_speed_10m\"\n",
    "            \"&hourly=temperature_2m,relative_humidity_2m,wind_speed_10m\"\n",
    "        )\n",
    "        response = requests.get(url)\n",
    "        data = response.json()\n",
    "        return data['current']['temperature_2m']\n"
   ]
  },
  {
   "cell_type": "code",
   "execution_count": 14,
   "id": "a8e78ef7-60e5-482d-9fe1-9299b61ed67b",
   "metadata": {},
   "outputs": [
    {
     "name": "stdin",
     "output_type": "stream",
     "text": [
      "User: Cual es la temperatura en Asuncion/Paraguay\n"
     ]
    },
    {
     "data": {
      "text/html": [
       "\n",
       "            <details>\n",
       "                <summary>Function call: <tt>get_current_temperature({\"latitude\":-25.2637,\"longitude\":-57.5759})</tt></summary>\n",
       "                <div>\n",
       "                    <b>Call</b>\n",
       "                    <pre>{\"latitude\":-25.2637,\"longitude\":-57.5759}</pre>\n",
       "                </div>\n",
       "                <div>\n",
       "                    <b>Output</b>\n",
       "                    <pre>19.9</pre>\n",
       "                </div>\n",
       "            </details>\n",
       "        "
      ],
      "text/plain": [
       "<IPython.core.display.HTML object>"
      ]
     },
     "metadata": {},
     "output_type": "display_data"
    },
    {
     "data": {
      "text/html": [
       "\n",
       "            <div>\n",
       "                <div><b>Assistant:</b></div>\n",
       "                <div><p>La temperatura actual en Asunción, Paraguay, es de 19.9 °C.</p></div>\n",
       "            </div>\n",
       "        "
      ],
      "text/plain": [
       "<IPython.core.display.HTML object>"
      ]
     },
     "metadata": {},
     "output_type": "display_data"
    },
    {
     "name": "stdin",
     "output_type": "stream",
     "text": [
      "User: Cuál es la temperatura en Buenos Aires/Argentina\n"
     ]
    },
    {
     "data": {
      "text/html": [
       "\n",
       "            <details>\n",
       "                <summary>Function call: <tt>get_current_temperature({\"latitude\":-34.6037,\"longitude\":-58.3816})</tt></summary>\n",
       "                <div>\n",
       "                    <b>Call</b>\n",
       "                    <pre>{\"latitude\":-34.6037,\"longitude\":-58.3816}</pre>\n",
       "                </div>\n",
       "                <div>\n",
       "                    <b>Output</b>\n",
       "                    <pre>12.3</pre>\n",
       "                </div>\n",
       "            </details>\n",
       "        "
      ],
      "text/plain": [
       "<IPython.core.display.HTML object>"
      ]
     },
     "metadata": {},
     "output_type": "display_data"
    },
    {
     "data": {
      "text/html": [
       "\n",
       "            <div>\n",
       "                <div><b>Assistant:</b></div>\n",
       "                <div><p>La temperatura actual en Buenos Aires, Argentina, es de 12.3 °C.</p></div>\n",
       "            </div>\n",
       "        "
      ],
      "text/plain": [
       "<IPython.core.display.HTML object>"
      ]
     },
     "metadata": {},
     "output_type": "display_data"
    },
    {
     "name": "stdin",
     "output_type": "stream",
     "text": [
      "User: stop\n"
     ]
    },
    {
     "name": "stdout",
     "output_type": "stream",
     "text": [
      "chat ended\n"
     ]
    }
   ],
   "source": [
    "from openai import OpenAI\n",
    "\n",
    "# Cliente OpenAI\n",
    "client = OpenAI()\n",
    "\n",
    "# Configuración\n",
    "tools = Tools()\n",
    "tiempo = WeatherService()\n",
    "tools.add_tool(tiempo.get_current_temperature)\n",
    "\n",
    "iface = IPythonChatInterface()\n",
    "\n",
    "assistant = ChatAssistant(\n",
    "    tools=tools,\n",
    "    developer_prompt=\"Eres un asistente que puede usar funciones para responder.\",\n",
    "    interface=iface,\n",
    "    openai_client=client\n",
    ")\n",
    "\n",
    "assistant.run()"
   ]
  },
  {
   "cell_type": "code",
   "execution_count": null,
   "id": "7f499117-a95c-4ac1-9007-c5906b42fef4",
   "metadata": {},
   "outputs": [],
   "source": []
  }
 ],
 "metadata": {
  "kernelspec": {
   "display_name": "Python 3 (ipykernel)",
   "language": "python",
   "name": "python3"
  },
  "language_info": {
   "codemirror_mode": {
    "name": "ipython",
    "version": 3
   },
   "file_extension": ".py",
   "mimetype": "text/x-python",
   "name": "python",
   "nbconvert_exporter": "python",
   "pygments_lexer": "ipython3",
   "version": "3.13.3"
  }
 },
 "nbformat": 4,
 "nbformat_minor": 5
}
