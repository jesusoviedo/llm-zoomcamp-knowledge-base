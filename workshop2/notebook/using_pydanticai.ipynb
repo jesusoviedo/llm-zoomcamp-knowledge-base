{
 "cells": [
  {
   "cell_type": "markdown",
   "id": "64d082cc-260a-41dd-ba32-1a459a7a93f6",
   "metadata": {},
   "source": [
    "**Métodos iniciales**\n",
    "\n",
    "Ejecuta estas celdas antes de comenzar. Incluyen funciones clave y configuración necesaria para que el resto del notebook funcione correctamente."
   ]
  },
  {
   "cell_type": "code",
   "execution_count": 3,
   "id": "8e6645ed-32ad-4577-af88-a8797a27d0ad",
   "metadata": {},
   "outputs": [
    {
     "name": "stdout",
     "output_type": "stream",
     "text": [
      "OPENAI_API_KEY cargada correctamente.\n"
     ]
    }
   ],
   "source": [
    "from dotenv import load_dotenv\n",
    "import os\n",
    "\n",
    "load_dotenv()\n",
    "     \n",
    "if not os.getenv(\"OPENAI_API_KEY\"):\n",
    "    print(\"Error: La variable de entorno OPENAI_API_KEY no está definida.\")\n",
    "\n",
    "print(\"OPENAI_API_KEY cargada correctamente.\")"
   ]
  },
  {
   "cell_type": "code",
   "execution_count": 7,
   "id": "686503fe-21ef-4556-a594-bb586c414392",
   "metadata": {},
   "outputs": [],
   "source": [
    "import requests \n",
    "\n",
    "docs_url = 'https://github.com/alexeygrigorev/llm-rag-workshop/raw/main/notebooks/documents.json'\n",
    "docs_response = requests.get(docs_url)\n",
    "documents_raw = docs_response.json()\n",
    "\n",
    "documents = []\n",
    "\n",
    "for course in documents_raw:\n",
    "    course_name = course['course']\n",
    "\n",
    "    for doc in course['documents']:\n",
    "        doc['course'] = course_name\n",
    "        documents.append(doc)"
   ]
  },
  {
   "cell_type": "code",
   "execution_count": 8,
   "id": "3e2a53c3-d6e0-4f6e-bf39-4a703118a59d",
   "metadata": {},
   "outputs": [
    {
     "data": {
      "text/plain": [
       "<minsearch.append.AppendableIndex at 0x7f8885f1a660>"
      ]
     },
     "execution_count": 8,
     "metadata": {},
     "output_type": "execute_result"
    }
   ],
   "source": [
    "from minsearch import AppendableIndex\n",
    "\n",
    "index = AppendableIndex(\n",
    "    text_fields=[\"question\", \"text\", \"section\"],\n",
    "    keyword_fields=[\"course\"]\n",
    ")\n",
    "\n",
    "index.fit(documents)"
   ]
  },
  {
   "cell_type": "code",
   "execution_count": 14,
   "id": "ebc67e1f-ffe8-44d5-8989-3228bfc5f460",
   "metadata": {},
   "outputs": [],
   "source": [
    "def search(query):\n",
    "    boost = {'question': 3.0, 'section': 0.5}\n",
    "\n",
    "    results = index.search(\n",
    "        query=query,\n",
    "        filter_dict={'course': 'data-engineering-zoomcamp'},\n",
    "        boost_dict=boost,\n",
    "        num_results=5,\n",
    "        output_ids=True\n",
    "    )\n",
    "\n",
    "    return results"
   ]
  },
  {
   "cell_type": "code",
   "execution_count": 12,
   "id": "d8ce0404-c1b1-4022-95bd-69c16a739b23",
   "metadata": {},
   "outputs": [],
   "source": [
    "def add_entry(question, answer):\n",
    "    doc = {\n",
    "        'question': question,\n",
    "        'text': answer,\n",
    "        'section': 'user added',\n",
    "        'course': 'data-engineering-zoomcamp'\n",
    "    }\n",
    "    index.append(doc)"
   ]
  },
  {
   "attachments": {},
   "cell_type": "markdown",
   "id": "fb97626e-1769-4933-84d9-f2edef945a9d",
   "metadata": {},
   "source": [
    "# PydanticAI\n",
    "\n",
    "**¿Qué es PydanticAI y cómo se relaciona con los agentes de IA?**\n",
    "\n",
    "**PydanticAI** es una librería de Python creada por los mismos desarrolladores de **Pydantic** (muy popular para validar y manejar datos en Python).  \n",
    "Su objetivo es facilitar la construcción de **agentes de inteligencia artificial** que interactúan con modelos de lenguaje (LLMs) de forma **estructurada, validada y confiable**.\n",
    "\n",
    "En el contexto de IA, un **agente** es un sistema que puede:\n",
    "- Recibir una **instrucción o pregunta**.\n",
    "- Decidir **qué acciones tomar**.\n",
    "- Usar **herramientas** o funciones externas.\n",
    "- Generar una **respuesta final** al usuario.\n",
    "\n",
    "PydanticAI ayuda a que la **comunicación entre el agente y el LLM** sea más clara y segura:\n",
    "- **Estructurando datos**: Se definen modelos con tipos de datos (`str`, `int`, `list`, etc.) para que el LLM devuelva información siguiendo ese formato.\n",
    "- **Validando resultados**: Si el LLM envía algo que no cumple con el formato, la librería lo detecta y puede pedirle que lo corrija.\n",
    "- **Reduciendo errores**: Al tener datos validados, es más fácil integrar el LLM con otros sistemas o bases de datos.\n",
    "\n",
    "**Relación con los Agentes de IA**\n",
    "PydanticAI actúa como un **puente** entre:\n",
    "1. El **modelo de lenguaje** (que genera texto o datos).\n",
    "2. El **código del agente** (que decide qué hacer con esa información).\n",
    "\n",
    "Esto permite que los agentes:\n",
    "- Sepan exactamente qué información esperar del LLM.\n",
    "- Manejen mejor los flujos de trabajo.\n",
    "- Sean más **predecibles y robustos** en entornos reales.\n",
    "\n",
    "PydanticAI es como un “traductor” y “verificador” que ayuda a los agentes de IA a comunicarse con los LLMs de forma más confiable, evitando datos malformados y haciendo que el desarrollo sea más ordenado."
   ]
  },
  {
   "cell_type": "markdown",
   "id": "9308d09d-9078-4b36-ad68-368cc11f62d7",
   "metadata": {},
   "source": [
    "Importa dos componentes clave de la librería `pydantic_ai`:\n",
    "\n",
    "**Agent**\n",
    "\n",
    "Es la clase que representa a un **agente de inteligencia artificial**.  \n",
    "Se encarga de:\n",
    "- Conectarse con un modelo de lenguaje (LLM).\n",
    "- Recibir instrucciones o preguntas.\n",
    "- Decidir qué acciones ejecutar.\n",
    "- Retornar una respuesta validada y estructurada.  \n",
    "\n",
    "Es, en esencia, el **cerebro** que coordina el comportamiento del asistente de IA.\n",
    "\n",
    "**RunContext**\n",
    "\n",
    "Es un objeto que almacena el **contexto de ejecución** mientras el agente procesa una solicitud.  \n",
    "Incluye información como:\n",
    "- La entrada actual del usuario.\n",
    "- El historial de interacciones.\n",
    "- Resultados obtenidos en pasos previos.  \n",
    "\n",
    "Funciona como la **memoria temporal** del agente, necesaria para coordinar tareas que requieren varios pasos o llamadas a funciones.\n",
    "\n",
    "**En resumen:**  \n",
    "`Agent` dirige la lógica y las decisiones del asistente, mientras que `RunContext` conserva y gestiona la información que el agente necesita durante la ejecución.\n"
   ]
  },
  {
   "cell_type": "code",
   "execution_count": 1,
   "id": "863c8c9b-1551-49af-8691-87e4e1a02d72",
   "metadata": {},
   "outputs": [],
   "source": [
    "from pydantic_ai import Agent, RunContext"
   ]
  },
  {
   "cell_type": "markdown",
   "id": "0945a964-94e3-4c9f-b9fd-a5bf9f061990",
   "metadata": {},
   "source": [
    "**1. `developer_prompt`**\n",
    "- Es un texto que define el **rol e instrucciones iniciales** para el agente.\n",
    "- En este caso, el agente debe comportarse como un **asistente de enseñanza** para un curso.\n",
    "- Este mensaje se usa como **`system_prompt`**, que orienta las respuestas del modelo desde el inicio.\n",
    "\n",
    "**2. Creación del `Agent`**\n",
    "- Se instancia un agente con:\n",
    "  - **Modelo:** `'openai:gpt-4o-mini'` (un modelo de lenguaje de OpenAI optimizado para rapidez y bajo costo).\n",
    "  - **`system_prompt`:** el contenido de `developer_prompt`, que fija el contexto y tono que debe seguir el agente.\n",
    "- Este agente, una vez ejecutado, recibirá preguntas de estudiantes y las responderá según las instrucciones del `system_prompt`."
   ]
  },
  {
   "cell_type": "code",
   "execution_count": 9,
   "id": "f29c59e0-6c09-402f-aafa-989cd44222cb",
   "metadata": {},
   "outputs": [],
   "source": [
    "developer_prompt = \"\"\"\n",
    "You're a course teaching assistant. \n",
    "You're given a question from a course student and your task is to answer it.\n",
    "\n",
    "Use FAQ if your own knowledge is not sufficient to answer the question.\n",
    "When using FAQ, perform deep topic exploration: make one request to FAQ,\n",
    "and then based on the results, make more requests.\n",
    "\n",
    "At the end of each response, ask the user a follow up question based on your answer.\n",
    "\"\"\".strip()"
   ]
  },
  {
   "cell_type": "code",
   "execution_count": 29,
   "id": "f78bfb8f-f0d9-4a54-8921-1f768bfbbe52",
   "metadata": {},
   "outputs": [],
   "source": [
    "chat_agent = Agent(  \n",
    "    'openai:gpt-4o-mini',\n",
    "    system_prompt=developer_prompt\n",
    ")"
   ]
  },
  {
   "cell_type": "markdown",
   "id": "e5b8a0de-68cc-49db-afdb-f060b36a98cd",
   "metadata": {},
   "source": [
    "Define **dos herramientas** (`tools`) que el agente (`chat_agent`) puede usar para interactuar con una base de Preguntas Frecuentes (FAQ).  \n",
    "En `pydantic_ai`, un *tool* es una función que el agente puede invocar cuando lo considere necesario durante una conversación.\n",
    "\n",
    "**1. `search_tool`**\n",
    "- **Función:** Permite al agente **buscar** entradas relevantes en la FAQ basándose en una consulta del usuario.\n",
    "- **Parámetros:**\n",
    "  - `ctx` (`RunContext`): El contexto actual de ejecución, que guarda datos de la interacción en curso.\n",
    "  - `query` (`str`): Texto que el usuario quiere buscar.\n",
    "- **Retorno:** Un diccionario con los resultados de búsqueda (máximo 5), incluyendo información de relevancia e identificadores de las respuestas.\n",
    "- **Comportamiento:**  \n",
    "  1. Muestra en consola la consulta realizada.  \n",
    "  2. Llama a la función `search(query)` para obtener los resultados.  \n",
    "\n",
    "**2. `add_entry_tool`**\n",
    "- **Función:** Permite al agente **añadir** una nueva pregunta y respuesta a la FAQ.\n",
    "- **Parámetros:**\n",
    "  - `ctx` (`RunContext`): Contexto de ejecución actual.\n",
    "  - `question` (`str`): Texto de la nueva pregunta.\n",
    "  - `answer` (`str`): Respuesta o explicación correspondiente.\n",
    "- **Retorno:** No devuelve datos (`None`), pero actualiza la FAQ.\n",
    "- **Comportamiento:**  \n",
    "  Llama a la función `add_entry(question, answer)` para registrar la nueva entrada, marcándola como contenido añadido por el usuario.\n",
    "\n",
    "**Resumiendo:**\n",
    "- `search_tool` → Busca información en la FAQ.  \n",
    "- `add_entry_tool` → Agrega nuevas preguntas y respuestas a la FAQ.  \n",
    "Ambas funciones están registradas como herramientas que el agente puede usar de forma autónoma cuando detecte que son necesarias para responder mejor al usuario.\n"
   ]
  },
  {
   "cell_type": "code",
   "execution_count": 11,
   "id": "2753996e-1fa6-42b8-86cb-aad66be0e098",
   "metadata": {},
   "outputs": [],
   "source": [
    "from typing import Dict\n",
    "\n",
    "\n",
    "@chat_agent.tool\n",
    "def search_tool(ctx: RunContext, query: str) -> Dict[str, str]:\n",
    "    \"\"\"\n",
    "    Search the FAQ for relevant entries matching the query.\n",
    "\n",
    "    Parameters\n",
    "    ----------\n",
    "    query : str\n",
    "        The search query string provided by the user.\n",
    "\n",
    "    Returns\n",
    "    -------\n",
    "    list\n",
    "        A list of search results (up to 5), each containing relevance information \n",
    "        and associated output IDs.\n",
    "    \"\"\"\n",
    "    print(f\"search('{query}')\")\n",
    "    return search(query)"
   ]
  },
  {
   "cell_type": "code",
   "execution_count": 30,
   "id": "adba7e1d-a4b9-449a-ba58-e80733b25f51",
   "metadata": {},
   "outputs": [],
   "source": [
    "@chat_agent.tool\n",
    "def add_entry_tool(ctx: RunContext, question: str, answer: str) -> None:\n",
    "    \"\"\"\n",
    "    Add a new question-answer entry to FAQ.\n",
    "\n",
    "    This function creates a document with the given question and answer, \n",
    "    tagging it as user-added content.\n",
    "\n",
    "    Parameters\n",
    "    ----------\n",
    "    question : str\n",
    "        The question text to be added to the index.\n",
    "\n",
    "    answer : str\n",
    "        The answer or explanation corresponding to the question.\n",
    "\n",
    "    Returns\n",
    "    -------\n",
    "    None\n",
    "    \"\"\"\n",
    "    return add_entry(question, answer)"
   ]
  },
  {
   "cell_type": "code",
   "execution_count": 15,
   "id": "86be7d92-55f7-4cbf-bafa-1d560d51ae85",
   "metadata": {},
   "outputs": [
    {
     "name": "stdout",
     "output_type": "stream",
     "text": [
      "search('enrollment deadlines')\n",
      "Yes, you can still join the course even if it has already started. According to the information I've found, you're eligible to participate and submit homework without registering. However, please note that there will be deadlines for turning in the final projects, so it's best not to leave everything until the last minute.\n",
      "\n",
      "For the most accurate details regarding deadlines, you can check the latest information [here](https://docs.google.com/spreadsheets/d/e/2PACX-1vQACMLuutV5rvXg5qICuJGL-yZqIV0FBD84CxPdC5eZHf8TfzB-CJT_3Mo7U7oGVTXmSihPgQxuuoku/pubhtml).\n",
      "\n",
      "Do you have any specific questions about the course content or requirements?\n"
     ]
    }
   ],
   "source": [
    "user_prompt = \"I just discovered the course. Can I join now?\"\n",
    "agent_run = await chat_agent.run(user_prompt)\n",
    "print(agent_run.output)"
   ]
  },
  {
   "cell_type": "code",
   "execution_count": 17,
   "id": "1cee4f17-9d11-4335-a9b7-86f08f7f50ed",
   "metadata": {},
   "outputs": [
    {
     "name": "stdout",
     "output_type": "stream",
     "text": [
      "search('how to excel in module 1')\n",
      "search('how to succeed in module 1 data-engineering-zoomcamp')\n",
      "To excel in Module 1 of the Data Engineering Zoomcamp, here are some tips and insights gathered from the FAQ entries:\n",
      "\n",
      "1. **Understand Your Tools:** Ensure that you have a solid understanding of Docker and Terraform, as this module focuses on these essential tools. Familiarizing yourself with Docker commands and how to write Dockerfiles will be crucial.\n",
      "\n",
      "2. **Docker Setup:** If you encounter build errors when working with Docker (like permission issues), make sure to check your directory permissions. For example, running `sudo chown -R $USER dir_path` can solve context errors during builds. \n",
      "\n",
      "3. **Python Modules:** It's essential to ensure that all required Python modules are installed. If you receive a `ModuleNotFoundError`, for instance, with the `psycopg2` module, you can resolve it by running:\n",
      "   ```\n",
      "   pip install psycopg2-binary\n",
      "   ```\n",
      "   If you still face issues post-installation, consider updating pip and reinstalling the module.\n",
      "\n",
      "4. **Learning Resources:** Utilize the provided resources and examples from the course to understand the concepts better. If there's a reference to any GitHub repo or example files, make sure to go through those as they provide practical guidance.\n",
      "\n",
      "5. **Seek Help:** If you encounter specific issues, like missing files or dependencies, refer to the community forums or Slack channel for alternative solutions shared by peers.\n",
      "\n",
      "Would you like more specific tips related to any particular aspect of Module 1, such as Docker, Terraform, or handling errors?\n"
     ]
    }
   ],
   "source": [
    "user_prompt = \"How do I do my best for module 1?\"\n",
    "agent_run = await chat_agent.run(user_prompt)\n",
    "print(agent_run.output)"
   ]
  }
 ],
 "metadata": {
  "kernelspec": {
   "display_name": "Python 3 (ipykernel)",
   "language": "python",
   "name": "python3"
  },
  "language_info": {
   "codemirror_mode": {
    "name": "ipython",
    "version": 3
   },
   "file_extension": ".py",
   "mimetype": "text/x-python",
   "name": "python",
   "nbconvert_exporter": "python",
   "pygments_lexer": "ipython3",
   "version": "3.13.3"
  }
 },
 "nbformat": 4,
 "nbformat_minor": 5
}
