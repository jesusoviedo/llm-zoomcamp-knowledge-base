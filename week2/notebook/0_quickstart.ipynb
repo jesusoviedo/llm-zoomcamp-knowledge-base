{
 "cells": [
  {
   "cell_type": "markdown",
   "id": "1acebbd6-053f-487b-9fa7-d7ac60634559",
   "metadata": {},
   "source": [
    "## Quickstart: Búsqueda Vectorial para Principiantes"
   ]
  },
  {
   "cell_type": "markdown",
   "id": "0d8b07d7-ba94-4120-b742-6f95b6ea4346",
   "metadata": {},
   "source": [
    "#### Inicializar el cliente\n",
    "\n",
    "Antes de comenzar a realizar consultas o insertar vectores, debemos inicializar el cliente de Qdrant."
   ]
  },
  {
   "cell_type": "code",
   "execution_count": 1,
   "id": "61705409-dfa8-4f70-8d4f-5f2de1619519",
   "metadata": {},
   "outputs": [],
   "source": [
    "from qdrant_client import QdrantClient\n",
    "\n",
    "client = QdrantClient(url=\"http://localhost:6333\")"
   ]
  },
  {
   "cell_type": "markdown",
   "id": "96a8cdc3-577a-4d19-8d95-6230885d6926",
   "metadata": {},
   "source": [
    "Asegúrate de que tu instancia de Qdrant esté corriendo localmente o cambia la URL/puerto según tu configuración."
   ]
  },
  {
   "cell_type": "markdown",
   "id": "1f872fb2-f0ad-44ff-84c3-137bb6996470",
   "metadata": {},
   "source": [
    "#### Crear una colección\n",
    "\n",
    "Una colección en Qdrant es como una base de datos para tus vectores. Define el nombre y el tipo de vectores que vas a almacenar (tamaño y distancia)."
   ]
  },
  {
   "cell_type": "code",
   "execution_count": 2,
   "id": "65285ea7-c7b9-44bd-8b4e-f09fe8767401",
   "metadata": {},
   "outputs": [
    {
     "data": {
      "text/plain": [
       "True"
      ]
     },
     "execution_count": 2,
     "metadata": {},
     "output_type": "execute_result"
    }
   ],
   "source": [
    "from qdrant_client.models import Distance, VectorParams\n",
    "\n",
    "client.create_collection(\n",
    "    collection_name=\"test_collection\",\n",
    "    vectors_config=VectorParams(size=4, distance=Distance.DOT)\n",
    ")"
   ]
  },
  {
   "cell_type": "markdown",
   "id": "22bbf0ce-ca7b-4b65-8d69-17b4d8e0c8ef",
   "metadata": {},
   "source": [
    "#### Agregar vectores\n",
    "\n",
    "Una vez creada la colección, puedes insertar vectores junto con metadatos (payload). Cada vector debe tener un identificador único (`id`), una lista de valores numéricos (`vector`) y un diccionario opcional de información adicional (`payload`)."
   ]
  },
  {
   "cell_type": "code",
   "execution_count": 3,
   "id": "5cb034b5-13f3-41e5-a787-b923432c760c",
   "metadata": {},
   "outputs": [
    {
     "name": "stdout",
     "output_type": "stream",
     "text": [
      "operation_id=0 status=<UpdateStatus.COMPLETED: 'completed'>\n"
     ]
    }
   ],
   "source": [
    "from qdrant_client.models import PointStruct\n",
    "\n",
    "operation_info = client.upsert(\n",
    "    collection_name=\"test_collection\",\n",
    "    wait=True,\n",
    "    points=[\n",
    "        PointStruct(id=1, vector=[0.05, 0.61, 0.76, 0.74], payload={\"city\": \"Berlin\"}),\n",
    "        PointStruct(id=2, vector=[0.19, 0.81, 0.75, 0.11], payload={\"city\": \"London\"}),\n",
    "        PointStruct(id=3, vector=[0.36, 0.55, 0.47, 0.94], payload={\"city\": \"Moscow\"}),\n",
    "        PointStruct(id=4, vector=[0.18, 0.01, 0.85, 0.80], payload={\"city\": \"New York\"}),\n",
    "        PointStruct(id=5, vector=[0.24, 0.18, 0.22, 0.44], payload={\"city\": \"Beijing\"}),\n",
    "        PointStruct(id=6, vector=[0.35, 0.08, 0.11, 0.44], payload={\"city\": \"Mumbai\"}),\n",
    "    ],\n",
    ")\n",
    "\n",
    "print(operation_info)"
   ]
  },
  {
   "cell_type": "markdown",
   "id": "dd401219-7705-4b42-89aa-a857c20e1fdf",
   "metadata": {},
   "source": [
    "### Ejecutar una consulta\n",
    "\n",
    "Hagamos una pregunta básica: ¿Cuáles de nuestros vectores almacenados son más similares al vector de consulta `[0.2, 0.1, 0.9, 0.7]`?"
   ]
  },
  {
   "cell_type": "code",
   "execution_count": 4,
   "id": "394ee712-0d10-4258-a17f-cd009618736b",
   "metadata": {},
   "outputs": [
    {
     "name": "stdout",
     "output_type": "stream",
     "text": [
      "id=4 version=0 score=1.362 payload=None vector=None shard_key=None order_value=None\n",
      "id=1 version=0 score=1.273 payload=None vector=None shard_key=None order_value=None\n",
      "id=3 version=0 score=1.208 payload=None vector=None shard_key=None order_value=None\n"
     ]
    }
   ],
   "source": [
    "search_result = client.query_points(\n",
    "    collection_name=\"test_collection\",\n",
    "    query=[0.2, 0.1, 0.9, 0.7],\n",
    "    with_payload=False,\n",
    "    limit=3\n",
    ").points\n",
    "\n",
    "print(*search_result, sep='\\n')"
   ]
  },
  {
   "cell_type": "markdown",
   "id": "efa9756c-e8bb-42e9-9f71-20a19fbb50e9",
   "metadata": {},
   "source": [
    "### Agregar un filtro\n",
    "Podemos refinar aún más los resultados aplicando un filtro sobre los metadatos (payload). Por ejemplo, veamos los resultados más cercanos que además incluyan \"London\" en su payload:"
   ]
  },
  {
   "cell_type": "code",
   "execution_count": 5,
   "id": "775f2b2b-1e03-4672-b0c4-9e714edd7070",
   "metadata": {},
   "outputs": [
    {
     "name": "stdout",
     "output_type": "stream",
     "text": [
      "id=2 version=0 score=0.871 payload={'city': 'London'} vector=None shard_key=None order_value=None\n"
     ]
    }
   ],
   "source": [
    "from qdrant_client.models import Filter, FieldCondition, MatchValue\n",
    "\n",
    "search_result = client.query_points(\n",
    "    collection_name=\"test_collection\",\n",
    "    query=[0.2, 0.1, 0.9, 0.7],\n",
    "    query_filter=Filter(\n",
    "        must=[FieldCondition(key=\"city\", match=MatchValue(value=\"London\"))]\n",
    "    ),\n",
    "    with_payload=True,\n",
    "    limit=3,\n",
    ").points\n",
    "\n",
    "print(*search_result, sep='\\n')"
   ]
  }
 ],
 "metadata": {
  "kernelspec": {
   "display_name": "Python 3 (ipykernel)",
   "language": "python",
   "name": "python3"
  },
  "language_info": {
   "codemirror_mode": {
    "name": "ipython",
    "version": 3
   },
   "file_extension": ".py",
   "mimetype": "text/x-python",
   "name": "python",
   "nbconvert_exporter": "python",
   "pygments_lexer": "ipython3",
   "version": "3.13.3"
  }
 },
 "nbformat": 4,
 "nbformat_minor": 5
}
