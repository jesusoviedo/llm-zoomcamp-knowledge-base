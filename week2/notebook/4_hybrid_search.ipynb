{
 "cells": [
  {
   "cell_type": "markdown",
   "id": "e0cd69ee",
   "metadata": {},
   "source": [
    "# Búsqueda Híbrida con Qdrant\n",
    "\n",
    "La búsqueda vectorial basada en *embeddings* densos captura la **semántica** de los datos, lo que significa que no es necesario utilizar los mismos términos en las consultas y en los documentos para encontrar resultados relevantes. Sin embargo, históricamente también se han utilizado otros métodos que se basan en la **presencia explícita de palabras clave**. Métodos como *Bag-of-Words*, *TFIDF* y *BM25* siguen siendo útiles, y en algunos casos, se deben preferir frente a los embeddings densos.\n",
    "\n",
    "## Vectores Dispersos (Sparse Vectors)\n",
    "\n",
    "Sorprendentemente, la búsqueda basada en palabras clave también se implementa como una búsqueda vectorial, pero en este caso los vectores suelen ser **dispersos**. Esto significa que la mayoría de las dimensiones de estos vectores son simplemente ceros. Un valor distinto de cero en una dimensión indica la **presencia de un término** del diccionario asignado a esa posición.\n",
    "\n",
    "En otras palabras, en los vectores dispersos, existe un diccionario en el que cada palabra o frase tiene una posición única. Dado que estos vectores tienen muchas dimensiones vacías, el diccionario puede **crecer indefinidamente**, añadiendo nuevos términos al final.\n",
    "\n",
    "El uso de un diccionario flexible permite que los vectores dispersos sobresalgan en coincidencias exactas, ya que pueden manejar textos que para los vectores densos serían cadenas aleatorias —como **nombres propios** o **identificadores**. Los modelos de embeddings densos también utilizan un diccionario, pero una vez entrenado el modelo, **ampliarlo requiere un proceso complejo de ajuste fino (fine-tuning)**, algo poco común para el usuario promedio.\n",
    "\n",
    "### BM25\n",
    "\n",
    "Existen muchas formas de crear embeddings dispersos, pero **BM25** es el estándar de la industria. Su versión más conocida proviene de los años 90. Es un modelo estadístico (*no involucra redes neuronales*), lo que lo hace **rápido y ligero**. En benchmarks de búsqueda suele ser una base sólida, por lo que no debe pasarse por alto.\n",
    "\n",
    "**BM25** significa *Best Matching 25* y fue simplemente el intento número 25 de crear una fórmula que calcule qué tan relevante es un documento con respecto a una consulta. Si te interesa la parte matemática, puedes revisar su [página en Wikipedia](https://es.wikipedia.org/wiki/Okapi_BM25).\n",
    "\n",
    "En términos generales, BM25 es una función de ranking que ayuda a los motores de búsqueda a determinar la relevancia de un documento combinando dos conceptos clave:\n",
    "\n",
    "1. **Frecuencia del Término (TF)**: premia a los documentos que contienen varias veces los términos de la consulta, pero con *rendimientos decrecientes* —es decir, un documento con 10 repeticiones de una palabra no es 10 veces mejor que uno con solo 1.\n",
    "2. **Frecuencia Inversa de Documento (IDF)**: da mayor peso a las palabras raras y reduce la importancia de las comunes, ya que los términos raros suelen ser más informativos para distinguir resultados relevantes.\n",
    "\n",
    "BM25 también incluye una **normalización por longitud del documento**, para evitar que los documentos más largos tengan ventaja solo por su tamaño.\n",
    "\n",
    "En nuestro caso, utilizaremos una implementación de BM25 disponible en **FastEmbed**. Empecemos por lo básico.\n"
   ]
  },
  {
   "cell_type": "markdown",
   "id": "17127ee0",
   "metadata": {},
   "source": [
    "## Paso 0: Configuración\n",
    "\n",
    "Por favor, consulta el notebook [2_sematic_search.ipynb](2_sematic_search.ipynb) para configurar las librerías necesarias para interactuar con Qdrant y crear los embeddings. Del mismo modo, asegúrate de iniciar Qdrant en un contenedor Docker como se indica allí, en caso de que aún no esté en ejecución en tu máquina.\n",
    "\n",
    "Si te saltaste nuestras lecciones anteriores, los siguientes comandos instalarán todos los paquetes necesarios y ejecutarán Qdrant en un contenedor en segundo plano.\n"
   ]
  },
  {
   "cell_type": "code",
   "execution_count": null,
   "id": "0d51cf88",
   "metadata": {},
   "outputs": [],
   "source": [
    "!python -m pip install -q \"qdrant-client[fastembed]>=1.14.2\""
   ]
  },
  {
   "cell_type": "code",
   "execution_count": null,
   "id": "79f9cabd",
   "metadata": {},
   "outputs": [],
   "source": [
    "!docker run -d -p 6333:6333 -p 6334:6334 \\\n",
    "   -v \"./qdrant_storage:/qdrant/storage:z\" \\\n",
    "   qdrant/qdrant"
   ]
  },
  {
   "cell_type": "markdown",
   "id": "53b32ff5",
   "metadata": {},
   "source": [
    "## Paso 1: Conectarse a Qdrant\n",
    "\n",
    "Vamos a conectarnos a Qdrant y verificar si la conexión fue exitosa listando todas las colecciones disponibles.\n"
   ]
  },
  {
   "cell_type": "code",
   "execution_count": 1,
   "id": "bf62ebf9",
   "metadata": {},
   "outputs": [
    {
     "data": {
      "text/plain": [
       "CollectionsResponse(collections=[CollectionDescription(name='test_collection'), CollectionDescription(name='zoomcamp-rag'), CollectionDescription(name='zoomcamp-llm-hw2'), CollectionDescription(name='documentos_varios'), CollectionDescription(name='productos_alimenticios')])"
      ]
     },
     "execution_count": 1,
     "metadata": {},
     "output_type": "execute_result"
    }
   ],
   "source": [
    "from qdrant_client import QdrantClient\n",
    "\n",
    "client = QdrantClient(\"http://localhost:6333\")\n",
    "client.get_collections()"
   ]
  },
  {
   "cell_type": "markdown",
   "id": "f525ae48",
   "metadata": {},
   "source": [
    "## Paso 2: Búsqueda con vectores dispersos usando BM25\n",
    "\n",
    "Vamos a utilizar el mismo conjunto de datos que antes. Descarguémoslo y carguémoslo en Qdrant, pero esta vez vamos a crear vectores dispersos **solo con BM25**."
   ]
  },
  {
   "cell_type": "code",
   "execution_count": 2,
   "id": "eeac8813",
   "metadata": {},
   "outputs": [],
   "source": [
    "import requests\n",
    "\n",
    "docs_url = 'https://github.com/alexeygrigorev/llm-rag-workshop/raw/main/notebooks/documents.json'\n",
    "docs_response = requests.get(docs_url)\n",
    "documents_raw = docs_response.json()"
   ]
  },
  {
   "cell_type": "code",
   "execution_count": 8,
   "id": "3c70e485",
   "metadata": {},
   "outputs": [
    {
     "data": {
      "text/plain": [
       "{'text': \"The purpose of this document is to capture frequently asked technical questions\\nThe exact day and hour of the course will be 15th Jan 2024 at 17h00. The course will start with the first  “Office Hours'' live.1\\nSubscribe to course public Google Calendar (it works from Desktop only).\\nRegister before the course starts using this link.\\nJoin the course Telegram channel with announcements.\\nDon’t forget to register in DataTalks.Club's Slack and join the channel.\",\n",
       " 'section': 'General course-related questions',\n",
       " 'question': 'Course - When will the course start?'}"
      ]
     },
     "execution_count": 8,
     "metadata": {},
     "output_type": "execute_result"
    }
   ],
   "source": [
    "documents_raw[0].get('documents')[0]"
   ]
  },
  {
   "cell_type": "markdown",
   "id": "d8a9efb9",
   "metadata": {},
   "source": [
    "Primero necesitamos crear una colección. Qdrant se encargará de calcular los valores de IDF si lo configuramos correctamente. Esto es necesario para que BM25 funcione correctamente; de lo contrario, no se dará prioridad a las palabras raras."
   ]
  },
  {
   "cell_type": "code",
   "execution_count": 11,
   "id": "f0c5a4c6",
   "metadata": {},
   "outputs": [
    {
     "data": {
      "text/plain": [
       "True"
      ]
     },
     "execution_count": 11,
     "metadata": {},
     "output_type": "execute_result"
    }
   ],
   "source": [
    "from qdrant_client import models\n",
    "\n",
    "# Create the collection with specified sparse vector parameters\n",
    "client.create_collection(\n",
    "    collection_name=\"zoomcamp-sparse\",\n",
    "    sparse_vectors_config={\n",
    "        \"bm25\": models.SparseVectorParams(\n",
    "            modifier=models.Modifier.IDF,\n",
    "        )\n",
    "    },\n",
    "    timeout=60\n",
    ")"
   ]
  },
  {
   "cell_type": "markdown",
   "id": "2bd3171a",
   "metadata": {},
   "source": [
    "FastEmbed incluye una implementación de BM25 que podemos usar como cualquier otro modelo."
   ]
  },
  {
   "cell_type": "code",
   "execution_count": 12,
   "id": "8cb45281",
   "metadata": {},
   "outputs": [
    {
     "data": {
      "application/vnd.jupyter.widget-view+json": {
       "model_id": "de7da923c6eb40a6a8cd86597d5c7c68",
       "version_major": 2,
       "version_minor": 0
      },
      "text/plain": [
       "Fetching 18 files:   0%|          | 0/18 [00:00<?, ?it/s]"
      ]
     },
     "metadata": {},
     "output_type": "display_data"
    },
    {
     "data": {
      "application/vnd.jupyter.widget-view+json": {
       "model_id": "ad10fd0b007d408ea80eab31ef0811b9",
       "version_major": 2,
       "version_minor": 0
      },
      "text/plain": [
       "finnish.txt: 0.00B [00:00, ?B/s]"
      ]
     },
     "metadata": {},
     "output_type": "display_data"
    },
    {
     "data": {
      "application/vnd.jupyter.widget-view+json": {
       "model_id": "a0f76e514a704ae18fb6b28b124389bb",
       "version_major": 2,
       "version_minor": 0
      },
      "text/plain": [
       "german.txt: 0.00B [00:00, ?B/s]"
      ]
     },
     "metadata": {},
     "output_type": "display_data"
    },
    {
     "data": {
      "application/vnd.jupyter.widget-view+json": {
       "model_id": "1f8937bff2fb4473a996c7890ac4681a",
       "version_major": 2,
       "version_minor": 0
      },
      "text/plain": [
       "config.json:   0%|          | 0.00/2.00 [00:00<?, ?B/s]"
      ]
     },
     "metadata": {},
     "output_type": "display_data"
    },
    {
     "data": {
      "application/vnd.jupyter.widget-view+json": {
       "model_id": "e59406eee5fc4c25bf5eabdcfd362529",
       "version_major": 2,
       "version_minor": 0
      },
      "text/plain": [
       "arabic.txt: 0.00B [00:00, ?B/s]"
      ]
     },
     "metadata": {},
     "output_type": "display_data"
    },
    {
     "data": {
      "application/vnd.jupyter.widget-view+json": {
       "model_id": "ba643bca868e4c65a71f88a9c575d8be",
       "version_major": 2,
       "version_minor": 0
      },
      "text/plain": [
       "danish.txt:   0%|          | 0.00/424 [00:00<?, ?B/s]"
      ]
     },
     "metadata": {},
     "output_type": "display_data"
    },
    {
     "data": {
      "application/vnd.jupyter.widget-view+json": {
       "model_id": "b13a88bc689344d882e88c785720f224",
       "version_major": 2,
       "version_minor": 0
      },
      "text/plain": [
       "dutch.txt:   0%|          | 0.00/453 [00:00<?, ?B/s]"
      ]
     },
     "metadata": {},
     "output_type": "display_data"
    },
    {
     "data": {
      "application/vnd.jupyter.widget-view+json": {
       "model_id": "ce85ba6748be441980ef2cf838f83ac0",
       "version_major": 2,
       "version_minor": 0
      },
      "text/plain": [
       "french.txt:   0%|          | 0.00/813 [00:00<?, ?B/s]"
      ]
     },
     "metadata": {},
     "output_type": "display_data"
    },
    {
     "data": {
      "application/vnd.jupyter.widget-view+json": {
       "model_id": "605b0527315143749eb58326222474b0",
       "version_major": 2,
       "version_minor": 0
      },
      "text/plain": [
       "english.txt:   0%|          | 0.00/936 [00:00<?, ?B/s]"
      ]
     },
     "metadata": {},
     "output_type": "display_data"
    },
    {
     "data": {
      "application/vnd.jupyter.widget-view+json": {
       "model_id": "e2057deed6a443c8a29c54f9f9a0887a",
       "version_major": 2,
       "version_minor": 0
      },
      "text/plain": [
       "greek.txt: 0.00B [00:00, ?B/s]"
      ]
     },
     "metadata": {},
     "output_type": "display_data"
    },
    {
     "data": {
      "application/vnd.jupyter.widget-view+json": {
       "model_id": "076e392f87c2444fbc26b08eecf0edee",
       "version_major": 2,
       "version_minor": 0
      },
      "text/plain": [
       "portuguese.txt: 0.00B [00:00, ?B/s]"
      ]
     },
     "metadata": {},
     "output_type": "display_data"
    },
    {
     "data": {
      "application/vnd.jupyter.widget-view+json": {
       "model_id": "fa112fbd8d5843f994e8ce4bdc0eb289",
       "version_major": 2,
       "version_minor": 0
      },
      "text/plain": [
       "hungarian.txt: 0.00B [00:00, ?B/s]"
      ]
     },
     "metadata": {},
     "output_type": "display_data"
    },
    {
     "data": {
      "application/vnd.jupyter.widget-view+json": {
       "model_id": "7244e1b1775a44ef89276b5ac2e2e20f",
       "version_major": 2,
       "version_minor": 0
      },
      "text/plain": [
       "italian.txt: 0.00B [00:00, ?B/s]"
      ]
     },
     "metadata": {},
     "output_type": "display_data"
    },
    {
     "data": {
      "application/vnd.jupyter.widget-view+json": {
       "model_id": "889007578c244f91b634132baf21edaa",
       "version_major": 2,
       "version_minor": 0
      },
      "text/plain": [
       "russian.txt: 0.00B [00:00, ?B/s]"
      ]
     },
     "metadata": {},
     "output_type": "display_data"
    },
    {
     "data": {
      "application/vnd.jupyter.widget-view+json": {
       "model_id": "9fffe2857ec64bd399825e1bd9657384",
       "version_major": 2,
       "version_minor": 0
      },
      "text/plain": [
       "romanian.txt: 0.00B [00:00, ?B/s]"
      ]
     },
     "metadata": {},
     "output_type": "display_data"
    },
    {
     "data": {
      "application/vnd.jupyter.widget-view+json": {
       "model_id": "a16f6ff633a0413face82c7832c7dec8",
       "version_major": 2,
       "version_minor": 0
      },
      "text/plain": [
       "spanish.txt: 0.00B [00:00, ?B/s]"
      ]
     },
     "metadata": {},
     "output_type": "display_data"
    },
    {
     "data": {
      "application/vnd.jupyter.widget-view+json": {
       "model_id": "9e7f14544b944cbfbc9989ea22562579",
       "version_major": 2,
       "version_minor": 0
      },
      "text/plain": [
       "norwegian.txt:   0%|          | 0.00/851 [00:00<?, ?B/s]"
      ]
     },
     "metadata": {},
     "output_type": "display_data"
    },
    {
     "data": {
      "application/vnd.jupyter.widget-view+json": {
       "model_id": "c4f193cb7d4f4109ab9640b8c4e05a3f",
       "version_major": 2,
       "version_minor": 0
      },
      "text/plain": [
       "turkish.txt:   0%|          | 0.00/260 [00:00<?, ?B/s]"
      ]
     },
     "metadata": {},
     "output_type": "display_data"
    },
    {
     "data": {
      "application/vnd.jupyter.widget-view+json": {
       "model_id": "8f9174184cee471d8cf6d753fe5f44fb",
       "version_major": 2,
       "version_minor": 0
      },
      "text/plain": [
       "swedish.txt:   0%|          | 0.00/559 [00:00<?, ?B/s]"
      ]
     },
     "metadata": {},
     "output_type": "display_data"
    },
    {
     "data": {
      "text/plain": [
       "UpdateResult(operation_id=0, status=<UpdateStatus.COMPLETED: 'completed'>)"
      ]
     },
     "execution_count": 12,
     "metadata": {},
     "output_type": "execute_result"
    }
   ],
   "source": [
    "import uuid\n",
    "\n",
    "# Send the points to the collection\n",
    "client.upsert(\n",
    "    collection_name=\"zoomcamp-sparse\",\n",
    "    points=[\n",
    "        models.PointStruct(\n",
    "            id=uuid.uuid4().hex,\n",
    "            vector={\n",
    "                \"bm25\": models.Document(\n",
    "                    text=doc[\"text\"], \n",
    "                    model=\"Qdrant/bm25\",\n",
    "                ),\n",
    "            },\n",
    "            payload={\n",
    "                \"text\": doc[\"text\"],\n",
    "                \"section\": doc[\"section\"],\n",
    "                \"course\": course[\"course\"],\n",
    "            }\n",
    "        )\n",
    "        for course in documents_raw\n",
    "        for doc in course[\"documents\"]\n",
    "    ]\n",
    ")"
   ]
  },
  {
   "cell_type": "markdown",
   "id": "906b4d86",
   "metadata": {},
   "source": [
    "Puede que te sorprenda lo rápida que fue la operación de carga. BM25 no requiere una red neuronal, por lo que es mucho más rápido en comparación con los modelos de embeddings densos.\n",
    "\n",
    "## Paso 3: Ejecutar búsqueda con vectores dispersos usando BM25\n",
    "\n",
    "Ahora nuestros vectores están listos para ser consultados. Vamos a crear una función auxiliar para facilitar las búsquedas.\n"
   ]
  },
  {
   "cell_type": "code",
   "execution_count": 13,
   "id": "949bd8f2",
   "metadata": {},
   "outputs": [],
   "source": [
    "def search(query: str, limit: int = 1) -> list[models.ScoredPoint]:\n",
    "    results = client.query_points(\n",
    "        collection_name=\"zoomcamp-sparse\",\n",
    "        query=models.Document(\n",
    "            text=query,\n",
    "            model=\"Qdrant/bm25\",\n",
    "        ),\n",
    "        using=\"bm25\",\n",
    "        limit=limit,\n",
    "        with_payload=True,\n",
    "    )\n",
    "\n",
    "    return results.points"
   ]
  },
  {
   "cell_type": "code",
   "execution_count": 14,
   "id": "3b7ac1d5",
   "metadata": {},
   "outputs": [
    {
     "data": {
      "text/plain": [
       "[]"
      ]
     },
     "execution_count": 14,
     "metadata": {},
     "output_type": "execute_result"
    }
   ],
   "source": [
    "results = search(\"Qdrant\")\n",
    "results"
   ]
  },
  {
   "cell_type": "markdown",
   "id": "b1301b61",
   "metadata": {},
   "source": [
    "Los vectores dispersos pueden no devolver resultados si ninguna de las palabras clave de la consulta se encuentra en los documentos. No importa si existen sinónimos: la **terminología sí importa**."
   ]
  },
  {
   "cell_type": "code",
   "execution_count": 15,
   "id": "8347afa5",
   "metadata": {},
   "outputs": [
    {
     "name": "stdout",
     "output_type": "stream",
     "text": [
      "You can use round() function or f-strings\n",
      "round(number, 4)  - this will round number up to 4 decimal places\n",
      "print(f'Average mark for the Homework is {avg:.3f}') - using F string\n",
      "Also there is pandas.Series. round idf you need to round values in the whole Series\n",
      "Please check the documentation\n",
      "https://pandas.pydata.org/pandas-docs/stable/reference/api/pandas.Series.round.html#pandas.Series.round\n",
      "Added by Olga Rudakova\n"
     ]
    }
   ],
   "source": [
    "results = search(\"pandas\")\n",
    "print(results[0].payload[\"text\"])"
   ]
  },
  {
   "cell_type": "markdown",
   "id": "5097d9c5",
   "metadata": {},
   "source": [
    "Los puntajes devueltos por BM25 no se calculan usando similitud coseno, sino mediante su propia fórmula. No están acotados a un rango específico, sino que son **virtualmente ilimitados**. Veamos cómo pueden verse."
   ]
  },
  {
   "cell_type": "code",
   "execution_count": 16,
   "id": "c252b3f6",
   "metadata": {},
   "outputs": [
    {
     "data": {
      "text/plain": [
       "6.0392046"
      ]
     },
     "execution_count": 16,
     "metadata": {},
     "output_type": "execute_result"
    }
   ],
   "source": [
    "results[0].score"
   ]
  },
  {
   "cell_type": "markdown",
   "id": "ea7933a1",
   "metadata": {},
   "source": [
    "Esa es una observación importante antes de comenzar a implementar la búsqueda híbrida.\n",
    "\n",
    "### Consultas en lenguaje natural\n",
    "\n",
    "Probemos nuevamente con una pregunta aleatoria de nuestro conjunto de datos para ver qué tan bien puede funcionar la búsqueda con vectores dispersos en consultas más largas y en lenguaje natural."
   ]
  },
  {
   "cell_type": "code",
   "execution_count": 17,
   "id": "2b71aafd",
   "metadata": {},
   "outputs": [
    {
     "name": "stdout",
     "output_type": "stream",
     "text": [
      "{\n",
      "  \"text\": \"Even though the upload works using aws cli and boto3 in Jupyter notebook.\\nSolution set the AWS_PROFILE environment variable (the default profile is called default)\",\n",
      "  \"section\": \"Module 4: Deployment\",\n",
      "  \"question\": \"Uploading to s3 fails with An error occurred (InvalidAccessKeyId) when calling the PutObject operation: The AWS Access Key Id you provided does not exist in our records.\\\"\"\n",
      "}\n"
     ]
    }
   ],
   "source": [
    "import random\n",
    "import json\n",
    "\n",
    "random.seed(202506)\n",
    "\n",
    "course = random.choice(documents_raw)\n",
    "course_piece = random.choice(course[\"documents\"])\n",
    "print(json.dumps(course_piece, indent=2))"
   ]
  },
  {
   "cell_type": "code",
   "execution_count": 18,
   "id": "65cd0cbc",
   "metadata": {},
   "outputs": [
    {
     "name": "stdout",
     "output_type": "stream",
     "text": [
      "The trial dbt account provides access to dbt API. Job will still be needed to be added manually. Airflow will run the job using a python operator calling the API. You will need to provide api key, job id, etc. (be careful not committing it to Github).\n",
      "Detailed explanation here: https://docs.getdbt.com/blog/dbt-airflow-spiritual-alignment\n",
      "Source code example here: https://github.com/sungchun12/airflow-toolkit/blob/95d40ac76122de337e1b1cdc8eed35ba1c3051ed/dags/examples/dbt_cloud_example.py\n"
     ]
    }
   ],
   "source": [
    "results = search(course_piece[\"question\"])\n",
    "print(results[0].payload[\"text\"])"
   ]
  },
  {
   "cell_type": "markdown",
   "id": "445977a9",
   "metadata": {},
   "source": [
    "### Paso 4: API Universal de Consultas de Qdrant - prefetching\n",
    "\n",
    "El método `.query_points` de Qdrant permite construir pipelines de búsqueda en varios pasos, que pueden incorporar diferentes métodos en una sola llamada. Por ejemplo, podemos obtener algunos candidatos mediante búsqueda con vectores densos y luego reordenarlos con búsqueda dispersa, o usar un método rápido para la recuperación inicial y un método más preciso, pero lento, para el reordenamiento.\n",
    "\n",
    "```ascii\n",
    "┌────────────────┐           ┌──────────────────┐\n",
    "│                │           │                  │\n",
    "│  Recuperación  │ ────────► │  Reordenamiento  │\n",
    "│                │           │                  │\n",
    "└────────────────┘           └──────────────────┘\n"
   ]
  },
  {
   "cell_type": "code",
   "execution_count": 19,
   "id": "a153b239",
   "metadata": {},
   "outputs": [
    {
     "data": {
      "text/plain": [
       "True"
      ]
     },
     "execution_count": 19,
     "metadata": {},
     "output_type": "execute_result"
    }
   ],
   "source": [
    "# Create the collection with both vector types\n",
    "client.create_collection(\n",
    "    collection_name=\"zoomcamp-sparse-and-dense\",\n",
    "    vectors_config={\n",
    "        # Named dense vector for jinaai/jina-embeddings-v2-small-en\n",
    "        \"jina-small\": models.VectorParams(\n",
    "            size=512,\n",
    "            distance=models.Distance.COSINE,\n",
    "        ),\n",
    "    },\n",
    "    sparse_vectors_config={\n",
    "        \"bm25\": models.SparseVectorParams(\n",
    "            modifier=models.Modifier.IDF,\n",
    "        )\n",
    "    },\n",
    "    timeout=60\n",
    ")"
   ]
  },
  {
   "cell_type": "markdown",
   "id": "9dd1ebe4",
   "metadata": {},
   "source": [
    "Tenemos que subir todos los vectores a la colección recién creada."
   ]
  },
  {
   "cell_type": "code",
   "execution_count": 20,
   "id": "40bcff2c",
   "metadata": {},
   "outputs": [
    {
     "data": {
      "application/vnd.jupyter.widget-view+json": {
       "model_id": "a4e810e4a6ad4bb28be1c79377a24048",
       "version_major": 2,
       "version_minor": 0
      },
      "text/plain": [
       "Fetching 5 files:   0%|          | 0/5 [00:00<?, ?it/s]"
      ]
     },
     "metadata": {},
     "output_type": "display_data"
    },
    {
     "data": {
      "application/vnd.jupyter.widget-view+json": {
       "model_id": "f022ef98432d46b6b30c787c2738ce9e",
       "version_major": 2,
       "version_minor": 0
      },
      "text/plain": [
       "config.json: 0.00B [00:00, ?B/s]"
      ]
     },
     "metadata": {},
     "output_type": "display_data"
    },
    {
     "data": {
      "application/vnd.jupyter.widget-view+json": {
       "model_id": "2ff7c94142b849f3a07e84eee1db62c8",
       "version_major": 2,
       "version_minor": 0
      },
      "text/plain": [
       "tokenizer.json: 0.00B [00:00, ?B/s]"
      ]
     },
     "metadata": {},
     "output_type": "display_data"
    },
    {
     "data": {
      "application/vnd.jupyter.widget-view+json": {
       "model_id": "d03ee59a34e44a60bc7c4d1c1d84c5e3",
       "version_major": 2,
       "version_minor": 0
      },
      "text/plain": [
       "tokenizer_config.json:   0%|          | 0.00/367 [00:00<?, ?B/s]"
      ]
     },
     "metadata": {},
     "output_type": "display_data"
    },
    {
     "data": {
      "application/vnd.jupyter.widget-view+json": {
       "model_id": "1a7b3da9c6384ef18b89206a4338b1ab",
       "version_major": 2,
       "version_minor": 0
      },
      "text/plain": [
       "special_tokens_map.json:   0%|          | 0.00/125 [00:00<?, ?B/s]"
      ]
     },
     "metadata": {},
     "output_type": "display_data"
    },
    {
     "data": {
      "application/vnd.jupyter.widget-view+json": {
       "model_id": "5a3726c5fe1141b4b0895e3f0555d725",
       "version_major": 2,
       "version_minor": 0
      },
      "text/plain": [
       "onnx/model.onnx:   0%|          | 0.00/130M [00:00<?, ?B/s]"
      ]
     },
     "metadata": {},
     "output_type": "display_data"
    },
    {
     "data": {
      "text/plain": [
       "UpdateResult(operation_id=0, status=<UpdateStatus.COMPLETED: 'completed'>)"
      ]
     },
     "execution_count": 20,
     "metadata": {},
     "output_type": "execute_result"
    }
   ],
   "source": [
    "client.upsert(\n",
    "    collection_name=\"zoomcamp-sparse-and-dense\",\n",
    "    points=[\n",
    "        models.PointStruct(\n",
    "            id=uuid.uuid4().hex,\n",
    "            vector={\n",
    "                \"jina-small\": models.Document(\n",
    "                    text=doc[\"text\"],\n",
    "                    model=\"jinaai/jina-embeddings-v2-small-en\",\n",
    "                ),\n",
    "                \"bm25\": models.Document(\n",
    "                    text=doc[\"text\"], \n",
    "                    model=\"Qdrant/bm25\",\n",
    "                ),\n",
    "            },\n",
    "            payload={\n",
    "                \"text\": doc[\"text\"],\n",
    "                \"section\": doc[\"section\"],\n",
    "                \"course\": course[\"course\"],\n",
    "            }\n",
    "        )\n",
    "        for course in documents_raw\n",
    "        for doc in course[\"documents\"]\n",
    "    ]\n",
    ")"
   ]
  },
  {
   "cell_type": "code",
   "execution_count": 21,
   "id": "8cf16f3f",
   "metadata": {},
   "outputs": [],
   "source": [
    "def multi_stage_search(query: str, limit: int = 1) -> list[models.ScoredPoint]:\n",
    "    results = client.query_points(\n",
    "        collection_name=\"zoomcamp-sparse-and-dense\",\n",
    "        prefetch=[\n",
    "            models.Prefetch(\n",
    "                query=models.Document(\n",
    "                    text=query,\n",
    "                    model=\"jinaai/jina-embeddings-v2-small-en\",\n",
    "                ),\n",
    "                using=\"jina-small\",\n",
    "                # Prefetch ten times more results, then\n",
    "                # expected to return, so we can really rerank\n",
    "                limit=(10 * limit),\n",
    "            ),\n",
    "        ],\n",
    "        query=models.Document(\n",
    "            text=query,\n",
    "            model=\"Qdrant/bm25\", \n",
    "        ),\n",
    "        using=\"bm25\",\n",
    "        limit=limit,\n",
    "        with_payload=True,\n",
    "    )\n",
    "\n",
    "    return results.points"
   ]
  },
  {
   "cell_type": "code",
   "execution_count": 22,
   "id": "79320aff",
   "metadata": {},
   "outputs": [
    {
     "name": "stdout",
     "output_type": "stream",
     "text": [
      "{\n",
      "  \"text\": \"Even though the upload works using aws cli and boto3 in Jupyter notebook.\\nSolution set the AWS_PROFILE environment variable (the default profile is called default)\",\n",
      "  \"section\": \"Module 4: Deployment\",\n",
      "  \"question\": \"Uploading to s3 fails with An error occurred (InvalidAccessKeyId) when calling the PutObject operation: The AWS Access Key Id you provided does not exist in our records.\\\"\"\n",
      "}\n"
     ]
    }
   ],
   "source": [
    "print(json.dumps(course_piece, indent=2))"
   ]
  },
  {
   "cell_type": "code",
   "execution_count": 23,
   "id": "21b43d68",
   "metadata": {},
   "outputs": [
    {
     "name": "stdout",
     "output_type": "stream",
     "text": [
      "Problem description. How can we connect s3 bucket to MLFLOW?\n",
      "Solution: Use boto3 and AWS CLI to store access keys. The access keys are what will be used by boto3 (AWS' Python API tool) to connect with the AWS servers. If there are no Access Keys how can they make sure that they have the right to access this Bucket? Maybe you're a malicious actor (Hacker for ex). The keys must be present for boto3 to talk to the AWS servers and they will provide access to the Bucket if you possess the right permissions. You can always set the Bucket as public so anyone can access it, now you don't need access keys because AWS won't care.\n",
      "Read more here: https://boto3.amazonaws.com/v1/documentation/api/latest/guide/credentials.html\n",
      "Added by Akshit Miglani\n"
     ]
    }
   ],
   "source": [
    "results = multi_stage_search(course_piece[\"question\"])\n",
    "print(results[0].payload[\"text\"])"
   ]
  },
  {
   "cell_type": "markdown",
   "id": "2c0af186",
   "metadata": {},
   "source": [
    "## Paso 5: Construyendo Búsqueda Híbrida\n",
    "\n",
    "En sistemas productivos reales, no es necesario elegir un solo tipo de vector. Nunca se sabe qué tipo de consultas enviarán los usuarios al sistema. La búsqueda en e-commerce puede funcionar bien con búsqueda léxica sobre vectores dispersos, ya que la gente tiende a usar palabras clave, pero en sistemas conversacionales, como chatbots, las preguntas en lenguaje natural pueden ser más frecuentes. Usar un modelo para recuperar resultados y otro para reordenarlos no es la única forma de combinar vectores densos y dispersos en un mismo sistema.\n",
    "\n",
    "La **Búsqueda Híbrida** es una técnica que combina resultados provenientes de diferentes métodos de búsqueda —por ejemplo, densos y dispersos. No existe una definición única de cómo implementarla, ya que el principal problema es mezclar resultados de métodos incompatibles. Los puntajes de búsqueda densa y dispersa no son comparables directamente, por lo que se necesita un método adicional para ordenar los resultados finales.\n",
    "\n",
    "Hay dos términos importantes en la Búsqueda Híbrida: **fusión** y **reordenamiento (reranking)**.\n",
    "\n",
    "### Fusión\n",
    "\n",
    "La fusión es un conjunto de métodos que trabajan sobre los puntajes o rankings devueltos por los métodos individuales. Existen varias formas de lograr esto, pero la técnica más popular es la **Reciprocal Rank Fusion (RRF)**. Esta técnica se basa en los rankings de los documentos en cada método utilizado, y esos rankings se emplean para calcular los puntajes finales.\n",
    "\n",
    "Normalmente no se calcula directamente estos puntajes, ya que Qdrant incluye capacidades integradas que los manejan. Sin embargo, el siguiente ejemplo puede darte una idea aproximada:\n",
    "\n",
    "| Documento | Ranking denso | Ranking disperso | Puntaje RRF | Ranking final |\n",
    "| --------- | ------------ | ---------------- | ----------- | ------------- |\n",
    "| D1        | **1**        | 5                | 0.0318      | 2             |\n",
    "| D2        | 2            | 4                | 0.0317      | 3             |\n",
    "| D3        | 3            | 2                | 0.0320      | **1**         |\n",
    "| D4        | 4            | 3                | 0.0315      | 5             |\n",
    "| D5        | 5            | **1**            | 0.0318      | 2             |\n"
   ]
  },
  {
   "cell_type": "code",
   "execution_count": 24,
   "id": "c7de1c26",
   "metadata": {},
   "outputs": [],
   "source": [
    "def rrf_search(query: str, limit: int = 1) -> list[models.ScoredPoint]:\n",
    "    results = client.query_points(\n",
    "        collection_name=\"zoomcamp-sparse-and-dense\",\n",
    "        prefetch=[\n",
    "            models.Prefetch(\n",
    "                query=models.Document(\n",
    "                    text=query,\n",
    "                    model=\"jinaai/jina-embeddings-v2-small-en\",\n",
    "                ),\n",
    "                using=\"jina-small\",\n",
    "                limit=(5 * limit),\n",
    "            ),\n",
    "            models.Prefetch(\n",
    "                query=models.Document(\n",
    "                    text=query,\n",
    "                    model=\"Qdrant/bm25\",\n",
    "                ),\n",
    "                using=\"bm25\",\n",
    "                limit=(5 * limit),\n",
    "            ),\n",
    "        ],\n",
    "        # Fusion query enables fusion on the prefetched results\n",
    "        query=models.FusionQuery(fusion=models.Fusion.RRF),\n",
    "        with_payload=True\n",
    "    )\n",
    "\n",
    "    return results.points"
   ]
  },
  {
   "cell_type": "code",
   "execution_count": 25,
   "id": "5e82ccd7",
   "metadata": {},
   "outputs": [
    {
     "name": "stdout",
     "output_type": "stream",
     "text": [
      "{\n",
      "  \"text\": \"Even though the upload works using aws cli and boto3 in Jupyter notebook.\\nSolution set the AWS_PROFILE environment variable (the default profile is called default)\",\n",
      "  \"section\": \"Module 4: Deployment\",\n",
      "  \"question\": \"Uploading to s3 fails with An error occurred (InvalidAccessKeyId) when calling the PutObject operation: The AWS Access Key Id you provided does not exist in our records.\\\"\"\n",
      "}\n",
      "Problem description. How can we connect s3 bucket to MLFLOW?\n",
      "Solution: Use boto3 and AWS CLI to store access keys. The access keys are what will be used by boto3 (AWS' Python API tool) to connect with the AWS servers. If there are no Access Keys how can they make sure that they have the right to access this Bucket? Maybe you're a malicious actor (Hacker for ex). The keys must be present for boto3 to talk to the AWS servers and they will provide access to the Bucket if you possess the right permissions. You can always set the Bucket as public so anyone can access it, now you don't need access keys because AWS won't care.\n",
      "Read more here: https://boto3.amazonaws.com/v1/documentation/api/latest/guide/credentials.html\n",
      "Added by Akshit Miglani\n"
     ]
    }
   ],
   "source": [
    "results = rrf_search(course_piece[\"question\"])\n",
    "print(json.dumps(course_piece, indent=2))\n",
    "print(results[0].payload[\"text\"])"
   ]
  },
  {
   "cell_type": "markdown",
   "id": "f645833e",
   "metadata": {},
   "source": [
    "# Reordenamiento (Reranking)\n",
    "\n",
    "El reordenamiento es un término más amplio relacionado con la Búsqueda Híbrida. La fusión (fusion) es una de las formas de reordenar los resultados obtenidos por múltiples métodos, pero también puedes aplicar un método más lento que no sea lo suficientemente efectivo para buscar en todos los documentos. Sin embargo, hay más aspectos involucrados. Las reglas de negocio suelen ser importantes para la recuperación, por ejemplo, se prefiere mostrar documentos que provienen de las noticias más recientes.\n",
    "\n",
    "## Próximos pasos\n",
    "\n",
    "Los métodos de búsqueda con vectores densos y dispersos pueden no ser suficientes en algunos casos, pero ambos son lo suficientemente rápidos para ser usados como recuperadores iniciales. Existen muchos métodos más precisos aunque más lentos, como los cross-encoders o las [representaciones multivectoriales](https://qdrant.tech/documentation/advanced-tutorials/using-multivector-representations/). Estos temas son definitivamente más avanzados y no los cubriremos ahora, pero es bueno mencionarlos para que sepas que existen.\n"
   ]
  },
  {
   "cell_type": "markdown",
   "id": "756a1693-b4e4-45a4-b3b8-33112152cd45",
   "metadata": {},
   "source": [
    "## Ejemplo: 2"
   ]
  },
  {
   "cell_type": "code",
   "execution_count": 1,
   "id": "4df251c6-ff72-4c7b-a6ce-40bb7d4eff1c",
   "metadata": {},
   "outputs": [],
   "source": [
    "from qdrant_client import QdrantClient\n",
    "\n",
    "# Instanciar el cliente para conectarse a la instancia local de Qdrant\n",
    "client = QdrantClient(host=\"localhost\", port=6333)"
   ]
  },
  {
   "cell_type": "code",
   "execution_count": 28,
   "id": "ef128023-ab09-4b25-a959-c084bf4fa5a3",
   "metadata": {},
   "outputs": [
    {
     "name": "stdout",
     "output_type": "stream",
     "text": [
      "mkdir: cannot create directory ‘../datos’: File exists\n"
     ]
    },
    {
     "name": "stderr",
     "output_type": "stream",
     "text": [
      "huggingface/tokenizers: The current process just got forked, after parallelism has already been used. Disabling parallelism to avoid deadlocks...\n",
      "To disable this warning, you can either:\n",
      "\t- Avoid using `tokenizers` before the fork if possible\n",
      "\t- Explicitly set the environment variable TOKENIZERS_PARALLELISM=(true | false)\n"
     ]
    }
   ],
   "source": [
    "!mkdir ../datos"
   ]
  },
  {
   "cell_type": "code",
   "execution_count": 29,
   "id": "c33220f0-e0da-456e-8ebd-48bb23322423",
   "metadata": {},
   "outputs": [
    {
     "name": "stderr",
     "output_type": "stream",
     "text": [
      "huggingface/tokenizers: The current process just got forked, after parallelism has already been used. Disabling parallelism to avoid deadlocks...\n",
      "To disable this warning, you can either:\n",
      "\t- Avoid using `tokenizers` before the fork if possible\n",
      "\t- Explicitly set the environment variable TOKENIZERS_PARALLELISM=(true | false)\n"
     ]
    },
    {
     "name": "stdout",
     "output_type": "stream",
     "text": [
      "--2025-07-01 13:06:08--  https://storage.googleapis.com/generall-shared-data/startups_demo.json\n",
      "Resolving storage.googleapis.com (storage.googleapis.com)... 142.251.128.123, 142.251.129.187, 142.251.129.155, ...\n",
      "Connecting to storage.googleapis.com (storage.googleapis.com)|142.251.128.123|:443... connected.\n",
      "HTTP request sent, awaiting response... 200 OK\n",
      "Length: 22205751 (21M) [application/json]\n",
      "Saving to: ‘../datos/startups_demo.json’\n",
      "\n",
      "startups_demo.json  100%[===================>]  21.18M   112KB/s    in 3m 54s  \n",
      "\n",
      "2025-07-01 13:10:03 (92.5 KB/s) - ‘../datos/startups_demo.json’ saved [22205751/22205751]\n",
      "\n"
     ]
    }
   ],
   "source": [
    "!wget https://storage.googleapis.com/generall-shared-data/startups_demo.json -P ../datos"
   ]
  },
  {
   "cell_type": "code",
   "execution_count": 2,
   "id": "f600661f-ffc6-41fb-8a5d-426c9332c929",
   "metadata": {},
   "outputs": [],
   "source": [
    "import json\n",
    "\n",
    "documents_for_insertion = []\n",
    "metadata_payloads = []\n",
    "\n",
    "with open(\"../datos/startups_demo.json\", \"r\") as f:\n",
    "    for line in f:\n",
    "        obj = json.loads(line)\n",
    "\n",
    "        # El texto principal se usará para generar los vectores\n",
    "        documents_for_insertion.append(obj.get(\"description\", \"\"))\n",
    "\n",
    "        # El resto de los datos se convierte en el payload\n",
    "        metadata_payloads.append(obj)"
   ]
  },
  {
   "cell_type": "code",
   "execution_count": 3,
   "id": "a9ae1f94-ef13-4811-ae5c-5780852b1dd5",
   "metadata": {},
   "outputs": [
    {
     "data": {
      "text/plain": [
       "True"
      ]
     },
     "execution_count": 3,
     "metadata": {},
     "output_type": "execute_result"
    }
   ],
   "source": [
    "from qdrant_client import models\n",
    "\n",
    "collection_name = \"startups_sparse_search\"\n",
    "sparse_vector_name = \"bm25_text\"\n",
    "\n",
    "client.create_collection(\n",
    "    collection_name=collection_name,\n",
    "    vectors_config={}, # No se necesitan vectores densos para este ejemplo\n",
    "    sparse_vectors_config={\n",
    "        sparse_vector_name: models.SparseVectorParams(\n",
    "            modifier=models.Modifier.IDF\n",
    "        )\n",
    "    },\n",
    "    timeout=60\n",
    ")"
   ]
  },
  {
   "cell_type": "code",
   "execution_count": 18,
   "id": "3b579278-22a9-4e64-9b3e-99d6a3bf57ec",
   "metadata": {},
   "outputs": [],
   "source": [
    "import uuid\n",
    "\n",
    "points = [\n",
    "    models.PointStruct(\n",
    "        id=uuid.uuid4().hex,\n",
    "        vector={sparse_vector_name: models.Document(\n",
    "            text=v_text, \n",
    "            model=\"Qdrant/bm25\"\n",
    "        )},\n",
    "        payload=v_payload\n",
    "    )\n",
    "    for v_text, v_payload in zip(documents_for_insertion, metadata_payloads)\n",
    "]\n",
    "\n",
    "# Insertar en batches pequeños para evitar timeout\n",
    "batch_size = 50\n",
    "\n",
    "for i in range(0, len(points), batch_size):\n",
    "    batch = points[i:i+batch_size]\n",
    "    client.upsert(\n",
    "        collection_name=collection_name,\n",
    "        points=batch,\n",
    "        wait=True  # Espera confirmación del servidor\n",
    "    )"
   ]
  },
  {
   "cell_type": "code",
   "execution_count": 24,
   "id": "dfbb5bb5-cc85-45fd-bbba-5b52ef12a0cb",
   "metadata": {},
   "outputs": [
    {
     "name": "stdout",
     "output_type": "stream",
     "text": [
      "Score: 29.27134\n",
      "  Name: Busbud\n",
      "  Description: Making Bus Travel Easy.\n",
      "Busbud makes bus travel easy. Busbud makes it a breeze to search, compare and book city-to-city bus tickets, anywhere in the world. Busbud.com and the free mobile application are the most comprehensive source of city-to-city bus schedules and tickets around the ...\n",
      "\n",
      "\n",
      "Score: 24.56239\n",
      "  Name: Distribusion Technologies\n",
      "  Description: Simplifying Intercity Bus Distribution\n",
      "Distribusion wants to make booking an intercity bus ticket as simple as booking a flight or hotel. We connect intercity bus operators with travel agencies, travel websites or mobility apps in a worldwide distribution network.\n",
      "\n",
      "\n",
      "Score: 21.969345\n",
      "  Name: Chauf4U\n",
      "  Description: Online/Mobile Platform Connecting Tourism Businesses with Consumers\n",
      "The company uses an online or mobile application to receive transportation requests and then sends these trip requests to their drivers and/or bases. Customers will use the website or mobile app to hail a ride, book future reservations or purchase tickets for local ...\n",
      "\n",
      "\n"
     ]
    }
   ],
   "source": [
    "query_text = \"A mobile application for booking travel tickets\"\n",
    "\n",
    "search_results = client.query_points(\n",
    "    collection_name=collection_name,\n",
    "    query=models.Document(\n",
    "        text=query_text,\n",
    "        model=\"Qdrant/bm25\",\n",
    "    ),\n",
    "    using=sparse_vector_name,\n",
    "    limit=3,\n",
    "    with_payload=True,\n",
    ")\n",
    "\n",
    "\n",
    "for hit in search_results.points:\n",
    "    print(f\"Score: {hit.score}\\n  Name: {hit.payload['name']}\\n  Description: {hit.payload['description']}\\n\\n\")"
   ]
  },
  {
   "cell_type": "markdown",
   "id": "221a4df5-3548-4db2-a9b9-3550f2e455b7",
   "metadata": {},
   "source": [
    "## Ejemplo: 3"
   ]
  },
  {
   "cell_type": "code",
   "execution_count": 27,
   "id": "87a090b1-2e8d-4c0e-ad4f-f3d43a85de78",
   "metadata": {},
   "outputs": [
    {
     "data": {
      "text/plain": [
       "True"
      ]
     },
     "execution_count": 27,
     "metadata": {},
     "output_type": "execute_result"
    }
   ],
   "source": [
    "from qdrant_client import models\n",
    "\n",
    "collection_name = \"multistage_collection\"\n",
    "documents_for_insertion = documents_for_insertion[:1000]\n",
    "metadata_payloads = metadata_payloads[:1000]\n",
    "\n",
    "# Crear una colección con dos vectores densos con nombre\n",
    "client.create_collection(\n",
    "    collection_name=collection_name,\n",
    "    vectors_config={\n",
    "        \"dense_small\": models.VectorParams(size=384, distance=models.Distance.COSINE),\n",
    "        \"dense_large\": models.VectorParams(size=768, distance=models.Distance.COSINE)\n",
    "    },\n",
    "    timeout=60\n",
    ")"
   ]
  },
  {
   "cell_type": "code",
   "execution_count": 28,
   "id": "193e4c47-2704-44af-a359-5002feb7b316",
   "metadata": {},
   "outputs": [],
   "source": [
    "import uuid\n",
    "\n",
    "points = [ \n",
    "    models.PointStruct(\n",
    "        id=uuid.uuid4().hex,\n",
    "        vector={\n",
    "            \"dense_small\": models.Document(\n",
    "                text=v_text,\n",
    "                model=\"BAAI/bge-small-en\",\n",
    "            ),\n",
    "            \"dense_large\": models.Document(\n",
    "                text=v_text, \n",
    "                model=\"BAAI/bge-base-en\",\n",
    "            ),\n",
    "        },\n",
    "        payload=v_payload\n",
    "    )\n",
    "    for v_text, v_payload in zip(documents_for_insertion, metadata_payloads)\n",
    "]\n",
    "\n",
    "# Insertar en batches pequeños para evitar timeout\n",
    "batch_size = 50\n",
    "\n",
    "for i in range(0, len(points), batch_size):\n",
    "    batch = points[i:i+batch_size]\n",
    "    client.upsert(\n",
    "        collection_name=collection_name,\n",
    "        points=batch,\n",
    "        wait=True  # Espera confirmación del servidor\n",
    "    )"
   ]
  },
  {
   "cell_type": "code",
   "execution_count": 29,
   "id": "1d33e016-c68d-4a75-a359-cae88d7ba779",
   "metadata": {},
   "outputs": [
    {
     "name": "stdout",
     "output_type": "stream",
     "text": [
      "Score: 0.8429852\n",
      "  Name: SweetPerk\n",
      "  Description: Hyper-local mobile loyalty\n",
      "SweetPerk is a shopper incentive and loyalty platform that is built and branded to the unique identity of a community to promote local commerce. It partners with business improvement districts to build a locally co-branded mobile app which creates local affiliation ...\n",
      "\n",
      "\n",
      "Score: 0.8353574\n",
      "  Name: FanFueled\n",
      "  Description: FanFueled Community Engagement Systems \n",
      "FanFueled Engagement Systems empower brands to build, congregate, mobilize and monetize fan communities better than any other loyalty platform on the market.\n",
      "\n",
      "\n",
      "Score: 0.8275845\n",
      "  Name: Invitation codes\n",
      "  Description: The referral community\n",
      "Invitation App is a social network where people post their referral codes and collect rewards on autopilot.\n",
      "\n",
      "\n",
      "Score: 0.8259291\n",
      "  Name: Ox&Pen\n",
      "  Description: loyalty and rewads program focused on generating repeat business for local merchants\n",
      "Ox&Pen is a web and mobile based universal loyalty and rewards program that provides local business owners with a technology-based marketing platform in which to attract and retain customers. Our program rewards members with points for purchases, check-ins, and ...\n",
      "\n",
      "\n",
      "Score: 0.8107947\n",
      "  Name: UberLoop\n",
      "  Description: Mobile rewards, loyalty and marketing platform\n",
      "UberLoop is a mobile rewards, loyalty, and marketing platform for businesses to attract, engage, and retain customers.\n",
      "\n",
      "\n"
     ]
    }
   ],
   "source": [
    "query_text = \"What loyalty platforms are designed to strengthen the identity of local communities?\"\n",
    "\n",
    "search_results = client.query_points(\n",
    "    collection_name=collection_name,\n",
    "    prefetch=[\n",
    "        models.Prefetch(\n",
    "            query=models.Document(\n",
    "                text=query_text,\n",
    "                model=\"BAAI/bge-small-en\",\n",
    "            ),\n",
    "            using=\"dense_small\",\n",
    "            limit=20,\n",
    "        ),\n",
    "    ],\n",
    "    query=models.Document(\n",
    "        text=query_text,\n",
    "        model=\"BAAI/bge-base-en\", \n",
    "    ),\n",
    "    using=\"dense_large\",\n",
    "    limit=5,\n",
    "    with_payload=True,\n",
    ")\n",
    "\n",
    "for hit in search_results.points:\n",
    "    print(f\"Score: {hit.score}\\n  Name: {hit.payload['name']}\\n  Description: {hit.payload['description']}\\n\\n\")"
   ]
  },
  {
   "cell_type": "markdown",
   "id": "6ce8bc77-b184-4ab4-92f1-8e59efda2020",
   "metadata": {},
   "source": [
    "## Ejemplo: 4"
   ]
  },
  {
   "cell_type": "code",
   "execution_count": 21,
   "id": "df087122-4999-4182-b789-fd945058243c",
   "metadata": {},
   "outputs": [],
   "source": [
    "import requests\n",
    "\n",
    "# documentos de libros \n",
    "docs_url = 'https://drive.usercontent.google.com/u/0/uc?id=1zKMTAd7kXTkBuuW0JY68D4Y4wQNxMLR5&export=download'\n",
    "docs_response = requests.get(docs_url)\n",
    "documents = docs_response.json()"
   ]
  },
  {
   "cell_type": "code",
   "execution_count": 22,
   "id": "33fa9fa1-549b-430f-ab6e-f7f91bed8f22",
   "metadata": {},
   "outputs": [
    {
     "data": {
      "text/plain": [
       "True"
      ]
     },
     "execution_count": 22,
     "metadata": {},
     "output_type": "execute_result"
    }
   ],
   "source": [
    "from qdrant_client import models\n",
    "\n",
    "collection_name=\"hybrid_collection\"\n",
    "\n",
    "# Crear coleccion\n",
    "client.create_collection(\n",
    "    collection_name=collection_name,\n",
    "    vectors_config={\n",
    "        \"dense_text\": models.VectorParams(\n",
    "            size=512,\n",
    "            distance=models.Distance.COSINE,\n",
    "        ),\n",
    "    },\n",
    "    sparse_vectors_config={\n",
    "        \"sparse_text\": models.SparseVectorParams(\n",
    "            modifier=models.Modifier.IDF,\n",
    "        )\n",
    "    },\n",
    "    timeout=60\n",
    ")"
   ]
  },
  {
   "cell_type": "code",
   "execution_count": 23,
   "id": "16972684-a2b6-4811-adb0-10b8179ed556",
   "metadata": {},
   "outputs": [
    {
     "data": {
      "text/plain": [
       "UpdateResult(operation_id=0, status=<UpdateStatus.COMPLETED: 'completed'>)"
      ]
     },
     "execution_count": 23,
     "metadata": {},
     "output_type": "execute_result"
    }
   ],
   "source": [
    "import uuid\n",
    "\n",
    "# Cargar puntos en los vectores\n",
    "client.upsert(\n",
    "    collection_name=collection_name,\n",
    "    points=[\n",
    "        models.PointStruct(\n",
    "            id=uuid.uuid4().hex,\n",
    "            vector={\n",
    "                \"dense_text\": models.Document(\n",
    "                    text= f\"{doc['descripcion']} {doc['clasificacion']}\",\n",
    "                    model=\"jinaai/jina-embeddings-v2-small-en\",\n",
    "                ),\n",
    "                \"sparse_text\": models.Document(\n",
    "                    text=f\"{doc['descripcion']} {doc['clasificacion']}\",\n",
    "                    model=\"Qdrant/bm25\",\n",
    "                ),\n",
    "            },\n",
    "            payload=doc\n",
    "        )\n",
    "        for doc in documents\n",
    "    ]\n",
    ")"
   ]
  },
  {
   "cell_type": "code",
   "execution_count": 28,
   "id": "c6706bd3-b2e0-4423-a9af-a7b8ce633c47",
   "metadata": {},
   "outputs": [],
   "source": [
    "def busqueda(query_text, v_limit=2):\n",
    "    # Busqueda hibrida\n",
    "    hybrid_results = client.query_points(\n",
    "        collection_name=collection_name,\n",
    "        # Se definen dos prefetch, uno para cada tipo de búsqueda\n",
    "        prefetch=[\n",
    "            # Prefetch para la búsqueda densa\n",
    "            models.Prefetch(\n",
    "                query=models.Document(text=query_text, model=\"jinaai/jina-embeddings-v2-small-en\"),\n",
    "                using=\"dense_text\", \n",
    "                limit=(v_limit * 4)),\n",
    "            # Prefetch para la búsqueda dispersa\n",
    "            models.Prefetch(\n",
    "                query=models.Document(text=query_text, model=\"Qdrant/bm25\"), \n",
    "                using=\"sparse_text\", \n",
    "                limit=(v_limit * 4))\n",
    "        ],\n",
    "        # La consulta principal es una operación de fusión RRF    \n",
    "        query=models.FusionQuery(fusion=models.Fusion.RRF),\n",
    "        with_payload=True,\n",
    "        limit=v_limit # Devolver los 2 mejores resultados después de la fusión\n",
    "    )  \n",
    "    \n",
    "    return hybrid_results"
   ]
  },
  {
   "cell_type": "code",
   "execution_count": 29,
   "id": "4b157183-d05f-45f1-b28f-211b7642bf0f",
   "metadata": {
    "scrolled": true
   },
   "outputs": [
    {
     "name": "stdout",
     "output_type": "stream",
     "text": [
      "Score RRF: 0.5\n",
      "  Titulo: La metamorfosis (97), Autor: Jane Austen, Clasficacion: Romance\n",
      "  Descripcion: La historia de Elizabeth Bennet y su relación con el orgulloso Sr. Darcy en la Inglaterra del siglo XIX.\n",
      "\n",
      "\n",
      "Score RRF: 0.5\n",
      "  Titulo: Orgullo y prejuicio (8), Autor: George Orwell, Clasficacion: Distopía\n",
      "  Descripcion: Una novela distópica sobre un régimen totalitario que vigila todos los aspectos de la vida humana.\n",
      "\n",
      "\n"
     ]
    }
   ],
   "source": [
    "query_text = \"¿Qué novela combina elementos políticos con una visión pesimista del futuro?\"\n",
    "\n",
    "results = busqueda(query_text)\n",
    "\n",
    "for hit in results.points:\n",
    "    print(f\"Score RRF: {hit.score}\")\n",
    "    print(f\"  Titulo: {hit.payload['titulo']}, Autor: {hit.payload['autor']}, Clasficacion: {hit.payload['clasificacion']}\")\n",
    "    print(f\"  Descripcion: {hit.payload['descripcion']}\\n\\n\")"
   ]
  },
  {
   "cell_type": "code",
   "execution_count": 30,
   "id": "dd7b706a-38d3-49a0-9f7b-b5f432392f9d",
   "metadata": {},
   "outputs": [
    {
     "name": "stdout",
     "output_type": "stream",
     "text": [
      "Score RRF: 0.75\n",
      "  Titulo: El amor en los tiempos del cólera (43), Autor: Fiódor Dostoyevski, Clasficacion: Filosófica\n",
      "  Descripcion: Un joven estudiante asesina a una anciana y enfrenta las consecuencias psicológicas y morales del crimen.\n",
      "\n",
      "\n",
      "Score RRF: 0.6666667\n",
      "  Titulo: El amor en los tiempos del cólera (16), Autor: Fiódor Dostoyevski, Clasficacion: Filosófica\n",
      "  Descripcion: Un joven estudiante asesina a una anciana y enfrenta las consecuencias psicológicas y morales del crimen.\n",
      "\n",
      "\n"
     ]
    }
   ],
   "source": [
    "query_text = \"Libros que exploren la psicología del crimen y la culpa\"\n",
    "\n",
    "results = busqueda(query_text)\n",
    "\n",
    "for hit in results.points:\n",
    "    print(f\"Score RRF: {hit.score}\")\n",
    "    print(f\"  Titulo: {hit.payload['titulo']}, Autor: {hit.payload['autor']}, Clasficacion: {hit.payload['clasificacion']}\")\n",
    "    print(f\"  Descripcion: {hit.payload['descripcion']}\\n\\n\")"
   ]
  }
 ],
 "metadata": {
  "kernelspec": {
   "display_name": "Python 3 (ipykernel)",
   "language": "python",
   "name": "python3"
  },
  "language_info": {
   "codemirror_mode": {
    "name": "ipython",
    "version": 3
   },
   "file_extension": ".py",
   "mimetype": "text/x-python",
   "name": "python",
   "nbconvert_exporter": "python",
   "pygments_lexer": "ipython3",
   "version": "3.13.3"
  }
 },
 "nbformat": 4,
 "nbformat_minor": 5
}
