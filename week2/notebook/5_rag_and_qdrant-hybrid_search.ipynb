{
 "cells": [
  {
   "cell_type": "markdown",
   "id": "8b7f03a2-6a40-4a00-a670-35ef86319b10",
   "metadata": {},
   "source": [
    "# RAG con Qdrant (usando busqueda hibrida) + OpenAI\n",
    "\n",
    "### Requisitos de instalación\n",
    "\n",
    "Antes de ejecutar el proyecto, asegurate de tener instaladas las siguientes librerías de Python:\n",
    "\n",
    "```bash\n",
    "pip install \\\n",
    "  fastembed>=0.7.1 \\\n",
    "  ipywidgets>=8.1.7 \\\n",
    "  pandas>=2.3.0 \\\n",
    "  notebook>=7.4.3 \\\n",
    "  openai>=1.93.0 \\\n",
    "  qdrant-client>=1.14.3\n",
    "```\n"
   ]
  },
  {
   "cell_type": "markdown",
   "id": "ac4a0261-3e6f-4084-85f3-55a539fe63fe",
   "metadata": {},
   "source": [
    "###  Descarga y procesamiento de documentos\n",
    "\n",
    "[![DOI](https://zenodo.org/badge/DOI/10.5281/zenodo.5979622.svg)](https://doi.org/10.5281/zenodo.5979622)"
   ]
  },
  {
   "cell_type": "code",
   "execution_count": 1,
   "id": "0dc48a12-8e67-4f62-b396-767f1e2b289e",
   "metadata": {},
   "outputs": [
    {
     "data": {
      "text/html": [
       "<div>\n",
       "<style scoped>\n",
       "    .dataframe tbody tr th:only-of-type {\n",
       "        vertical-align: middle;\n",
       "    }\n",
       "\n",
       "    .dataframe tbody tr th {\n",
       "        vertical-align: top;\n",
       "    }\n",
       "\n",
       "    .dataframe thead th {\n",
       "        text-align: right;\n",
       "    }\n",
       "</style>\n",
       "<table border=\"1\" class=\"dataframe\">\n",
       "  <thead>\n",
       "    <tr style=\"text-align: right;\">\n",
       "      <th></th>\n",
       "      <th>title</th>\n",
       "      <th>year</th>\n",
       "      <th>synopsis</th>\n",
       "      <th>critic_score</th>\n",
       "      <th>people_score</th>\n",
       "      <th>consensus</th>\n",
       "      <th>total_reviews</th>\n",
       "      <th>total_ratings</th>\n",
       "      <th>type</th>\n",
       "      <th>rating</th>\n",
       "      <th>...</th>\n",
       "      <th>release_date_(theaters)</th>\n",
       "      <th>release_date_(streaming)</th>\n",
       "      <th>box_office_(gross_usa)</th>\n",
       "      <th>runtime</th>\n",
       "      <th>production_co</th>\n",
       "      <th>sound_mix</th>\n",
       "      <th>aspect_ratio</th>\n",
       "      <th>view_the_collection</th>\n",
       "      <th>crew</th>\n",
       "      <th>link</th>\n",
       "    </tr>\n",
       "  </thead>\n",
       "  <tbody>\n",
       "    <tr>\n",
       "      <th>0</th>\n",
       "      <td>Black Panther</td>\n",
       "      <td>2018</td>\n",
       "      <td>After the death of his father, T'Challa return...</td>\n",
       "      <td>96</td>\n",
       "      <td>79.0</td>\n",
       "      <td>Black Panther elevates superhero cinema to thr...</td>\n",
       "      <td>519</td>\n",
       "      <td>50,000+</td>\n",
       "      <td>Action &amp; Adventure</td>\n",
       "      <td>PG-13 (Sequences of Action Violence|A Brief Ru...</td>\n",
       "      <td>...</td>\n",
       "      <td>Feb 16, 2018 wide</td>\n",
       "      <td>May 2, 2018</td>\n",
       "      <td>$700.2M</td>\n",
       "      <td>2h 14m</td>\n",
       "      <td>Walt Disney Pictures</td>\n",
       "      <td>DTS, Dolby Atmos</td>\n",
       "      <td>Scope (2.35:1)</td>\n",
       "      <td>Marvel Cinematic Universe</td>\n",
       "      <td>Chadwick Boseman, Michael B. Jordan, Lupita Ny...</td>\n",
       "      <td>http://www.rottentomatoes.com/m/black_panther_...</td>\n",
       "    </tr>\n",
       "    <tr>\n",
       "      <th>1</th>\n",
       "      <td>Avengers: Endgame</td>\n",
       "      <td>2019</td>\n",
       "      <td>Adrift in space with no food or water, Tony St...</td>\n",
       "      <td>94</td>\n",
       "      <td>90.0</td>\n",
       "      <td>Exciting, entertaining, and emotionally impact...</td>\n",
       "      <td>538</td>\n",
       "      <td>50,000+</td>\n",
       "      <td>Action &amp; Adventure</td>\n",
       "      <td>PG-13 (Sequences of Sci-Fi Violence|Action|Som...</td>\n",
       "      <td>...</td>\n",
       "      <td>Apr 26, 2019 wide</td>\n",
       "      <td>Jul 30, 2019</td>\n",
       "      <td>$858.4M</td>\n",
       "      <td>3h 1m</td>\n",
       "      <td>Marvel Studios, Walt Disney Pictures</td>\n",
       "      <td>Dolby Atmos, DTS, Dolby Digital, SDDS</td>\n",
       "      <td>Scope (2.35:1)</td>\n",
       "      <td>Marvel Cinematic Universe</td>\n",
       "      <td>Robert Downey Jr., Chris Evans, Mark Ruffalo, ...</td>\n",
       "      <td>http://www.rottentomatoes.com/m/avengers_endgame</td>\n",
       "    </tr>\n",
       "    <tr>\n",
       "      <th>2</th>\n",
       "      <td>Mission: Impossible -- Fallout</td>\n",
       "      <td>2018</td>\n",
       "      <td>Ethan Hunt and the IMF team join forces with C...</td>\n",
       "      <td>97</td>\n",
       "      <td>88.0</td>\n",
       "      <td>Fast, sleek, and fun, Mission: Impossible - Fa...</td>\n",
       "      <td>433</td>\n",
       "      <td>10,000+</td>\n",
       "      <td>Action &amp; Adventure</td>\n",
       "      <td>PG-13 (Intense Sequences of Action|Brief Stron...</td>\n",
       "      <td>...</td>\n",
       "      <td>Jul 27, 2018 wide</td>\n",
       "      <td>Nov 20, 2018</td>\n",
       "      <td>$220.1M</td>\n",
       "      <td>2h 27m</td>\n",
       "      <td>Bad Robot, Tom Cruise</td>\n",
       "      <td>DTS, Dolby Atmos, Dolby Digital</td>\n",
       "      <td>Scope (2.35:1)</td>\n",
       "      <td>NaN</td>\n",
       "      <td>Tom Cruise, Henry Cavill, Ving Rhames, Simon P...</td>\n",
       "      <td>http://www.rottentomatoes.com/m/mission_imposs...</td>\n",
       "    </tr>\n",
       "    <tr>\n",
       "      <th>3</th>\n",
       "      <td>Mad Max: Fury Road</td>\n",
       "      <td>2015</td>\n",
       "      <td>Years after the collapse of civilization, the ...</td>\n",
       "      <td>97</td>\n",
       "      <td>86.0</td>\n",
       "      <td>With exhilarating action and a surprising amou...</td>\n",
       "      <td>427</td>\n",
       "      <td>100,000+</td>\n",
       "      <td>Action &amp; Adventure</td>\n",
       "      <td>R (Intense Sequences of Violence|Disturbing Im...</td>\n",
       "      <td>...</td>\n",
       "      <td>May 15, 2015 wide</td>\n",
       "      <td>Aug 10, 2016</td>\n",
       "      <td>$153.6M</td>\n",
       "      <td>2h</td>\n",
       "      <td>Kennedy Miller Mitchell, Village Roadshow Pict...</td>\n",
       "      <td>Dolby Atmos</td>\n",
       "      <td>Scope (2.35:1)</td>\n",
       "      <td>NaN</td>\n",
       "      <td>Tom Hardy, Charlize Theron, Nicholas Hoult, Hu...</td>\n",
       "      <td>http://www.rottentomatoes.com/m/mad_max_fury_road</td>\n",
       "    </tr>\n",
       "    <tr>\n",
       "      <th>4</th>\n",
       "      <td>Spider-Man: Into the Spider-Verse</td>\n",
       "      <td>2018</td>\n",
       "      <td>Bitten by a radioactive spider in the subway, ...</td>\n",
       "      <td>97</td>\n",
       "      <td>93.0</td>\n",
       "      <td>Spider-Man: Into the Spider-Verse matches bold...</td>\n",
       "      <td>387</td>\n",
       "      <td>10,000+</td>\n",
       "      <td>Action &amp; Adventure</td>\n",
       "      <td>PG (Mild Language|Frenetic Action Violence|The...</td>\n",
       "      <td>...</td>\n",
       "      <td>Dec 14, 2018 wide</td>\n",
       "      <td>Mar 7, 2019</td>\n",
       "      <td>$190.2M</td>\n",
       "      <td>1h 57m</td>\n",
       "      <td>Lord Miller, Sony Pictures Animation, Pascal P...</td>\n",
       "      <td>Dolby Atmos, DTS, Dolby Digital, SDDS</td>\n",
       "      <td>Scope (2.35:1)</td>\n",
       "      <td>NaN</td>\n",
       "      <td>Shameik Moore, Hailee Steinfeld, Mahershala Al...</td>\n",
       "      <td>http://www.rottentomatoes.com/m/spider_man_int...</td>\n",
       "    </tr>\n",
       "  </tbody>\n",
       "</table>\n",
       "<p>5 rows × 25 columns</p>\n",
       "</div>"
      ],
      "text/plain": [
       "                               title  year  \\\n",
       "0                      Black Panther  2018   \n",
       "1                  Avengers: Endgame  2019   \n",
       "2     Mission: Impossible -- Fallout  2018   \n",
       "3                 Mad Max: Fury Road  2015   \n",
       "4  Spider-Man: Into the Spider-Verse  2018   \n",
       "\n",
       "                                            synopsis  critic_score  \\\n",
       "0  After the death of his father, T'Challa return...            96   \n",
       "1  Adrift in space with no food or water, Tony St...            94   \n",
       "2  Ethan Hunt and the IMF team join forces with C...            97   \n",
       "3  Years after the collapse of civilization, the ...            97   \n",
       "4  Bitten by a radioactive spider in the subway, ...            97   \n",
       "\n",
       "   people_score                                          consensus  \\\n",
       "0          79.0  Black Panther elevates superhero cinema to thr...   \n",
       "1          90.0  Exciting, entertaining, and emotionally impact...   \n",
       "2          88.0  Fast, sleek, and fun, Mission: Impossible - Fa...   \n",
       "3          86.0  With exhilarating action and a surprising amou...   \n",
       "4          93.0  Spider-Man: Into the Spider-Verse matches bold...   \n",
       "\n",
       "   total_reviews total_ratings                type  \\\n",
       "0            519       50,000+  Action & Adventure   \n",
       "1            538       50,000+  Action & Adventure   \n",
       "2            433       10,000+  Action & Adventure   \n",
       "3            427      100,000+  Action & Adventure   \n",
       "4            387       10,000+  Action & Adventure   \n",
       "\n",
       "                                              rating  ...  \\\n",
       "0  PG-13 (Sequences of Action Violence|A Brief Ru...  ...   \n",
       "1  PG-13 (Sequences of Sci-Fi Violence|Action|Som...  ...   \n",
       "2  PG-13 (Intense Sequences of Action|Brief Stron...  ...   \n",
       "3  R (Intense Sequences of Violence|Disturbing Im...  ...   \n",
       "4  PG (Mild Language|Frenetic Action Violence|The...  ...   \n",
       "\n",
       "  release_date_(theaters) release_date_(streaming) box_office_(gross_usa)  \\\n",
       "0       Feb 16, 2018 wide              May 2, 2018                $700.2M   \n",
       "1       Apr 26, 2019 wide             Jul 30, 2019                $858.4M   \n",
       "2       Jul 27, 2018 wide             Nov 20, 2018                $220.1M   \n",
       "3       May 15, 2015 wide             Aug 10, 2016                $153.6M   \n",
       "4       Dec 14, 2018 wide              Mar 7, 2019                $190.2M   \n",
       "\n",
       "  runtime                                      production_co  \\\n",
       "0  2h 14m                               Walt Disney Pictures   \n",
       "1   3h 1m               Marvel Studios, Walt Disney Pictures   \n",
       "2  2h 27m                              Bad Robot, Tom Cruise   \n",
       "3      2h  Kennedy Miller Mitchell, Village Roadshow Pict...   \n",
       "4  1h 57m  Lord Miller, Sony Pictures Animation, Pascal P...   \n",
       "\n",
       "                               sound_mix    aspect_ratio  \\\n",
       "0                       DTS, Dolby Atmos  Scope (2.35:1)   \n",
       "1  Dolby Atmos, DTS, Dolby Digital, SDDS  Scope (2.35:1)   \n",
       "2        DTS, Dolby Atmos, Dolby Digital  Scope (2.35:1)   \n",
       "3                            Dolby Atmos  Scope (2.35:1)   \n",
       "4  Dolby Atmos, DTS, Dolby Digital, SDDS  Scope (2.35:1)   \n",
       "\n",
       "         view_the_collection  \\\n",
       "0  Marvel Cinematic Universe   \n",
       "1  Marvel Cinematic Universe   \n",
       "2                        NaN   \n",
       "3                        NaN   \n",
       "4                        NaN   \n",
       "\n",
       "                                                crew  \\\n",
       "0  Chadwick Boseman, Michael B. Jordan, Lupita Ny...   \n",
       "1  Robert Downey Jr., Chris Evans, Mark Ruffalo, ...   \n",
       "2  Tom Cruise, Henry Cavill, Ving Rhames, Simon P...   \n",
       "3  Tom Hardy, Charlize Theron, Nicholas Hoult, Hu...   \n",
       "4  Shameik Moore, Hailee Steinfeld, Mahershala Al...   \n",
       "\n",
       "                                                link  \n",
       "0  http://www.rottentomatoes.com/m/black_panther_...  \n",
       "1   http://www.rottentomatoes.com/m/avengers_endgame  \n",
       "2  http://www.rottentomatoes.com/m/mission_imposs...  \n",
       "3  http://www.rottentomatoes.com/m/mad_max_fury_road  \n",
       "4  http://www.rottentomatoes.com/m/spider_man_int...  \n",
       "\n",
       "[5 rows x 25 columns]"
      ]
     },
     "execution_count": 1,
     "metadata": {},
     "output_type": "execute_result"
    }
   ],
   "source": [
    "import pandas as pd\n",
    "\n",
    "url = 'https://zenodo.org/records/5979622/files/peliculas.csv?download=1'\n",
    "df = pd.read_csv(url, header=0, index_col=0)\n",
    "\n",
    "df.head()"
   ]
  },
  {
   "cell_type": "code",
   "execution_count": 2,
   "id": "cfbc50d8-fd75-4bf7-a858-911c79012377",
   "metadata": {},
   "outputs": [
    {
     "data": {
      "text/plain": [
       "[{'title': 'Black Panther',\n",
       "  'synopsis': \"After the death of his father, T'Challa returns home to the African nation of Wakanda to take his rightful place as king. When a powerful enemy suddenly reappears, T'Challa's mettle as king -- and as Black Panther -- gets tested when he's drawn into a conflict that puts the fate of Wakanda and the entire world at risk. Faced with treachery and danger, the young king must rally his allies and release the full power of Black Panther to defeat his foes and secure the safety of his people.\",\n",
       "  'consensus': \"Black Panther elevates superhero cinema to thrilling new heights while telling one of the MCU's most absorbing stories -- and introducing some of its most fully realized characters.\",\n",
       "  'critic_score': 96,\n",
       "  'people_score': 79.0,\n",
       "  'genre': 'adventure, action, fantasy',\n",
       "  'director': 'Ryan Coogler',\n",
       "  'writer': 'Ryan Coogler, Joe Robert Cole'}]"
      ]
     },
     "execution_count": 2,
     "metadata": {},
     "output_type": "execute_result"
    }
   ],
   "source": [
    "df = df[['title', 'synopsis', 'consensus', 'critic_score', 'people_score', 'genre', 'director', 'writer']]\n",
    "\n",
    "documents = df.to_dict(orient='records')\n",
    "documents[:1]"
   ]
  },
  {
   "cell_type": "markdown",
   "id": "0ad64142-0316-4b3f-8013-e2ad64acb6f5",
   "metadata": {},
   "source": [
    "### Construcción de la colección en Qdrant"
   ]
  },
  {
   "cell_type": "code",
   "execution_count": 3,
   "id": "7749dc44-598f-4dfb-b91a-19b3423a6463",
   "metadata": {},
   "outputs": [
    {
     "data": {
      "text/plain": [
       "True"
      ]
     },
     "execution_count": 3,
     "metadata": {},
     "output_type": "execute_result"
    }
   ],
   "source": [
    "from qdrant_client import QdrantClient, models\n",
    "\n",
    "qd_client = QdrantClient(\"http://localhost\", port=6333)\n",
    "collection_name = \"movie_catalog_hybrid\"\n",
    "embedding_dim = 768\n",
    "model_dense = \"BAAI/bge-base-en\"\n",
    "model_sparse = \"Qdrant/bm25\"\n",
    "\n",
    "\n",
    "# Solo borra la colección si existe (evita error o espera innecesaria)\n",
    "if collection_name in [col.name for col in qd_client.get_collections().collections]:\n",
    "    qd_client.delete_collection(collection_name=collection_name)\n",
    "\n",
    "# Usa create_collection para crear una collection\n",
    "qd_client.create_collection(\n",
    "    collection_name=collection_name,\n",
    "    vectors_config={\n",
    "        \"dense_movie\": models.VectorParams(\n",
    "            size=embedding_dim,\n",
    "            distance=models.Distance.COSINE,\n",
    "        ),\n",
    "    },\n",
    "    sparse_vectors_config={\n",
    "        \"sparse_movie\": models.SparseVectorParams(\n",
    "            modifier=models.Modifier.IDF,\n",
    "        )\n",
    "    },\n",
    "    timeout=60\n",
    ")"
   ]
  },
  {
   "cell_type": "markdown",
   "id": "80a4c75b-eaa4-4680-9c01-aec084e88769",
   "metadata": {},
   "source": [
    "### Inserción de documentos vectorizados"
   ]
  },
  {
   "cell_type": "code",
   "execution_count": 4,
   "id": "c5b78a57-7401-4582-b1ab-d3211518258e",
   "metadata": {},
   "outputs": [
    {
     "name": "stderr",
     "output_type": "stream",
     "text": [
      "100%|████████████████████████████████████████████████████████████████████████████████████████| 1610/1610 [00:00<00:00, 115610.84it/s]\n"
     ]
    }
   ],
   "source": [
    "from qdrant_client.models import Document, PointStruct\n",
    "from tqdm import tqdm\n",
    "import concurrent.futures\n",
    "\n",
    "# Barra de progreso\n",
    "points = []\n",
    "\n",
    "def build_point(i, doc):\n",
    "    text = f\"{'synopsis'} {'consensus'} - critic score:{'critic_score'} people score: {'people_score'}\"\n",
    "    vector = {\"dense_movie\": Document(text=text, model=model_dense), \n",
    "              \"sparse_movie\": Document(text=text, model=model_sparse)}\n",
    "    \n",
    "    return PointStruct(id=i, vector=vector, payload=doc)\n",
    "\n",
    "# Generar puntos en paralelo (si hay muchos documentos)\n",
    "with concurrent.futures.ThreadPoolExecutor() as executor:\n",
    "    points = list(tqdm(executor.map(lambda x: build_point(*x), enumerate(documents)), total=len(documents)))\n",
    "\n",
    "# Usar upsert en batches para reducir el uso de memoria y red\n",
    "BATCH_SIZE = 128\n",
    "\n",
    "for i in range(0, len(points), BATCH_SIZE):\n",
    "    batch = points[i:i + BATCH_SIZE]\n",
    "    qd_client.upsert(collection_name=collection_name, points=batch, wait=True)"
   ]
  },
  {
   "cell_type": "markdown",
   "id": "6abefaa8-d60c-47ba-bccb-f69b4fb9655d",
   "metadata": {},
   "source": [
    "### Función de búsqueda vectorial con filtros"
   ]
  },
  {
   "cell_type": "code",
   "execution_count": 5,
   "id": "5a6f7012-e1a7-4cca-a6c3-17fc296902ce",
   "metadata": {},
   "outputs": [],
   "source": [
    "from qdrant_client import QdrantClient, models\n",
    "\n",
    "def vector_search(\n",
    "    question,\n",
    "    limit,\n",
    "    model_dense,\n",
    "    model_sparse,\n",
    "    collection_name\n",
    "):\n",
    "    client = QdrantClient(\"http://localhost\", port=6333)\n",
    "    print(f\"[vector_search_hybrid] Searching for: '{question}'\")\n",
    "    \n",
    "    # Construcción explícita del filtro para claridad\n",
    "    search_prefetch = [\n",
    "        models.Prefetch(\n",
    "            query=models.Document(text=question, model=model_dense),\n",
    "            using=\"dense_movie\", \n",
    "            limit=(limit * 4)),\n",
    "        models.Prefetch(\n",
    "            query=models.Document(text=question, model=model_sparse), \n",
    "            using=\"sparse_movie\", \n",
    "            limit=(limit * 4))\n",
    "    ]\n",
    "\n",
    "    # Busqueda hibrida\n",
    "    hybrid_results = client.query_points(\n",
    "        collection_name=collection_name,\n",
    "        prefetch=search_prefetch,\n",
    "        query=models.FusionQuery(fusion=models.Fusion.RRF),\n",
    "        limit=limit,\n",
    "        with_payload=True\n",
    "    )\n",
    "    \n",
    "    return [point.payload for point in hybrid_results.points]"
   ]
  },
  {
   "cell_type": "markdown",
   "id": "64717733-af10-4ea9-9c69-9783c3663e69",
   "metadata": {},
   "source": [
    "### Construcción del prompt para el LLM"
   ]
  },
  {
   "cell_type": "code",
   "execution_count": 21,
   "id": "b7dd4f87-8c23-4bf7-9666-bd19b45d213c",
   "metadata": {},
   "outputs": [],
   "source": [
    "def build_prompt(query, search_results):\n",
    "    prompt_template = (\n",
    "        \"You are a movie expert. Answer the QUESTION based solely on the information in the CONTEXT.\\n\"\n",
    "        \"Do not make up information. Use only the data provided..\\n\\n\"\n",
    "        \"Please include the synopsis, critic score, and people score for each movie, and provide a summary of the consensus.s\\n\\n\"\n",
    "        \"QUESTION: {question}\\n\\n\"\n",
    "        \"CONTEXT:\\n{context}\"\n",
    "    )\n",
    "\n",
    "\n",
    "    context = \"\\n\\n\".join(\n",
    "        f\"Title: {doc.get('title', 'N/A')}\\n\"\n",
    "        f\"Synopsis: {doc.get('synopsis', 'N/A')}\\n\"\n",
    "        f\"Consensus: {doc.get('consensus', 'N/A')}\\n\"\n",
    "        f\"Critic score: {doc.get('critic_score', 'N/A')}\\n\"\n",
    "        f\"People score: {doc.get('people_score', 'N/A')}\\n\"\n",
    "        f\"Genre: {doc.get('genre', 'N/A')}\\n\"\n",
    "        f\"Director: {doc.get('director', 'N/A')}\\n\"\n",
    "        f\"Writer: {doc.get('writer', 'N/A')}\"\n",
    "        for doc in search_results\n",
    "    )\n",
    "\n",
    "    return prompt_template.format(question=query, context=context)"
   ]
  },
  {
   "cell_type": "markdown",
   "id": "9ee5097e-8c39-41b6-9e83-b06649aa0971",
   "metadata": {},
   "source": [
    "### Generación de respuestas con un LLM"
   ]
  },
  {
   "cell_type": "code",
   "execution_count": 7,
   "id": "31009b11-c4ce-4852-a44a-ab033611aa99",
   "metadata": {},
   "outputs": [],
   "source": [
    "import time\n",
    "from openai import OpenAIError  # O el error correcto según tu cliente\n",
    "from openai import OpenAI\n",
    "\n",
    "def llm(prompt, model=\"gpt-4o-mini\", max_retries=3):\n",
    "\n",
    "    openai_client = OpenAI()\n",
    "    for attempt in range(max_retries):\n",
    "        try:\n",
    "            response = openai_client.chat.completions.create(\n",
    "                model=model,\n",
    "                messages=[{\"role\": \"user\", \"content\": prompt}]\n",
    "            )\n",
    "            return response.choices[0].message.content.strip()\n",
    "        except OpenAIError as e:\n",
    "            print(f\"[llm] Error (attempt {attempt + 1}/{max_retries}): {e}\")\n",
    "            time.sleep(1.5 * (attempt + 1))\n",
    "\n",
    "    raise RuntimeError(\"LLM request failed after multiple attempts.\")"
   ]
  },
  {
   "cell_type": "markdown",
   "id": "407e3355-5920-412c-8872-7ff05604af8a",
   "metadata": {},
   "source": [
    "### El pipeline completo: función rag"
   ]
  },
  {
   "cell_type": "code",
   "execution_count": 8,
   "id": "de980b83-d5c9-4b2f-8d38-5216d147fefc",
   "metadata": {},
   "outputs": [],
   "source": [
    "def rag(\n",
    "    query,\n",
    "    limit=5,\n",
    "    model='gpt-4o-mini',\n",
    "    model_dense = \"BAAI/bge-base-en\",\n",
    "    model_sparse = \"Qdrant/bm25\",\n",
    "    collection_name='movie_catalog_hybrid'\n",
    "):\n",
    "    search_results = vector_search(\n",
    "        question=query,\n",
    "        limit=limit,\n",
    "        model_dense=model_dense,\n",
    "        model_sparse=model_sparse,\n",
    "        collection_name=collection_name\n",
    "    )\n",
    "    \n",
    "    if not search_results:\n",
    "        return \"No relevant documents found to answer the question.\"\n",
    "\n",
    "    prompt = build_prompt(query, search_results)\n",
    "    answer = llm(prompt, model=model)\n",
    "    \n",
    "    return answer"
   ]
  },
  {
   "cell_type": "code",
   "execution_count": 22,
   "id": "af682770-29eb-4383-a390-108896e25c21",
   "metadata": {},
   "outputs": [
    {
     "name": "stdout",
     "output_type": "stream",
     "text": [
      "[vector_search_hybrid] Searching for: 'Which movies have received positive reviews from both the audience and critics, and whose synopsis reflects deep or emotional themes?'\n"
     ]
    },
    {
     "data": {
      "text/plain": [
       "\"Based on the provided information, the movies that have received positive reviews from both the audience and critics, and whose synopsis reflects deep or emotional themes are:\\n\\n1. **Apocalypse Now**\\n   - **Synopsis**: In Vietnam in 1970, Captain Willard (Martin Sheen) takes a perilous and increasingly hallucinatory journey upriver to find and terminate Colonel Kurtz (Marlon Brando), a once-promising officer who has reportedly gone completely mad. In the company of a Navy patrol boat filled with street-smart kids, a surfing-obsessed Air Cavalry officer (Robert Duvall), and a crazed freelance photographer (Dennis Hopper), Willard travels further and further into the heart of darkness.\\n   - **Critic Score**: 98\\n   - **People Score**: 94.0\\n   - **Consensus**: Francis Ford Coppola's haunting, hallucinatory Vietnam War epic is cinema at its most audacious and visionary.\\n\\n2. **A Fistful of Dollars**\\n   - **Synopsis**: The Man With No Name (Clint Eastwood) enters the Mexican village of San Miguel in the midst of a power struggle among the three Rojo brothers (Antonio Prieto, Benny Reeves, Sieghardt Rupp) and sheriff John Baxter (Wolfgang Lukschy). When a regiment of Mexican soldiers bearing gold intended to pay for new weapons is waylaid by the Rojo brothers, the stranger inserts himself into the middle of the long-simmering battle, selling false information to both sides for his own benefit.\\n   - **Critic Score**: 98\\n   - **People Score**: 91.0\\n   - **Consensus**: With Akira Kurosawa's Yojimbo as his template, Sergio Leone's A Fistful of Dollars helped define a new era for the Western and usher in its most iconic star, Clint Eastwood.\\n\\nBoth movies have received high critic and audience scores, and their synopses reflect significant themes of moral complexity and existential struggle.\""
      ]
     },
     "execution_count": 22,
     "metadata": {},
     "output_type": "execute_result"
    }
   ],
   "source": [
    "rag(\"Which movies have received positive reviews from both the audience and critics, and whose synopsis reflects deep or emotional themes?\")"
   ]
  },
  {
   "cell_type": "code",
   "execution_count": 23,
   "id": "a1e89496-2edb-49b5-b1fa-d4aa41a7b0d1",
   "metadata": {},
   "outputs": [
    {
     "name": "stdout",
     "output_type": "stream",
     "text": [
      "[vector_search_hybrid] Searching for: 'Which fantasy or action movies based on books have been highly rated by audiences and even if critics were less favorable?'\n"
     ]
    },
    {
     "data": {
      "text/plain": [
       "'Based on the provided information, there are no fantasy or action movies specifically based on books that meet the criteria of being highly rated by audiences while having less favorable critic scores. All the movies listed have high critic scores along with high audience scores.\\n\\nHere’s a summary of the ratings for the movies mentioned:\\n\\n1. **The French Connection**\\n   - **Synopsis**: New York Detective \"Popeye\" Doyle and his partner chase a French heroin smuggler.\\n   - **Critic Score**: 98\\n   - **People Score**: 87.0\\n   - **Consensus**: Realistic, fast-paced, and smart, bolstered by stellar performances.\\n\\n2. **Apocalypse Now**\\n   - **Synopsis**: Captain Willard takes a perilous journey in Vietnam to find and terminate Colonel Kurtz.\\n   - **Critic Score**: 98\\n   - **People Score**: 94.0\\n   - **Consensus**: A haunting, audacious Vietnam War epic.\\n\\n3. **A Fistful of Dollars**\\n   - **Synopsis**: The Man With No Name inserts himself into a power struggle among the Rojo brothers in a Mexican village.\\n   - **Critic Score**: 98\\n   - **People Score**: 91.0\\n   - **Consensus**: Helped define a new era for the Western genre.\\n\\n4. **Isle of Dogs**\\n   - **Synopsis**: A 12-year-old boy searches for his bodyguard-dog on Trash Island after canines are exiled.\\n   - **Critic Score**: 90\\n   - **People Score**: 87.0\\n   - **Consensus**: A detail-oriented and charming stop-motion animation.\\n\\n5. **Baby Driver**\\n   - **Synopsis**: A getaway driver seeks to leave his crime life behind but faces challenges when coerced by a crime boss.\\n   - **Critic Score**: 92\\n   - **People Score**: 86.0\\n   - **Consensus**: Stylish and exciting, proving that action movies can be smartly written.\\n\\nThere are no entries in your query that clearly fit the criteria for being fantasy or action movies based on books with high audience ratings and lower critic ratings. All the listed movies are acclaimed by both critics and audiences.'"
      ]
     },
     "execution_count": 23,
     "metadata": {},
     "output_type": "execute_result"
    }
   ],
   "source": [
    "rag(\"Which fantasy or action movies based on books have been highly rated by audiences and even if critics were less favorable?\")"
   ]
  },
  {
   "cell_type": "code",
   "execution_count": 24,
   "id": "40c10fee-30c5-4af2-9b8a-a7cff098be25",
   "metadata": {},
   "outputs": [
    {
     "name": "stdout",
     "output_type": "stream",
     "text": [
      "[vector_search_hybrid] Searching for: 'Which action movies based on books have been highly rated by both audiences and critics?'\n"
     ]
    },
    {
     "data": {
      "text/plain": [
       "'Based on the provided context, the action movies based on books that have been highly rated by both audiences and critics are:\\n\\n1. **Apocalypse Now**\\n   - **Synopsis:** In Vietnam in 1970, Captain Willard (Martin Sheen) takes a perilous and increasingly hallucinatory journey upriver to find and terminate Colonel Kurtz (Marlon Brando), a once-promising officer who has reportedly gone completely mad. With a diverse crew, Willard travels further into the heart of darkness.\\n   - **Critic score:** 98\\n   - **People score:** 94.0\\n   - **Consensus:** Francis Ford Coppola\\'s haunting, hallucinatory Vietnam War epic is cinema at its most audacious and visionary.\\n\\n2. **A Fistful of Dollars**\\n   - **Synopsis:** The Man With No Name (Clint Eastwood) enters the Mexican village of San Miguel amidst a power struggle among the Rojo brothers and sheriff John Baxter. He inserts himself into the battle, selling false information to both sides for his own gain.\\n   - **Critic score:** 98\\n   - **People score:** 91.0\\n   - **Consensus:** With Akira Kurosawa\\'s Yojimbo as his template, Sergio Leone\\'s A Fistful of Dollars helped define a new era for the Western and usher in its most iconic star, Clint Eastwood.\\n\\n**Summary of Consensus:**\\nBoth \"Apocalypse Now\" and \"A Fistful of Dollars\" have received critical acclaim for their visionary storytelling and impactful direction, with high ratings from both critics and audiences. \"Apocalypse Now\" is celebrated for its audacious narrative and haunting portrayal of the Vietnam War, while \"A Fistful of Dollars\" is recognized for its foundational role in redefining the Western genre and establishing Clint Eastwood as a cinematic icon.'"
      ]
     },
     "execution_count": 24,
     "metadata": {},
     "output_type": "execute_result"
    }
   ],
   "source": [
    "rag(\"Which action movies based on books have been highly rated by both audiences and critics?\")"
   ]
  },
  {
   "cell_type": "code",
   "execution_count": 25,
   "id": "ec8192c2-3ed4-45d3-bbd1-52897e88f9e4",
   "metadata": {},
   "outputs": [
    {
     "name": "stdout",
     "output_type": "stream",
     "text": [
      "[vector_search_hybrid] Searching for: 'Which action movies have been highly rated by both audiences and critics?'\n"
     ]
    },
    {
     "data": {
      "text/plain": [
       "'The following action movies have been highly rated by both audiences and critics:\\n\\n### 1. The French Connection\\n- **Synopsis**: New York Detective \"Popeye\" Doyle (Gene Hackman) and his partner (Roy Scheider) chase a French heroin smuggler.\\n- **Critic Score**: 98\\n- **People Score**: 87.0\\n- **Consensus**: Realistic, fast-paced and uncommonly smart, The French Connection is bolstered by stellar performances by Gene Hackman and Roy Scheider, not to mention William Friedkin\\'s thrilling production.\\n\\n### 2. Apocalypse Now\\n- **Synopsis**: In Vietnam in 1970, Captain Willard (Martin Sheen) takes a perilous and increasingly hallucinatory journey upriver to find and terminate Colonel Kurtz (Marlon Brando), a once-promising officer who has reportedly gone completely mad. In the company of a Navy patrol boat filled with street-smart kids, a surfing-obsessed Air Cavalry officer (Robert Duvall), and a crazed freelance photographer (Dennis Hopper), Willard travels further and further into the heart of darkness.\\n- **Critic Score**: 98\\n- **People Score**: 94.0\\n- **Consensus**: Francis Ford Coppola\\'s haunting, hallucinatory Vietnam War epic is cinema at its most audacious and visionary.\\n\\n### 3. A Fistful of Dollars\\n- **Synopsis**: The Man With No Name (Clint Eastwood) enters the Mexican village of San Miguel in the midst of a power struggle among the three Rojo brothers. When a regiment of Mexican soldiers bearing gold intended to pay for new weapons is waylaid by the Rojo brothers, the stranger inserts himself into the middle of the long-simmering battle, selling false information to both sides for his own benefit.\\n- **Critic Score**: 98\\n- **People Score**: 91.0\\n- **Consensus**: With Akira Kurosawa\\'s Yojimbo as his template, Sergio Leone\\'s A Fistful of Dollars helped define a new era for the Western and usher in its most iconic star, Clint Eastwood.\\n\\n### Summary\\nOverall, these three films have received outstanding critic scores of 98 and high audience scores, showcasing their acclaim from both ends. \"The French Connection\" stands out for its realistic portrayal and thrilling production, \"Apocalypse Now\" is noted for its visionary style and audacious storytelling, while \"A Fistful of Dollars\" is credited with redefining the Western genre.'"
      ]
     },
     "execution_count": 25,
     "metadata": {},
     "output_type": "execute_result"
    }
   ],
   "source": [
    "rag(\"Which action movies have been highly rated by both audiences and critics?\")"
   ]
  },
  {
   "cell_type": "code",
   "execution_count": 27,
   "id": "bb8aaa53-f332-4b23-a22d-5e7881cba83f",
   "metadata": {},
   "outputs": [
    {
     "name": "stdout",
     "output_type": "stream",
     "text": [
      "[vector_search_hybrid] Searching for: 'Which highly rated movies are based in or originate from Eastern countries?.'\n"
     ]
    },
    {
     "data": {
      "text/plain": [
       "'Based on the context provided, the highly rated movies that are based in or originate from Eastern countries are:\\n\\n### 1. Apocalypse Now\\n- **Synopsis**: In Vietnam in 1970, Captain Willard (Martin Sheen) takes a perilous and increasingly hallucinatory journey upriver to find and terminate Colonel Kurtz (Marlon Brando), a once-promising officer who has reportedly gone completely mad. In the company of a Navy patrol boat filled with street-smart kids, a surfing-obsessed Air Cavalry officer (Robert Duvall), and a crazed freelance photographer (Dennis Hopper), Willard travels further and further into the heart of darkness.\\n- **Critic score**: 98\\n- **People score**: 94.0\\n- **Consensus**: Francis Ford Coppola\\'s haunting, hallucinatory Vietnam War epic is cinema at its most audacious and visionary.\\n\\n### 2. A Fistful of Dollars\\n- **Synopsis**: The Man With No Name (Clint Eastwood) enters the Mexican village of San Miguel in the midst of a power struggle among the three Rojo brothers (Antonio Prieto, Benny Reeves, Sieghardt Rupp) and sheriff John Baxter (Wolfgang Lukschy). When a regiment of Mexican soldiers bearing gold intended to pay for new weapons is waylaid by the Rojo brothers, the stranger inserts himself into the middle of the long-simmering battle, selling false information to both sides for his own benefit.\\n- **Critic score**: 98\\n- **People score**: 91.0\\n- **Consensus**: With Akira Kurosawa\\'s Yojimbo as his template, Sergio Leone\\'s A Fistful of Dollars helped define a new era for the Western and usher in its most iconic star, Clint Eastwood.\\n\\n### Summary of the Consensus\\nBoth films, \"Apocalypse Now\" and \"A Fistful of Dollars,\" showcase a high level of cinematic artistry and storytelling that capture the essence of the tumultuous settings they depict. \"Apocalypse Now\" is lauded for its visionary portrayal of the Vietnam War and the psychological journey of its protagonist, while \"A Fistful of Dollars\" is recognized for its influential role in redefining the Western genre, drawing inspiration from Eastern cinema.'"
      ]
     },
     "execution_count": 27,
     "metadata": {},
     "output_type": "execute_result"
    }
   ],
   "source": [
    "rag(\"Which highly rated movies are based in or originate from Eastern countries?.\")"
   ]
  }
 ],
 "metadata": {
  "kernelspec": {
   "display_name": "Python 3 (ipykernel)",
   "language": "python",
   "name": "python3"
  },
  "language_info": {
   "codemirror_mode": {
    "name": "ipython",
    "version": 3
   },
   "file_extension": ".py",
   "mimetype": "text/x-python",
   "name": "python",
   "nbconvert_exporter": "python",
   "pygments_lexer": "ipython3",
   "version": "3.13.3"
  }
 },
 "nbformat": 4,
 "nbformat_minor": 5
}
